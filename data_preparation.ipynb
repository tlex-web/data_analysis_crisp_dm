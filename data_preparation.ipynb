{
 "cells": [
  {
   "cell_type": "markdown",
   "metadata": {},
   "source": [
    "# Data Preparation"
   ]
  },
  {
   "cell_type": "code",
   "execution_count": 1,
   "metadata": {},
   "outputs": [],
   "source": [
    "from helpers.helper_functions import read_and_set_df, set_datatypes, get_plotly_colors, pd, np, msno, make_subplots, go, plt, sns, train_test_split, LinearRegression, IterativeImputer, KNNImputer, OneHotEncoder, make_pipeline, StandardScaler, LogisticRegression, KFold, cross_val_score, SVR, mse, ff"
   ]
  },
  {
   "cell_type": "code",
   "execution_count": 2,
   "metadata": {},
   "outputs": [
    {
     "data": {
      "text/html": [
       "<div>\n",
       "<style scoped>\n",
       "    .dataframe tbody tr th:only-of-type {\n",
       "        vertical-align: middle;\n",
       "    }\n",
       "\n",
       "    .dataframe tbody tr th {\n",
       "        vertical-align: top;\n",
       "    }\n",
       "\n",
       "    .dataframe thead th {\n",
       "        text-align: right;\n",
       "    }\n",
       "</style>\n",
       "<table border=\"1\" class=\"dataframe\">\n",
       "  <thead>\n",
       "    <tr style=\"text-align: right;\">\n",
       "      <th></th>\n",
       "      <th>id</th>\n",
       "      <th>gender</th>\n",
       "      <th>age</th>\n",
       "      <th>driving_license</th>\n",
       "      <th>region_code</th>\n",
       "      <th>previously_insured</th>\n",
       "      <th>vehicle_age</th>\n",
       "      <th>vehicle_damage</th>\n",
       "      <th>annual_premium</th>\n",
       "      <th>policy_sales_channel</th>\n",
       "      <th>vintage</th>\n",
       "      <th>response</th>\n",
       "    </tr>\n",
       "  </thead>\n",
       "  <tbody>\n",
       "    <tr>\n",
       "      <th>0</th>\n",
       "      <td>1</td>\n",
       "      <td>Male</td>\n",
       "      <td>44</td>\n",
       "      <td>No</td>\n",
       "      <td>28.0</td>\n",
       "      <td>No</td>\n",
       "      <td>&gt; 2 Years</td>\n",
       "      <td>Yes</td>\n",
       "      <td>40454</td>\n",
       "      <td>26</td>\n",
       "      <td>217</td>\n",
       "      <td>yes</td>\n",
       "    </tr>\n",
       "    <tr>\n",
       "      <th>1</th>\n",
       "      <td>2</td>\n",
       "      <td>Male</td>\n",
       "      <td>76</td>\n",
       "      <td>No</td>\n",
       "      <td>3.0</td>\n",
       "      <td>No</td>\n",
       "      <td>1-2 Year</td>\n",
       "      <td>No</td>\n",
       "      <td>33536</td>\n",
       "      <td>26</td>\n",
       "      <td>183</td>\n",
       "      <td>no</td>\n",
       "    </tr>\n",
       "    <tr>\n",
       "      <th>2</th>\n",
       "      <td>3</td>\n",
       "      <td>Male</td>\n",
       "      <td>47</td>\n",
       "      <td>No</td>\n",
       "      <td>28.0</td>\n",
       "      <td>No</td>\n",
       "      <td>&gt; 2 Years</td>\n",
       "      <td>Yes</td>\n",
       "      <td>38294</td>\n",
       "      <td>26</td>\n",
       "      <td>27</td>\n",
       "      <td>yes</td>\n",
       "    </tr>\n",
       "    <tr>\n",
       "      <th>3</th>\n",
       "      <td>4</td>\n",
       "      <td>Male</td>\n",
       "      <td>21</td>\n",
       "      <td>Yes</td>\n",
       "      <td>11.0</td>\n",
       "      <td>Yes</td>\n",
       "      <td>&lt; 1 Year</td>\n",
       "      <td>No</td>\n",
       "      <td>28619</td>\n",
       "      <td>152</td>\n",
       "      <td>203</td>\n",
       "      <td>no</td>\n",
       "    </tr>\n",
       "    <tr>\n",
       "      <th>4</th>\n",
       "      <td>5</td>\n",
       "      <td>Female</td>\n",
       "      <td>29</td>\n",
       "      <td>Yes</td>\n",
       "      <td>41.0</td>\n",
       "      <td>Yes</td>\n",
       "      <td>&lt; 1 Year</td>\n",
       "      <td>No</td>\n",
       "      <td>27496</td>\n",
       "      <td>152</td>\n",
       "      <td>39</td>\n",
       "      <td>no</td>\n",
       "    </tr>\n",
       "  </tbody>\n",
       "</table>\n",
       "</div>"
      ],
      "text/plain": [
       "   id  gender  age driving_license  region_code previously_insured  \\\n",
       "0   1    Male   44              No         28.0                 No   \n",
       "1   2    Male   76              No          3.0                 No   \n",
       "2   3    Male   47              No         28.0                 No   \n",
       "3   4    Male   21             Yes         11.0                Yes   \n",
       "4   5  Female   29             Yes         41.0                Yes   \n",
       "\n",
       "  vehicle_age vehicle_damage  annual_premium  policy_sales_channel  vintage  \\\n",
       "0   > 2 Years            Yes           40454                    26      217   \n",
       "1    1-2 Year             No           33536                    26      183   \n",
       "2   > 2 Years            Yes           38294                    26       27   \n",
       "3    < 1 Year             No           28619                   152      203   \n",
       "4    < 1 Year             No           27496                   152       39   \n",
       "\n",
       "  response  \n",
       "0      yes  \n",
       "1       no  \n",
       "2      yes  \n",
       "3       no  \n",
       "4       no  "
      ]
     },
     "execution_count": 2,
     "metadata": {},
     "output_type": "execute_result"
    }
   ],
   "source": [
    "df = read_and_set_df('data/train.csv', train=False)\n",
    "\n",
    "set_datatypes(df)\n",
    "\n",
    "df.head()"
   ]
  },
  {
   "cell_type": "code",
   "execution_count": 3,
   "metadata": {},
   "outputs": [
    {
     "data": {
      "text/html": [
       "<div>\n",
       "<style scoped>\n",
       "    .dataframe tbody tr th:only-of-type {\n",
       "        vertical-align: middle;\n",
       "    }\n",
       "\n",
       "    .dataframe tbody tr th {\n",
       "        vertical-align: top;\n",
       "    }\n",
       "\n",
       "    .dataframe thead th {\n",
       "        text-align: right;\n",
       "    }\n",
       "</style>\n",
       "<table border=\"1\" class=\"dataframe\">\n",
       "  <thead>\n",
       "    <tr style=\"text-align: right;\">\n",
       "      <th></th>\n",
       "      <th>id</th>\n",
       "      <th>gender</th>\n",
       "      <th>age</th>\n",
       "      <th>driving_license</th>\n",
       "      <th>region_code</th>\n",
       "      <th>previously_insured</th>\n",
       "      <th>vehicle_age</th>\n",
       "      <th>vehicle_damage</th>\n",
       "      <th>annual_premium</th>\n",
       "      <th>policy_sales_channel</th>\n",
       "      <th>vintage</th>\n",
       "      <th>response</th>\n",
       "    </tr>\n",
       "  </thead>\n",
       "  <tbody>\n",
       "    <tr>\n",
       "      <th>count</th>\n",
       "      <td>380999.000000</td>\n",
       "      <td>379948</td>\n",
       "      <td>370107.000000</td>\n",
       "      <td>380948</td>\n",
       "      <td>380999.000000</td>\n",
       "      <td>380948</td>\n",
       "      <td>380948</td>\n",
       "      <td>380948</td>\n",
       "      <td>380999.000000</td>\n",
       "      <td>380999.000000</td>\n",
       "      <td>380948.000000</td>\n",
       "      <td>380999</td>\n",
       "    </tr>\n",
       "    <tr>\n",
       "      <th>unique</th>\n",
       "      <td>NaN</td>\n",
       "      <td>2</td>\n",
       "      <td>NaN</td>\n",
       "      <td>2</td>\n",
       "      <td>NaN</td>\n",
       "      <td>2</td>\n",
       "      <td>3</td>\n",
       "      <td>2</td>\n",
       "      <td>NaN</td>\n",
       "      <td>NaN</td>\n",
       "      <td>NaN</td>\n",
       "      <td>2</td>\n",
       "    </tr>\n",
       "    <tr>\n",
       "      <th>top</th>\n",
       "      <td>NaN</td>\n",
       "      <td>Male</td>\n",
       "      <td>NaN</td>\n",
       "      <td>No</td>\n",
       "      <td>NaN</td>\n",
       "      <td>No</td>\n",
       "      <td>1-2 Year</td>\n",
       "      <td>Yes</td>\n",
       "      <td>NaN</td>\n",
       "      <td>NaN</td>\n",
       "      <td>NaN</td>\n",
       "      <td>no</td>\n",
       "    </tr>\n",
       "    <tr>\n",
       "      <th>freq</th>\n",
       "      <td>NaN</td>\n",
       "      <td>205447</td>\n",
       "      <td>NaN</td>\n",
       "      <td>206635</td>\n",
       "      <td>NaN</td>\n",
       "      <td>206635</td>\n",
       "      <td>200228</td>\n",
       "      <td>192328</td>\n",
       "      <td>NaN</td>\n",
       "      <td>NaN</td>\n",
       "      <td>NaN</td>\n",
       "      <td>334297</td>\n",
       "    </tr>\n",
       "    <tr>\n",
       "      <th>mean</th>\n",
       "      <td>190500.000000</td>\n",
       "      <td>NaN</td>\n",
       "      <td>38.852091</td>\n",
       "      <td>NaN</td>\n",
       "      <td>26.388641</td>\n",
       "      <td>NaN</td>\n",
       "      <td>NaN</td>\n",
       "      <td>NaN</td>\n",
       "      <td>30527.700690</td>\n",
       "      <td>112.035331</td>\n",
       "      <td>154.344475</td>\n",
       "      <td>NaN</td>\n",
       "    </tr>\n",
       "    <tr>\n",
       "      <th>std</th>\n",
       "      <td>109985.081943</td>\n",
       "      <td>NaN</td>\n",
       "      <td>15.632180</td>\n",
       "      <td>NaN</td>\n",
       "      <td>13.230348</td>\n",
       "      <td>NaN</td>\n",
       "      <td>NaN</td>\n",
       "      <td>NaN</td>\n",
       "      <td>17242.997675</td>\n",
       "      <td>54.203334</td>\n",
       "      <td>83.673075</td>\n",
       "      <td>NaN</td>\n",
       "    </tr>\n",
       "    <tr>\n",
       "      <th>min</th>\n",
       "      <td>1.000000</td>\n",
       "      <td>NaN</td>\n",
       "      <td>20.000000</td>\n",
       "      <td>NaN</td>\n",
       "      <td>0.000000</td>\n",
       "      <td>NaN</td>\n",
       "      <td>NaN</td>\n",
       "      <td>NaN</td>\n",
       "      <td>-9997.000000</td>\n",
       "      <td>1.000000</td>\n",
       "      <td>10.000000</td>\n",
       "      <td>NaN</td>\n",
       "    </tr>\n",
       "    <tr>\n",
       "      <th>25%</th>\n",
       "      <td>95250.500000</td>\n",
       "      <td>NaN</td>\n",
       "      <td>25.000000</td>\n",
       "      <td>NaN</td>\n",
       "      <td>15.000000</td>\n",
       "      <td>NaN</td>\n",
       "      <td>NaN</td>\n",
       "      <td>NaN</td>\n",
       "      <td>24371.000000</td>\n",
       "      <td>29.000000</td>\n",
       "      <td>82.000000</td>\n",
       "      <td>NaN</td>\n",
       "    </tr>\n",
       "    <tr>\n",
       "      <th>50%</th>\n",
       "      <td>190500.000000</td>\n",
       "      <td>NaN</td>\n",
       "      <td>36.000000</td>\n",
       "      <td>NaN</td>\n",
       "      <td>28.000000</td>\n",
       "      <td>NaN</td>\n",
       "      <td>NaN</td>\n",
       "      <td>NaN</td>\n",
       "      <td>31656.000000</td>\n",
       "      <td>133.000000</td>\n",
       "      <td>154.000000</td>\n",
       "      <td>NaN</td>\n",
       "    </tr>\n",
       "    <tr>\n",
       "      <th>75%</th>\n",
       "      <td>285749.500000</td>\n",
       "      <td>NaN</td>\n",
       "      <td>49.000000</td>\n",
       "      <td>NaN</td>\n",
       "      <td>35.000000</td>\n",
       "      <td>NaN</td>\n",
       "      <td>NaN</td>\n",
       "      <td>NaN</td>\n",
       "      <td>39390.000000</td>\n",
       "      <td>152.000000</td>\n",
       "      <td>227.000000</td>\n",
       "      <td>NaN</td>\n",
       "    </tr>\n",
       "    <tr>\n",
       "      <th>max</th>\n",
       "      <td>380999.000000</td>\n",
       "      <td>NaN</td>\n",
       "      <td>205.000000</td>\n",
       "      <td>NaN</td>\n",
       "      <td>52.000000</td>\n",
       "      <td>NaN</td>\n",
       "      <td>NaN</td>\n",
       "      <td>NaN</td>\n",
       "      <td>540165.000000</td>\n",
       "      <td>163.000000</td>\n",
       "      <td>299.000000</td>\n",
       "      <td>NaN</td>\n",
       "    </tr>\n",
       "  </tbody>\n",
       "</table>\n",
       "</div>"
      ],
      "text/plain": [
       "                   id  gender            age driving_license    region_code  \\\n",
       "count   380999.000000  379948  370107.000000          380948  380999.000000   \n",
       "unique            NaN       2            NaN               2            NaN   \n",
       "top               NaN    Male            NaN              No            NaN   \n",
       "freq              NaN  205447            NaN          206635            NaN   \n",
       "mean    190500.000000     NaN      38.852091             NaN      26.388641   \n",
       "std     109985.081943     NaN      15.632180             NaN      13.230348   \n",
       "min          1.000000     NaN      20.000000             NaN       0.000000   \n",
       "25%      95250.500000     NaN      25.000000             NaN      15.000000   \n",
       "50%     190500.000000     NaN      36.000000             NaN      28.000000   \n",
       "75%     285749.500000     NaN      49.000000             NaN      35.000000   \n",
       "max     380999.000000     NaN     205.000000             NaN      52.000000   \n",
       "\n",
       "       previously_insured vehicle_age vehicle_damage  annual_premium  \\\n",
       "count              380948      380948         380948   380999.000000   \n",
       "unique                  2           3              2             NaN   \n",
       "top                    No    1-2 Year            Yes             NaN   \n",
       "freq               206635      200228         192328             NaN   \n",
       "mean                  NaN         NaN            NaN    30527.700690   \n",
       "std                   NaN         NaN            NaN    17242.997675   \n",
       "min                   NaN         NaN            NaN    -9997.000000   \n",
       "25%                   NaN         NaN            NaN    24371.000000   \n",
       "50%                   NaN         NaN            NaN    31656.000000   \n",
       "75%                   NaN         NaN            NaN    39390.000000   \n",
       "max                   NaN         NaN            NaN   540165.000000   \n",
       "\n",
       "        policy_sales_channel        vintage response  \n",
       "count          380999.000000  380948.000000   380999  \n",
       "unique                   NaN            NaN        2  \n",
       "top                      NaN            NaN       no  \n",
       "freq                     NaN            NaN   334297  \n",
       "mean              112.035331     154.344475      NaN  \n",
       "std                54.203334      83.673075      NaN  \n",
       "min                 1.000000      10.000000      NaN  \n",
       "25%                29.000000      82.000000      NaN  \n",
       "50%               133.000000     154.000000      NaN  \n",
       "75%               152.000000     227.000000      NaN  \n",
       "max               163.000000     299.000000      NaN  "
      ]
     },
     "execution_count": 3,
     "metadata": {},
     "output_type": "execute_result"
    }
   ],
   "source": [
    "df.describe(include='all')"
   ]
  },
  {
   "cell_type": "markdown",
   "metadata": {},
   "source": [
    "## Missing Values"
   ]
  },
  {
   "cell_type": "markdown",
   "metadata": {},
   "source": [
    "Die Funktion `heatmap()` von `missingno` misst die Nullkorrelation: wie stark das Vorhandensein oder Fehlen einer Variable das Vorhandensein einer anderen Variable beeinflusst.\n",
    "\n",
    "Die Nullkorrelation reicht von -1 (wenn eine Variable auftritt, tritt die andere definitiv nicht auf) über 0 (auftauchende oder nicht auftauchende Variablen haben keinen Einfluss aufeinander) bis 1 (wenn eine Variable auftritt, tritt die andere definitiv auf).\n"
   ]
  },
  {
   "cell_type": "code",
   "execution_count": 4,
   "metadata": {},
   "outputs": [
    {
     "data": {
      "application/vnd.plotly.v1+json": {
       "config": {
        "plotlyServerURL": "https://plot.ly"
       },
       "data": [
        {
         "marker": {
          "color": "rgba(18, 63, 90, 0.95)",
          "line": {
           "color": "rgba(18, 63, 90, 1.0)",
           "width": 1
          }
         },
         "name": "Relative Anzahl der fehlenden Werte (%)",
         "orientation": "h",
         "type": "bar",
         "x": [
          0.013385861905149357,
          0.013385861905149357,
          0.013385861905149357,
          0.013385861905149357,
          0.013385861905149357,
          0.27585374239827404,
          2.8588001543311137
         ],
         "xaxis": "x",
         "y": [
          "driving_license",
          "previously_insured",
          "vehicle_age",
          "vehicle_damage",
          "vintage",
          "gender",
          "age"
         ],
         "yaxis": "y"
        },
        {
         "line": {
          "color": "rgb(0, 68, 27)"
         },
         "mode": "lines+markers",
         "name": "Absolute Anzahl der fehlenden Werte",
         "type": "scatter",
         "x": [
          51,
          51,
          51,
          51,
          51,
          1051,
          10892
         ],
         "xaxis": "x2",
         "y": [
          "driving_license",
          "previously_insured",
          "vehicle_age",
          "vehicle_damage",
          "vintage",
          "gender",
          "age"
         ],
         "yaxis": "y2"
        }
       ],
       "layout": {
        "annotations": [
         {
          "font": {
           "color": "rgb(0, 68, 27)",
           "family": "Arial",
           "size": 12
          },
          "showarrow": false,
          "text": "51.0",
          "x": 551,
          "xref": "x2",
          "y": "driving_license",
          "yref": "y2"
         },
         {
          "font": {
           "color": "rgb(18, 63, 90)",
           "family": "Arial",
           "size": 12
          },
          "showarrow": false,
          "text": "0.01%",
          "x": 0.16,
          "xref": "x",
          "y": "driving_license",
          "yref": "y"
         },
         {
          "font": {
           "color": "rgb(0, 68, 27)",
           "family": "Arial",
           "size": 12
          },
          "showarrow": false,
          "text": "51.0",
          "x": 551,
          "xref": "x2",
          "y": "previously_insured",
          "yref": "y2"
         },
         {
          "font": {
           "color": "rgb(18, 63, 90)",
           "family": "Arial",
           "size": 12
          },
          "showarrow": false,
          "text": "0.01%",
          "x": 0.16,
          "xref": "x",
          "y": "previously_insured",
          "yref": "y"
         },
         {
          "font": {
           "color": "rgb(0, 68, 27)",
           "family": "Arial",
           "size": 12
          },
          "showarrow": false,
          "text": "51.0",
          "x": 551,
          "xref": "x2",
          "y": "vehicle_age",
          "yref": "y2"
         },
         {
          "font": {
           "color": "rgb(18, 63, 90)",
           "family": "Arial",
           "size": 12
          },
          "showarrow": false,
          "text": "0.01%",
          "x": 0.16,
          "xref": "x",
          "y": "vehicle_age",
          "yref": "y"
         },
         {
          "font": {
           "color": "rgb(0, 68, 27)",
           "family": "Arial",
           "size": 12
          },
          "showarrow": false,
          "text": "51.0",
          "x": 551,
          "xref": "x2",
          "y": "vehicle_damage",
          "yref": "y2"
         },
         {
          "font": {
           "color": "rgb(18, 63, 90)",
           "family": "Arial",
           "size": 12
          },
          "showarrow": false,
          "text": "0.01%",
          "x": 0.16,
          "xref": "x",
          "y": "vehicle_damage",
          "yref": "y"
         },
         {
          "font": {
           "color": "rgb(0, 68, 27)",
           "family": "Arial",
           "size": 12
          },
          "showarrow": false,
          "text": "51.0",
          "x": 551,
          "xref": "x2",
          "y": "vintage",
          "yref": "y2"
         },
         {
          "font": {
           "color": "rgb(18, 63, 90)",
           "family": "Arial",
           "size": 12
          },
          "showarrow": false,
          "text": "0.01%",
          "x": 0.16,
          "xref": "x",
          "y": "vintage",
          "yref": "y"
         },
         {
          "font": {
           "color": "rgb(0, 68, 27)",
           "family": "Arial",
           "size": 12
          },
          "showarrow": false,
          "text": "1,051.0",
          "x": 1551,
          "xref": "x2",
          "y": "gender",
          "yref": "y2"
         },
         {
          "font": {
           "color": "rgb(18, 63, 90)",
           "family": "Arial",
           "size": 12
          },
          "showarrow": false,
          "text": "0.28%",
          "x": 0.43000000000000005,
          "xref": "x",
          "y": "gender",
          "yref": "y"
         },
         {
          "font": {
           "color": "rgb(0, 68, 27)",
           "family": "Arial",
           "size": 12
          },
          "showarrow": false,
          "text": "10,892.0",
          "x": 11392,
          "xref": "x2",
          "y": "age",
          "yref": "y2"
         },
         {
          "font": {
           "color": "rgb(18, 63, 90)",
           "family": "Arial",
           "size": 12
          },
          "showarrow": false,
          "text": "2.86%",
          "x": 3.01,
          "xref": "x",
          "y": "age",
          "yref": "y"
         }
        ],
        "legend": {
         "font": {
          "size": 10
         },
         "x": 0.029,
         "y": 1.038
        },
        "margin": {
         "b": 70,
         "l": 100,
         "r": 20,
         "t": 70
        },
        "paper_bgcolor": "rgb(248, 248, 255)",
        "plot_bgcolor": "rgb(248, 248, 255)",
        "template": {
         "data": {
          "bar": [
           {
            "error_x": {
             "color": "#2a3f5f"
            },
            "error_y": {
             "color": "#2a3f5f"
            },
            "marker": {
             "line": {
              "color": "#E5ECF6",
              "width": 0.5
             },
             "pattern": {
              "fillmode": "overlay",
              "size": 10,
              "solidity": 0.2
             }
            },
            "type": "bar"
           }
          ],
          "barpolar": [
           {
            "marker": {
             "line": {
              "color": "#E5ECF6",
              "width": 0.5
             },
             "pattern": {
              "fillmode": "overlay",
              "size": 10,
              "solidity": 0.2
             }
            },
            "type": "barpolar"
           }
          ],
          "carpet": [
           {
            "aaxis": {
             "endlinecolor": "#2a3f5f",
             "gridcolor": "white",
             "linecolor": "white",
             "minorgridcolor": "white",
             "startlinecolor": "#2a3f5f"
            },
            "baxis": {
             "endlinecolor": "#2a3f5f",
             "gridcolor": "white",
             "linecolor": "white",
             "minorgridcolor": "white",
             "startlinecolor": "#2a3f5f"
            },
            "type": "carpet"
           }
          ],
          "choropleth": [
           {
            "colorbar": {
             "outlinewidth": 0,
             "ticks": ""
            },
            "type": "choropleth"
           }
          ],
          "contour": [
           {
            "colorbar": {
             "outlinewidth": 0,
             "ticks": ""
            },
            "colorscale": [
             [
              0,
              "#0d0887"
             ],
             [
              0.1111111111111111,
              "#46039f"
             ],
             [
              0.2222222222222222,
              "#7201a8"
             ],
             [
              0.3333333333333333,
              "#9c179e"
             ],
             [
              0.4444444444444444,
              "#bd3786"
             ],
             [
              0.5555555555555556,
              "#d8576b"
             ],
             [
              0.6666666666666666,
              "#ed7953"
             ],
             [
              0.7777777777777778,
              "#fb9f3a"
             ],
             [
              0.8888888888888888,
              "#fdca26"
             ],
             [
              1,
              "#f0f921"
             ]
            ],
            "type": "contour"
           }
          ],
          "contourcarpet": [
           {
            "colorbar": {
             "outlinewidth": 0,
             "ticks": ""
            },
            "type": "contourcarpet"
           }
          ],
          "heatmap": [
           {
            "colorbar": {
             "outlinewidth": 0,
             "ticks": ""
            },
            "colorscale": [
             [
              0,
              "#0d0887"
             ],
             [
              0.1111111111111111,
              "#46039f"
             ],
             [
              0.2222222222222222,
              "#7201a8"
             ],
             [
              0.3333333333333333,
              "#9c179e"
             ],
             [
              0.4444444444444444,
              "#bd3786"
             ],
             [
              0.5555555555555556,
              "#d8576b"
             ],
             [
              0.6666666666666666,
              "#ed7953"
             ],
             [
              0.7777777777777778,
              "#fb9f3a"
             ],
             [
              0.8888888888888888,
              "#fdca26"
             ],
             [
              1,
              "#f0f921"
             ]
            ],
            "type": "heatmap"
           }
          ],
          "heatmapgl": [
           {
            "colorbar": {
             "outlinewidth": 0,
             "ticks": ""
            },
            "colorscale": [
             [
              0,
              "#0d0887"
             ],
             [
              0.1111111111111111,
              "#46039f"
             ],
             [
              0.2222222222222222,
              "#7201a8"
             ],
             [
              0.3333333333333333,
              "#9c179e"
             ],
             [
              0.4444444444444444,
              "#bd3786"
             ],
             [
              0.5555555555555556,
              "#d8576b"
             ],
             [
              0.6666666666666666,
              "#ed7953"
             ],
             [
              0.7777777777777778,
              "#fb9f3a"
             ],
             [
              0.8888888888888888,
              "#fdca26"
             ],
             [
              1,
              "#f0f921"
             ]
            ],
            "type": "heatmapgl"
           }
          ],
          "histogram": [
           {
            "marker": {
             "pattern": {
              "fillmode": "overlay",
              "size": 10,
              "solidity": 0.2
             }
            },
            "type": "histogram"
           }
          ],
          "histogram2d": [
           {
            "colorbar": {
             "outlinewidth": 0,
             "ticks": ""
            },
            "colorscale": [
             [
              0,
              "#0d0887"
             ],
             [
              0.1111111111111111,
              "#46039f"
             ],
             [
              0.2222222222222222,
              "#7201a8"
             ],
             [
              0.3333333333333333,
              "#9c179e"
             ],
             [
              0.4444444444444444,
              "#bd3786"
             ],
             [
              0.5555555555555556,
              "#d8576b"
             ],
             [
              0.6666666666666666,
              "#ed7953"
             ],
             [
              0.7777777777777778,
              "#fb9f3a"
             ],
             [
              0.8888888888888888,
              "#fdca26"
             ],
             [
              1,
              "#f0f921"
             ]
            ],
            "type": "histogram2d"
           }
          ],
          "histogram2dcontour": [
           {
            "colorbar": {
             "outlinewidth": 0,
             "ticks": ""
            },
            "colorscale": [
             [
              0,
              "#0d0887"
             ],
             [
              0.1111111111111111,
              "#46039f"
             ],
             [
              0.2222222222222222,
              "#7201a8"
             ],
             [
              0.3333333333333333,
              "#9c179e"
             ],
             [
              0.4444444444444444,
              "#bd3786"
             ],
             [
              0.5555555555555556,
              "#d8576b"
             ],
             [
              0.6666666666666666,
              "#ed7953"
             ],
             [
              0.7777777777777778,
              "#fb9f3a"
             ],
             [
              0.8888888888888888,
              "#fdca26"
             ],
             [
              1,
              "#f0f921"
             ]
            ],
            "type": "histogram2dcontour"
           }
          ],
          "mesh3d": [
           {
            "colorbar": {
             "outlinewidth": 0,
             "ticks": ""
            },
            "type": "mesh3d"
           }
          ],
          "parcoords": [
           {
            "line": {
             "colorbar": {
              "outlinewidth": 0,
              "ticks": ""
             }
            },
            "type": "parcoords"
           }
          ],
          "pie": [
           {
            "automargin": true,
            "type": "pie"
           }
          ],
          "scatter": [
           {
            "marker": {
             "colorbar": {
              "outlinewidth": 0,
              "ticks": ""
             }
            },
            "type": "scatter"
           }
          ],
          "scatter3d": [
           {
            "line": {
             "colorbar": {
              "outlinewidth": 0,
              "ticks": ""
             }
            },
            "marker": {
             "colorbar": {
              "outlinewidth": 0,
              "ticks": ""
             }
            },
            "type": "scatter3d"
           }
          ],
          "scattercarpet": [
           {
            "marker": {
             "colorbar": {
              "outlinewidth": 0,
              "ticks": ""
             }
            },
            "type": "scattercarpet"
           }
          ],
          "scattergeo": [
           {
            "marker": {
             "colorbar": {
              "outlinewidth": 0,
              "ticks": ""
             }
            },
            "type": "scattergeo"
           }
          ],
          "scattergl": [
           {
            "marker": {
             "colorbar": {
              "outlinewidth": 0,
              "ticks": ""
             }
            },
            "type": "scattergl"
           }
          ],
          "scattermapbox": [
           {
            "marker": {
             "colorbar": {
              "outlinewidth": 0,
              "ticks": ""
             }
            },
            "type": "scattermapbox"
           }
          ],
          "scatterpolar": [
           {
            "marker": {
             "colorbar": {
              "outlinewidth": 0,
              "ticks": ""
             }
            },
            "type": "scatterpolar"
           }
          ],
          "scatterpolargl": [
           {
            "marker": {
             "colorbar": {
              "outlinewidth": 0,
              "ticks": ""
             }
            },
            "type": "scatterpolargl"
           }
          ],
          "scatterternary": [
           {
            "marker": {
             "colorbar": {
              "outlinewidth": 0,
              "ticks": ""
             }
            },
            "type": "scatterternary"
           }
          ],
          "surface": [
           {
            "colorbar": {
             "outlinewidth": 0,
             "ticks": ""
            },
            "colorscale": [
             [
              0,
              "#0d0887"
             ],
             [
              0.1111111111111111,
              "#46039f"
             ],
             [
              0.2222222222222222,
              "#7201a8"
             ],
             [
              0.3333333333333333,
              "#9c179e"
             ],
             [
              0.4444444444444444,
              "#bd3786"
             ],
             [
              0.5555555555555556,
              "#d8576b"
             ],
             [
              0.6666666666666666,
              "#ed7953"
             ],
             [
              0.7777777777777778,
              "#fb9f3a"
             ],
             [
              0.8888888888888888,
              "#fdca26"
             ],
             [
              1,
              "#f0f921"
             ]
            ],
            "type": "surface"
           }
          ],
          "table": [
           {
            "cells": {
             "fill": {
              "color": "#EBF0F8"
             },
             "line": {
              "color": "white"
             }
            },
            "header": {
             "fill": {
              "color": "#C8D4E3"
             },
             "line": {
              "color": "white"
             }
            },
            "type": "table"
           }
          ]
         },
         "layout": {
          "annotationdefaults": {
           "arrowcolor": "#2a3f5f",
           "arrowhead": 0,
           "arrowwidth": 1
          },
          "autotypenumbers": "strict",
          "coloraxis": {
           "colorbar": {
            "outlinewidth": 0,
            "ticks": ""
           }
          },
          "colorscale": {
           "diverging": [
            [
             0,
             "#8e0152"
            ],
            [
             0.1,
             "#c51b7d"
            ],
            [
             0.2,
             "#de77ae"
            ],
            [
             0.3,
             "#f1b6da"
            ],
            [
             0.4,
             "#fde0ef"
            ],
            [
             0.5,
             "#f7f7f7"
            ],
            [
             0.6,
             "#e6f5d0"
            ],
            [
             0.7,
             "#b8e186"
            ],
            [
             0.8,
             "#7fbc41"
            ],
            [
             0.9,
             "#4d9221"
            ],
            [
             1,
             "#276419"
            ]
           ],
           "sequential": [
            [
             0,
             "#0d0887"
            ],
            [
             0.1111111111111111,
             "#46039f"
            ],
            [
             0.2222222222222222,
             "#7201a8"
            ],
            [
             0.3333333333333333,
             "#9c179e"
            ],
            [
             0.4444444444444444,
             "#bd3786"
            ],
            [
             0.5555555555555556,
             "#d8576b"
            ],
            [
             0.6666666666666666,
             "#ed7953"
            ],
            [
             0.7777777777777778,
             "#fb9f3a"
            ],
            [
             0.8888888888888888,
             "#fdca26"
            ],
            [
             1,
             "#f0f921"
            ]
           ],
           "sequentialminus": [
            [
             0,
             "#0d0887"
            ],
            [
             0.1111111111111111,
             "#46039f"
            ],
            [
             0.2222222222222222,
             "#7201a8"
            ],
            [
             0.3333333333333333,
             "#9c179e"
            ],
            [
             0.4444444444444444,
             "#bd3786"
            ],
            [
             0.5555555555555556,
             "#d8576b"
            ],
            [
             0.6666666666666666,
             "#ed7953"
            ],
            [
             0.7777777777777778,
             "#fb9f3a"
            ],
            [
             0.8888888888888888,
             "#fdca26"
            ],
            [
             1,
             "#f0f921"
            ]
           ]
          },
          "colorway": [
           "#636efa",
           "#EF553B",
           "#00cc96",
           "#ab63fa",
           "#FFA15A",
           "#19d3f3",
           "#FF6692",
           "#B6E880",
           "#FF97FF",
           "#FECB52"
          ],
          "font": {
           "color": "#2a3f5f"
          },
          "geo": {
           "bgcolor": "white",
           "lakecolor": "white",
           "landcolor": "#E5ECF6",
           "showlakes": true,
           "showland": true,
           "subunitcolor": "white"
          },
          "hoverlabel": {
           "align": "left"
          },
          "hovermode": "closest",
          "mapbox": {
           "style": "light"
          },
          "paper_bgcolor": "white",
          "plot_bgcolor": "#E5ECF6",
          "polar": {
           "angularaxis": {
            "gridcolor": "white",
            "linecolor": "white",
            "ticks": ""
           },
           "bgcolor": "#E5ECF6",
           "radialaxis": {
            "gridcolor": "white",
            "linecolor": "white",
            "ticks": ""
           }
          },
          "scene": {
           "xaxis": {
            "backgroundcolor": "#E5ECF6",
            "gridcolor": "white",
            "gridwidth": 2,
            "linecolor": "white",
            "showbackground": true,
            "ticks": "",
            "zerolinecolor": "white"
           },
           "yaxis": {
            "backgroundcolor": "#E5ECF6",
            "gridcolor": "white",
            "gridwidth": 2,
            "linecolor": "white",
            "showbackground": true,
            "ticks": "",
            "zerolinecolor": "white"
           },
           "zaxis": {
            "backgroundcolor": "#E5ECF6",
            "gridcolor": "white",
            "gridwidth": 2,
            "linecolor": "white",
            "showbackground": true,
            "ticks": "",
            "zerolinecolor": "white"
           }
          },
          "shapedefaults": {
           "line": {
            "color": "#2a3f5f"
           }
          },
          "ternary": {
           "aaxis": {
            "gridcolor": "white",
            "linecolor": "white",
            "ticks": ""
           },
           "baxis": {
            "gridcolor": "white",
            "linecolor": "white",
            "ticks": ""
           },
           "bgcolor": "#E5ECF6",
           "caxis": {
            "gridcolor": "white",
            "linecolor": "white",
            "ticks": ""
           }
          },
          "title": {
           "x": 0.05
          },
          "xaxis": {
           "automargin": true,
           "gridcolor": "white",
           "linecolor": "white",
           "ticks": "",
           "title": {
            "standoff": 15
           },
           "zerolinecolor": "white",
           "zerolinewidth": 2
          },
          "yaxis": {
           "automargin": true,
           "gridcolor": "white",
           "linecolor": "white",
           "ticks": "",
           "title": {
            "standoff": 15
           },
           "zerolinecolor": "white",
           "zerolinewidth": 2
          }
         }
        },
        "title": {
         "text": "Absolute und relative Anzahl der Missing Values je Variable"
        },
        "xaxis": {
         "anchor": "y",
         "domain": [
          0,
          0.42
         ],
         "showgrid": true,
         "showline": false,
         "showticklabels": true,
         "zeroline": false
        },
        "xaxis2": {
         "anchor": "y2",
         "domain": [
          0.47,
          1
         ],
         "dtick": 2000,
         "showgrid": true,
         "showline": false,
         "showticklabels": true,
         "side": "top",
         "zeroline": false
        },
        "yaxis": {
         "anchor": "x",
         "domain": [
          0,
          0.85
         ],
         "showgrid": false,
         "showline": false,
         "showticklabels": true
        },
        "yaxis2": {
         "anchor": "x2",
         "domain": [
          0,
          0.85
         ],
         "linecolor": "rgba(102, 102, 102, 0.8)",
         "linewidth": 2,
         "showgrid": false,
         "showline": true,
         "showticklabels": false
        }
       }
      }
     },
     "metadata": {},
     "output_type": "display_data"
    }
   ],
   "source": [
    "# Count Missing Values per Variable und in DataFrame überführen\n",
    "y_count_mv = pd.DataFrame(df.isnull().sum())\n",
    "y_count_mv.columns = ['count']\n",
    "y_count_mv.index.names = ['Name']\n",
    "y_count_mv['Name'] = y_count_mv.index\n",
    "y_count_mv =  y_count_mv[y_count_mv['count'] != 0]\n",
    "y_count_mv.sort_values(by=['count'], inplace = True, ascending=True)\n",
    "\n",
    "\n",
    "missing_values = pd.DataFrame(y_count_mv['count'] / len(df) * 100)\n",
    "missing_values.columns = ['count']\n",
    "missing_values.index.names = ['Name']\n",
    "missing_values.sort_values(by=['count'], inplace = True, ascending=True)\n",
    "\n",
    "x = y_count_mv['Name']\n",
    "\n",
    "# Creating two subplots\n",
    "fig = make_subplots(rows=1, cols=2, specs=[[{}, {}]], shared_xaxes=True,\n",
    "                    shared_yaxes=False, vertical_spacing=0.001)\n",
    "\n",
    "fig.append_trace(go.Bar(\n",
    "    x=missing_values['count'],\n",
    "    y=x,\n",
    "    marker=dict(\n",
    "        color='rgba(18, 63, 90, 0.95)',\n",
    "        line=dict(\n",
    "            color='rgba(18, 63, 90, 1.0)',\n",
    "            width=1),\n",
    "    ),\n",
    "    name='Relative Anzahl der fehlenden Werte (%)',\n",
    "    orientation='h',\n",
    "), 1, 1)\n",
    "\n",
    "fig.append_trace(go.Scatter(\n",
    "    x=y_count_mv['count'], y=x,\n",
    "    mode='lines+markers',\n",
    "    line_color='rgb(0, 68, 27)',\n",
    "    name='Absolute Anzahl der fehlenden Werte',\n",
    "), 1, 2)\n",
    "\n",
    "fig.update_layout(\n",
    "    title='Absolute und relative Anzahl der Missing Values je Variable',\n",
    "    yaxis=dict(\n",
    "        showgrid=False,\n",
    "        showline=False,\n",
    "        showticklabels=True,\n",
    "        domain=[0, 0.85],\n",
    "    ),\n",
    "    yaxis2=dict(\n",
    "        showgrid=False,\n",
    "        showline=True,\n",
    "        showticklabels=False,\n",
    "        linecolor='rgba(102, 102, 102, 0.8)',\n",
    "        linewidth=2,\n",
    "        domain=[0, 0.85],\n",
    "    ),\n",
    "    xaxis=dict(\n",
    "        zeroline=False,\n",
    "        showline=False,\n",
    "        showticklabels=True,\n",
    "        showgrid=True,\n",
    "        domain=[0, 0.42],\n",
    "    ),\n",
    "    xaxis2=dict(\n",
    "        zeroline=False,\n",
    "        showline=False,\n",
    "        showticklabels=True,\n",
    "        showgrid=True,\n",
    "        domain=[0.47, 1],\n",
    "        side='top',\n",
    "        dtick=2000,\n",
    "    ),\n",
    "    legend=dict(x=0.029, y=1.038, font_size=10),\n",
    "    margin=dict(l=100, r=20, t=70, b=70),\n",
    "    paper_bgcolor='rgb(248, 248, 255)',\n",
    "    plot_bgcolor='rgb(248, 248, 255)',\n",
    ")\n",
    "\n",
    "annotations = []\n",
    "\n",
    "y_s = np.round(missing_values['count'], decimals=2)\n",
    "y_nw = np.rint(y_count_mv['count'])\n",
    "\n",
    "# Adding labels\n",
    "for ydn, yd, xd in zip(y_nw, y_s, x):\n",
    "    # labeling the scatter savings\n",
    "    annotations.append(dict(xref='x2', yref='y2',\n",
    "                            y=xd, x=ydn+500,\n",
    "                            text='{:,}'.format(ydn),\n",
    "                            font=dict(family='Arial', size=12,\n",
    "                                      color='rgb(0, 68, 27)'),\n",
    "                            showarrow=False))\n",
    "    # labeling the bar net worth\n",
    "    annotations.append(dict(xref='x1', yref='y1',\n",
    "                            y=xd, x=yd+ 0.15,\n",
    "                            text=str(yd) + '%',\n",
    "                            font=dict(family='Arial', size=12,\n",
    "                                      color='rgb(18, 63, 90)'),\n",
    "                            showarrow=False))\n",
    "\n",
    "fig.update_layout(annotations=annotations)\n",
    "\n",
    "fig.show()"
   ]
  },
  {
   "cell_type": "markdown",
   "metadata": {},
   "source": [
    "Wie viele Werte sind insgesamt Missing Values in dem Datensatz"
   ]
  },
  {
   "cell_type": "code",
   "execution_count": 5,
   "metadata": {},
   "outputs": [
    {
     "name": "stdout",
     "output_type": "stream",
     "text": [
      "26.68 %\n"
     ]
    }
   ],
   "source": [
    "# get the number of missing data points per column\n",
    "missing_values_count = df.isnull().sum()\n",
    "\n",
    "# how many total missing values do we have?\n",
    "total_cells = np.product(df.shape)\n",
    "total_missing = missing_values_count.sum()\n",
    "\n",
    "# percent of data that is missing\n",
    "total_percentage_missing = (total_missing/total_cells) * 100 *100\n",
    "print(f\"{round(total_percentage_missing,2)} %\")"
   ]
  },
  {
   "cell_type": "code",
   "execution_count": 6,
   "metadata": {},
   "outputs": [],
   "source": [
    "def missing_values_table(df):\n",
    "        # Total missing values\n",
    "        mis_val = df.isnull().sum()\n",
    "        \n",
    "        # Percentage of missing values\n",
    "        mis_val_percent = 100 * df.isnull().sum() / len(df)\n",
    "        \n",
    "        # Make a table with the results\n",
    "        mis_val_table = pd.concat([mis_val, mis_val_percent], axis=1)\n",
    "        \n",
    "        # Rename the columns\n",
    "        mis_val_table_ren_columns = mis_val_table.rename(\n",
    "        columns = {0 : 'Missing Values', 1 : '% of Total Values'})\n",
    "        \n",
    "        # Sort the table by percentage of missing descending\n",
    "        mis_val_table_ren_columns = mis_val_table_ren_columns[\n",
    "            mis_val_table_ren_columns.iloc[:,1] != 0].sort_values(\n",
    "        '% of Total Values', ascending=False).round(1)\n",
    "        \n",
    "        # Print some summary information\n",
    "        print (\"Your selected dataframe has \" + str(df.shape[1]) + \" columns.\\n\"      \n",
    "            \"There are \" + str(mis_val_table_ren_columns.shape[0]) +\n",
    "              \" columns that have missing values.\")\n",
    "        \n",
    "        # Return the dataframe with missing information \n",
    "        return mis_val_table_ren_columns"
   ]
  },
  {
   "cell_type": "code",
   "execution_count": 7,
   "metadata": {},
   "outputs": [
    {
     "name": "stdout",
     "output_type": "stream",
     "text": [
      "Your selected dataframe has 12 columns.\n",
      "There are 7 columns that have missing values.\n"
     ]
    },
    {
     "data": {
      "text/html": [
       "<div>\n",
       "<style scoped>\n",
       "    .dataframe tbody tr th:only-of-type {\n",
       "        vertical-align: middle;\n",
       "    }\n",
       "\n",
       "    .dataframe tbody tr th {\n",
       "        vertical-align: top;\n",
       "    }\n",
       "\n",
       "    .dataframe thead th {\n",
       "        text-align: right;\n",
       "    }\n",
       "</style>\n",
       "<table border=\"1\" class=\"dataframe\">\n",
       "  <thead>\n",
       "    <tr style=\"text-align: right;\">\n",
       "      <th></th>\n",
       "      <th>Missing Values</th>\n",
       "      <th>% of Total Values</th>\n",
       "    </tr>\n",
       "  </thead>\n",
       "  <tbody>\n",
       "    <tr>\n",
       "      <th>age</th>\n",
       "      <td>10892</td>\n",
       "      <td>2.9</td>\n",
       "    </tr>\n",
       "    <tr>\n",
       "      <th>gender</th>\n",
       "      <td>1051</td>\n",
       "      <td>0.3</td>\n",
       "    </tr>\n",
       "    <tr>\n",
       "      <th>driving_license</th>\n",
       "      <td>51</td>\n",
       "      <td>0.0</td>\n",
       "    </tr>\n",
       "    <tr>\n",
       "      <th>previously_insured</th>\n",
       "      <td>51</td>\n",
       "      <td>0.0</td>\n",
       "    </tr>\n",
       "    <tr>\n",
       "      <th>vehicle_age</th>\n",
       "      <td>51</td>\n",
       "      <td>0.0</td>\n",
       "    </tr>\n",
       "    <tr>\n",
       "      <th>vehicle_damage</th>\n",
       "      <td>51</td>\n",
       "      <td>0.0</td>\n",
       "    </tr>\n",
       "    <tr>\n",
       "      <th>vintage</th>\n",
       "      <td>51</td>\n",
       "      <td>0.0</td>\n",
       "    </tr>\n",
       "  </tbody>\n",
       "</table>\n",
       "</div>"
      ],
      "text/plain": [
       "                    Missing Values  % of Total Values\n",
       "age                          10892                2.9\n",
       "gender                        1051                0.3\n",
       "driving_license                 51                0.0\n",
       "previously_insured              51                0.0\n",
       "vehicle_age                     51                0.0\n",
       "vehicle_damage                  51                0.0\n",
       "vintage                         51                0.0"
      ]
     },
     "execution_count": 7,
     "metadata": {},
     "output_type": "execute_result"
    }
   ],
   "source": [
    "train_missing= missing_values_table(df)\n",
    "train_missing"
   ]
  },
  {
   "cell_type": "markdown",
   "metadata": {},
   "source": [
    "### Verteilung der Missing Values "
   ]
  },
  {
   "cell_type": "code",
   "execution_count": 8,
   "metadata": {},
   "outputs": [
    {
     "data": {
      "text/plain": [
       "<AxesSubplot:>"
      ]
     },
     "execution_count": 8,
     "metadata": {},
     "output_type": "execute_result"
    },
    {
     "data": {
      "image/png": "[encoded data removed]",
      "text/plain": [
       "<Figure size 720x360 with 1 Axes>"
      ]
     },
     "metadata": {
      "needs_background": "light"
     },
     "output_type": "display_data"
    }
   ],
   "source": [
    "# Verteilung der Missing Values innerhalb der Variablen \n",
    "msno.matrix(df.sample(1000), sparkline=False, figsize=(10,5), fontsize=12, color=(0.27, 0.52, 1.0))"
   ]
  },
  {
   "cell_type": "code",
   "execution_count": 9,
   "metadata": {},
   "outputs": [
    {
     "data": {
      "text/plain": [
       "<AxesSubplot:>"
      ]
     },
     "execution_count": 9,
     "metadata": {},
     "output_type": "execute_result"
    },
    {
     "data": {
      "image/png": "[encoded data removed]",
      "text/plain": [
       "<Figure size 720x432 with 2 Axes>"
      ]
     },
     "metadata": {
      "needs_background": "light"
     },
     "output_type": "display_data"
    }
   ],
   "source": [
    "\n",
    "plt.figure(figsize=(10,6))\n",
    "sns.heatmap(df.isna().transpose(),\n",
    "            cmap=\"YlGnBu\",\n",
    "            cbar_kws={'label': 'Missing Data'})\n"
   ]
  },
  {
   "cell_type": "code",
   "execution_count": 10,
   "metadata": {},
   "outputs": [
    {
     "data": {
      "text/plain": [
       "<AxesSubplot:>"
      ]
     },
     "execution_count": 10,
     "metadata": {},
     "output_type": "execute_result"
    },
    {
     "data": {
      "image/png": "[encoded data removed]",
      "text/plain": [
       "<Figure size 1440x864 with 2 Axes>"
      ]
     },
     "metadata": {
      "needs_background": "light"
     },
     "output_type": "display_data"
    }
   ],
   "source": [
    "# Visualize the correlation between the number of\n",
    "# missing values in different columns as a heatmap\n",
    "msno.heatmap(df)"
   ]
  },
  {
   "cell_type": "markdown",
   "metadata": {},
   "source": [
    "\n",
    "\n",
    "Um dieses Diagramm zu interpretieren, lesen Sie es aus einer Top-Down-Perspektive. Clusterblätter, die in einem Abstand von Null miteinander verbunden sind, sagen das Vorhandensein des jeweils anderen vollständig voraus - eine Variable könnte immer leer sein, wenn eine andere gefüllt ist, oder sie könnten immer beide gefüllt oder beide leer sein, und so weiter. In diesem speziellen Beispiel klebt das Dendrogramm die Variablen zusammen, die erforderlich und daher in jedem Datensatz vorhanden sind.\n",
    "\n",
    "Clusterblätter, die sich in der Nähe von Null aufspalten, aber nicht bei Null, sagen sich gegenseitig sehr gut, aber immer noch unvollkommen voraus. Wenn Ihre eigene Interpretation des Datensatzes darin besteht, dass diese Spalten tatsächlich in Null übereinstimmen oder übereinstimmen sollten (z. B. als BETEILIGUNGSFAKTOR FAHRZEUG 2 und FAHRZEUG-TYPCODE 2), dann sagt Ihnen die Höhe des Clusterblatts in absoluten Zahlen, wie oft die Datensätze \"nicht übereinstimmen\" oder falsch abgelegt sind - d. h. wie viele Werte Sie ausfüllen oder streichen müssten, wenn Sie dazu geneigt sind.\n",
    "\n",
    "Beschreibung: \n",
    "Das Dendrogramm verwendet einen hierarchischen Clustering-Algorithmus, um die Variablen anhand ihrer Nullkorrelation gegeneinander abzugrenzen. \n",
    "\n",
    "\n",
    "Erklärung: \n",
    "Clutster, die sich in bei Null aufspalten, sagen sich untereinander vollkommen voraus (Korrelation von 1). Auf Grundlage \n",
    "\n",
    "Auf jeder Stufe des Baums werden die Variablen auf der Grundlage der Kombination aufgeteilt, die den Abstand der verbleibenden Cluster minimiert.  \n",
    "\n",
    "Je monotoner die Variablen sind, desto näher liegt ihr Gesamtabstand bei Null und desto näher liegt ihr durchschnittlicher Abstand (die y-Achse) bei Null.   "
   ]
  },
  {
   "cell_type": "code",
   "execution_count": 11,
   "metadata": {},
   "outputs": [
    {
     "data": {
      "text/plain": [
       "<AxesSubplot:>"
      ]
     },
     "execution_count": 11,
     "metadata": {},
     "output_type": "execute_result"
    },
    {
     "data": {
      "image/png": "[encoded data removed]",
      "text/plain": [
       "<Figure size 1800x720 with 1 Axes>"
      ]
     },
     "metadata": {
      "needs_background": "light"
     },
     "output_type": "display_data"
    }
   ],
   "source": [
    "msno.dendrogram(df, orientation='top')"
   ]
  },
  {
   "cell_type": "code",
   "execution_count": 12,
   "metadata": {},
   "outputs": [],
   "source": [
    "# Verteilung der Missing Values innerhalb der Variablen \n",
    "#msno.matrix(df, freq='Tim', sparkline=False)\n",
    "#df.iloc[:, 0]\n",
    "#msno.matrix(df.set_index(pd.period_range('1/1/2011', '2/1/2015', freq='M')) , freq='BQ')"
   ]
  },
  {
   "cell_type": "code",
   "execution_count": 13,
   "metadata": {},
   "outputs": [
    {
     "name": "stdout",
     "output_type": "stream",
     "text": [
      "<class 'pandas.core.frame.DataFrame'>\n",
      "Int64Index: 380999 entries, 0 to 380998\n",
      "Data columns (total 12 columns):\n",
      " #   Column                Non-Null Count   Dtype   \n",
      "---  ------                --------------   -----   \n",
      " 0   id                    380999 non-null  int64   \n",
      " 1   gender                379948 non-null  category\n",
      " 2   age                   370107 non-null  Int64   \n",
      " 3   driving_license       380948 non-null  category\n",
      " 4   region_code           380999 non-null  float64 \n",
      " 5   previously_insured    380948 non-null  category\n",
      " 6   vehicle_age           380948 non-null  category\n",
      " 7   vehicle_damage        380948 non-null  category\n",
      " 8   annual_premium        380999 non-null  Int64   \n",
      " 9   policy_sales_channel  380999 non-null  Int64   \n",
      " 10  vintage               380948 non-null  Int64   \n",
      " 11  response              380999 non-null  category\n",
      "dtypes: Int64(4), category(6), float64(1), int64(1)\n",
      "memory usage: 32.0 MB\n"
     ]
    }
   ],
   "source": [
    "# Drop all rows with NaNs in A OR B\n",
    "\n",
    "#x = df.dropna(subset=['previously_insured', 'driving_license', 'vehicle_age', 'vehicle_damage', 'vintage'])\n",
    "\n",
    "\n",
    "df.info()"
   ]
  },
  {
   "cell_type": "code",
   "execution_count": 14,
   "metadata": {},
   "outputs": [
    {
     "name": "stdout",
     "output_type": "stream",
     "text": [
      "<class 'pandas.core.frame.DataFrame'>\n",
      "Int64Index: 380948 entries, 0 to 380998\n",
      "Data columns (total 12 columns):\n",
      " #   Column                Non-Null Count   Dtype   \n",
      "---  ------                --------------   -----   \n",
      " 0   id                    380948 non-null  int64   \n",
      " 1   gender                379948 non-null  category\n",
      " 2   age                   370107 non-null  Int64   \n",
      " 3   driving_license       380948 non-null  category\n",
      " 4   region_code           380948 non-null  float64 \n",
      " 5   previously_insured    380948 non-null  category\n",
      " 6   vehicle_age           380948 non-null  category\n",
      " 7   vehicle_damage        380948 non-null  category\n",
      " 8   annual_premium        380948 non-null  Int64   \n",
      " 9   policy_sales_channel  380948 non-null  Int64   \n",
      " 10  vintage               380948 non-null  Int64   \n",
      " 11  response              380948 non-null  category\n",
      "dtypes: Int64(4), category(6), float64(1), int64(1)\n",
      "memory usage: 24.0 MB\n"
     ]
    }
   ],
   "source": [
    "df_na_bool = pd.DataFrame(pd.isna(df))\n",
    "\n",
    "df.drop(df_na_bool[(df_na_bool['previously_insured'] == True) & \n",
    "           (df_na_bool['driving_license'] == True) &\n",
    "           (df_na_bool['vehicle_age'] == True) &\n",
    "           (df_na_bool['vehicle_damage'] == True) &\n",
    "           (df_na_bool['vintage'] == True)].index, inplace=True)\n",
    "\n",
    "df.info()"
   ]
  },
  {
   "cell_type": "code",
   "execution_count": 15,
   "metadata": {},
   "outputs": [
    {
     "data": {
      "text/plain": [
       "id                          0\n",
       "gender                   1000\n",
       "age                     10841\n",
       "driving_license             0\n",
       "region_code                 0\n",
       "previously_insured          0\n",
       "vehicle_age                 0\n",
       "vehicle_damage              0\n",
       "annual_premium              0\n",
       "policy_sales_channel        0\n",
       "vintage                     0\n",
       "response                    0\n",
       "dtype: int64"
      ]
     },
     "execution_count": 15,
     "metadata": {},
     "output_type": "execute_result"
    }
   ],
   "source": [
    "pd.isna(df).sum()"
   ]
  },
  {
   "cell_type": "markdown",
   "metadata": {},
   "source": [
    "Listenweiser Fallausschluss - Wir haben mittels dem listenweisen Fallausschluss 51 Zeilen aus dem Datensatz entfernt. Dabei haben wir ebenfalls die Anzahl der missing values bei den Variablen von age und gender um 51 Werte reduziert."
   ]
  },
  {
   "cell_type": "markdown",
   "metadata": {},
   "source": [
    "## Behandlung von Anomalien"
   ]
  },
  {
   "cell_type": "markdown",
   "metadata": {},
   "source": [
    "### Age\n",
    "\n",
    "- Untergrenze: 18\n",
    "- Obergrenze: 100"
   ]
  },
  {
   "cell_type": "code",
   "execution_count": 16,
   "metadata": {},
   "outputs": [
    {
     "name": "stdout",
     "output_type": "stream",
     "text": [
      "<class 'pandas.core.frame.DataFrame'>\n",
      "Int64Index: 380948 entries, 0 to 380998\n",
      "Data columns (total 12 columns):\n",
      " #   Column                Non-Null Count   Dtype   \n",
      "---  ------                --------------   -----   \n",
      " 0   id                    380948 non-null  int64   \n",
      " 1   gender                379948 non-null  category\n",
      " 2   age                   370107 non-null  Int64   \n",
      " 3   driving_license       380948 non-null  category\n",
      " 4   region_code           380948 non-null  float64 \n",
      " 5   previously_insured    380948 non-null  category\n",
      " 6   vehicle_age           380948 non-null  category\n",
      " 7   vehicle_damage        380948 non-null  category\n",
      " 8   annual_premium        380948 non-null  Int64   \n",
      " 9   policy_sales_channel  380948 non-null  Int64   \n",
      " 10  vintage               380948 non-null  Int64   \n",
      " 11  response              380948 non-null  category\n",
      "dtypes: Int64(4), category(6), float64(1), int64(1)\n",
      "memory usage: 24.0 MB\n"
     ]
    }
   ],
   "source": [
    "df.info()"
   ]
  },
  {
   "cell_type": "code",
   "execution_count": 17,
   "metadata": {},
   "outputs": [
    {
     "data": {
      "text/plain": [
       "count    370007.000000\n",
       "mean         38.820579\n",
       "std          15.509008\n",
       "min          20.000000\n",
       "25%          25.000000\n",
       "50%          36.000000\n",
       "75%          49.000000\n",
       "max          85.000000\n",
       "Name: age, dtype: float64"
      ]
     },
     "execution_count": 17,
     "metadata": {},
     "output_type": "execute_result"
    }
   ],
   "source": [
    "index_max_age = df[df[\"age\"] >= 100].index\n",
    "df.drop(index_max_age, inplace=True)\n",
    "\n",
    "index_min_age = df[df[\"age\"] < 18].index\n",
    "df.drop(index_min_age, inplace=True)\n",
    "\n",
    "df[\"age\"].describe()"
   ]
  },
  {
   "cell_type": "markdown",
   "metadata": {},
   "source": [
    "### Annual Premium\n",
    "\n",
    "- Untergrenze: 0\n",
    "- Obergrenze: 150.000"
   ]
  },
  {
   "cell_type": "code",
   "execution_count": 18,
   "metadata": {},
   "outputs": [
    {
     "data": {
      "text/plain": [
       "count    380290.000000\n",
       "mean      30452.227190\n",
       "std       16371.775769\n",
       "min        2630.000000\n",
       "25%       24397.000000\n",
       "50%       31661.000000\n",
       "75%       39384.000000\n",
       "max      147075.000000\n",
       "Name: annual_premium, dtype: float64"
      ]
     },
     "execution_count": 18,
     "metadata": {},
     "output_type": "execute_result"
    }
   ],
   "source": [
    "index_min_premium = df[df[\"annual_premium\"] <= 0].index\n",
    "df.drop(index_min_premium, inplace=True)\n",
    "\n",
    "index_max_premium = df[df[\"annual_premium\"] >= 150000].index\n",
    "df.drop(index_max_premium, inplace=True)\n",
    "\n",
    "df[\"annual_premium\"].describe()"
   ]
  },
  {
   "cell_type": "markdown",
   "metadata": {},
   "source": [
    "## Train Test Splitting"
   ]
  },
  {
   "cell_type": "code",
   "execution_count": 19,
   "metadata": {},
   "outputs": [],
   "source": [
    "X = df.drop('response', axis=1)\n",
    "y = df[['response']]\n",
    "\n",
    "X_train, X_test, y_train, y_test = train_test_split(X, y, train_size=0.8, test_size = 0.2, random_state=42)"
   ]
  },
  {
   "cell_type": "markdown",
   "metadata": {},
   "source": [
    "#### Cross-Validation"
   ]
  },
  {
   "cell_type": "code",
   "execution_count": 20,
   "metadata": {},
   "outputs": [
    {
     "data": {
      "text/plain": [
       "nan"
      ]
     },
     "execution_count": 20,
     "metadata": {},
     "output_type": "execute_result"
    }
   ],
   "source": [
    "#define cross-validation method to use\n",
    "cv = KFold(n_splits=10, random_state=1, shuffle=True)\n",
    "\n",
    "#build multiple linear regression model\n",
    "model = LinearRegression()\n",
    "\n",
    "#use k-fold CV to evaluate model\n",
    "scores = cross_val_score(model, X, y, scoring='neg_mean_absolute_error',\n",
    "                         cv=cv, n_jobs=-1)\n",
    "\n",
    "#view mean absolute error\n",
    "np.mean(np.absolute(scores))"
   ]
  },
  {
   "cell_type": "markdown",
   "metadata": {},
   "source": [
    "## Imputationverfahren für die Variable Age"
   ]
  },
  {
   "cell_type": "markdown",
   "metadata": {},
   "source": [
    "#### Mittelwertersetzung"
   ]
  },
  {
   "cell_type": "code",
   "execution_count": 21,
   "metadata": {},
   "outputs": [],
   "source": [
    "# Create dataset\n",
    "imputed_train = pd.DataFrame()\n",
    "imputed_test = pd.DataFrame()\n",
    "X_test_mean = X_test['age']\n",
    "X_train_mean = X_train['age']\n",
    "\n",
    "\n",
    "\n",
    "# Fill missing values of Age with the average of Age (mean)\n",
    "imputed_train[ 'age' ] = X_train_mean.fillna(round(X_train_mean.mean(),0)).astype(\"Int64\")\n",
    "\n",
    "imputed_train.head()\n",
    "\n",
    "imputed_train_age = np.array(imputed_train['age'], dtype=int)\n",
    "actual_df_age = np.array(df['age'].dropna(), dtype=int)"
   ]
  },
  {
   "cell_type": "markdown",
   "metadata": {},
   "source": [
    "#### Visualisierung der Imputationsverfahren"
   ]
  },
  {
   "cell_type": "code",
   "execution_count": 22,
   "metadata": {},
   "outputs": [
    {
     "data": {
      "application/vnd.plotly.v1+json": {
       "config": {
        "plotlyServerURL": "https://plot.ly"
       },
       "data": [
        {
         "legendgroup": "imputed_train_age",
         "marker": {
          "color": "#333F44"
         },
         "mode": "lines",
         "name": "imputed_train_age",
         "showlegend": true,
         "type": "scatter",
         "x": [
          20,
          20.13,
          20.26,
          20.39,
          20.52,
          20.65,
          20.78,
          20.91,
          21.04,
          21.17,
          21.3,
          21.43,
          21.56,
          21.69,
          21.82,
          21.95,
          22.08,
          22.21,
          22.34,
          22.47,
          22.6,
          22.73,
          22.86,
          22.990000000000002,
          23.12,
          23.25,
          23.38,
          23.509999999999998,
          23.64,
          23.77,
          23.9,
          24.03,
          24.16,
          24.29,
          24.42,
          24.55,
          24.68,
          24.81,
          24.94,
          25.07,
          25.2,
          25.33,
          25.46,
          25.59,
          25.72,
          25.85,
          25.98,
          26.11,
          26.240000000000002,
          26.37,
          26.5,
          26.63,
          26.759999999999998,
          26.89,
          27.02,
          27.15,
          27.28,
          27.41,
          27.54,
          27.67,
          27.8,
          27.93,
          28.060000000000002,
          28.189999999999998,
          28.32,
          28.45,
          28.58,
          28.71,
          28.84,
          28.97,
          29.1,
          29.23,
          29.36,
          29.490000000000002,
          29.619999999999997,
          29.75,
          29.880000000000003,
          30.009999999999998,
          30.14,
          30.27,
          30.4,
          30.53,
          30.66,
          30.79,
          30.92,
          31.05,
          31.18,
          31.310000000000002,
          31.439999999999998,
          31.57,
          31.7,
          31.83,
          31.96,
          32.09,
          32.22,
          32.35,
          32.480000000000004,
          32.61,
          32.74,
          32.87,
          33,
          33.13,
          33.26,
          33.39,
          33.519999999999996,
          33.65,
          33.78,
          33.91,
          34.04,
          34.17,
          34.3,
          34.43,
          34.56,
          34.69,
          34.82,
          34.95,
          35.08,
          35.21,
          35.34,
          35.47,
          35.6,
          35.730000000000004,
          35.86,
          35.99,
          36.120000000000005,
          36.25,
          36.379999999999995,
          36.510000000000005,
          36.64,
          36.769999999999996,
          36.9,
          37.03,
          37.16,
          37.29,
          37.42,
          37.55,
          37.68,
          37.81,
          37.94,
          38.07,
          38.2,
          38.33,
          38.46,
          38.59,
          38.72,
          38.85,
          38.980000000000004,
          39.11,
          39.239999999999995,
          39.370000000000005,
          39.5,
          39.629999999999995,
          39.760000000000005,
          39.89,
          40.019999999999996,
          40.15,
          40.28,
          40.41,
          40.54,
          40.67,
          40.8,
          40.93,
          41.06,
          41.19,
          41.32,
          41.45,
          41.58,
          41.71,
          41.84,
          41.97,
          42.1,
          42.230000000000004,
          42.36,
          42.489999999999995,
          42.620000000000005,
          42.75,
          42.879999999999995,
          43.010000000000005,
          43.14,
          43.269999999999996,
          43.4,
          43.53,
          43.66,
          43.79,
          43.92,
          44.05,
          44.18,
          44.31,
          44.44,
          44.57,
          44.7,
          44.83,
          44.96,
          45.09,
          45.22,
          45.35,
          45.480000000000004,
          45.61,
          45.739999999999995,
          45.870000000000005,
          46,
          46.129999999999995,
          46.260000000000005,
          46.39,
          46.519999999999996,
          46.65,
          46.78,
          46.91,
          47.04,
          47.17,
          47.3,
          47.43,
          47.56,
          47.69,
          47.82,
          47.95,
          48.08,
          48.21,
          48.34,
          48.47,
          48.6,
          48.730000000000004,
          48.86,
          48.989999999999995,
          49.120000000000005,
          49.25,
          49.379999999999995,
          49.510000000000005,
          49.64,
          49.769999999999996,
          49.9,
          50.03,
          50.16,
          50.29,
          50.42,
          50.55,
          50.68,
          50.81,
          50.94,
          51.07,
          51.2,
          51.33,
          51.46,
          51.59,
          51.72,
          51.85,
          51.980000000000004,
          52.11,
          52.24,
          52.37,
          52.5,
          52.63,
          52.76,
          52.89,
          53.02,
          53.15,
          53.28,
          53.41,
          53.54,
          53.67,
          53.8,
          53.93,
          54.06,
          54.19,
          54.32,
          54.45,
          54.58,
          54.71,
          54.84,
          54.97,
          55.1,
          55.23,
          55.36,
          55.49,
          55.62,
          55.75,
          55.88,
          56.01,
          56.14,
          56.27,
          56.4,
          56.53,
          56.66,
          56.79,
          56.92,
          57.05,
          57.18,
          57.31,
          57.44,
          57.57,
          57.7,
          57.83,
          57.96,
          58.09,
          58.22,
          58.35,
          58.48,
          58.61,
          58.74,
          58.87,
          59,
          59.13,
          59.26,
          59.39,
          59.52,
          59.65,
          59.78,
          59.91,
          60.04,
          60.17,
          60.3,
          60.43,
          60.56,
          60.69,
          60.82,
          60.95,
          61.08,
          61.21,
          61.34,
          61.47,
          61.6,
          61.73,
          61.86,
          61.99,
          62.12,
          62.25,
          62.38,
          62.51,
          62.64,
          62.77,
          62.9,
          63.03,
          63.16,
          63.29,
          63.42,
          63.55,
          63.68,
          63.81,
          63.94,
          64.07,
          64.2,
          64.33,
          64.46000000000001,
          64.59,
          64.72,
          64.85,
          64.97999999999999,
          65.11,
          65.24000000000001,
          65.37,
          65.5,
          65.63,
          65.75999999999999,
          65.89,
          66.02000000000001,
          66.15,
          66.28,
          66.41,
          66.53999999999999,
          66.67,
          66.8,
          66.93,
          67.06,
          67.19,
          67.32,
          67.45,
          67.58,
          67.71000000000001,
          67.84,
          67.97,
          68.1,
          68.22999999999999,
          68.36,
          68.49000000000001,
          68.62,
          68.75,
          68.88,
          69.00999999999999,
          69.14,
          69.27000000000001,
          69.4,
          69.53,
          69.66,
          69.78999999999999,
          69.92,
          70.05,
          70.18,
          70.31,
          70.44,
          70.57,
          70.7,
          70.83,
          70.96000000000001,
          71.09,
          71.22,
          71.35,
          71.47999999999999,
          71.61,
          71.74000000000001,
          71.87,
          72,
          72.13,
          72.25999999999999,
          72.39,
          72.52000000000001,
          72.65,
          72.78,
          72.91,
          73.03999999999999,
          73.17,
          73.3,
          73.43,
          73.56,
          73.69,
          73.82,
          73.95,
          74.08,
          74.21000000000001,
          74.34,
          74.47,
          74.6,
          74.72999999999999,
          74.86,
          74.99000000000001,
          75.12,
          75.25,
          75.38,
          75.50999999999999,
          75.64,
          75.77000000000001,
          75.9,
          76.03,
          76.16,
          76.28999999999999,
          76.42,
          76.55,
          76.68,
          76.81,
          76.94,
          77.07,
          77.2,
          77.33,
          77.46000000000001,
          77.59,
          77.72,
          77.85,
          77.97999999999999,
          78.11,
          78.24000000000001,
          78.37,
          78.5,
          78.63,
          78.75999999999999,
          78.89,
          79.02000000000001,
          79.15,
          79.28,
          79.41,
          79.53999999999999,
          79.67,
          79.8,
          79.93,
          80.06,
          80.19,
          80.32,
          80.45,
          80.58,
          80.71000000000001,
          80.84,
          80.97,
          81.1,
          81.22999999999999,
          81.36,
          81.49000000000001,
          81.62,
          81.75,
          81.88,
          82.00999999999999,
          82.14,
          82.27000000000001,
          82.4,
          82.53,
          82.66,
          82.78999999999999,
          82.92,
          83.05,
          83.18,
          83.31,
          83.44,
          83.57,
          83.7,
          83.83,
          83.96000000000001,
          84.09,
          84.22,
          84.35,
          84.48,
          84.61,
          84.74,
          84.87
         ],
         "xaxis": "x",
         "y": [
          0.02061944091953083,
          0.022587050006735963,
          0.02460044245032274,
          0.026645418109592256,
          0.02870748125480218,
          0.0307721804867824,
          0.032825427882817906,
          0.03485378217979615,
          0.036844683071875856,
          0.038786626829034526,
          0.04066927722821651,
          0.04248350996129153,
          0.04422139295475399,
          0.04587610909294148,
          0.04744183139164062,
          0.048913563487796824,
          0.05028696018664377,
          0.05155814365533169,
          0.05272353061721928,
          0.0537796846395569,
          0.054723205427555446,
          0.0555506641089581,
          0.05625859002910003,
          0.056843510807461625,
          0.05730204358899027,
          0.05763103179761464,
          0.057827718486506856,
          0.057889944785559845,
          0.057816360116348296,
          0.05760662988861091,
          0.05726162635662738,
          0.05678358918097373,
          0.056176243952991665,
          0.05544486935790561,
          0.054596306619450675,
          0.05363890818158589,
          0.05258242602806036,
          0.05143784340230153,
          0.05021715676226757,
          0.0489331174232142,
          0.04759894435180432,
          0.04622802089211588,
          0.044833588772012364,
          0.04342845254681371,
          0.042024706733437826,
          0.04063349633779489,
          0.039264819411552215,
          0.03792737781208451,
          0.036628479663495445,
          0.035373994281177934,
          0.03416835770484765,
          0.03301462463844247,
          0.03191456064975295,
          0.030868767030830708,
          0.02987682982686784,
          0.028937484206969736,
          0.028048785554194117,
          0.02720827932431297,
          0.026413162768787114,
          0.025660432924326876,
          0.024947016727112973,
          0.0242698805920563,
          0.023626118214737427,
          0.023013016622027545,
          0.022428101561946717,
          0.02186916414956637,
          0.021334271265622533,
          0.02082176254454933,
          0.02033023691106424,
          0.01985853156236402,
          0.01940569608324272,
          0.01897096406255435,
          0.018553724190277694,
          0.018153492386705838,
          0.017769886084142747,
          0.01740260136475453,
          0.017051393283187454,
          0.016716059380417394,
          0.016396426138169082,
          0.01609233793870274,
          0.015803647986112137,
          0.01553021060963721,
          0.015271874405022562,
          0.015028475764493423,
          0.014799832489634585,
          0.014585737355199453,
          0.01438595167906313,
          0.014200199131813912,
          0.014028160169247591,
          0.013869467574647888,
          0.013723703640759735,
          0.013590399495372945,
          0.013469036980363537,
          0.0133590533381088,
          0.013259848755863998,
          0.013170796590403246,
          0.013091255865419572,
          0.013020585430427242,
          0.012958159014857593,
          0.012903380325695421,
          0.012855697333017781,
          0.01281461496943302,
          0.012779705631972381,
          0.012750617105738096,
          0.012727077809596928,
          0.012708899570728396,
          0.012695978444988423,
          0.012688294386869133,
          0.01268591081709888,
          0.01268897531551749,
          0.012697722765704111,
          0.012712482279440142,
          0.012733689117348344,
          0.012761902580860851,
          0.01279783046224279,
          0.012842360090272674,
          0.012896595287310035,
          0.012961897660700739,
          0.013039929605598306,
          0.013132695241741724,
          0.01324257431906731,
          0.01337234301890161,
          0.013525174697679491,
          0.013704613144772294,
          0.013914511048194045,
          0.014158927263139979,
          0.014441978306485866,
          0.014767642328531819,
          0.015139517614567109,
          0.015560542283149481,
          0.016032686970286748,
          0.016556637473189324,
          0.01713148900944699,
          0.017754477296145044,
          0.018420773441063725,
          0.019123369122450638,
          0.019853075353566858,
          0.020598652175936077,
          0.02134707811321515,
          0.022083957691779763,
          0.02279405365569212,
          0.02346191877794909,
          0.024072591628854677,
          0.02461231252417454,
          0.025069211185577797,
          0.025433917130089766,
          0.025700047756609997,
          0.02586453731441273,
          0.02592778172920181,
          0.025893588508533964,
          0.025768936240269432,
          0.025563563000774767,
          0.025289415829343763,
          0.024960003069397337,
          0.024589696980984444,
          0.024193035215086367,
          0.02378406663530019,
          0.02337578015859774,
          0.02297964569999589,
          0.022605285111406057,
          0.022260279426878075,
          0.021950107912054227,
          0.021678205300292668,
          0.021446116830473587,
          0.021253726597096408,
          0.021099533276953915,
          0.020980948230781966,
          0.020894593809804598,
          0.020836583832449847,
          0.020802773013487236,
          0.020788967050749285,
          0.020791089631159283,
          0.02080530647042706,
          0.02082810945480801,
          0.020856365952309042,
          0.020887339451440588,
          0.020918688003299296,
          0.02094844665845558,
          0.020974999395972777,
          0.02099704511638816,
          0.02101356126485378,
          0.021023767681282203,
          0.02102709241704949,
          0.021023140551743327,
          0.0210116665042757,
          0.0209925499446467,
          0.020965775158548,
          0.020931413565620356,
          0.0208896090140267,
          0.020840565447375992,
          0.02078453654084705,
          0.02072181692251182,
          0.020652734621211852,
          0.02057764441517894,
          0.02049692179135691,
          0.020410957268426372,
          0.020320150887885215,
          0.020224906737001374,
          0.020125627435915568,
          0.020022708595072512,
          0.01991653332391152,
          0.019807466941777385,
          0.019695852099119386,
          0.019582004554912033,
          0.01946620986721905,
          0.01934872123494702,
          0.019229758677142345,
          0.01910950965552753,
          0.018988131141113744,
          0.018865753007795638,
          0.018742482516843833,
          0.018618409550297196,
          0.018493612172855833,
          0.01836816206253509,
          0.01824212935606409,
          0.01811558651187201,
          0.0179886108926617,
          0.017861285905649314,
          0.017733700693351763,
          0.017605948525468196,
          0.01747812418226823,
          0.017350320725177303,
          0.017222626108498416,
          0.01709512008806026,
          0.01696787183085503,
          0.01684093852860155,
          0.016714365183488854,
          0.016588185582017106,
          0.01646242432355398,
          0.016337099642183838,
          0.016212226668790367,
          0.016087820734918764,
          0.015963900324503826,
          0.015840489328795778,
          0.01571761834714795,
          0.015595324884688979,
          0.015473652415062324,
          0.015352648385122415,
          0.015232361327584914,
          0.015112837309337407,
          0.014994115973260677,
          0.014876226434344417,
          0.014759183271207836,
          0.014642982821964353,
          0.014527599958502717,
          0.014412985483334837,
          0.01429906427517228,
          0.014185734303839589,
          0.014072866640049288,
          0.01396030659532622,
          0.013847876130626973,
          0.013735377664114394,
          0.01362259937442306,
          0.0135093220367942,
          0.013395327338640546,
          0.013280407507720965,
          0.013164375954413186,
          0.013047078497533206,
          0.012928404622071473,
          0.012808298126281193,
          0.01268676646723357,
          0.012563888118569191,
          0.012439817317342106,
          0.012314785695508652,
          0.01218910045934418,
          0.012063138983227783,
          0.011937339905391472,
          0.011812191035231727,
          0.011688214584770923,
          0.011565950406059051,
          0.01144593803928579,
          0.011328698445392612,
          0.011214716310328452,
          0.011104423767165552,
          0.01099818629402777,
          0.010896291418093023,
          0.01079894069953899,
          0.010706245294729827,
          0.010618225215104863,
          0.010534812216622943,
          0.010455856081895105,
          0.010381133899601132,
          0.010310361809786821,
          0.010243208572898153,
          0.01017931024026064,
          0.010118285157195725,
          0.010059748521247075,
          0.010003325749226927,
          0.009948663979766742,
          0.00989544115199739,
          0.00984337225324148,
          0.009792212512146221,
          0.009741757519720104,
          0.009691840475491686,
          0.009642326964070727,
          0.00959310785152196,
          0.009544091033812973,
          0.009495192856536296,
          0.009446330044406617,
          0.009397412926053401,
          0.009348340615842495,
          0.009298998628852775,
          0.009249259173914719,
          0.009198984114257458,
          0.009148030330348177,
          0.009096256990432143,
          0.009043534053517146,
          0.00898975121502314,
          0.008934826467461557,
          0.008878713489784551,
          0.00882140719293127,
          0.00876294692284158,
          0.008703417036162722,
          0.008642944796010086,
          0.008581695762675567,
          0.0085198670558606,
          0.008457679024239054,
          0.008395365962593519,
          0.008333166561380433,
          0.008271314758190852,
          0.00821003159065885,
          0.008149518536241455,
          0.008089952677832224,
          0.008031483870150078,
          0.007974233914158342,
          0.007918297589184302,
          0.00786374525620583,
          0.007810626640409792,
          0.007758975332622198,
          0.007708813521003507,
          0.007660156476242544,
          0.0076130163629347805,
          0.007567405030831121,
          0.007523335545305237,
          0.007480822336930329,
          0.007439879976425684,
          0.007400520703150527,
          0.007362750944201102,
          0.007326567149450744,
          0.007291951329715902,
          0.0072588667175832,
          0.0072272539717121624,
          0.0071970283166930575,
          0.007168077954472874,
          0.007140264004107278,
          0.007113422129406704,
          0.007087365904853008,
          0.007061891855153758,
          0.007036785989402148,
          0.007011831543014947,
          0.00698681754552635,
          0.0069615477549963955,
          0.006935849445355195,
          0.006909581505292383,
          0.00688264130964488,
          0.006854969858514661,
          0.006826554746425802,
          0.006797430622575379,
          0.006767676931105203,
          0.0067374128723241035,
          0.006706789695011317,
          0.006675980607266603,
          0.006645168767865083,
          0.006614533979518926,
          0.006584238836869684,
          0.006554415173344423,
          0.006525151691239597,
          0.00649648364099077,
          0.00646838533485729,
          0.00644076613813133,
          0.006413470384274599,
          0.00638628142051617,
          0.006358929723455375,
          0.006331104749597416,
          0.006302469923729397,
          0.006272679939579612,
          0.00624139936980624,
          0.006208321470709791,
          0.006173186030023013,
          0.00613579514730387,
          0.006096025953111774,
          0.006053839457347573,
          0.006009284955937432,
          0.005962499701874662,
          0.005913703842373888,
          0.0058631909184334325,
          0.005811314496261104,
          0.00575847173335607,
          0.005705084859731018,
          0.005651581664698417,
          0.0055983761150743055,
          0.005545850189490656,
          0.005494337900573685,
          0.005444112301435956,
          0.005395376050659956,
          0.0053482558591289135,
          0.005302800883517992,
          0.005258984885968477,
          0.005216711766043661,
          0.0051758239046115866,
          0.005136112649453054,
          0.005097330222568426,
          0.005059202336776697,
          0.00502144086617595,
          0.004983756008969578,
          0.004945867497627696,
          0.004907514535131802,
          0.004868464253678795,
          0.004828518592998206,
          0.0047875195727065615,
          0.0047453529843640326,
          0.0047019505559469646,
          0.004657290649131751,
          0.004611397545285393,
          0.0045643393674353544,
          0.004516224680303305,
          0.004467197814962128,
          0.004417432982644753,
          0.004367127275070757,
          0.004316492694886076,
          0.004265747415901824,
          0.004215106533240209,
          0.004164772621819023,
          0.004114926471102316,
          0.004065718398240829,
          0.0040172605552390595,
          0.003969620634654191,
          0.003922817340166948,
          0.0038768179229124074,
          0.0038315379933188997,
          0.00378684370493291,
          0.0037425562768532445,
          0.00369845868203729,
          0.0036543041883930548,
          0.0036098263077417605,
          0.0035647495942514097,
          0.003518800648747738,
          0.003471718637196622,
          0.003423264628190826,
          0.0033732291005850153,
          0.0033214370706978343,
          0.0032677504375008466,
          0.0032120673384963276,
          0.0031543185388951205,
          0.0030944611282619884,
          0.0030324700539586208,
          0.002968328258246264,
          0.002902016382795034,
          0.002833503137266663,
          0.0027627374767434407,
          0.002689643679972006,
          0.0026141202581586188,
          0.0025360433538755243,
          0.002455274924446028,
          0.002371675569086808,
          0.002285121390042359,
          0.002195523819454957,
          0.0021028509443001115,
          0.0020071485688259345,
          0.0019085591078147948,
          0.0018073364320991495,
          0.0017038550001499154,
          0.0015986119961321492,
          0.001492221725214073,
          0.0013854021429403347,
          0.0012789540561463273,
          0.0011737341614295937,
          0.0010706236190167547,
          0.0009704942404187222,
          0.0008741745597998505,
          0.0007824180448420205,
          0.0006958754893601685,
          0.0006150732446933802,
          0.0005403984351165506,
          0.00047209172051633963,
          0.0004102475777001007,
          0.00035482152697231947,
          0.0003056432803775474,
          0.0002624344654239159,
          0.00022482939971917091,
          0.00019239735769069634,
          0.0001646648656911761,
          0.00014113676047707558,
          0.00012131501573223161,
          0.00010471464729100103,
          0.00009087631724159584,
          0.00007937554255607489,
          0.0000698286548804233,
          0.00006189584221374543,
          0.00005528172576390466,
          0.00004973398832501069,
          0.00004504058120895332,
          0.00004102600548919819,
          0.00003754710202207686,
          0.00003448870535957587,
          0.00003175943009138385,
          0.000029287773301655833,
          0.000027018640381147904,
          0.000024910337749852737,
          0.00002293202730475695
         ],
         "yaxis": "y"
        },
        {
         "legendgroup": "actual_df_age",
         "marker": {
          "color": "#37AA9C"
         },
         "mode": "lines",
         "name": "actual_df_age",
         "showlegend": true,
         "type": "scatter",
         "x": [
          20,
          20.13,
          20.26,
          20.39,
          20.52,
          20.65,
          20.78,
          20.91,
          21.04,
          21.17,
          21.3,
          21.43,
          21.56,
          21.69,
          21.82,
          21.95,
          22.08,
          22.21,
          22.34,
          22.47,
          22.6,
          22.73,
          22.86,
          22.990000000000002,
          23.12,
          23.25,
          23.38,
          23.509999999999998,
          23.64,
          23.77,
          23.9,
          24.03,
          24.16,
          24.29,
          24.42,
          24.55,
          24.68,
          24.81,
          24.94,
          25.07,
          25.2,
          25.33,
          25.46,
          25.59,
          25.72,
          25.85,
          25.98,
          26.11,
          26.240000000000002,
          26.37,
          26.5,
          26.63,
          26.759999999999998,
          26.89,
          27.02,
          27.15,
          27.28,
          27.41,
          27.54,
          27.67,
          27.8,
          27.93,
          28.060000000000002,
          28.189999999999998,
          28.32,
          28.45,
          28.58,
          28.71,
          28.84,
          28.97,
          29.1,
          29.23,
          29.36,
          29.490000000000002,
          29.619999999999997,
          29.75,
          29.880000000000003,
          30.009999999999998,
          30.14,
          30.27,
          30.4,
          30.53,
          30.66,
          30.79,
          30.92,
          31.05,
          31.18,
          31.310000000000002,
          31.439999999999998,
          31.57,
          31.7,
          31.83,
          31.96,
          32.09,
          32.22,
          32.35,
          32.480000000000004,
          32.61,
          32.74,
          32.87,
          33,
          33.13,
          33.26,
          33.39,
          33.519999999999996,
          33.65,
          33.78,
          33.91,
          34.04,
          34.17,
          34.3,
          34.43,
          34.56,
          34.69,
          34.82,
          34.95,
          35.08,
          35.21,
          35.34,
          35.47,
          35.6,
          35.730000000000004,
          35.86,
          35.99,
          36.120000000000005,
          36.25,
          36.379999999999995,
          36.510000000000005,
          36.64,
          36.769999999999996,
          36.9,
          37.03,
          37.16,
          37.29,
          37.42,
          37.55,
          37.68,
          37.81,
          37.94,
          38.07,
          38.2,
          38.33,
          38.46,
          38.59,
          38.72,
          38.85,
          38.980000000000004,
          39.11,
          39.239999999999995,
          39.370000000000005,
          39.5,
          39.629999999999995,
          39.760000000000005,
          39.89,
          40.019999999999996,
          40.15,
          40.28,
          40.41,
          40.54,
          40.67,
          40.8,
          40.93,
          41.06,
          41.19,
          41.32,
          41.45,
          41.58,
          41.71,
          41.84,
          41.97,
          42.1,
          42.230000000000004,
          42.36,
          42.489999999999995,
          42.620000000000005,
          42.75,
          42.879999999999995,
          43.010000000000005,
          43.14,
          43.269999999999996,
          43.4,
          43.53,
          43.66,
          43.79,
          43.92,
          44.05,
          44.18,
          44.31,
          44.44,
          44.57,
          44.7,
          44.83,
          44.96,
          45.09,
          45.22,
          45.35,
          45.480000000000004,
          45.61,
          45.739999999999995,
          45.870000000000005,
          46,
          46.129999999999995,
          46.260000000000005,
          46.39,
          46.519999999999996,
          46.65,
          46.78,
          46.91,
          47.04,
          47.17,
          47.3,
          47.43,
          47.56,
          47.69,
          47.82,
          47.95,
          48.08,
          48.21,
          48.34,
          48.47,
          48.6,
          48.730000000000004,
          48.86,
          48.989999999999995,
          49.120000000000005,
          49.25,
          49.379999999999995,
          49.510000000000005,
          49.64,
          49.769999999999996,
          49.9,
          50.03,
          50.16,
          50.29,
          50.42,
          50.55,
          50.68,
          50.81,
          50.94,
          51.07,
          51.2,
          51.33,
          51.46,
          51.59,
          51.72,
          51.85,
          51.980000000000004,
          52.11,
          52.24,
          52.37,
          52.5,
          52.63,
          52.76,
          52.89,
          53.02,
          53.15,
          53.28,
          53.41,
          53.54,
          53.67,
          53.8,
          53.93,
          54.06,
          54.19,
          54.32,
          54.45,
          54.58,
          54.71,
          54.84,
          54.97,
          55.1,
          55.23,
          55.36,
          55.49,
          55.62,
          55.75,
          55.88,
          56.01,
          56.14,
          56.27,
          56.4,
          56.53,
          56.66,
          56.79,
          56.92,
          57.05,
          57.18,
          57.31,
          57.44,
          57.57,
          57.7,
          57.83,
          57.96,
          58.09,
          58.22,
          58.35,
          58.48,
          58.61,
          58.74,
          58.87,
          59,
          59.13,
          59.26,
          59.39,
          59.52,
          59.65,
          59.78,
          59.91,
          60.04,
          60.17,
          60.3,
          60.43,
          60.56,
          60.69,
          60.82,
          60.95,
          61.08,
          61.21,
          61.34,
          61.47,
          61.6,
          61.73,
          61.86,
          61.99,
          62.12,
          62.25,
          62.38,
          62.51,
          62.64,
          62.77,
          62.9,
          63.03,
          63.16,
          63.29,
          63.42,
          63.55,
          63.68,
          63.81,
          63.94,
          64.07,
          64.2,
          64.33,
          64.46000000000001,
          64.59,
          64.72,
          64.85,
          64.97999999999999,
          65.11,
          65.24000000000001,
          65.37,
          65.5,
          65.63,
          65.75999999999999,
          65.89,
          66.02000000000001,
          66.15,
          66.28,
          66.41,
          66.53999999999999,
          66.67,
          66.8,
          66.93,
          67.06,
          67.19,
          67.32,
          67.45,
          67.58,
          67.71000000000001,
          67.84,
          67.97,
          68.1,
          68.22999999999999,
          68.36,
          68.49000000000001,
          68.62,
          68.75,
          68.88,
          69.00999999999999,
          69.14,
          69.27000000000001,
          69.4,
          69.53,
          69.66,
          69.78999999999999,
          69.92,
          70.05,
          70.18,
          70.31,
          70.44,
          70.57,
          70.7,
          70.83,
          70.96000000000001,
          71.09,
          71.22,
          71.35,
          71.47999999999999,
          71.61,
          71.74000000000001,
          71.87,
          72,
          72.13,
          72.25999999999999,
          72.39,
          72.52000000000001,
          72.65,
          72.78,
          72.91,
          73.03999999999999,
          73.17,
          73.3,
          73.43,
          73.56,
          73.69,
          73.82,
          73.95,
          74.08,
          74.21000000000001,
          74.34,
          74.47,
          74.6,
          74.72999999999999,
          74.86,
          74.99000000000001,
          75.12,
          75.25,
          75.38,
          75.50999999999999,
          75.64,
          75.77000000000001,
          75.9,
          76.03,
          76.16,
          76.28999999999999,
          76.42,
          76.55,
          76.68,
          76.81,
          76.94,
          77.07,
          77.2,
          77.33,
          77.46000000000001,
          77.59,
          77.72,
          77.85,
          77.97999999999999,
          78.11,
          78.24000000000001,
          78.37,
          78.5,
          78.63,
          78.75999999999999,
          78.89,
          79.02000000000001,
          79.15,
          79.28,
          79.41,
          79.53999999999999,
          79.67,
          79.8,
          79.93,
          80.06,
          80.19,
          80.32,
          80.45,
          80.58,
          80.71000000000001,
          80.84,
          80.97,
          81.1,
          81.22999999999999,
          81.36,
          81.49000000000001,
          81.62,
          81.75,
          81.88,
          82.00999999999999,
          82.14,
          82.27000000000001,
          82.4,
          82.53,
          82.66,
          82.78999999999999,
          82.92,
          83.05,
          83.18,
          83.31,
          83.44,
          83.57,
          83.7,
          83.83,
          83.96000000000001,
          84.09,
          84.22,
          84.35,
          84.48,
          84.61,
          84.74,
          84.87
         ],
         "xaxis": "x",
         "y": [
          0.021130635573524747,
          0.0231889463090239,
          0.025296114067238345,
          0.027436803166536253,
          0.029595383098967965,
          0.03175631235403034,
          0.03390449756534276,
          0.036025610235785724,
          0.038106345976952755,
          0.04013461493275184,
          0.0420996565756569,
          0.04399207704885834,
          0.0458038123090761,
          0.04752802512198266,
          0.049158948126047416,
          0.050691688414762265,
          0.05212201118139725,
          0.05344612080033838,
          0.054660457279697754,
          0.05576152436698536,
          0.056745762899827364,
          0.05760947945253594,
          0.058348836226920074,
          0.05895990372146258,
          0.05943877328359099,
          0.059781722490202555,
          0.05998542263940576,
          0.06004717470977151,
          0.059965158115093634,
          0.05973867555990672,
          0.05936837735356843,
          0.058856449625683094,
          0.058206752946999105,
          0.05742490072820056,
          0.05651827025793551,
          0.05549594312026571,
          0.05436857573940008,
          0.05314820469622431,
          0.05184799501190257,
          0.050481942594439264,
          0.04906454434850412,
          0.047610450931510354,
          0.04613411775844466,
          0.0446494695875653,
          0.043169592915302174,
          0.04170646854434933,
          0.040270754201172335,
          0.038871624128887575,
          0.037516669356782106,
          0.036211859068766616,
          0.034961560352935135,
          0.03376861082580557,
          0.032634436342800506,
          0.03155920436087148,
          0.03054200257246119,
          0.029581032197290368,
          0.028673805747950996,
          0.02781734008251971,
          0.027008336990380005,
          0.02624334527110493,
          0.025518900106140167,
          0.024831637342483833,
          0.024178381983579432,
          0.023556211626604782,
          0.022962496737508168,
          0.022394920490728505,
          0.021851481427853585,
          0.021330482427125305,
          0.020830509475060387,
          0.020350403531716202,
          0.01988922844205088,
          0.01944623741089929,
          0.019020840074404154,
          0.018612571701985058,
          0.018221065576608523,
          0.017846029154113374,
          0.01748722420441536,
          0.01714445080382846,
          0.01681753478504655,
          0.016506318063483818,
          0.016210651147140293,
          0.015930387103792406,
          0.015665376297046056,
          0.015415461306595386,
          0.015180471606421159,
          0.01496021777115651,
          0.0147544851964281,
          0.014563027534167087,
          0.014385560231461113,
          0.014221754704373937,
          0.014071233756724113,
          0.013933568854986362,
          0.01380827979506997,
          0.013694837145397265,
          0.013592667642422134,
          0.013501162468470747,
          0.013419688087093316,
          0.013347599075641127,
          0.01328425220628462,
          0.01322902090637571,
          0.013181309191412676,
          0.013140564210379894,
          0.013106286668126979,
          0.013078038579059236,
          0.013055448032321263,
          0.013038210892687545,
          0.01302608959127837,
          0.013018909356975783,
          0.013016552386746582,
          0.01301895054030745,
          0.013026077173718058,
          0.013037938700756535,
          0.013054566404996592,
          0.013076008931165622,
          0.013102325778155772,
          0.013133582009648873,
          0.01316984430257056,
          0.013211178371153638,
          0.013257647738014635,
          0.013309313768809842,
          0.013366236838359044,
          0.01342847844962874,
          0.013496104076346178,
          0.01356918644548706,
          0.013647808919507632,
          0.01373206858585297,
          0.013822078621665106,
          0.013917969487150702,
          0.014019888519491876,
          0.014127997560050284,
          0.014242468354001095,
          0.014363475610366272,
          0.014491187792345426,
          0.014625755910499564,
          0.014767300792082052,
          0.014915899479617563,
          0.015071571549438268,
          0.015234266218328069,
          0.015403851112582615,
          0.015580103506156249,
          0.015762704696609467,
          0.01595123799354109,
          0.016145190561880025,
          0.016343959115611893,
          0.01654685921871952,
          0.016753137741097445,
          0.01696198785244991,
          0.017172565828445337,
          0.017384008890215352,
          0.017595453298608395,
          0.0178060519669966,
          0.018014990929789764,
          0.01822150409414053,
          0.018424885798334092,
          0.018624500795172045,
          0.018819791367569835,
          0.019010281368690148,
          0.019195577065020817,
          0.019375364753416044,
          0.019549405230739773,
          0.019717525318863314,
          0.01987960679132841,
          0.020035573202109084,
          0.020185375273147538,
          0.020328975637949654,
          0.020466333844485568,
          0.02059739257407445,
          0.020722066015338304,
          0.020840231236643022,
          0.02095172322168369,
          0.021056333983134275,
          0.02115381586409664,
          0.02124388880620143,
          0.02132625103700168,
          0.021400592343084564,
          0.02146660888213664,
          0.02152401836630439,
          0.021572574441173626,
          0.02161207918504116,
          0.02164239285414527,
          0.021663440277454336,
          0.021675213628031584,
          0.02167777163407346,
          0.021671235602177395,
          0.02165578288335129,
          0.021631638589035246,
          0.02159906645038765,
          0.02155835970628087,
          0.02150983280698164,
          0.021453814551079708,
          0.021390643052653213,
          0.021320662687191728,
          0.02124422291790238,
          0.02116167867998011,
          0.021073391822672764,
          0.020979732991571416,
          0.020881083288759438,
          0.020777835078896394,
          0.020670391411496392,
          0.020559163695765957,
          0.020444567475849464,
          0.020327016392786095,
          0.020206914658370392,
          0.020084648580840078,
          0.019960577846848307,
          0.01983502735873877,
          0.019708280435513502,
          0.019580574105538557,
          0.019452097052791988,
          0.019322990542800546,
          0.019193352372248475,
          0.0190632435894218,
          0.018932697454468954,
          0.018801729881062157,
          0.01867035045184126,
          0.018538573045592692,
          0.018406425162349922,
          0.018273955174424292,
          0.018141236951758816,
          0.018008371580740402,
          0.017875486183464205,
          0.01774273011934963,
          0.017610269080078896,
          0.01747827775036357,
          0.01734693178917512,
          0.017216399883080793,
          0.0170868365446207,
          0.01695837618960772,
          0.016831128847034114,
          0.016705177659956022,
          0.0165805781454916,
          0.016457359018982508,
          0.016335524261546965,
          0.016215056034251787,
          0.016095918013787954,
          0.01597805874134039,
          0.01586141463193071,
          0.01574591237292448,
          0.015631470538543128,
          0.01551800035025197,
          0.015405405611830765,
          0.015293581935457268,
          0.015182415445936083,
          0.015071781201652994,
          0.014961541602119995,
          0.014851545062841424,
          0.014741625230362335,
          0.014631600986331069,
          0.014521277449832115,
          0.014410448136561189,
          0.014298898371624154,
          0.014186409984471024,
          0.01407276724029214,
          0.013957763885568812,
          0.013841211109728834,
          0.01372294615226586,
          0.013602841219412293,
          0.013480812320891293,
          0.013356827597920293,
          0.013230914693682505,
          0.013103166718409266,
          0.012973746387078159,
          0.01284288795715238,
          0.01271089666864019,
          0.01257814548537243,
          0.012445069052390052,
          0.012312154914031313,
          0.012179932175460593,
          0.012048957929161436,
          0.011919801900430106,
          0.011793029883459991,
          0.011669186634622217,
          0.011548778954962044,
          0.01143225972281544,
          0.011320013625129808,
          0.011212345281049588,
          0.011109470352513038,
          0.011011510098140788,
          0.010918489655628583,
          0.010830340142761716,
          0.010746904460740224,
          0.010667946479658777,
          0.010593163097695944,
          0.010522198506962689,
          0.010454659880785502,
          0.01039013362788689,
          0.01032820134312113,
          0.01026845462368337,
          0.01021050801056944,
          0.010154009451843879,
          0.010098647857937198,
          0.010044157517894075,
          0.009990319356816046,
          0.00993695922428019,
          0.009883943597383973,
          0.009831173246521767,
          0.009778575535495368,
          0.009726096099974192,
          0.009673690664100431,
          0.009621317711431676,
          0.009568932627123116,
          0.009516483779567418,
          0.009463910824063131,
          0.009411145304460133,
          0.009358113416880861,
          0.00930474060316817,
          0.009250957475464557,
          0.009196706452650217,
          0.009141948424383964,
          0.009086668753336555,
          0.009030881981971908,
          0.008974634720447789,
          0.008918006348155077,
          0.00886110734922202,
          0.008804075306722213,
          0.008747068784847057,
          0.008690259515933869,
          0.008633823464629674,
          0.008577931451224572,
          0.008522740069845578,
          0.008468383628662089,
          0.00841496776700113,
          0.008362565272161258,
          0.008311214436307475,
          0.008260920075702371,
          0.008211657100127634,
          0.008163376290826196,
          0.008116011744118702,
          0.008069489285041176,
          0.008023735067775003,
          0.00797868356772494,
          0.007934284235383764,
          0.007890506218863889,
          0.007847340755421954,
          0.007804801062180146,
          0.007762919797421421,
          0.007721744391563762,
          0.007681330737515948,
          0.007641735865994804,
          0.007603010301311379,
          0.007565190794278827,
          0.007528294066331662,
          0.00749231208373728,
          0.007457209229753897,
          0.007422921572931604,
          0.007389358260346039,
          0.007356404909144071,
          0.007323928740524068,
          0.00729178510219438,
          0.007259824960279637,
          0.007227902906646455,
          0.007195885217516186,
          0.007163657508109544,
          0.007131131550163869,
          0.0070982508510579224,
          0.007064994633724132,
          0.007031379906943814,
          0.006997461379442216,
          0.006963329052304086,
          0.00692910342653311,
          0.006894928386963875,
          0.006860961968590749,
          0.006827365369593521,
          0.006794290736998853,
          0.006761868400330176,
          0.006730194349992477,
          0.006699318832331051,
          0.006669236948186736,
          0.006639882085281748,
          0.006611122883576007,
          0.006582764230625478,
          0.006554552523112958,
          0.006526185130607749,
          0.006497323682828685,
          0.0064676104999702305,
          0.006436687224110438,
          0.006404214512603357,
          0.006369891539493102,
          0.006333474029683819,
          0.0062947896243783635,
          0.006253749539717599,
          0.006210355720057685,
          0.006164702983944132,
          0.006116975991913544,
          0.006067441206026471,
          0.006016434337057772,
          0.0059643440637775404,
          0.005911593039640557,
          0.005858617360264396,
          0.005805845739482781,
          0.005753679628065124,
          0.005702475409437341,
          0.005652529628869143,
          0.005604067971824491,
          0.005557238423214961,
          0.00551210873614253,
          0.005468668042270258,
          0.005426832170923063,
          0.005386452032336639,
          0.00534732427779758,
          0.005309203384674826,
          0.005271814327325907,
          0.00523486507761912,
          0.005198058316427118,
          0.005161101909358907,
          0.005123717884428688,
          0.005085649823873785,
          0.005046668728702627,
          0.005006577519302231,
          0.004965214391587245,
          0.004922455255977806,
          0.004878215452025721,
          0.004832450865830067,
          0.00478515849464667,
          0.00473637641819114,
          0.0046861830631865446,
          0.004634695597928911,
          0.004582067274960238,
          0.004528483555619913,
          0.004474156899799059,
          0.004419320183050744,
          0.00436421880403538,
          0.004309101658553521,
          0.004254211271585556,
          0.004199773484934248,
          0.0041459871849879384,
          0.004093014613600866,
          0.00404097282796563,
          0.003989926857471438,
          0.003939885044872849,
          0.003890796956366847,
          0.0038425541047404903,
          0.0037949935589561444,
          0.0037479043230615474,
          0.0037010361700529335,
          0.0036541104271756043,
          0.003606832043472756,
          0.0035589021433299673,
          0.0035100301947789945,
          0.0034599449091191024,
          0.003408403046116854,
          0.0033551954289424493,
          0.003300149672158453,
          0.0032431293857513176,
          0.003184029923285078,
          0.0031227710720079706,
          0.0030592874107453743,
          0.0029935173573639494,
          0.0029253921592286643,
          0.0028548262159668733,
          0.002781710137260834,
          0.002705907810985728,
          0.0026272584828016744,
          0.0025455844368688276,
          0.0024607043450404625,
          0.002372451761854671,
          0.0022806976416142985,
          0.0021853752069954714,
          0.0020865050722474756,
          0.0019842182770837074,
          0.0018787748628644174,
          0.0017705758407587353,
          0.001660166854759308,
          0.0015482324945807417,
          0.0014355810028247721,
          0.0013231199665857006,
          0.0012118243958401719,
          0.0011026992816291442,
          0.0009967392215831023,
          0.0008948879471669689,
          0.0007980005638062999,
          0.0007068110310855649,
          0.0006219069042755907,
          0.0005437126927518505,
          0.0004724824422272512,
          0.0004083013970560626,
          0.00035109592114147863,
          0.0003006503115181434,
          0.0002566287673481673,
          0.0002186005956478913,
          0.00018606673793679753,
          0.00015848586468129405,
          0.00013529856895069472,
          0.0001159485521021913,
          0.00009990008676437132,
          0.00008665142463721242,
          0.00007574415580790901,
          0.00006676880002046048,
          0.0000593671071671622,
          0.00005323166264659701,
          0.000048103439587023314,
          0.00004376792621209171,
          0.00004005039777735583,
          0.00003681081421960492,
          0.00003393872159697919,
          0.00003134842997670005,
          0.000028974642185293746,
          0.00002676862325488495,
          0.00002469493308732545,
          0.000022728695970863104
         ],
         "yaxis": "y"
        }
       ],
       "layout": {
        "barmode": "overlay",
        "hovermode": "closest",
        "legend": {
         "traceorder": "reversed"
        },
        "template": {
         "data": {
          "bar": [
           {
            "error_x": {
             "color": "#2a3f5f"
            },
            "error_y": {
             "color": "#2a3f5f"
            },
            "marker": {
             "line": {
              "color": "#E5ECF6",
              "width": 0.5
             },
             "pattern": {
              "fillmode": "overlay",
              "size": 10,
              "solidity": 0.2
             }
            },
            "type": "bar"
           }
          ],
          "barpolar": [
           {
            "marker": {
             "line": {
              "color": "#E5ECF6",
              "width": 0.5
             },
             "pattern": {
              "fillmode": "overlay",
              "size": 10,
              "solidity": 0.2
             }
            },
            "type": "barpolar"
           }
          ],
          "carpet": [
           {
            "aaxis": {
             "endlinecolor": "#2a3f5f",
             "gridcolor": "white",
             "linecolor": "white",
             "minorgridcolor": "white",
             "startlinecolor": "#2a3f5f"
            },
            "baxis": {
             "endlinecolor": "#2a3f5f",
             "gridcolor": "white",
             "linecolor": "white",
             "minorgridcolor": "white",
             "startlinecolor": "#2a3f5f"
            },
            "type": "carpet"
           }
          ],
          "choropleth": [
           {
            "colorbar": {
             "outlinewidth": 0,
             "ticks": ""
            },
            "type": "choropleth"
           }
          ],
          "contour": [
           {
            "colorbar": {
             "outlinewidth": 0,
             "ticks": ""
            },
            "colorscale": [
             [
              0,
              "#0d0887"
             ],
             [
              0.1111111111111111,
              "#46039f"
             ],
             [
              0.2222222222222222,
              "#7201a8"
             ],
             [
              0.3333333333333333,
              "#9c179e"
             ],
             [
              0.4444444444444444,
              "#bd3786"
             ],
             [
              0.5555555555555556,
              "#d8576b"
             ],
             [
              0.6666666666666666,
              "#ed7953"
             ],
             [
              0.7777777777777778,
              "#fb9f3a"
             ],
             [
              0.8888888888888888,
              "#fdca26"
             ],
             [
              1,
              "#f0f921"
             ]
            ],
            "type": "contour"
           }
          ],
          "contourcarpet": [
           {
            "colorbar": {
             "outlinewidth": 0,
             "ticks": ""
            },
            "type": "contourcarpet"
           }
          ],
          "heatmap": [
           {
            "colorbar": {
             "outlinewidth": 0,
             "ticks": ""
            },
            "colorscale": [
             [
              0,
              "#0d0887"
             ],
             [
              0.1111111111111111,
              "#46039f"
             ],
             [
              0.2222222222222222,
              "#7201a8"
             ],
             [
              0.3333333333333333,
              "#9c179e"
             ],
             [
              0.4444444444444444,
              "#bd3786"
             ],
             [
              0.5555555555555556,
              "#d8576b"
             ],
             [
              0.6666666666666666,
              "#ed7953"
             ],
             [
              0.7777777777777778,
              "#fb9f3a"
             ],
             [
              0.8888888888888888,
              "#fdca26"
             ],
             [
              1,
              "#f0f921"
             ]
            ],
            "type": "heatmap"
           }
          ],
          "heatmapgl": [
           {
            "colorbar": {
             "outlinewidth": 0,
             "ticks": ""
            },
            "colorscale": [
             [
              0,
              "#0d0887"
             ],
             [
              0.1111111111111111,
              "#46039f"
             ],
             [
              0.2222222222222222,
              "#7201a8"
             ],
             [
              0.3333333333333333,
              "#9c179e"
             ],
             [
              0.4444444444444444,
              "#bd3786"
             ],
             [
              0.5555555555555556,
              "#d8576b"
             ],
             [
              0.6666666666666666,
              "#ed7953"
             ],
             [
              0.7777777777777778,
              "#fb9f3a"
             ],
             [
              0.8888888888888888,
              "#fdca26"
             ],
             [
              1,
              "#f0f921"
             ]
            ],
            "type": "heatmapgl"
           }
          ],
          "histogram": [
           {
            "marker": {
             "pattern": {
              "fillmode": "overlay",
              "size": 10,
              "solidity": 0.2
             }
            },
            "type": "histogram"
           }
          ],
          "histogram2d": [
           {
            "colorbar": {
             "outlinewidth": 0,
             "ticks": ""
            },
            "colorscale": [
             [
              0,
              "#0d0887"
             ],
             [
              0.1111111111111111,
              "#46039f"
             ],
             [
              0.2222222222222222,
              "#7201a8"
             ],
             [
              0.3333333333333333,
              "#9c179e"
             ],
             [
              0.4444444444444444,
              "#bd3786"
             ],
             [
              0.5555555555555556,
              "#d8576b"
             ],
             [
              0.6666666666666666,
              "#ed7953"
             ],
             [
              0.7777777777777778,
              "#fb9f3a"
             ],
             [
              0.8888888888888888,
              "#fdca26"
             ],
             [
              1,
              "#f0f921"
             ]
            ],
            "type": "histogram2d"
           }
          ],
          "histogram2dcontour": [
           {
            "colorbar": {
             "outlinewidth": 0,
             "ticks": ""
            },
            "colorscale": [
             [
              0,
              "#0d0887"
             ],
             [
              0.1111111111111111,
              "#46039f"
             ],
             [
              0.2222222222222222,
              "#7201a8"
             ],
             [
              0.3333333333333333,
              "#9c179e"
             ],
             [
              0.4444444444444444,
              "#bd3786"
             ],
             [
              0.5555555555555556,
              "#d8576b"
             ],
             [
              0.6666666666666666,
              "#ed7953"
             ],
             [
              0.7777777777777778,
              "#fb9f3a"
             ],
             [
              0.8888888888888888,
              "#fdca26"
             ],
             [
              1,
              "#f0f921"
             ]
            ],
            "type": "histogram2dcontour"
           }
          ],
          "mesh3d": [
           {
            "colorbar": {
             "outlinewidth": 0,
             "ticks": ""
            },
            "type": "mesh3d"
           }
          ],
          "parcoords": [
           {
            "line": {
             "colorbar": {
              "outlinewidth": 0,
              "ticks": ""
             }
            },
            "type": "parcoords"
           }
          ],
          "pie": [
           {
            "automargin": true,
            "type": "pie"
           }
          ],
          "scatter": [
           {
            "marker": {
             "colorbar": {
              "outlinewidth": 0,
              "ticks": ""
             }
            },
            "type": "scatter"
           }
          ],
          "scatter3d": [
           {
            "line": {
             "colorbar": {
              "outlinewidth": 0,
              "ticks": ""
             }
            },
            "marker": {
             "colorbar": {
              "outlinewidth": 0,
              "ticks": ""
             }
            },
            "type": "scatter3d"
           }
          ],
          "scattercarpet": [
           {
            "marker": {
             "colorbar": {
              "outlinewidth": 0,
              "ticks": ""
             }
            },
            "type": "scattercarpet"
           }
          ],
          "scattergeo": [
           {
            "marker": {
             "colorbar": {
              "outlinewidth": 0,
              "ticks": ""
             }
            },
            "type": "scattergeo"
           }
          ],
          "scattergl": [
           {
            "marker": {
             "colorbar": {
              "outlinewidth": 0,
              "ticks": ""
             }
            },
            "type": "scattergl"
           }
          ],
          "scattermapbox": [
           {
            "marker": {
             "colorbar": {
              "outlinewidth": 0,
              "ticks": ""
             }
            },
            "type": "scattermapbox"
           }
          ],
          "scatterpolar": [
           {
            "marker": {
             "colorbar": {
              "outlinewidth": 0,
              "ticks": ""
             }
            },
            "type": "scatterpolar"
           }
          ],
          "scatterpolargl": [
           {
            "marker": {
             "colorbar": {
              "outlinewidth": 0,
              "ticks": ""
             }
            },
            "type": "scatterpolargl"
           }
          ],
          "scatterternary": [
           {
            "marker": {
             "colorbar": {
              "outlinewidth": 0,
              "ticks": ""
             }
            },
            "type": "scatterternary"
           }
          ],
          "surface": [
           {
            "colorbar": {
             "outlinewidth": 0,
             "ticks": ""
            },
            "colorscale": [
             [
              0,
              "#0d0887"
             ],
             [
              0.1111111111111111,
              "#46039f"
             ],
             [
              0.2222222222222222,
              "#7201a8"
             ],
             [
              0.3333333333333333,
              "#9c179e"
             ],
             [
              0.4444444444444444,
              "#bd3786"
             ],
             [
              0.5555555555555556,
              "#d8576b"
             ],
             [
              0.6666666666666666,
              "#ed7953"
             ],
             [
              0.7777777777777778,
              "#fb9f3a"
             ],
             [
              0.8888888888888888,
              "#fdca26"
             ],
             [
              1,
              "#f0f921"
             ]
            ],
            "type": "surface"
           }
          ],
          "table": [
           {
            "cells": {
             "fill": {
              "color": "#EBF0F8"
             },
             "line": {
              "color": "white"
             }
            },
            "header": {
             "fill": {
              "color": "#C8D4E3"
             },
             "line": {
              "color": "white"
             }
            },
            "type": "table"
           }
          ]
         },
         "layout": {
          "annotationdefaults": {
           "arrowcolor": "#2a3f5f",
           "arrowhead": 0,
           "arrowwidth": 1
          },
          "autotypenumbers": "strict",
          "coloraxis": {
           "colorbar": {
            "outlinewidth": 0,
            "ticks": ""
           }
          },
          "colorscale": {
           "diverging": [
            [
             0,
             "#8e0152"
            ],
            [
             0.1,
             "#c51b7d"
            ],
            [
             0.2,
             "#de77ae"
            ],
            [
             0.3,
             "#f1b6da"
            ],
            [
             0.4,
             "#fde0ef"
            ],
            [
             0.5,
             "#f7f7f7"
            ],
            [
             0.6,
             "#e6f5d0"
            ],
            [
             0.7,
             "#b8e186"
            ],
            [
             0.8,
             "#7fbc41"
            ],
            [
             0.9,
             "#4d9221"
            ],
            [
             1,
             "#276419"
            ]
           ],
           "sequential": [
            [
             0,
             "#0d0887"
            ],
            [
             0.1111111111111111,
             "#46039f"
            ],
            [
             0.2222222222222222,
             "#7201a8"
            ],
            [
             0.3333333333333333,
             "#9c179e"
            ],
            [
             0.4444444444444444,
             "#bd3786"
            ],
            [
             0.5555555555555556,
             "#d8576b"
            ],
            [
             0.6666666666666666,
             "#ed7953"
            ],
            [
             0.7777777777777778,
             "#fb9f3a"
            ],
            [
             0.8888888888888888,
             "#fdca26"
            ],
            [
             1,
             "#f0f921"
            ]
           ],
           "sequentialminus": [
            [
             0,
             "#0d0887"
            ],
            [
             0.1111111111111111,
             "#46039f"
            ],
            [
             0.2222222222222222,
             "#7201a8"
            ],
            [
             0.3333333333333333,
             "#9c179e"
            ],
            [
             0.4444444444444444,
             "#bd3786"
            ],
            [
             0.5555555555555556,
             "#d8576b"
            ],
            [
             0.6666666666666666,
             "#ed7953"
            ],
            [
             0.7777777777777778,
             "#fb9f3a"
            ],
            [
             0.8888888888888888,
             "#fdca26"
            ],
            [
             1,
             "#f0f921"
            ]
           ]
          },
          "colorway": [
           "#636efa",
           "#EF553B",
           "#00cc96",
           "#ab63fa",
           "#FFA15A",
           "#19d3f3",
           "#FF6692",
           "#B6E880",
           "#FF97FF",
           "#FECB52"
          ],
          "font": {
           "color": "#2a3f5f"
          },
          "geo": {
           "bgcolor": "white",
           "lakecolor": "white",
           "landcolor": "#E5ECF6",
           "showlakes": true,
           "showland": true,
           "subunitcolor": "white"
          },
          "hoverlabel": {
           "align": "left"
          },
          "hovermode": "closest",
          "mapbox": {
           "style": "light"
          },
          "paper_bgcolor": "white",
          "plot_bgcolor": "#E5ECF6",
          "polar": {
           "angularaxis": {
            "gridcolor": "white",
            "linecolor": "white",
            "ticks": ""
           },
           "bgcolor": "#E5ECF6",
           "radialaxis": {
            "gridcolor": "white",
            "linecolor": "white",
            "ticks": ""
           }
          },
          "scene": {
           "xaxis": {
            "backgroundcolor": "#E5ECF6",
            "gridcolor": "white",
            "gridwidth": 2,
            "linecolor": "white",
            "showbackground": true,
            "ticks": "",
            "zerolinecolor": "white"
           },
           "yaxis": {
            "backgroundcolor": "#E5ECF6",
            "gridcolor": "white",
            "gridwidth": 2,
            "linecolor": "white",
            "showbackground": true,
            "ticks": "",
            "zerolinecolor": "white"
           },
           "zaxis": {
            "backgroundcolor": "#E5ECF6",
            "gridcolor": "white",
            "gridwidth": 2,
            "linecolor": "white",
            "showbackground": true,
            "ticks": "",
            "zerolinecolor": "white"
           }
          },
          "shapedefaults": {
           "line": {
            "color": "#2a3f5f"
           }
          },
          "ternary": {
           "aaxis": {
            "gridcolor": "white",
            "linecolor": "white",
            "ticks": ""
           },
           "baxis": {
            "gridcolor": "white",
            "linecolor": "white",
            "ticks": ""
           },
           "bgcolor": "#E5ECF6",
           "caxis": {
            "gridcolor": "white",
            "linecolor": "white",
            "ticks": ""
           }
          },
          "title": {
           "x": 0.05
          },
          "xaxis": {
           "automargin": true,
           "gridcolor": "white",
           "linecolor": "white",
           "ticks": "",
           "title": {
            "standoff": 15
           },
           "zerolinecolor": "white",
           "zerolinewidth": 2
          },
          "yaxis": {
           "automargin": true,
           "gridcolor": "white",
           "linecolor": "white",
           "ticks": "",
           "title": {
            "standoff": 15
           },
           "zerolinecolor": "white",
           "zerolinewidth": 2
          }
         }
        },
        "title": {
         "text": "Verteilung der Variable nach Imputationsverfahren"
        },
        "xaxis": {
         "anchor": "y2",
         "domain": [
          0,
          1
         ],
         "zeroline": false
        },
        "yaxis": {
         "anchor": "free",
         "domain": [
          0,
          1
         ],
         "position": 0
        }
       }
      }
     },
     "metadata": {},
     "output_type": "display_data"
    }
   ],
   "source": [
    "hist_data = [imputed_train_age, actual_df_age]\n",
    "\n",
    "group_labels = ['imputed_train_age', 'actual_df_age']\n",
    "colors = ['#333F44', '#37AA9C']\n",
    "\n",
    "# Create distplot with curve_type set to 'normal'\n",
    "fig = ff.create_distplot(hist_data, group_labels, show_hist=False, colors=colors, rug_text=None, show_rug=False)\n",
    "\n",
    "# Add title\n",
    "fig.update_layout(title_text='Verteilung der Variable nach Imputationsverfahren')\n",
    "fig.show()"
   ]
  },
  {
   "cell_type": "markdown",
   "metadata": {},
   "source": [
    "#### Lineare Regression "
   ]
  },
  {
   "cell_type": "markdown",
   "metadata": {},
   "source": [
    "#### Lineare Regression"
   ]
  },
  {
   "cell_type": "markdown",
   "metadata": {},
   "source": [
    "##### ONE HOT ENCODING\n",
    "\n",
    "ONE HOT ENCODiNG transformiert kategoriale Variablen zu binären Variablen mittels des 'one-hot' Verfahrens.\n",
    "Dieser Schritt der Kodierung kategorialer Variablen ist nötig, um diese später in linearen Modellen und Vektor Maschinen zu verwenden."
   ]
  },
  {
   "cell_type": "code",
   "execution_count": 23,
   "metadata": {},
   "outputs": [],
   "source": [
    "df_copy = df.copy()\n",
    "\n",
    "# simple approach \n",
    "#OHE = pd.get_dummies(df_copy)\n",
    "\n",
    "# X = df_copy.select_dtypes(include=['category'])\n",
    "\n",
    "# OHE = OneHotEncoder().fit(X)\n",
    "\n",
    "# binary_array = OHE.transform(X).toarray()\n",
    "# binary_array.shape\n"
   ]
  },
  {
   "cell_type": "code",
   "execution_count": 24,
   "metadata": {},
   "outputs": [
    {
     "ename": "ValueError",
     "evalue": "Cannot cast object dtype to float64",
     "output_type": "error",
     "traceback": [
      "\u001b[1;31m---------------------------------------------------------------------------\u001b[0m",
      "\u001b[1;31mValueError\u001b[0m                                Traceback (most recent call last)",
      "\u001b[1;32m~\\anaconda3\\lib\\site-packages\\pandas\\core\\arrays\\categorical.py\u001b[0m in \u001b[0;36mastype\u001b[1;34m(self, dtype, copy)\u001b[0m\n\u001b[0;32m    430\u001b[0m                 \u001b[0mnew_cats\u001b[0m \u001b[1;33m=\u001b[0m \u001b[0mnp\u001b[0m\u001b[1;33m.\u001b[0m\u001b[0masarray\u001b[0m\u001b[1;33m(\u001b[0m\u001b[0mself\u001b[0m\u001b[1;33m.\u001b[0m\u001b[0mcategories\u001b[0m\u001b[1;33m)\u001b[0m\u001b[1;33m\u001b[0m\u001b[1;33m\u001b[0m\u001b[0m\n\u001b[1;32m--> 431\u001b[1;33m                 \u001b[0mnew_cats\u001b[0m \u001b[1;33m=\u001b[0m \u001b[0mnew_cats\u001b[0m\u001b[1;33m.\u001b[0m\u001b[0mastype\u001b[0m\u001b[1;33m(\u001b[0m\u001b[0mdtype\u001b[0m\u001b[1;33m=\u001b[0m\u001b[0mdtype\u001b[0m\u001b[1;33m,\u001b[0m \u001b[0mcopy\u001b[0m\u001b[1;33m=\u001b[0m\u001b[0mcopy\u001b[0m\u001b[1;33m)\u001b[0m\u001b[1;33m\u001b[0m\u001b[1;33m\u001b[0m\u001b[0m\n\u001b[0m\u001b[0;32m    432\u001b[0m             except (\n",
      "\u001b[1;31mValueError\u001b[0m: could not convert string to float: 'Female'",
      "\nDuring handling of the above exception, another exception occurred:\n",
      "\u001b[1;31mValueError\u001b[0m                                Traceback (most recent call last)",
      "\u001b[1;32m<ipython-input-24-acbbe8f1f56b>\u001b[0m in \u001b[0;36m<module>\u001b[1;34m\u001b[0m\n\u001b[1;32m----> 1\u001b[1;33m \u001b[0mimp_reg\u001b[0m \u001b[1;33m=\u001b[0m \u001b[0mLinearRegression\u001b[0m\u001b[1;33m(\u001b[0m\u001b[1;33m)\u001b[0m\u001b[1;33m.\u001b[0m\u001b[0mfit\u001b[0m\u001b[1;33m(\u001b[0m\u001b[0mX_train\u001b[0m\u001b[1;33m,\u001b[0m \u001b[0my_train\u001b[0m\u001b[1;33m)\u001b[0m\u001b[1;33m\u001b[0m\u001b[1;33m\u001b[0m\u001b[0m\n\u001b[0m\u001b[0;32m      2\u001b[0m \u001b[1;33m\u001b[0m\u001b[0m\n\u001b[0;32m      3\u001b[0m \u001b[0mimp_reg_results\u001b[0m \u001b[1;33m=\u001b[0m \u001b[0mimp_reg\u001b[0m\u001b[1;33m.\u001b[0m\u001b[0mpredict\u001b[0m\u001b[1;33m(\u001b[0m\u001b[0mX_test\u001b[0m\u001b[1;33m)\u001b[0m\u001b[1;33m\u001b[0m\u001b[1;33m\u001b[0m\u001b[0m\n\u001b[0;32m      4\u001b[0m \u001b[0mlen\u001b[0m\u001b[1;33m(\u001b[0m\u001b[0mimp_reg_results\u001b[0m\u001b[1;33m)\u001b[0m\u001b[1;33m,\u001b[0m \u001b[0mimp_reg_results\u001b[0m\u001b[1;33m\u001b[0m\u001b[1;33m\u001b[0m\u001b[0m\n",
      "\u001b[1;32m~\\anaconda3\\lib\\site-packages\\sklearn\\linear_model\\_base.py\u001b[0m in \u001b[0;36mfit\u001b[1;34m(self, X, y, sample_weight)\u001b[0m\n\u001b[0;32m    516\u001b[0m         \u001b[0maccept_sparse\u001b[0m \u001b[1;33m=\u001b[0m \u001b[1;32mFalse\u001b[0m \u001b[1;32mif\u001b[0m \u001b[0mself\u001b[0m\u001b[1;33m.\u001b[0m\u001b[0mpositive\u001b[0m \u001b[1;32melse\u001b[0m \u001b[1;33m[\u001b[0m\u001b[1;34m'csr'\u001b[0m\u001b[1;33m,\u001b[0m \u001b[1;34m'csc'\u001b[0m\u001b[1;33m,\u001b[0m \u001b[1;34m'coo'\u001b[0m\u001b[1;33m]\u001b[0m\u001b[1;33m\u001b[0m\u001b[1;33m\u001b[0m\u001b[0m\n\u001b[0;32m    517\u001b[0m \u001b[1;33m\u001b[0m\u001b[0m\n\u001b[1;32m--> 518\u001b[1;33m         X, y = self._validate_data(X, y, accept_sparse=accept_sparse,\n\u001b[0m\u001b[0;32m    519\u001b[0m                                    y_numeric=True, multi_output=True)\n\u001b[0;32m    520\u001b[0m \u001b[1;33m\u001b[0m\u001b[0m\n",
      "\u001b[1;32m~\\anaconda3\\lib\\site-packages\\sklearn\\base.py\u001b[0m in \u001b[0;36m_validate_data\u001b[1;34m(self, X, y, reset, validate_separately, **check_params)\u001b[0m\n\u001b[0;32m    431\u001b[0m                 \u001b[0my\u001b[0m \u001b[1;33m=\u001b[0m \u001b[0mcheck_array\u001b[0m\u001b[1;33m(\u001b[0m\u001b[0my\u001b[0m\u001b[1;33m,\u001b[0m \u001b[1;33m**\u001b[0m\u001b[0mcheck_y_params\u001b[0m\u001b[1;33m)\u001b[0m\u001b[1;33m\u001b[0m\u001b[1;33m\u001b[0m\u001b[0m\n\u001b[0;32m    432\u001b[0m             \u001b[1;32melse\u001b[0m\u001b[1;33m:\u001b[0m\u001b[1;33m\u001b[0m\u001b[1;33m\u001b[0m\u001b[0m\n\u001b[1;32m--> 433\u001b[1;33m                 \u001b[0mX\u001b[0m\u001b[1;33m,\u001b[0m \u001b[0my\u001b[0m \u001b[1;33m=\u001b[0m \u001b[0mcheck_X_y\u001b[0m\u001b[1;33m(\u001b[0m\u001b[0mX\u001b[0m\u001b[1;33m,\u001b[0m \u001b[0my\u001b[0m\u001b[1;33m,\u001b[0m \u001b[1;33m**\u001b[0m\u001b[0mcheck_params\u001b[0m\u001b[1;33m)\u001b[0m\u001b[1;33m\u001b[0m\u001b[1;33m\u001b[0m\u001b[0m\n\u001b[0m\u001b[0;32m    434\u001b[0m             \u001b[0mout\u001b[0m \u001b[1;33m=\u001b[0m \u001b[0mX\u001b[0m\u001b[1;33m,\u001b[0m \u001b[0my\u001b[0m\u001b[1;33m\u001b[0m\u001b[1;33m\u001b[0m\u001b[0m\n\u001b[0;32m    435\u001b[0m \u001b[1;33m\u001b[0m\u001b[0m\n",
      "\u001b[1;32m~\\anaconda3\\lib\\site-packages\\sklearn\\utils\\validation.py\u001b[0m in \u001b[0;36minner_f\u001b[1;34m(*args, **kwargs)\u001b[0m\n\u001b[0;32m     61\u001b[0m             \u001b[0mextra_args\u001b[0m \u001b[1;33m=\u001b[0m \u001b[0mlen\u001b[0m\u001b[1;33m(\u001b[0m\u001b[0margs\u001b[0m\u001b[1;33m)\u001b[0m \u001b[1;33m-\u001b[0m \u001b[0mlen\u001b[0m\u001b[1;33m(\u001b[0m\u001b[0mall_args\u001b[0m\u001b[1;33m)\u001b[0m\u001b[1;33m\u001b[0m\u001b[1;33m\u001b[0m\u001b[0m\n\u001b[0;32m     62\u001b[0m             \u001b[1;32mif\u001b[0m \u001b[0mextra_args\u001b[0m \u001b[1;33m<=\u001b[0m \u001b[1;36m0\u001b[0m\u001b[1;33m:\u001b[0m\u001b[1;33m\u001b[0m\u001b[1;33m\u001b[0m\u001b[0m\n\u001b[1;32m---> 63\u001b[1;33m                 \u001b[1;32mreturn\u001b[0m \u001b[0mf\u001b[0m\u001b[1;33m(\u001b[0m\u001b[1;33m*\u001b[0m\u001b[0margs\u001b[0m\u001b[1;33m,\u001b[0m \u001b[1;33m**\u001b[0m\u001b[0mkwargs\u001b[0m\u001b[1;33m)\u001b[0m\u001b[1;33m\u001b[0m\u001b[1;33m\u001b[0m\u001b[0m\n\u001b[0m\u001b[0;32m     64\u001b[0m \u001b[1;33m\u001b[0m\u001b[0m\n\u001b[0;32m     65\u001b[0m             \u001b[1;31m# extra_args > 0\u001b[0m\u001b[1;33m\u001b[0m\u001b[1;33m\u001b[0m\u001b[1;33m\u001b[0m\u001b[0m\n",
      "\u001b[1;32m~\\anaconda3\\lib\\site-packages\\sklearn\\utils\\validation.py\u001b[0m in \u001b[0;36mcheck_X_y\u001b[1;34m(X, y, accept_sparse, accept_large_sparse, dtype, order, copy, force_all_finite, ensure_2d, allow_nd, multi_output, ensure_min_samples, ensure_min_features, y_numeric, estimator)\u001b[0m\n\u001b[0;32m    812\u001b[0m         \u001b[1;32mraise\u001b[0m \u001b[0mValueError\u001b[0m\u001b[1;33m(\u001b[0m\u001b[1;34m\"y cannot be None\"\u001b[0m\u001b[1;33m)\u001b[0m\u001b[1;33m\u001b[0m\u001b[1;33m\u001b[0m\u001b[0m\n\u001b[0;32m    813\u001b[0m \u001b[1;33m\u001b[0m\u001b[0m\n\u001b[1;32m--> 814\u001b[1;33m     X = check_array(X, accept_sparse=accept_sparse,\n\u001b[0m\u001b[0;32m    815\u001b[0m                     \u001b[0maccept_large_sparse\u001b[0m\u001b[1;33m=\u001b[0m\u001b[0maccept_large_sparse\u001b[0m\u001b[1;33m,\u001b[0m\u001b[1;33m\u001b[0m\u001b[1;33m\u001b[0m\u001b[0m\n\u001b[0;32m    816\u001b[0m                     \u001b[0mdtype\u001b[0m\u001b[1;33m=\u001b[0m\u001b[0mdtype\u001b[0m\u001b[1;33m,\u001b[0m \u001b[0morder\u001b[0m\u001b[1;33m=\u001b[0m\u001b[0morder\u001b[0m\u001b[1;33m,\u001b[0m \u001b[0mcopy\u001b[0m\u001b[1;33m=\u001b[0m\u001b[0mcopy\u001b[0m\u001b[1;33m,\u001b[0m\u001b[1;33m\u001b[0m\u001b[1;33m\u001b[0m\u001b[0m\n",
      "\u001b[1;32m~\\anaconda3\\lib\\site-packages\\sklearn\\utils\\validation.py\u001b[0m in \u001b[0;36minner_f\u001b[1;34m(*args, **kwargs)\u001b[0m\n\u001b[0;32m     61\u001b[0m             \u001b[0mextra_args\u001b[0m \u001b[1;33m=\u001b[0m \u001b[0mlen\u001b[0m\u001b[1;33m(\u001b[0m\u001b[0margs\u001b[0m\u001b[1;33m)\u001b[0m \u001b[1;33m-\u001b[0m \u001b[0mlen\u001b[0m\u001b[1;33m(\u001b[0m\u001b[0mall_args\u001b[0m\u001b[1;33m)\u001b[0m\u001b[1;33m\u001b[0m\u001b[1;33m\u001b[0m\u001b[0m\n\u001b[0;32m     62\u001b[0m             \u001b[1;32mif\u001b[0m \u001b[0mextra_args\u001b[0m \u001b[1;33m<=\u001b[0m \u001b[1;36m0\u001b[0m\u001b[1;33m:\u001b[0m\u001b[1;33m\u001b[0m\u001b[1;33m\u001b[0m\u001b[0m\n\u001b[1;32m---> 63\u001b[1;33m                 \u001b[1;32mreturn\u001b[0m \u001b[0mf\u001b[0m\u001b[1;33m(\u001b[0m\u001b[1;33m*\u001b[0m\u001b[0margs\u001b[0m\u001b[1;33m,\u001b[0m \u001b[1;33m**\u001b[0m\u001b[0mkwargs\u001b[0m\u001b[1;33m)\u001b[0m\u001b[1;33m\u001b[0m\u001b[1;33m\u001b[0m\u001b[0m\n\u001b[0m\u001b[0;32m     64\u001b[0m \u001b[1;33m\u001b[0m\u001b[0m\n\u001b[0;32m     65\u001b[0m             \u001b[1;31m# extra_args > 0\u001b[0m\u001b[1;33m\u001b[0m\u001b[1;33m\u001b[0m\u001b[1;33m\u001b[0m\u001b[0m\n",
      "\u001b[1;32m~\\anaconda3\\lib\\site-packages\\sklearn\\utils\\validation.py\u001b[0m in \u001b[0;36mcheck_array\u001b[1;34m(array, accept_sparse, accept_large_sparse, dtype, order, copy, force_all_finite, ensure_2d, allow_nd, ensure_min_samples, ensure_min_features, estimator)\u001b[0m\n\u001b[0;32m    558\u001b[0m     \u001b[1;32mif\u001b[0m \u001b[0mhas_pd_integer_array\u001b[0m\u001b[1;33m:\u001b[0m\u001b[1;33m\u001b[0m\u001b[1;33m\u001b[0m\u001b[0m\n\u001b[0;32m    559\u001b[0m         \u001b[1;31m# If there are any pandas integer extension arrays,\u001b[0m\u001b[1;33m\u001b[0m\u001b[1;33m\u001b[0m\u001b[1;33m\u001b[0m\u001b[0m\n\u001b[1;32m--> 560\u001b[1;33m         \u001b[0marray\u001b[0m \u001b[1;33m=\u001b[0m \u001b[0marray\u001b[0m\u001b[1;33m.\u001b[0m\u001b[0mastype\u001b[0m\u001b[1;33m(\u001b[0m\u001b[0mdtype\u001b[0m\u001b[1;33m)\u001b[0m\u001b[1;33m\u001b[0m\u001b[1;33m\u001b[0m\u001b[0m\n\u001b[0m\u001b[0;32m    561\u001b[0m \u001b[1;33m\u001b[0m\u001b[0m\n\u001b[0;32m    562\u001b[0m     \u001b[1;32mif\u001b[0m \u001b[0mforce_all_finite\u001b[0m \u001b[1;32mnot\u001b[0m \u001b[1;32min\u001b[0m \u001b[1;33m(\u001b[0m\u001b[1;32mTrue\u001b[0m\u001b[1;33m,\u001b[0m \u001b[1;32mFalse\u001b[0m\u001b[1;33m,\u001b[0m \u001b[1;34m'allow-nan'\u001b[0m\u001b[1;33m)\u001b[0m\u001b[1;33m:\u001b[0m\u001b[1;33m\u001b[0m\u001b[1;33m\u001b[0m\u001b[0m\n",
      "\u001b[1;32m~\\anaconda3\\lib\\site-packages\\pandas\\core\\generic.py\u001b[0m in \u001b[0;36mastype\u001b[1;34m(self, dtype, copy, errors)\u001b[0m\n\u001b[0;32m   5875\u001b[0m         \u001b[1;32melse\u001b[0m\u001b[1;33m:\u001b[0m\u001b[1;33m\u001b[0m\u001b[1;33m\u001b[0m\u001b[0m\n\u001b[0;32m   5876\u001b[0m             \u001b[1;31m# else, only a single dtype is given\u001b[0m\u001b[1;33m\u001b[0m\u001b[1;33m\u001b[0m\u001b[1;33m\u001b[0m\u001b[0m\n\u001b[1;32m-> 5877\u001b[1;33m             \u001b[0mnew_data\u001b[0m \u001b[1;33m=\u001b[0m \u001b[0mself\u001b[0m\u001b[1;33m.\u001b[0m\u001b[0m_mgr\u001b[0m\u001b[1;33m.\u001b[0m\u001b[0mastype\u001b[0m\u001b[1;33m(\u001b[0m\u001b[0mdtype\u001b[0m\u001b[1;33m=\u001b[0m\u001b[0mdtype\u001b[0m\u001b[1;33m,\u001b[0m \u001b[0mcopy\u001b[0m\u001b[1;33m=\u001b[0m\u001b[0mcopy\u001b[0m\u001b[1;33m,\u001b[0m \u001b[0merrors\u001b[0m\u001b[1;33m=\u001b[0m\u001b[0merrors\u001b[0m\u001b[1;33m)\u001b[0m\u001b[1;33m\u001b[0m\u001b[1;33m\u001b[0m\u001b[0m\n\u001b[0m\u001b[0;32m   5878\u001b[0m             \u001b[1;32mreturn\u001b[0m \u001b[0mself\u001b[0m\u001b[1;33m.\u001b[0m\u001b[0m_constructor\u001b[0m\u001b[1;33m(\u001b[0m\u001b[0mnew_data\u001b[0m\u001b[1;33m)\u001b[0m\u001b[1;33m.\u001b[0m\u001b[0m__finalize__\u001b[0m\u001b[1;33m(\u001b[0m\u001b[0mself\u001b[0m\u001b[1;33m,\u001b[0m \u001b[0mmethod\u001b[0m\u001b[1;33m=\u001b[0m\u001b[1;34m\"astype\"\u001b[0m\u001b[1;33m)\u001b[0m\u001b[1;33m\u001b[0m\u001b[1;33m\u001b[0m\u001b[0m\n\u001b[0;32m   5879\u001b[0m \u001b[1;33m\u001b[0m\u001b[0m\n",
      "\u001b[1;32m~\\anaconda3\\lib\\site-packages\\pandas\\core\\internals\\managers.py\u001b[0m in \u001b[0;36mastype\u001b[1;34m(self, dtype, copy, errors)\u001b[0m\n\u001b[0;32m    629\u001b[0m         \u001b[0mself\u001b[0m\u001b[1;33m,\u001b[0m \u001b[0mdtype\u001b[0m\u001b[1;33m,\u001b[0m \u001b[0mcopy\u001b[0m\u001b[1;33m:\u001b[0m \u001b[0mbool\u001b[0m \u001b[1;33m=\u001b[0m \u001b[1;32mFalse\u001b[0m\u001b[1;33m,\u001b[0m \u001b[0merrors\u001b[0m\u001b[1;33m:\u001b[0m \u001b[0mstr\u001b[0m \u001b[1;33m=\u001b[0m \u001b[1;34m\"raise\"\u001b[0m\u001b[1;33m\u001b[0m\u001b[1;33m\u001b[0m\u001b[0m\n\u001b[0;32m    630\u001b[0m     ) -> \"BlockManager\":\n\u001b[1;32m--> 631\u001b[1;33m         \u001b[1;32mreturn\u001b[0m \u001b[0mself\u001b[0m\u001b[1;33m.\u001b[0m\u001b[0mapply\u001b[0m\u001b[1;33m(\u001b[0m\u001b[1;34m\"astype\"\u001b[0m\u001b[1;33m,\u001b[0m \u001b[0mdtype\u001b[0m\u001b[1;33m=\u001b[0m\u001b[0mdtype\u001b[0m\u001b[1;33m,\u001b[0m \u001b[0mcopy\u001b[0m\u001b[1;33m=\u001b[0m\u001b[0mcopy\u001b[0m\u001b[1;33m,\u001b[0m \u001b[0merrors\u001b[0m\u001b[1;33m=\u001b[0m\u001b[0merrors\u001b[0m\u001b[1;33m)\u001b[0m\u001b[1;33m\u001b[0m\u001b[1;33m\u001b[0m\u001b[0m\n\u001b[0m\u001b[0;32m    632\u001b[0m \u001b[1;33m\u001b[0m\u001b[0m\n\u001b[0;32m    633\u001b[0m     def convert(\n",
      "\u001b[1;32m~\\anaconda3\\lib\\site-packages\\pandas\\core\\internals\\managers.py\u001b[0m in \u001b[0;36mapply\u001b[1;34m(self, f, align_keys, ignore_failures, **kwargs)\u001b[0m\n\u001b[0;32m    425\u001b[0m                     \u001b[0mapplied\u001b[0m \u001b[1;33m=\u001b[0m \u001b[0mb\u001b[0m\u001b[1;33m.\u001b[0m\u001b[0mapply\u001b[0m\u001b[1;33m(\u001b[0m\u001b[0mf\u001b[0m\u001b[1;33m,\u001b[0m \u001b[1;33m**\u001b[0m\u001b[0mkwargs\u001b[0m\u001b[1;33m)\u001b[0m\u001b[1;33m\u001b[0m\u001b[1;33m\u001b[0m\u001b[0m\n\u001b[0;32m    426\u001b[0m                 \u001b[1;32melse\u001b[0m\u001b[1;33m:\u001b[0m\u001b[1;33m\u001b[0m\u001b[1;33m\u001b[0m\u001b[0m\n\u001b[1;32m--> 427\u001b[1;33m                     \u001b[0mapplied\u001b[0m \u001b[1;33m=\u001b[0m \u001b[0mgetattr\u001b[0m\u001b[1;33m(\u001b[0m\u001b[0mb\u001b[0m\u001b[1;33m,\u001b[0m \u001b[0mf\u001b[0m\u001b[1;33m)\u001b[0m\u001b[1;33m(\u001b[0m\u001b[1;33m**\u001b[0m\u001b[0mkwargs\u001b[0m\u001b[1;33m)\u001b[0m\u001b[1;33m\u001b[0m\u001b[1;33m\u001b[0m\u001b[0m\n\u001b[0m\u001b[0;32m    428\u001b[0m             \u001b[1;32mexcept\u001b[0m \u001b[1;33m(\u001b[0m\u001b[0mTypeError\u001b[0m\u001b[1;33m,\u001b[0m \u001b[0mNotImplementedError\u001b[0m\u001b[1;33m)\u001b[0m\u001b[1;33m:\u001b[0m\u001b[1;33m\u001b[0m\u001b[1;33m\u001b[0m\u001b[0m\n\u001b[0;32m    429\u001b[0m                 \u001b[1;32mif\u001b[0m \u001b[1;32mnot\u001b[0m \u001b[0mignore_failures\u001b[0m\u001b[1;33m:\u001b[0m\u001b[1;33m\u001b[0m\u001b[1;33m\u001b[0m\u001b[0m\n",
      "\u001b[1;32m~\\anaconda3\\lib\\site-packages\\pandas\\core\\internals\\blocks.py\u001b[0m in \u001b[0;36mastype\u001b[1;34m(self, dtype, copy, errors)\u001b[0m\n\u001b[0;32m    646\u001b[0m         \u001b[1;32mif\u001b[0m \u001b[0mself\u001b[0m\u001b[1;33m.\u001b[0m\u001b[0mis_extension\u001b[0m\u001b[1;33m:\u001b[0m\u001b[1;33m\u001b[0m\u001b[1;33m\u001b[0m\u001b[0m\n\u001b[0;32m    647\u001b[0m             \u001b[1;32mtry\u001b[0m\u001b[1;33m:\u001b[0m\u001b[1;33m\u001b[0m\u001b[1;33m\u001b[0m\u001b[0m\n\u001b[1;32m--> 648\u001b[1;33m                 \u001b[0mvalues\u001b[0m \u001b[1;33m=\u001b[0m \u001b[0mself\u001b[0m\u001b[1;33m.\u001b[0m\u001b[0mvalues\u001b[0m\u001b[1;33m.\u001b[0m\u001b[0mastype\u001b[0m\u001b[1;33m(\u001b[0m\u001b[0mdtype\u001b[0m\u001b[1;33m)\u001b[0m\u001b[1;33m\u001b[0m\u001b[1;33m\u001b[0m\u001b[0m\n\u001b[0m\u001b[0;32m    649\u001b[0m             \u001b[1;32mexcept\u001b[0m \u001b[1;33m(\u001b[0m\u001b[0mValueError\u001b[0m\u001b[1;33m,\u001b[0m \u001b[0mTypeError\u001b[0m\u001b[1;33m)\u001b[0m\u001b[1;33m:\u001b[0m\u001b[1;33m\u001b[0m\u001b[1;33m\u001b[0m\u001b[0m\n\u001b[0;32m    650\u001b[0m                 \u001b[1;32mif\u001b[0m \u001b[0merrors\u001b[0m \u001b[1;33m==\u001b[0m \u001b[1;34m\"ignore\"\u001b[0m\u001b[1;33m:\u001b[0m\u001b[1;33m\u001b[0m\u001b[1;33m\u001b[0m\u001b[0m\n",
      "\u001b[1;32m~\\anaconda3\\lib\\site-packages\\pandas\\core\\arrays\\categorical.py\u001b[0m in \u001b[0;36mastype\u001b[1;34m(self, dtype, copy)\u001b[0m\n\u001b[0;32m    435\u001b[0m             ):\n\u001b[0;32m    436\u001b[0m                 \u001b[0mmsg\u001b[0m \u001b[1;33m=\u001b[0m \u001b[1;34mf\"Cannot cast {self.categories.dtype} dtype to {dtype}\"\u001b[0m\u001b[1;33m\u001b[0m\u001b[1;33m\u001b[0m\u001b[0m\n\u001b[1;32m--> 437\u001b[1;33m                 \u001b[1;32mraise\u001b[0m \u001b[0mValueError\u001b[0m\u001b[1;33m(\u001b[0m\u001b[0mmsg\u001b[0m\u001b[1;33m)\u001b[0m\u001b[1;33m\u001b[0m\u001b[1;33m\u001b[0m\u001b[0m\n\u001b[0m\u001b[0;32m    438\u001b[0m \u001b[1;33m\u001b[0m\u001b[0m\n\u001b[0;32m    439\u001b[0m             \u001b[0mresult\u001b[0m \u001b[1;33m=\u001b[0m \u001b[0mtake_1d\u001b[0m\u001b[1;33m(\u001b[0m\u001b[0mnew_cats\u001b[0m\u001b[1;33m,\u001b[0m \u001b[0mlibalgos\u001b[0m\u001b[1;33m.\u001b[0m\u001b[0mensure_platform_int\u001b[0m\u001b[1;33m(\u001b[0m\u001b[0mself\u001b[0m\u001b[1;33m.\u001b[0m\u001b[0m_codes\u001b[0m\u001b[1;33m)\u001b[0m\u001b[1;33m)\u001b[0m\u001b[1;33m\u001b[0m\u001b[1;33m\u001b[0m\u001b[0m\n",
      "\u001b[1;31mValueError\u001b[0m: Cannot cast object dtype to float64"
     ]
    }
   ],
   "source": [
    "\n",
    "imp_reg = LinearRegression().fit(X_train, y_train)\n",
    "\n",
    "imp_reg_results = imp_reg.predict(X_test)\n",
    "len(imp_reg_results), imp_reg_results"
   ]
  },
  {
   "cell_type": "markdown",
   "metadata": {},
   "source": [
    "#### SVM"
   ]
  },
  {
   "cell_type": "code",
   "execution_count": null,
   "metadata": {},
   "outputs": [
    {
     "ename": "ValueError",
     "evalue": "Cannot cast object dtype to float64",
     "output_type": "error",
     "traceback": [
      "\u001b[1;31m---------------------------------------------------------------------------\u001b[0m",
      "\u001b[1;31mValueError\u001b[0m                                Traceback (most recent call last)",
      "\u001b[1;32m~\\AppData\\Local\\Programs\\Python\\Python310\\lib\\site-packages\\pandas\\core\\arrays\\categorical.py\u001b[0m in \u001b[0;36mastype\u001b[1;34m(self, dtype, copy)\u001b[0m\n\u001b[0;32m    526\u001b[0m                 \u001b[0mnew_cats\u001b[0m \u001b[1;33m=\u001b[0m \u001b[0mnp\u001b[0m\u001b[1;33m.\u001b[0m\u001b[0masarray\u001b[0m\u001b[1;33m(\u001b[0m\u001b[0mself\u001b[0m\u001b[1;33m.\u001b[0m\u001b[0mcategories\u001b[0m\u001b[1;33m)\u001b[0m\u001b[1;33m\u001b[0m\u001b[1;33m\u001b[0m\u001b[0m\n\u001b[1;32m--> 527\u001b[1;33m                 \u001b[0mnew_cats\u001b[0m \u001b[1;33m=\u001b[0m \u001b[0mnew_cats\u001b[0m\u001b[1;33m.\u001b[0m\u001b[0mastype\u001b[0m\u001b[1;33m(\u001b[0m\u001b[0mdtype\u001b[0m\u001b[1;33m=\u001b[0m\u001b[0mdtype\u001b[0m\u001b[1;33m,\u001b[0m \u001b[0mcopy\u001b[0m\u001b[1;33m=\u001b[0m\u001b[0mcopy\u001b[0m\u001b[1;33m)\u001b[0m\u001b[1;33m\u001b[0m\u001b[1;33m\u001b[0m\u001b[0m\n\u001b[0m\u001b[0;32m    528\u001b[0m                 \u001b[0mfill_value\u001b[0m \u001b[1;33m=\u001b[0m \u001b[0mlib\u001b[0m\u001b[1;33m.\u001b[0m\u001b[0mitem_from_zerodim\u001b[0m\u001b[1;33m(\u001b[0m\u001b[0mnp\u001b[0m\u001b[1;33m.\u001b[0m\u001b[0marray\u001b[0m\u001b[1;33m(\u001b[0m\u001b[0mnp\u001b[0m\u001b[1;33m.\u001b[0m\u001b[0mnan\u001b[0m\u001b[1;33m)\u001b[0m\u001b[1;33m.\u001b[0m\u001b[0mastype\u001b[0m\u001b[1;33m(\u001b[0m\u001b[0mdtype\u001b[0m\u001b[1;33m)\u001b[0m\u001b[1;33m)\u001b[0m\u001b[1;33m\u001b[0m\u001b[1;33m\u001b[0m\u001b[0m\n",
      "\u001b[1;31mValueError\u001b[0m: could not convert string to float: 'Female'",
      "\nDuring handling of the above exception, another exception occurred:\n",
      "\u001b[1;31mValueError\u001b[0m                                Traceback (most recent call last)",
      "\u001b[1;32m~\\AppData\\Local\\Temp/ipykernel_18268/3076983341.py\u001b[0m in \u001b[0;36m<module>\u001b[1;34m\u001b[0m\n\u001b[0;32m      5\u001b[0m \u001b[1;33m\u001b[0m\u001b[0m\n\u001b[0;32m      6\u001b[0m \u001b[0msvr\u001b[0m \u001b[1;33m=\u001b[0m \u001b[0mSVR\u001b[0m\u001b[1;33m(\u001b[0m\u001b[0mkernel\u001b[0m \u001b[1;33m=\u001b[0m \u001b[1;34m'linear'\u001b[0m\u001b[1;33m)\u001b[0m\u001b[1;33m\u001b[0m\u001b[1;33m\u001b[0m\u001b[0m\n\u001b[1;32m----> 7\u001b[1;33m \u001b[0msvr\u001b[0m\u001b[1;33m.\u001b[0m\u001b[0mfit\u001b[0m\u001b[1;33m(\u001b[0m\u001b[0mX_train_svm\u001b[0m\u001b[1;33m,\u001b[0m\u001b[0my_train_svm\u001b[0m\u001b[1;33m)\u001b[0m\u001b[1;33m\u001b[0m\u001b[1;33m\u001b[0m\u001b[0m\n\u001b[0m\u001b[0;32m      8\u001b[0m \u001b[0mnp\u001b[0m\u001b[1;33m.\u001b[0m\u001b[0msqrt\u001b[0m\u001b[1;33m(\u001b[0m\u001b[0mmse\u001b[0m\u001b[1;33m(\u001b[0m\u001b[0msvr\u001b[0m\u001b[1;33m.\u001b[0m\u001b[0mpredict\u001b[0m\u001b[1;33m(\u001b[0m\u001b[0mX_test_svm\u001b[0m\u001b[1;33m)\u001b[0m\u001b[1;33m,\u001b[0m\u001b[0my_test_svm\u001b[0m\u001b[1;33m)\u001b[0m\u001b[1;33m)\u001b[0m\u001b[1;33m\u001b[0m\u001b[1;33m\u001b[0m\u001b[0m\n",
      "\u001b[1;32m~\\AppData\\Local\\Programs\\Python\\Python310\\lib\\site-packages\\sklearn\\svm\\_base.py\u001b[0m in \u001b[0;36mfit\u001b[1;34m(self, X, y, sample_weight)\u001b[0m\n\u001b[0;32m    188\u001b[0m             \u001b[0mcheck_consistent_length\u001b[0m\u001b[1;33m(\u001b[0m\u001b[0mX\u001b[0m\u001b[1;33m,\u001b[0m \u001b[0my\u001b[0m\u001b[1;33m)\u001b[0m\u001b[1;33m\u001b[0m\u001b[1;33m\u001b[0m\u001b[0m\n\u001b[0;32m    189\u001b[0m         \u001b[1;32melse\u001b[0m\u001b[1;33m:\u001b[0m\u001b[1;33m\u001b[0m\u001b[1;33m\u001b[0m\u001b[0m\n\u001b[1;32m--> 190\u001b[1;33m             X, y = self._validate_data(\n\u001b[0m\u001b[0;32m    191\u001b[0m                 \u001b[0mX\u001b[0m\u001b[1;33m,\u001b[0m\u001b[1;33m\u001b[0m\u001b[1;33m\u001b[0m\u001b[0m\n\u001b[0;32m    192\u001b[0m                 \u001b[0my\u001b[0m\u001b[1;33m,\u001b[0m\u001b[1;33m\u001b[0m\u001b[1;33m\u001b[0m\u001b[0m\n",
      "\u001b[1;32m~\\AppData\\Local\\Programs\\Python\\Python310\\lib\\site-packages\\sklearn\\base.py\u001b[0m in \u001b[0;36m_validate_data\u001b[1;34m(self, X, y, reset, validate_separately, **check_params)\u001b[0m\n\u001b[0;32m    574\u001b[0m                 \u001b[0my\u001b[0m \u001b[1;33m=\u001b[0m \u001b[0mcheck_array\u001b[0m\u001b[1;33m(\u001b[0m\u001b[0my\u001b[0m\u001b[1;33m,\u001b[0m \u001b[1;33m**\u001b[0m\u001b[0mcheck_y_params\u001b[0m\u001b[1;33m)\u001b[0m\u001b[1;33m\u001b[0m\u001b[1;33m\u001b[0m\u001b[0m\n\u001b[0;32m    575\u001b[0m             \u001b[1;32melse\u001b[0m\u001b[1;33m:\u001b[0m\u001b[1;33m\u001b[0m\u001b[1;33m\u001b[0m\u001b[0m\n\u001b[1;32m--> 576\u001b[1;33m                 \u001b[0mX\u001b[0m\u001b[1;33m,\u001b[0m \u001b[0my\u001b[0m \u001b[1;33m=\u001b[0m \u001b[0mcheck_X_y\u001b[0m\u001b[1;33m(\u001b[0m\u001b[0mX\u001b[0m\u001b[1;33m,\u001b[0m \u001b[0my\u001b[0m\u001b[1;33m,\u001b[0m \u001b[1;33m**\u001b[0m\u001b[0mcheck_params\u001b[0m\u001b[1;33m)\u001b[0m\u001b[1;33m\u001b[0m\u001b[1;33m\u001b[0m\u001b[0m\n\u001b[0m\u001b[0;32m    577\u001b[0m             \u001b[0mout\u001b[0m \u001b[1;33m=\u001b[0m \u001b[0mX\u001b[0m\u001b[1;33m,\u001b[0m \u001b[0my\u001b[0m\u001b[1;33m\u001b[0m\u001b[1;33m\u001b[0m\u001b[0m\n\u001b[0;32m    578\u001b[0m \u001b[1;33m\u001b[0m\u001b[0m\n",
      "\u001b[1;32m~\\AppData\\Local\\Programs\\Python\\Python310\\lib\\site-packages\\sklearn\\utils\\validation.py\u001b[0m in \u001b[0;36mcheck_X_y\u001b[1;34m(X, y, accept_sparse, accept_large_sparse, dtype, order, copy, force_all_finite, ensure_2d, allow_nd, multi_output, ensure_min_samples, ensure_min_features, y_numeric, estimator)\u001b[0m\n\u001b[0;32m    954\u001b[0m         \u001b[1;32mraise\u001b[0m \u001b[0mValueError\u001b[0m\u001b[1;33m(\u001b[0m\u001b[1;34m\"y cannot be None\"\u001b[0m\u001b[1;33m)\u001b[0m\u001b[1;33m\u001b[0m\u001b[1;33m\u001b[0m\u001b[0m\n\u001b[0;32m    955\u001b[0m \u001b[1;33m\u001b[0m\u001b[0m\n\u001b[1;32m--> 956\u001b[1;33m     X = check_array(\n\u001b[0m\u001b[0;32m    957\u001b[0m         \u001b[0mX\u001b[0m\u001b[1;33m,\u001b[0m\u001b[1;33m\u001b[0m\u001b[1;33m\u001b[0m\u001b[0m\n\u001b[0;32m    958\u001b[0m         \u001b[0maccept_sparse\u001b[0m\u001b[1;33m=\u001b[0m\u001b[0maccept_sparse\u001b[0m\u001b[1;33m,\u001b[0m\u001b[1;33m\u001b[0m\u001b[1;33m\u001b[0m\u001b[0m\n",
      "\u001b[1;32m~\\AppData\\Local\\Programs\\Python\\Python310\\lib\\site-packages\\sklearn\\utils\\validation.py\u001b[0m in \u001b[0;36mcheck_array\u001b[1;34m(array, accept_sparse, accept_large_sparse, dtype, order, copy, force_all_finite, ensure_2d, allow_nd, ensure_min_samples, ensure_min_features, estimator)\u001b[0m\n\u001b[0;32m    675\u001b[0m     \u001b[1;32mif\u001b[0m \u001b[0mhas_pd_integer_array\u001b[0m\u001b[1;33m:\u001b[0m\u001b[1;33m\u001b[0m\u001b[1;33m\u001b[0m\u001b[0m\n\u001b[0;32m    676\u001b[0m         \u001b[1;31m# If there are any pandas integer extension arrays,\u001b[0m\u001b[1;33m\u001b[0m\u001b[1;33m\u001b[0m\u001b[0m\n\u001b[1;32m--> 677\u001b[1;33m         \u001b[0marray\u001b[0m \u001b[1;33m=\u001b[0m \u001b[0marray\u001b[0m\u001b[1;33m.\u001b[0m\u001b[0mastype\u001b[0m\u001b[1;33m(\u001b[0m\u001b[0mdtype\u001b[0m\u001b[1;33m)\u001b[0m\u001b[1;33m\u001b[0m\u001b[1;33m\u001b[0m\u001b[0m\n\u001b[0m\u001b[0;32m    678\u001b[0m \u001b[1;33m\u001b[0m\u001b[0m\n\u001b[0;32m    679\u001b[0m     \u001b[1;32mif\u001b[0m \u001b[0mforce_all_finite\u001b[0m \u001b[1;32mnot\u001b[0m \u001b[1;32min\u001b[0m \u001b[1;33m(\u001b[0m\u001b[1;32mTrue\u001b[0m\u001b[1;33m,\u001b[0m \u001b[1;32mFalse\u001b[0m\u001b[1;33m,\u001b[0m \u001b[1;34m\"allow-nan\"\u001b[0m\u001b[1;33m)\u001b[0m\u001b[1;33m:\u001b[0m\u001b[1;33m\u001b[0m\u001b[1;33m\u001b[0m\u001b[0m\n",
      "\u001b[1;32m~\\AppData\\Local\\Programs\\Python\\Python310\\lib\\site-packages\\pandas\\core\\generic.py\u001b[0m in \u001b[0;36mastype\u001b[1;34m(self, dtype, copy, errors)\u001b[0m\n\u001b[0;32m   5813\u001b[0m         \u001b[1;32melse\u001b[0m\u001b[1;33m:\u001b[0m\u001b[1;33m\u001b[0m\u001b[1;33m\u001b[0m\u001b[0m\n\u001b[0;32m   5814\u001b[0m             \u001b[1;31m# else, only a single dtype is given\u001b[0m\u001b[1;33m\u001b[0m\u001b[1;33m\u001b[0m\u001b[0m\n\u001b[1;32m-> 5815\u001b[1;33m             \u001b[0mnew_data\u001b[0m \u001b[1;33m=\u001b[0m \u001b[0mself\u001b[0m\u001b[1;33m.\u001b[0m\u001b[0m_mgr\u001b[0m\u001b[1;33m.\u001b[0m\u001b[0mastype\u001b[0m\u001b[1;33m(\u001b[0m\u001b[0mdtype\u001b[0m\u001b[1;33m=\u001b[0m\u001b[0mdtype\u001b[0m\u001b[1;33m,\u001b[0m \u001b[0mcopy\u001b[0m\u001b[1;33m=\u001b[0m\u001b[0mcopy\u001b[0m\u001b[1;33m,\u001b[0m \u001b[0merrors\u001b[0m\u001b[1;33m=\u001b[0m\u001b[0merrors\u001b[0m\u001b[1;33m)\u001b[0m\u001b[1;33m\u001b[0m\u001b[1;33m\u001b[0m\u001b[0m\n\u001b[0m\u001b[0;32m   5816\u001b[0m             \u001b[1;32mreturn\u001b[0m \u001b[0mself\u001b[0m\u001b[1;33m.\u001b[0m\u001b[0m_constructor\u001b[0m\u001b[1;33m(\u001b[0m\u001b[0mnew_data\u001b[0m\u001b[1;33m)\u001b[0m\u001b[1;33m.\u001b[0m\u001b[0m__finalize__\u001b[0m\u001b[1;33m(\u001b[0m\u001b[0mself\u001b[0m\u001b[1;33m,\u001b[0m \u001b[0mmethod\u001b[0m\u001b[1;33m=\u001b[0m\u001b[1;34m\"astype\"\u001b[0m\u001b[1;33m)\u001b[0m\u001b[1;33m\u001b[0m\u001b[1;33m\u001b[0m\u001b[0m\n\u001b[0;32m   5817\u001b[0m \u001b[1;33m\u001b[0m\u001b[0m\n",
      "\u001b[1;32m~\\AppData\\Local\\Programs\\Python\\Python310\\lib\\site-packages\\pandas\\core\\internals\\managers.py\u001b[0m in \u001b[0;36mastype\u001b[1;34m(self, dtype, copy, errors)\u001b[0m\n\u001b[0;32m    416\u001b[0m \u001b[1;33m\u001b[0m\u001b[0m\n\u001b[0;32m    417\u001b[0m     \u001b[1;32mdef\u001b[0m \u001b[0mastype\u001b[0m\u001b[1;33m(\u001b[0m\u001b[0mself\u001b[0m\u001b[1;33m:\u001b[0m \u001b[0mT\u001b[0m\u001b[1;33m,\u001b[0m \u001b[0mdtype\u001b[0m\u001b[1;33m,\u001b[0m \u001b[0mcopy\u001b[0m\u001b[1;33m:\u001b[0m \u001b[0mbool\u001b[0m \u001b[1;33m=\u001b[0m \u001b[1;32mFalse\u001b[0m\u001b[1;33m,\u001b[0m \u001b[0merrors\u001b[0m\u001b[1;33m:\u001b[0m \u001b[0mstr\u001b[0m \u001b[1;33m=\u001b[0m \u001b[1;34m\"raise\"\u001b[0m\u001b[1;33m)\u001b[0m \u001b[1;33m->\u001b[0m \u001b[0mT\u001b[0m\u001b[1;33m:\u001b[0m\u001b[1;33m\u001b[0m\u001b[1;33m\u001b[0m\u001b[0m\n\u001b[1;32m--> 418\u001b[1;33m         \u001b[1;32mreturn\u001b[0m \u001b[0mself\u001b[0m\u001b[1;33m.\u001b[0m\u001b[0mapply\u001b[0m\u001b[1;33m(\u001b[0m\u001b[1;34m\"astype\"\u001b[0m\u001b[1;33m,\u001b[0m \u001b[0mdtype\u001b[0m\u001b[1;33m=\u001b[0m\u001b[0mdtype\u001b[0m\u001b[1;33m,\u001b[0m \u001b[0mcopy\u001b[0m\u001b[1;33m=\u001b[0m\u001b[0mcopy\u001b[0m\u001b[1;33m,\u001b[0m \u001b[0merrors\u001b[0m\u001b[1;33m=\u001b[0m\u001b[0merrors\u001b[0m\u001b[1;33m)\u001b[0m\u001b[1;33m\u001b[0m\u001b[1;33m\u001b[0m\u001b[0m\n\u001b[0m\u001b[0;32m    419\u001b[0m \u001b[1;33m\u001b[0m\u001b[0m\n\u001b[0;32m    420\u001b[0m     def convert(\n",
      "\u001b[1;32m~\\AppData\\Local\\Programs\\Python\\Python310\\lib\\site-packages\\pandas\\core\\internals\\managers.py\u001b[0m in \u001b[0;36mapply\u001b[1;34m(self, f, align_keys, ignore_failures, **kwargs)\u001b[0m\n\u001b[0;32m    325\u001b[0m                     \u001b[0mapplied\u001b[0m \u001b[1;33m=\u001b[0m \u001b[0mb\u001b[0m\u001b[1;33m.\u001b[0m\u001b[0mapply\u001b[0m\u001b[1;33m(\u001b[0m\u001b[0mf\u001b[0m\u001b[1;33m,\u001b[0m \u001b[1;33m**\u001b[0m\u001b[0mkwargs\u001b[0m\u001b[1;33m)\u001b[0m\u001b[1;33m\u001b[0m\u001b[1;33m\u001b[0m\u001b[0m\n\u001b[0;32m    326\u001b[0m                 \u001b[1;32melse\u001b[0m\u001b[1;33m:\u001b[0m\u001b[1;33m\u001b[0m\u001b[1;33m\u001b[0m\u001b[0m\n\u001b[1;32m--> 327\u001b[1;33m                     \u001b[0mapplied\u001b[0m \u001b[1;33m=\u001b[0m \u001b[0mgetattr\u001b[0m\u001b[1;33m(\u001b[0m\u001b[0mb\u001b[0m\u001b[1;33m,\u001b[0m \u001b[0mf\u001b[0m\u001b[1;33m)\u001b[0m\u001b[1;33m(\u001b[0m\u001b[1;33m**\u001b[0m\u001b[0mkwargs\u001b[0m\u001b[1;33m)\u001b[0m\u001b[1;33m\u001b[0m\u001b[1;33m\u001b[0m\u001b[0m\n\u001b[0m\u001b[0;32m    328\u001b[0m             \u001b[1;32mexcept\u001b[0m \u001b[1;33m(\u001b[0m\u001b[0mTypeError\u001b[0m\u001b[1;33m,\u001b[0m \u001b[0mNotImplementedError\u001b[0m\u001b[1;33m)\u001b[0m\u001b[1;33m:\u001b[0m\u001b[1;33m\u001b[0m\u001b[1;33m\u001b[0m\u001b[0m\n\u001b[0;32m    329\u001b[0m                 \u001b[1;32mif\u001b[0m \u001b[1;32mnot\u001b[0m \u001b[0mignore_failures\u001b[0m\u001b[1;33m:\u001b[0m\u001b[1;33m\u001b[0m\u001b[1;33m\u001b[0m\u001b[0m\n",
      "\u001b[1;32m~\\AppData\\Local\\Programs\\Python\\Python310\\lib\\site-packages\\pandas\\core\\internals\\blocks.py\u001b[0m in \u001b[0;36mastype\u001b[1;34m(self, dtype, copy, errors)\u001b[0m\n\u001b[0;32m    589\u001b[0m         \u001b[0mvalues\u001b[0m \u001b[1;33m=\u001b[0m \u001b[0mself\u001b[0m\u001b[1;33m.\u001b[0m\u001b[0mvalues\u001b[0m\u001b[1;33m\u001b[0m\u001b[1;33m\u001b[0m\u001b[0m\n\u001b[0;32m    590\u001b[0m \u001b[1;33m\u001b[0m\u001b[0m\n\u001b[1;32m--> 591\u001b[1;33m         \u001b[0mnew_values\u001b[0m \u001b[1;33m=\u001b[0m \u001b[0mastype_array_safe\u001b[0m\u001b[1;33m(\u001b[0m\u001b[0mvalues\u001b[0m\u001b[1;33m,\u001b[0m \u001b[0mdtype\u001b[0m\u001b[1;33m,\u001b[0m \u001b[0mcopy\u001b[0m\u001b[1;33m=\u001b[0m\u001b[0mcopy\u001b[0m\u001b[1;33m,\u001b[0m \u001b[0merrors\u001b[0m\u001b[1;33m=\u001b[0m\u001b[0merrors\u001b[0m\u001b[1;33m)\u001b[0m\u001b[1;33m\u001b[0m\u001b[1;33m\u001b[0m\u001b[0m\n\u001b[0m\u001b[0;32m    592\u001b[0m \u001b[1;33m\u001b[0m\u001b[0m\n\u001b[0;32m    593\u001b[0m         \u001b[0mnew_values\u001b[0m \u001b[1;33m=\u001b[0m \u001b[0mmaybe_coerce_values\u001b[0m\u001b[1;33m(\u001b[0m\u001b[0mnew_values\u001b[0m\u001b[1;33m)\u001b[0m\u001b[1;33m\u001b[0m\u001b[1;33m\u001b[0m\u001b[0m\n",
      "\u001b[1;32m~\\AppData\\Local\\Programs\\Python\\Python310\\lib\\site-packages\\pandas\\core\\dtypes\\cast.py\u001b[0m in \u001b[0;36mastype_array_safe\u001b[1;34m(values, dtype, copy, errors)\u001b[0m\n\u001b[0;32m   1307\u001b[0m \u001b[1;33m\u001b[0m\u001b[0m\n\u001b[0;32m   1308\u001b[0m     \u001b[1;32mtry\u001b[0m\u001b[1;33m:\u001b[0m\u001b[1;33m\u001b[0m\u001b[1;33m\u001b[0m\u001b[0m\n\u001b[1;32m-> 1309\u001b[1;33m         \u001b[0mnew_values\u001b[0m \u001b[1;33m=\u001b[0m \u001b[0mastype_array\u001b[0m\u001b[1;33m(\u001b[0m\u001b[0mvalues\u001b[0m\u001b[1;33m,\u001b[0m \u001b[0mdtype\u001b[0m\u001b[1;33m,\u001b[0m \u001b[0mcopy\u001b[0m\u001b[1;33m=\u001b[0m\u001b[0mcopy\u001b[0m\u001b[1;33m)\u001b[0m\u001b[1;33m\u001b[0m\u001b[1;33m\u001b[0m\u001b[0m\n\u001b[0m\u001b[0;32m   1310\u001b[0m     \u001b[1;32mexcept\u001b[0m \u001b[1;33m(\u001b[0m\u001b[0mValueError\u001b[0m\u001b[1;33m,\u001b[0m \u001b[0mTypeError\u001b[0m\u001b[1;33m)\u001b[0m\u001b[1;33m:\u001b[0m\u001b[1;33m\u001b[0m\u001b[1;33m\u001b[0m\u001b[0m\n\u001b[0;32m   1311\u001b[0m         \u001b[1;31m# e.g. astype_nansafe can fail on object-dtype of strings\u001b[0m\u001b[1;33m\u001b[0m\u001b[1;33m\u001b[0m\u001b[0m\n",
      "\u001b[1;32m~\\AppData\\Local\\Programs\\Python\\Python310\\lib\\site-packages\\pandas\\core\\dtypes\\cast.py\u001b[0m in \u001b[0;36mastype_array\u001b[1;34m(values, dtype, copy)\u001b[0m\n\u001b[0;32m   1252\u001b[0m     \u001b[1;32mif\u001b[0m \u001b[1;32mnot\u001b[0m \u001b[0misinstance\u001b[0m\u001b[1;33m(\u001b[0m\u001b[0mvalues\u001b[0m\u001b[1;33m,\u001b[0m \u001b[0mnp\u001b[0m\u001b[1;33m.\u001b[0m\u001b[0mndarray\u001b[0m\u001b[1;33m)\u001b[0m\u001b[1;33m:\u001b[0m\u001b[1;33m\u001b[0m\u001b[1;33m\u001b[0m\u001b[0m\n\u001b[0;32m   1253\u001b[0m         \u001b[1;31m# i.e. ExtensionArray\u001b[0m\u001b[1;33m\u001b[0m\u001b[1;33m\u001b[0m\u001b[0m\n\u001b[1;32m-> 1254\u001b[1;33m         \u001b[0mvalues\u001b[0m \u001b[1;33m=\u001b[0m \u001b[0mvalues\u001b[0m\u001b[1;33m.\u001b[0m\u001b[0mastype\u001b[0m\u001b[1;33m(\u001b[0m\u001b[0mdtype\u001b[0m\u001b[1;33m,\u001b[0m \u001b[0mcopy\u001b[0m\u001b[1;33m=\u001b[0m\u001b[0mcopy\u001b[0m\u001b[1;33m)\u001b[0m\u001b[1;33m\u001b[0m\u001b[1;33m\u001b[0m\u001b[0m\n\u001b[0m\u001b[0;32m   1255\u001b[0m \u001b[1;33m\u001b[0m\u001b[0m\n\u001b[0;32m   1256\u001b[0m     \u001b[1;32melse\u001b[0m\u001b[1;33m:\u001b[0m\u001b[1;33m\u001b[0m\u001b[1;33m\u001b[0m\u001b[0m\n",
      "\u001b[1;32m~\\AppData\\Local\\Programs\\Python\\Python310\\lib\\site-packages\\pandas\\core\\arrays\\categorical.py\u001b[0m in \u001b[0;36mastype\u001b[1;34m(self, dtype, copy)\u001b[0m\n\u001b[0;32m    532\u001b[0m             ):\n\u001b[0;32m    533\u001b[0m                 \u001b[0mmsg\u001b[0m \u001b[1;33m=\u001b[0m \u001b[1;34mf\"Cannot cast {self.categories.dtype} dtype to {dtype}\"\u001b[0m\u001b[1;33m\u001b[0m\u001b[1;33m\u001b[0m\u001b[0m\n\u001b[1;32m--> 534\u001b[1;33m                 \u001b[1;32mraise\u001b[0m \u001b[0mValueError\u001b[0m\u001b[1;33m(\u001b[0m\u001b[0mmsg\u001b[0m\u001b[1;33m)\u001b[0m\u001b[1;33m\u001b[0m\u001b[1;33m\u001b[0m\u001b[0m\n\u001b[0m\u001b[0;32m    535\u001b[0m \u001b[1;33m\u001b[0m\u001b[0m\n\u001b[0;32m    536\u001b[0m             result = take_nd(\n",
      "\u001b[1;31mValueError\u001b[0m: Cannot cast object dtype to float64"
     ]
    }
   ],
   "source": [
    "X_train_svm = X_train\n",
    "X_test_svm = X_test\n",
    "y_train_svm = y_train\n",
    "y_test_svm = y_test\n",
    "\n",
    "svr = SVR(kernel = 'linear')\n",
    "svr.fit(X_train_svm,y_train_svm)\n",
    "np.sqrt(mse(svr.predict(X_test_svm),y_test_svm))"
   ]
  },
  {
   "cell_type": "code",
   "execution_count": null,
   "metadata": {},
   "outputs": [],
   "source": [
    "df.to_csv('./data/clean_data.csv', sep=\"$\", decimal=\".\")"
   ]
  }
 ],
 "metadata": {
  "interpreter": {
   "hash": "c057283103631fcb6138dc5fda6d5179eedea6a3f838b7df28863890810253db"
  },
  "kernelspec": {
   "display_name": "Python 3.8.8 64-bit ('base': conda)",
   "language": "python",
   "name": "python3"
  },
  "language_info": {
   "codemirror_mode": {
    "name": "ipython",
    "version": 3
   },
   "file_extension": ".py",
   "mimetype": "text/x-python",
   "name": "python",
   "nbconvert_exporter": "python",
   "pygments_lexer": "ipython3",
   "version": "3.8.8"
  },
  "orig_nbformat": 4
 },
 "nbformat": 4,
 "nbformat_minor": 2
}
