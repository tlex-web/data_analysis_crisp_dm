{
 "cells": [
  {
   "cell_type": "markdown",
   "metadata": {},
   "source": [
    "# Data Preparation"
   ]
  },
  {
   "cell_type": "code",
   "execution_count": 28,
   "metadata": {},
   "outputs": [],
   "source": [
    "from helpers.helper_functions import read_and_set_df, set_datatypes, get_plotly_colors, pd, np, msno, make_subplots, go, plt, sns, train_test_split, LinearRegression, IterativeImputer, KNNImputer, OneHotEncoder, make_pipeline, StandardScaler, LogisticRegression"
   ]
  },
  {
   "cell_type": "code",
   "execution_count": 29,
   "metadata": {},
   "outputs": [
    {
     "name": "stderr",
     "output_type": "stream",
     "text": [
      "C:\\Users\\aster\\AppData\\Local\\Temp/ipykernel_22112/483987463.py:1: DtypeWarning:\n",
      "\n",
      "Columns (3,5,10,11,12) have mixed types.Specify dtype option on import or set low_memory=False.\n",
      "\n"
     ]
    }
   ],
   "source": [
    "df = read_and_set_df('data/train.csv')\n",
    "\n",
    "set_datatypes(df)"
   ]
  },
  {
   "cell_type": "code",
   "execution_count": 30,
   "metadata": {},
   "outputs": [
    {
     "name": "stdout",
     "output_type": "stream",
     "text": [
      "<class 'pandas.core.frame.DataFrame'>\n",
      "Int64Index: 380999 entries, 0 to 380998\n",
      "Data columns (total 12 columns):\n",
      " #   Column                Non-Null Count   Dtype   \n",
      "---  ------                --------------   -----   \n",
      " 0   id                    380999 non-null  int64   \n",
      " 1   gender                379948 non-null  category\n",
      " 2   age                   370107 non-null  Int64   \n",
      " 3   driving_license       380948 non-null  category\n",
      " 4   region_code           380999 non-null  float64 \n",
      " 5   previously_insured    380948 non-null  category\n",
      " 6   vehicle_age           380948 non-null  category\n",
      " 7   vehicle_damage        380948 non-null  category\n",
      " 8   annual_premium        380999 non-null  Int64   \n",
      " 9   policy_sales_channel  380999 non-null  Int64   \n",
      " 10  vintage               380948 non-null  Int64   \n",
      " 11  response              380999 non-null  category\n",
      "dtypes: Int64(4), category(6), float64(1), int64(1)\n",
      "memory usage: 24.0 MB\n"
     ]
    }
   ],
   "source": [
    "df.info()"
   ]
  },
  {
   "cell_type": "markdown",
   "metadata": {},
   "source": [
    "## Missing Values"
   ]
  },
  {
   "cell_type": "markdown",
   "metadata": {},
   "source": [
    "Die Funktion `heatmap()` von `missingno` misst die Nullkorrelation: wie stark das Vorhandensein oder Fehlen einer Variable das Vorhandensein einer anderen Variable beeinflusst.\n",
    "\n",
    "Die Nullkorrelation reicht von -1 (wenn eine Variable auftritt, tritt die andere definitiv nicht auf) über 0 (auftauchende oder nicht auftauchende Variablen haben keinen Einfluss aufeinander) bis 1 (wenn eine Variable auftritt, tritt die andere definitiv auf).\n"
   ]
  },
  {
   "cell_type": "code",
   "execution_count": 31,
   "metadata": {},
   "outputs": [
    {
     "data": {
      "application/vnd.plotly.v1+json": {
       "config": {
        "plotlyServerURL": "https://plot.ly"
       },
       "data": [
        {
         "marker": {
          "color": "rgba(18, 63, 90, 0.95)",
          "line": {
           "color": "rgba(18, 63, 90, 1.0)",
           "width": 1
          }
         },
         "name": "Relative Anzahl der fehlenden Werte (%)",
         "orientation": "h",
         "type": "bar",
         "x": [
          0.013385861905149357,
          0.013385861905149357,
          0.013385861905149357,
          0.013385861905149357,
          0.013385861905149357,
          0.27585374239827404,
          2.8588001543311137
         ],
         "xaxis": "x",
         "y": [
          "driving_license",
          "previously_insured",
          "vehicle_age",
          "vehicle_damage",
          "vintage",
          "gender",
          "age"
         ],
         "yaxis": "y"
        },
        {
         "line": {
          "color": "rgb(0, 68, 27)"
         },
         "mode": "lines+markers",
         "name": "Absolute Anzahl der fehlenden Werte",
         "type": "scatter",
         "x": [
          51,
          51,
          51,
          51,
          51,
          1051,
          10892
         ],
         "xaxis": "x2",
         "y": [
          "driving_license",
          "previously_insured",
          "vehicle_age",
          "vehicle_damage",
          "vintage",
          "gender",
          "age"
         ],
         "yaxis": "y2"
        }
       ],
       "layout": {
        "annotations": [
         {
          "font": {
           "color": "rgb(0, 68, 27)",
           "family": "Arial",
           "size": 12
          },
          "showarrow": false,
          "text": "51.0",
          "x": 551,
          "xref": "x2",
          "y": "driving_license",
          "yref": "y2"
         },
         {
          "font": {
           "color": "rgb(18, 63, 90)",
           "family": "Arial",
           "size": 12
          },
          "showarrow": false,
          "text": "0.01%",
          "x": 0.16,
          "xref": "x",
          "y": "driving_license",
          "yref": "y"
         },
         {
          "font": {
           "color": "rgb(0, 68, 27)",
           "family": "Arial",
           "size": 12
          },
          "showarrow": false,
          "text": "51.0",
          "x": 551,
          "xref": "x2",
          "y": "previously_insured",
          "yref": "y2"
         },
         {
          "font": {
           "color": "rgb(18, 63, 90)",
           "family": "Arial",
           "size": 12
          },
          "showarrow": false,
          "text": "0.01%",
          "x": 0.16,
          "xref": "x",
          "y": "previously_insured",
          "yref": "y"
         },
         {
          "font": {
           "color": "rgb(0, 68, 27)",
           "family": "Arial",
           "size": 12
          },
          "showarrow": false,
          "text": "51.0",
          "x": 551,
          "xref": "x2",
          "y": "vehicle_age",
          "yref": "y2"
         },
         {
          "font": {
           "color": "rgb(18, 63, 90)",
           "family": "Arial",
           "size": 12
          },
          "showarrow": false,
          "text": "0.01%",
          "x": 0.16,
          "xref": "x",
          "y": "vehicle_age",
          "yref": "y"
         },
         {
          "font": {
           "color": "rgb(0, 68, 27)",
           "family": "Arial",
           "size": 12
          },
          "showarrow": false,
          "text": "51.0",
          "x": 551,
          "xref": "x2",
          "y": "vehicle_damage",
          "yref": "y2"
         },
         {
          "font": {
           "color": "rgb(18, 63, 90)",
           "family": "Arial",
           "size": 12
          },
          "showarrow": false,
          "text": "0.01%",
          "x": 0.16,
          "xref": "x",
          "y": "vehicle_damage",
          "yref": "y"
         },
         {
          "font": {
           "color": "rgb(0, 68, 27)",
           "family": "Arial",
           "size": 12
          },
          "showarrow": false,
          "text": "51.0",
          "x": 551,
          "xref": "x2",
          "y": "vintage",
          "yref": "y2"
         },
         {
          "font": {
           "color": "rgb(18, 63, 90)",
           "family": "Arial",
           "size": 12
          },
          "showarrow": false,
          "text": "0.01%",
          "x": 0.16,
          "xref": "x",
          "y": "vintage",
          "yref": "y"
         },
         {
          "font": {
           "color": "rgb(0, 68, 27)",
           "family": "Arial",
           "size": 12
          },
          "showarrow": false,
          "text": "1,051.0",
          "x": 1551,
          "xref": "x2",
          "y": "gender",
          "yref": "y2"
         },
         {
          "font": {
           "color": "rgb(18, 63, 90)",
           "family": "Arial",
           "size": 12
          },
          "showarrow": false,
          "text": "0.28%",
          "x": 0.43000000000000005,
          "xref": "x",
          "y": "gender",
          "yref": "y"
         },
         {
          "font": {
           "color": "rgb(0, 68, 27)",
           "family": "Arial",
           "size": 12
          },
          "showarrow": false,
          "text": "10,892.0",
          "x": 11392,
          "xref": "x2",
          "y": "age",
          "yref": "y2"
         },
         {
          "font": {
           "color": "rgb(18, 63, 90)",
           "family": "Arial",
           "size": 12
          },
          "showarrow": false,
          "text": "2.86%",
          "x": 3.01,
          "xref": "x",
          "y": "age",
          "yref": "y"
         }
        ],
        "legend": {
         "font": {
          "size": 10
         },
         "x": 0.029,
         "y": 1.038
        },
        "margin": {
         "b": 70,
         "l": 100,
         "r": 20,
         "t": 70
        },
        "paper_bgcolor": "rgb(248, 248, 255)",
        "plot_bgcolor": "rgb(248, 248, 255)",
        "template": {
         "data": {
          "bar": [
           {
            "error_x": {
             "color": "#2a3f5f"
            },
            "error_y": {
             "color": "#2a3f5f"
            },
            "marker": {
             "line": {
              "color": "#E5ECF6",
              "width": 0.5
             },
             "pattern": {
              "fillmode": "overlay",
              "size": 10,
              "solidity": 0.2
             }
            },
            "type": "bar"
           }
          ],
          "barpolar": [
           {
            "marker": {
             "line": {
              "color": "#E5ECF6",
              "width": 0.5
             },
             "pattern": {
              "fillmode": "overlay",
              "size": 10,
              "solidity": 0.2
             }
            },
            "type": "barpolar"
           }
          ],
          "carpet": [
           {
            "aaxis": {
             "endlinecolor": "#2a3f5f",
             "gridcolor": "white",
             "linecolor": "white",
             "minorgridcolor": "white",
             "startlinecolor": "#2a3f5f"
            },
            "baxis": {
             "endlinecolor": "#2a3f5f",
             "gridcolor": "white",
             "linecolor": "white",
             "minorgridcolor": "white",
             "startlinecolor": "#2a3f5f"
            },
            "type": "carpet"
           }
          ],
          "choropleth": [
           {
            "colorbar": {
             "outlinewidth": 0,
             "ticks": ""
            },
            "type": "choropleth"
           }
          ],
          "contour": [
           {
            "colorbar": {
             "outlinewidth": 0,
             "ticks": ""
            },
            "colorscale": [
             [
              0,
              "#0d0887"
             ],
             [
              0.1111111111111111,
              "#46039f"
             ],
             [
              0.2222222222222222,
              "#7201a8"
             ],
             [
              0.3333333333333333,
              "#9c179e"
             ],
             [
              0.4444444444444444,
              "#bd3786"
             ],
             [
              0.5555555555555556,
              "#d8576b"
             ],
             [
              0.6666666666666666,
              "#ed7953"
             ],
             [
              0.7777777777777778,
              "#fb9f3a"
             ],
             [
              0.8888888888888888,
              "#fdca26"
             ],
             [
              1,
              "#f0f921"
             ]
            ],
            "type": "contour"
           }
          ],
          "contourcarpet": [
           {
            "colorbar": {
             "outlinewidth": 0,
             "ticks": ""
            },
            "type": "contourcarpet"
           }
          ],
          "heatmap": [
           {
            "colorbar": {
             "outlinewidth": 0,
             "ticks": ""
            },
            "colorscale": [
             [
              0,
              "#0d0887"
             ],
             [
              0.1111111111111111,
              "#46039f"
             ],
             [
              0.2222222222222222,
              "#7201a8"
             ],
             [
              0.3333333333333333,
              "#9c179e"
             ],
             [
              0.4444444444444444,
              "#bd3786"
             ],
             [
              0.5555555555555556,
              "#d8576b"
             ],
             [
              0.6666666666666666,
              "#ed7953"
             ],
             [
              0.7777777777777778,
              "#fb9f3a"
             ],
             [
              0.8888888888888888,
              "#fdca26"
             ],
             [
              1,
              "#f0f921"
             ]
            ],
            "type": "heatmap"
           }
          ],
          "heatmapgl": [
           {
            "colorbar": {
             "outlinewidth": 0,
             "ticks": ""
            },
            "colorscale": [
             [
              0,
              "#0d0887"
             ],
             [
              0.1111111111111111,
              "#46039f"
             ],
             [
              0.2222222222222222,
              "#7201a8"
             ],
             [
              0.3333333333333333,
              "#9c179e"
             ],
             [
              0.4444444444444444,
              "#bd3786"
             ],
             [
              0.5555555555555556,
              "#d8576b"
             ],
             [
              0.6666666666666666,
              "#ed7953"
             ],
             [
              0.7777777777777778,
              "#fb9f3a"
             ],
             [
              0.8888888888888888,
              "#fdca26"
             ],
             [
              1,
              "#f0f921"
             ]
            ],
            "type": "heatmapgl"
           }
          ],
          "histogram": [
           {
            "marker": {
             "pattern": {
              "fillmode": "overlay",
              "size": 10,
              "solidity": 0.2
             }
            },
            "type": "histogram"
           }
          ],
          "histogram2d": [
           {
            "colorbar": {
             "outlinewidth": 0,
             "ticks": ""
            },
            "colorscale": [
             [
              0,
              "#0d0887"
             ],
             [
              0.1111111111111111,
              "#46039f"
             ],
             [
              0.2222222222222222,
              "#7201a8"
             ],
             [
              0.3333333333333333,
              "#9c179e"
             ],
             [
              0.4444444444444444,
              "#bd3786"
             ],
             [
              0.5555555555555556,
              "#d8576b"
             ],
             [
              0.6666666666666666,
              "#ed7953"
             ],
             [
              0.7777777777777778,
              "#fb9f3a"
             ],
             [
              0.8888888888888888,
              "#fdca26"
             ],
             [
              1,
              "#f0f921"
             ]
            ],
            "type": "histogram2d"
           }
          ],
          "histogram2dcontour": [
           {
            "colorbar": {
             "outlinewidth": 0,
             "ticks": ""
            },
            "colorscale": [
             [
              0,
              "#0d0887"
             ],
             [
              0.1111111111111111,
              "#46039f"
             ],
             [
              0.2222222222222222,
              "#7201a8"
             ],
             [
              0.3333333333333333,
              "#9c179e"
             ],
             [
              0.4444444444444444,
              "#bd3786"
             ],
             [
              0.5555555555555556,
              "#d8576b"
             ],
             [
              0.6666666666666666,
              "#ed7953"
             ],
             [
              0.7777777777777778,
              "#fb9f3a"
             ],
             [
              0.8888888888888888,
              "#fdca26"
             ],
             [
              1,
              "#f0f921"
             ]
            ],
            "type": "histogram2dcontour"
           }
          ],
          "mesh3d": [
           {
            "colorbar": {
             "outlinewidth": 0,
             "ticks": ""
            },
            "type": "mesh3d"
           }
          ],
          "parcoords": [
           {
            "line": {
             "colorbar": {
              "outlinewidth": 0,
              "ticks": ""
             }
            },
            "type": "parcoords"
           }
          ],
          "pie": [
           {
            "automargin": true,
            "type": "pie"
           }
          ],
          "scatter": [
           {
            "marker": {
             "colorbar": {
              "outlinewidth": 0,
              "ticks": ""
             }
            },
            "type": "scatter"
           }
          ],
          "scatter3d": [
           {
            "line": {
             "colorbar": {
              "outlinewidth": 0,
              "ticks": ""
             }
            },
            "marker": {
             "colorbar": {
              "outlinewidth": 0,
              "ticks": ""
             }
            },
            "type": "scatter3d"
           }
          ],
          "scattercarpet": [
           {
            "marker": {
             "colorbar": {
              "outlinewidth": 0,
              "ticks": ""
             }
            },
            "type": "scattercarpet"
           }
          ],
          "scattergeo": [
           {
            "marker": {
             "colorbar": {
              "outlinewidth": 0,
              "ticks": ""
             }
            },
            "type": "scattergeo"
           }
          ],
          "scattergl": [
           {
            "marker": {
             "colorbar": {
              "outlinewidth": 0,
              "ticks": ""
             }
            },
            "type": "scattergl"
           }
          ],
          "scattermapbox": [
           {
            "marker": {
             "colorbar": {
              "outlinewidth": 0,
              "ticks": ""
             }
            },
            "type": "scattermapbox"
           }
          ],
          "scatterpolar": [
           {
            "marker": {
             "colorbar": {
              "outlinewidth": 0,
              "ticks": ""
             }
            },
            "type": "scatterpolar"
           }
          ],
          "scatterpolargl": [
           {
            "marker": {
             "colorbar": {
              "outlinewidth": 0,
              "ticks": ""
             }
            },
            "type": "scatterpolargl"
           }
          ],
          "scatterternary": [
           {
            "marker": {
             "colorbar": {
              "outlinewidth": 0,
              "ticks": ""
             }
            },
            "type": "scatterternary"
           }
          ],
          "surface": [
           {
            "colorbar": {
             "outlinewidth": 0,
             "ticks": ""
            },
            "colorscale": [
             [
              0,
              "#0d0887"
             ],
             [
              0.1111111111111111,
              "#46039f"
             ],
             [
              0.2222222222222222,
              "#7201a8"
             ],
             [
              0.3333333333333333,
              "#9c179e"
             ],
             [
              0.4444444444444444,
              "#bd3786"
             ],
             [
              0.5555555555555556,
              "#d8576b"
             ],
             [
              0.6666666666666666,
              "#ed7953"
             ],
             [
              0.7777777777777778,
              "#fb9f3a"
             ],
             [
              0.8888888888888888,
              "#fdca26"
             ],
             [
              1,
              "#f0f921"
             ]
            ],
            "type": "surface"
           }
          ],
          "table": [
           {
            "cells": {
             "fill": {
              "color": "#EBF0F8"
             },
             "line": {
              "color": "white"
             }
            },
            "header": {
             "fill": {
              "color": "#C8D4E3"
             },
             "line": {
              "color": "white"
             }
            },
            "type": "table"
           }
          ]
         },
         "layout": {
          "annotationdefaults": {
           "arrowcolor": "#2a3f5f",
           "arrowhead": 0,
           "arrowwidth": 1
          },
          "autotypenumbers": "strict",
          "coloraxis": {
           "colorbar": {
            "outlinewidth": 0,
            "ticks": ""
           }
          },
          "colorscale": {
           "diverging": [
            [
             0,
             "#8e0152"
            ],
            [
             0.1,
             "#c51b7d"
            ],
            [
             0.2,
             "#de77ae"
            ],
            [
             0.3,
             "#f1b6da"
            ],
            [
             0.4,
             "#fde0ef"
            ],
            [
             0.5,
             "#f7f7f7"
            ],
            [
             0.6,
             "#e6f5d0"
            ],
            [
             0.7,
             "#b8e186"
            ],
            [
             0.8,
             "#7fbc41"
            ],
            [
             0.9,
             "#4d9221"
            ],
            [
             1,
             "#276419"
            ]
           ],
           "sequential": [
            [
             0,
             "#0d0887"
            ],
            [
             0.1111111111111111,
             "#46039f"
            ],
            [
             0.2222222222222222,
             "#7201a8"
            ],
            [
             0.3333333333333333,
             "#9c179e"
            ],
            [
             0.4444444444444444,
             "#bd3786"
            ],
            [
             0.5555555555555556,
             "#d8576b"
            ],
            [
             0.6666666666666666,
             "#ed7953"
            ],
            [
             0.7777777777777778,
             "#fb9f3a"
            ],
            [
             0.8888888888888888,
             "#fdca26"
            ],
            [
             1,
             "#f0f921"
            ]
           ],
           "sequentialminus": [
            [
             0,
             "#0d0887"
            ],
            [
             0.1111111111111111,
             "#46039f"
            ],
            [
             0.2222222222222222,
             "#7201a8"
            ],
            [
             0.3333333333333333,
             "#9c179e"
            ],
            [
             0.4444444444444444,
             "#bd3786"
            ],
            [
             0.5555555555555556,
             "#d8576b"
            ],
            [
             0.6666666666666666,
             "#ed7953"
            ],
            [
             0.7777777777777778,
             "#fb9f3a"
            ],
            [
             0.8888888888888888,
             "#fdca26"
            ],
            [
             1,
             "#f0f921"
            ]
           ]
          },
          "colorway": [
           "#636efa",
           "#EF553B",
           "#00cc96",
           "#ab63fa",
           "#FFA15A",
           "#19d3f3",
           "#FF6692",
           "#B6E880",
           "#FF97FF",
           "#FECB52"
          ],
          "font": {
           "color": "#2a3f5f"
          },
          "geo": {
           "bgcolor": "white",
           "lakecolor": "white",
           "landcolor": "#E5ECF6",
           "showlakes": true,
           "showland": true,
           "subunitcolor": "white"
          },
          "hoverlabel": {
           "align": "left"
          },
          "hovermode": "closest",
          "mapbox": {
           "style": "light"
          },
          "paper_bgcolor": "white",
          "plot_bgcolor": "#E5ECF6",
          "polar": {
           "angularaxis": {
            "gridcolor": "white",
            "linecolor": "white",
            "ticks": ""
           },
           "bgcolor": "#E5ECF6",
           "radialaxis": {
            "gridcolor": "white",
            "linecolor": "white",
            "ticks": ""
           }
          },
          "scene": {
           "xaxis": {
            "backgroundcolor": "#E5ECF6",
            "gridcolor": "white",
            "gridwidth": 2,
            "linecolor": "white",
            "showbackground": true,
            "ticks": "",
            "zerolinecolor": "white"
           },
           "yaxis": {
            "backgroundcolor": "#E5ECF6",
            "gridcolor": "white",
            "gridwidth": 2,
            "linecolor": "white",
            "showbackground": true,
            "ticks": "",
            "zerolinecolor": "white"
           },
           "zaxis": {
            "backgroundcolor": "#E5ECF6",
            "gridcolor": "white",
            "gridwidth": 2,
            "linecolor": "white",
            "showbackground": true,
            "ticks": "",
            "zerolinecolor": "white"
           }
          },
          "shapedefaults": {
           "line": {
            "color": "#2a3f5f"
           }
          },
          "ternary": {
           "aaxis": {
            "gridcolor": "white",
            "linecolor": "white",
            "ticks": ""
           },
           "baxis": {
            "gridcolor": "white",
            "linecolor": "white",
            "ticks": ""
           },
           "bgcolor": "#E5ECF6",
           "caxis": {
            "gridcolor": "white",
            "linecolor": "white",
            "ticks": ""
           }
          },
          "title": {
           "x": 0.05
          },
          "xaxis": {
           "automargin": true,
           "gridcolor": "white",
           "linecolor": "white",
           "ticks": "",
           "title": {
            "standoff": 15
           },
           "zerolinecolor": "white",
           "zerolinewidth": 2
          },
          "yaxis": {
           "automargin": true,
           "gridcolor": "white",
           "linecolor": "white",
           "ticks": "",
           "title": {
            "standoff": 15
           },
           "zerolinecolor": "white",
           "zerolinewidth": 2
          }
         }
        },
        "title": {
         "text": "Absolute und relative Anzahl der Missing Values je Variable"
        },
        "xaxis": {
         "anchor": "y",
         "domain": [
          0,
          0.42
         ],
         "showgrid": true,
         "showline": false,
         "showticklabels": true,
         "zeroline": false
        },
        "xaxis2": {
         "anchor": "y2",
         "domain": [
          0.47,
          1
         ],
         "dtick": 2000,
         "showgrid": true,
         "showline": false,
         "showticklabels": true,
         "side": "top",
         "zeroline": false
        },
        "yaxis": {
         "anchor": "x",
         "domain": [
          0,
          0.85
         ],
         "showgrid": false,
         "showline": false,
         "showticklabels": true
        },
        "yaxis2": {
         "anchor": "x2",
         "domain": [
          0,
          0.85
         ],
         "linecolor": "rgba(102, 102, 102, 0.8)",
         "linewidth": 2,
         "showgrid": false,
         "showline": true,
         "showticklabels": false
        }
       }
      }
     },
     "metadata": {},
     "output_type": "display_data"
    }
   ],
   "source": [
    "# Count Missing Values per Variable und in DataFrame überführen\n",
    "y_count_mv = pd.DataFrame(df.isnull().sum())\n",
    "y_count_mv.columns = ['count']\n",
    "y_count_mv.index.names = ['Name']\n",
    "y_count_mv['Name'] = y_count_mv.index\n",
    "y_count_mv =  y_count_mv[y_count_mv['count'] != 0]\n",
    "y_count_mv.sort_values(by=['count'], inplace = True, ascending=True)\n",
    "\n",
    "\n",
    "missing_values = pd.DataFrame(y_count_mv['count'] / len(df) * 100)\n",
    "missing_values.columns = ['count']\n",
    "missing_values.index.names = ['Name']\n",
    "missing_values.sort_values(by=['count'], inplace = True, ascending=True)\n",
    "\n",
    "x = y_count_mv['Name']\n",
    "\n",
    "# Creating two subplots\n",
    "fig = make_subplots(rows=1, cols=2, specs=[[{}, {}]], shared_xaxes=True,\n",
    "                    shared_yaxes=False, vertical_spacing=0.001)\n",
    "\n",
    "fig.append_trace(go.Bar(\n",
    "    x=missing_values['count'],\n",
    "    y=x,\n",
    "    marker=dict(\n",
    "        color='rgba(18, 63, 90, 0.95)',\n",
    "        line=dict(\n",
    "            color='rgba(18, 63, 90, 1.0)',\n",
    "            width=1),\n",
    "    ),\n",
    "    name='Relative Anzahl der fehlenden Werte (%)',\n",
    "    orientation='h',\n",
    "), 1, 1)\n",
    "\n",
    "fig.append_trace(go.Scatter(\n",
    "    x=y_count_mv['count'], y=x,\n",
    "    mode='lines+markers',\n",
    "    line_color='rgb(0, 68, 27)',\n",
    "    name='Absolute Anzahl der fehlenden Werte',\n",
    "), 1, 2)\n",
    "\n",
    "fig.update_layout(\n",
    "    title='Absolute und relative Anzahl der Missing Values je Variable',\n",
    "    yaxis=dict(\n",
    "        showgrid=False,\n",
    "        showline=False,\n",
    "        showticklabels=True,\n",
    "        domain=[0, 0.85],\n",
    "    ),\n",
    "    yaxis2=dict(\n",
    "        showgrid=False,\n",
    "        showline=True,\n",
    "        showticklabels=False,\n",
    "        linecolor='rgba(102, 102, 102, 0.8)',\n",
    "        linewidth=2,\n",
    "        domain=[0, 0.85],\n",
    "    ),\n",
    "    xaxis=dict(\n",
    "        zeroline=False,\n",
    "        showline=False,\n",
    "        showticklabels=True,\n",
    "        showgrid=True,\n",
    "        domain=[0, 0.42],\n",
    "    ),\n",
    "    xaxis2=dict(\n",
    "        zeroline=False,\n",
    "        showline=False,\n",
    "        showticklabels=True,\n",
    "        showgrid=True,\n",
    "        domain=[0.47, 1],\n",
    "        side='top',\n",
    "        dtick=2000,\n",
    "    ),\n",
    "    legend=dict(x=0.029, y=1.038, font_size=10),\n",
    "    margin=dict(l=100, r=20, t=70, b=70),\n",
    "    paper_bgcolor='rgb(248, 248, 255)',\n",
    "    plot_bgcolor='rgb(248, 248, 255)',\n",
    ")\n",
    "\n",
    "annotations = []\n",
    "\n",
    "y_s = np.round(missing_values['count'], decimals=2)\n",
    "y_nw = np.rint(y_count_mv['count'])\n",
    "\n",
    "# Adding labels\n",
    "for ydn, yd, xd in zip(y_nw, y_s, x):\n",
    "    # labeling the scatter savings\n",
    "    annotations.append(dict(xref='x2', yref='y2',\n",
    "                            y=xd, x=ydn+500,\n",
    "                            text='{:,}'.format(ydn),\n",
    "                            font=dict(family='Arial', size=12,\n",
    "                                      color='rgb(0, 68, 27)'),\n",
    "                            showarrow=False))\n",
    "    # labeling the bar net worth\n",
    "    annotations.append(dict(xref='x1', yref='y1',\n",
    "                            y=xd, x=yd+ 0.15,\n",
    "                            text=str(yd) + '%',\n",
    "                            font=dict(family='Arial', size=12,\n",
    "                                      color='rgb(18, 63, 90)'),\n",
    "                            showarrow=False))\n",
    "\n",
    "fig.update_layout(annotations=annotations)\n",
    "\n",
    "fig.show()"
   ]
  },
  {
   "cell_type": "markdown",
   "metadata": {},
   "source": [
    "### Verteilung der Missing Values "
   ]
  },
  {
   "cell_type": "code",
   "execution_count": 32,
   "metadata": {},
   "outputs": [
    {
     "data": {
      "text/plain": [
       "<AxesSubplot:>"
      ]
     },
     "execution_count": 32,
     "metadata": {},
     "output_type": "execute_result"
    },
    {
     "data": {
      "image/png": "[encoded data removed]",
      "text/plain": [
       "<Figure size 720x360 with 1 Axes>"
      ]
     },
     "metadata": {
      "needs_background": "light"
     },
     "output_type": "display_data"
    }
   ],
   "source": [
    "# Verteilung der Missing Values innerhalb der Variablen \n",
    "msno.matrix(df, sparkline=False, figsize=(10,5), fontsize=12, color=(0.27, 0.52, 1.0))"
   ]
  },
  {
   "cell_type": "code",
   "execution_count": 33,
   "metadata": {},
   "outputs": [
    {
     "data": {
      "text/plain": [
       "<AxesSubplot:>"
      ]
     },
     "execution_count": 33,
     "metadata": {},
     "output_type": "execute_result"
    },
    {
     "data": {
      "image/png": "[encoded data removed]",
      "text/plain": [
       "<Figure size 720x432 with 2 Axes>"
      ]
     },
     "metadata": {
      "needs_background": "light"
     },
     "output_type": "display_data"
    }
   ],
   "source": [
    "\n",
    "plt.figure(figsize=(10,6))\n",
    "sns.heatmap(df.isna().transpose(),\n",
    "            cmap=\"YlGnBu\",\n",
    "            cbar_kws={'label': 'Missing Data'})\n"
   ]
  },
  {
   "cell_type": "code",
   "execution_count": 34,
   "metadata": {},
   "outputs": [
    {
     "data": {
      "text/plain": [
       "<AxesSubplot:>"
      ]
     },
     "execution_count": 34,
     "metadata": {},
     "output_type": "execute_result"
    },
    {
     "data": {
      "image/png": "[encoded data removed]",
      "text/plain": [
       "<Figure size 1440x864 with 2 Axes>"
      ]
     },
     "metadata": {
      "needs_background": "light"
     },
     "output_type": "display_data"
    }
   ],
   "source": [
    "# Visualize the correlation between the number of\n",
    "# missing values in different columns as a heatmap\n",
    "msno.heatmap(df)"
   ]
  },
  {
   "cell_type": "markdown",
   "metadata": {},
   "source": [
    "\n",
    "\n",
    "Um dieses Diagramm zu interpretieren, lesen Sie es aus einer Top-Down-Perspektive. Clusterblätter, die in einem Abstand von Null miteinander verbunden sind, sagen das Vorhandensein des jeweils anderen vollständig voraus - eine Variable könnte immer leer sein, wenn eine andere gefüllt ist, oder sie könnten immer beide gefüllt oder beide leer sein, und so weiter. In diesem speziellen Beispiel klebt das Dendrogramm die Variablen zusammen, die erforderlich und daher in jedem Datensatz vorhanden sind.\n",
    "\n",
    "Clusterblätter, die sich in der Nähe von Null aufspalten, aber nicht bei Null, sagen sich gegenseitig sehr gut, aber immer noch unvollkommen voraus. Wenn Ihre eigene Interpretation des Datensatzes darin besteht, dass diese Spalten tatsächlich in Null übereinstimmen oder übereinstimmen sollten (z. B. als BETEILIGUNGSFAKTOR FAHRZEUG 2 und FAHRZEUG-TYPCODE 2), dann sagt Ihnen die Höhe des Clusterblatts in absoluten Zahlen, wie oft die Datensätze \"nicht übereinstimmen\" oder falsch abgelegt sind - d. h. wie viele Werte Sie ausfüllen oder streichen müssten, wenn Sie dazu geneigt sind.\n",
    "\n",
    "Beschreibung: \n",
    "Das Dendrogramm verwendet einen hierarchischen Clustering-Algorithmus, um die Variablen anhand ihrer Nullkorrelation gegeneinander abzugrenzen. \n",
    "\n",
    "\n",
    "Erklärung: \n",
    "Clutster, die sich in bei Null aufspalten, sagen sich untereinander vollkommen voraus (Korrelation von 1). Auf Grundlage \n",
    "\n",
    "Auf jeder Stufe des Baums werden die Variablen auf der Grundlage der Kombination aufgeteilt, die den Abstand der verbleibenden Cluster minimiert.  \n",
    "\n",
    "Je monotoner die Variablen sind, desto näher liegt ihr Gesamtabstand bei Null und desto näher liegt ihr durchschnittlicher Abstand (die y-Achse) bei Null.   "
   ]
  },
  {
   "cell_type": "code",
   "execution_count": 35,
   "metadata": {},
   "outputs": [
    {
     "data": {
      "text/plain": [
       "<AxesSubplot:>"
      ]
     },
     "execution_count": 35,
     "metadata": {},
     "output_type": "execute_result"
    },
    {
     "data": {
      "image/png": "[encoded data removed]",
      "text/plain": [
       "<Figure size 1800x720 with 1 Axes>"
      ]
     },
     "metadata": {
      "needs_background": "light"
     },
     "output_type": "display_data"
    }
   ],
   "source": [
    "msno.dendrogram(df, orientation='top')"
   ]
  },
  {
   "cell_type": "code",
   "execution_count": 36,
   "metadata": {},
   "outputs": [],
   "source": [
    "# Verteilung der Missing Values innerhalb der Variablen \n",
    "#msno.matrix(df, freq='Tim', sparkline=False)\n",
    "#df.iloc[:, 0]\n",
    "#msno.matrix(df.set_index(pd.period_range('1/1/2011', '2/1/2015', freq='M')) , freq='BQ')"
   ]
  },
  {
   "cell_type": "code",
   "execution_count": 37,
   "metadata": {},
   "outputs": [
    {
     "name": "stdout",
     "output_type": "stream",
     "text": [
      "<class 'pandas.core.frame.DataFrame'>\n",
      "Int64Index: 380999 entries, 0 to 380998\n",
      "Data columns (total 12 columns):\n",
      " #   Column                Non-Null Count   Dtype   \n",
      "---  ------                --------------   -----   \n",
      " 0   id                    380999 non-null  int64   \n",
      " 1   gender                379948 non-null  category\n",
      " 2   age                   370107 non-null  Int64   \n",
      " 3   driving_license       380948 non-null  category\n",
      " 4   region_code           380999 non-null  float64 \n",
      " 5   previously_insured    380948 non-null  category\n",
      " 6   vehicle_age           380948 non-null  category\n",
      " 7   vehicle_damage        380948 non-null  category\n",
      " 8   annual_premium        380999 non-null  Int64   \n",
      " 9   policy_sales_channel  380999 non-null  Int64   \n",
      " 10  vintage               380948 non-null  Int64   \n",
      " 11  response              380999 non-null  category\n",
      "dtypes: Int64(4), category(6), float64(1), int64(1)\n",
      "memory usage: 32.0 MB\n"
     ]
    }
   ],
   "source": [
    "# Drop all rows with NaNs in A OR B\n",
    "\n",
    "#x = df.dropna(subset=['previously_insured', 'driving_license', 'vehicle_age', 'vehicle_damage', 'vintage'])\n",
    "\n",
    "\n",
    "df.info()"
   ]
  },
  {
   "cell_type": "code",
   "execution_count": 38,
   "metadata": {},
   "outputs": [
    {
     "name": "stdout",
     "output_type": "stream",
     "text": [
      "<class 'pandas.core.frame.DataFrame'>\n",
      "Int64Index: 380948 entries, 0 to 380998\n",
      "Data columns (total 12 columns):\n",
      " #   Column                Non-Null Count   Dtype   \n",
      "---  ------                --------------   -----   \n",
      " 0   id                    380948 non-null  int64   \n",
      " 1   gender                379948 non-null  category\n",
      " 2   age                   370107 non-null  Int64   \n",
      " 3   driving_license       380948 non-null  category\n",
      " 4   region_code           380948 non-null  float64 \n",
      " 5   previously_insured    380948 non-null  category\n",
      " 6   vehicle_age           380948 non-null  category\n",
      " 7   vehicle_damage        380948 non-null  category\n",
      " 8   annual_premium        380948 non-null  Int64   \n",
      " 9   policy_sales_channel  380948 non-null  Int64   \n",
      " 10  vintage               380948 non-null  Int64   \n",
      " 11  response              380948 non-null  category\n",
      "dtypes: Int64(4), category(6), float64(1), int64(1)\n",
      "memory usage: 24.0 MB\n"
     ]
    }
   ],
   "source": [
    "df_na_bool = pd.DataFrame(pd.isna(df))\n",
    "\n",
    "df.drop(df_na_bool[(df_na_bool['previously_insured'] == True) & \n",
    "           (df_na_bool['driving_license'] == True) &\n",
    "           (df_na_bool['vehicle_age'] == True) &\n",
    "           (df_na_bool['vehicle_damage'] == True) &\n",
    "           (df_na_bool['vintage'] == True)].index, inplace=True)\n",
    "\n",
    "df.info()"
   ]
  },
  {
   "cell_type": "code",
   "execution_count": 39,
   "metadata": {},
   "outputs": [
    {
     "data": {
      "text/plain": [
       "id                          0\n",
       "gender                   1000\n",
       "age                     10841\n",
       "driving_license             0\n",
       "region_code                 0\n",
       "previously_insured          0\n",
       "vehicle_age                 0\n",
       "vehicle_damage              0\n",
       "annual_premium              0\n",
       "policy_sales_channel        0\n",
       "vintage                     0\n",
       "response                    0\n",
       "dtype: int64"
      ]
     },
     "execution_count": 39,
     "metadata": {},
     "output_type": "execute_result"
    }
   ],
   "source": [
    "pd.isna(df).sum()"
   ]
  },
  {
   "cell_type": "markdown",
   "metadata": {},
   "source": [
    "Listenweiser Fallausschluss - Wir haben mittels dem listenweisen Fallausschluss 51 Zeilen aus dem Datensatz entfernt. Dabei haben wir ebenfalls die Anzahl der missing values bei den Variablen von age und gender um 51 Werte reduziert."
   ]
  },
  {
   "cell_type": "markdown",
   "metadata": {},
   "source": [
    "## Behandlung von Anomalien"
   ]
  },
  {
   "cell_type": "markdown",
   "metadata": {},
   "source": [
    "### Age\n",
    "\n",
    "- Untergrenze: 18\n",
    "- Obergrenze: 100"
   ]
  },
  {
   "cell_type": "code",
   "execution_count": 40,
   "metadata": {},
   "outputs": [
    {
     "name": "stdout",
     "output_type": "stream",
     "text": [
      "<class 'pandas.core.frame.DataFrame'>\n",
      "Int64Index: 380948 entries, 0 to 380998\n",
      "Data columns (total 12 columns):\n",
      " #   Column                Non-Null Count   Dtype   \n",
      "---  ------                --------------   -----   \n",
      " 0   id                    380948 non-null  int64   \n",
      " 1   gender                379948 non-null  category\n",
      " 2   age                   370107 non-null  Int64   \n",
      " 3   driving_license       380948 non-null  category\n",
      " 4   region_code           380948 non-null  float64 \n",
      " 5   previously_insured    380948 non-null  category\n",
      " 6   vehicle_age           380948 non-null  category\n",
      " 7   vehicle_damage        380948 non-null  category\n",
      " 8   annual_premium        380948 non-null  Int64   \n",
      " 9   policy_sales_channel  380948 non-null  Int64   \n",
      " 10  vintage               380948 non-null  Int64   \n",
      " 11  response              380948 non-null  category\n",
      "dtypes: Int64(4), category(6), float64(1), int64(1)\n",
      "memory usage: 24.0 MB\n"
     ]
    }
   ],
   "source": [
    "df.info()"
   ]
  },
  {
   "cell_type": "code",
   "execution_count": 41,
   "metadata": {},
   "outputs": [
    {
     "data": {
      "text/plain": [
       "count    370007.000000\n",
       "mean         38.820579\n",
       "std          15.509008\n",
       "min          20.000000\n",
       "25%          25.000000\n",
       "50%          36.000000\n",
       "75%          49.000000\n",
       "max          85.000000\n",
       "Name: age, dtype: float64"
      ]
     },
     "execution_count": 41,
     "metadata": {},
     "output_type": "execute_result"
    }
   ],
   "source": [
    "index_max_age = df[df[\"age\"] >= 100].index\n",
    "df.drop(index_max_age, inplace=True)\n",
    "\n",
    "index_min_age = df[df[\"age\"] < 18].index\n",
    "df.drop(index_min_age, inplace=True)\n",
    "\n",
    "df[\"age\"].describe()"
   ]
  },
  {
   "cell_type": "markdown",
   "metadata": {},
   "source": [
    "### Annual Premium\n",
    "\n",
    "- Untergrenze: 0\n",
    "- Obergrenze: 150.000"
   ]
  },
  {
   "cell_type": "code",
   "execution_count": 42,
   "metadata": {},
   "outputs": [
    {
     "data": {
      "text/plain": [
       "count    380290.000000\n",
       "mean      30452.227190\n",
       "std       16371.775769\n",
       "min        2630.000000\n",
       "25%       24397.000000\n",
       "50%       31661.000000\n",
       "75%       39384.000000\n",
       "max      147075.000000\n",
       "Name: annual_premium, dtype: float64"
      ]
     },
     "execution_count": 42,
     "metadata": {},
     "output_type": "execute_result"
    }
   ],
   "source": [
    "index_min_premium = df[df[\"annual_premium\"] <= 0].index\n",
    "df.drop(index_min_premium, inplace=True)\n",
    "\n",
    "index_max_premium = df[df[\"annual_premium\"] >= 150000].index\n",
    "df.drop(index_max_premium, inplace=True)\n",
    "\n",
    "df[\"annual_premium\"].describe()"
   ]
  },
  {
   "cell_type": "markdown",
   "metadata": {},
   "source": [
    "## Imputationverfahren für die Variable Age"
   ]
  },
  {
   "cell_type": "code",
   "execution_count": 43,
   "metadata": {},
   "outputs": [
    {
     "data": {
      "text/plain": [
       "<AxesSubplot:ylabel='Density'>"
      ]
     },
     "execution_count": 43,
     "metadata": {},
     "output_type": "execute_result"
    },
    {
     "data": {
      "image/png": "[encoded data removed]",
      "text/plain": [
       "<Figure size 432x288 with 1 Axes>"
      ]
     },
     "metadata": {
      "needs_background": "light"
     },
     "output_type": "display_data"
    }
   ],
   "source": [
    "df['age'].plot.density()"
   ]
  },
  {
   "cell_type": "markdown",
   "metadata": {},
   "source": [
    "#### Mittelwertersetzung"
   ]
  },
  {
   "cell_type": "code",
   "execution_count": 44,
   "metadata": {},
   "outputs": [
    {
     "data": {
      "text/plain": [
       "<AxesSubplot:ylabel='Density'>"
      ]
     },
     "execution_count": 44,
     "metadata": {},
     "output_type": "execute_result"
    },
    {
     "data": {
      "image/png": "[encoded data removed]",
      "text/plain": [
       "<Figure size 432x288 with 1 Axes>"
      ]
     },
     "metadata": {
      "needs_background": "light"
     },
     "output_type": "display_data"
    }
   ],
   "source": [
    "imp_mean_res = df['age'].fillna(round(df['age'].mean(),0)).astype('Int64')\n",
    "\n",
    "imp_mean_res.plot.density()"
   ]
  },
  {
   "cell_type": "markdown",
   "metadata": {},
   "source": [
    "#### Lineare Regression"
   ]
  },
  {
   "cell_type": "code",
   "execution_count": 60,
   "metadata": {},
   "outputs": [
    {
     "data": {
      "text/plain": [
       "array([[38.76537925],\n",
       "       [37.06280345],\n",
       "       [37.06280345],\n",
       "       ...,\n",
       "       [37.06280345],\n",
       "       [39.60917633],\n",
       "       [40.18698562]])"
      ]
     },
     "execution_count": 60,
     "metadata": {},
     "output_type": "execute_result"
    }
   ],
   "source": [
    "df_linear_model_data = df[['age', 'annual_premium']].dropna()\n",
    "\n",
    "X_train, X_test, y_train, y_test = train_test_split(df_linear_model_data.drop('age', axis=1), df_linear_model_data[['age']], test_size = 0.2, random_state=42)\n",
    "\n",
    "imp_reg = LinearRegression().fit(X_train, y_train)\n",
    "\n",
    "imp_reg_results = imp_reg.predict(X_test)\n",
    "imp_reg_results"
   ]
  },
  {
   "cell_type": "code",
   "execution_count": null,
   "metadata": {},
   "outputs": [],
   "source": [
    "df.to_csv('./data/clean_data.csv', sep=\"$\", decimal=\".\")"
   ]
  }
 ],
 "metadata": {
  "interpreter": {
   "hash": "c057283103631fcb6138dc5fda6d5179eedea6a3f838b7df28863890810253db"
  },
  "kernelspec": {
   "display_name": "Python 3.8.8 64-bit ('base': conda)",
   "language": "python",
   "name": "python3"
  },
  "language_info": {
   "codemirror_mode": {
    "name": "ipython",
    "version": 3
   },
   "file_extension": ".py",
   "mimetype": "text/x-python",
   "name": "python",
   "nbconvert_exporter": "python",
   "pygments_lexer": "ipython3",
   "version": "3.10.0"
  },
  "orig_nbformat": 4
 },
 "nbformat": 4,
 "nbformat_minor": 2
}
