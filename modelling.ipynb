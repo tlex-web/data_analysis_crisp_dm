{
 "cells": [
  {
   "cell_type": "code",
   "execution_count": 1,
   "metadata": {},
   "outputs": [],
   "source": [
    "from helpers.helper_functions import read_and_set_df, set_datatypes, pd, np, msno, go, plt, sns"
   ]
  },
  {
   "cell_type": "code",
   "execution_count": 2,
   "metadata": {},
   "outputs": [
    {
     "data": {
      "text/html": [
       "<div>\n",
       "<style scoped>\n",
       "    .dataframe tbody tr th:only-of-type {\n",
       "        vertical-align: middle;\n",
       "    }\n",
       "\n",
       "    .dataframe tbody tr th {\n",
       "        vertical-align: top;\n",
       "    }\n",
       "\n",
       "    .dataframe thead th {\n",
       "        text-align: right;\n",
       "    }\n",
       "</style>\n",
       "<table border=\"1\" class=\"dataframe\">\n",
       "  <thead>\n",
       "    <tr style=\"text-align: right;\">\n",
       "      <th></th>\n",
       "      <th>id,gender,age,driving_license,region_code,previously_insured,vehicle_age,vehicle__damage,annual__premium,policy_sales_channel,vintage</th>\n",
       "    </tr>\n",
       "  </thead>\n",
       "  <tbody>\n",
       "    <tr>\n",
       "      <th>0</th>\n",
       "      <td>381000$Male$68$1$28.0$1$1-2 Year$No$53066.0$12...</td>\n",
       "    </tr>\n",
       "    <tr>\n",
       "      <th>1</th>\n",
       "      <td>381001$Male$78$1$8.0$0$1-2 Year$Yes$28301.0$12...</td>\n",
       "    </tr>\n",
       "    <tr>\n",
       "      <th>2</th>\n",
       "      <td>381002$Male$22$1$28.0$1$&lt; 1 Year$No$2630.0$153...</td>\n",
       "    </tr>\n",
       "    <tr>\n",
       "      <th>3</th>\n",
       "      <td>381003$Female$20$1$28.0$0$1-2 Year$Yes$38627.0...</td>\n",
       "    </tr>\n",
       "    <tr>\n",
       "      <th>4</th>\n",
       "      <td>381004$Female$44$1$28.0$1$1-2 Year$No$24984.0$...</td>\n",
       "    </tr>\n",
       "  </tbody>\n",
       "</table>\n",
       "</div>"
      ],
      "text/plain": [
       "  id,gender,age,driving_license,region_code,previously_insured,vehicle_age,vehicle__damage,annual__premium,policy_sales_channel,vintage\n",
       "0  381000$Male$68$1$28.0$1$1-2 Year$No$53066.0$12...                                                                                   \n",
       "1  381001$Male$78$1$8.0$0$1-2 Year$Yes$28301.0$12...                                                                                   \n",
       "2  381002$Male$22$1$28.0$1$< 1 Year$No$2630.0$153...                                                                                   \n",
       "3  381003$Female$20$1$28.0$0$1-2 Year$Yes$38627.0...                                                                                   \n",
       "4  381004$Female$44$1$28.0$1$1-2 Year$No$24984.0$...                                                                                   "
      ]
     },
     "execution_count": 2,
     "metadata": {},
     "output_type": "execute_result"
    }
   ],
   "source": [
    "df = read_and_set_df('data/test.csv', train=True)\n",
    "\n",
    "df.describe(include = 'all').transpose() #transpose = Tabelle transponieren für eine bessere Ansicht\n",
    "\n",
    "df.head()"
   ]
  }
 ],
 "metadata": {
  "interpreter": {
   "hash": "b417382ef8674e24d217cd8c15ed5000cd09319fb3bae652a603c04288f3ca0e"
  },
  "kernelspec": {
   "display_name": "Python 3.10.0 64-bit",
   "language": "python",
   "name": "python3"
  },
  "language_info": {
   "codemirror_mode": {
    "name": "ipython",
    "version": 3
   },
   "file_extension": ".py",
   "mimetype": "text/x-python",
   "name": "python",
   "nbconvert_exporter": "python",
   "pygments_lexer": "ipython3",
   "version": "3.10.0"
  },
  "orig_nbformat": 4
 },
 "nbformat": 4,
 "nbformat_minor": 2
}
