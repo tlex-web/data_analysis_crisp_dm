{
 "cells": [
  {
   "cell_type": "code",
   "execution_count": 1,
   "metadata": {},
   "outputs": [],
   "source": [
    "from helpers.helper_functions import read_and_set_df, pd, np, msno, go, plt, sns"
   ]
  },
  {
   "cell_type": "code",
   "execution_count": 3,
   "metadata": {},
   "outputs": [
    {
     "name": "stdout",
     "output_type": "stream",
     "text": [
      "<class 'pandas.core.frame.DataFrame'>\n",
      "RangeIndex: 380290 entries, 0 to 380289\n",
      "Data columns (total 12 columns):\n",
      " #   Column                Non-Null Count   Dtype  \n",
      "---  ------                --------------   -----  \n",
      " 0   id                    380290 non-null  int64  \n",
      " 1   gender                380290 non-null  int64  \n",
      " 2   age                   379295 non-null  object \n",
      " 3   driving_license       369452 non-null  float64\n",
      " 4   region_code           380290 non-null  object \n",
      " 5   previously_insured    380290 non-null  float64\n",
      " 6   vehicle_age           380290 non-null  object \n",
      " 7   vehicle_damage        380290 non-null  object \n",
      " 8   annual_premium        380290 non-null  object \n",
      " 9   policy_sales_channel  380290 non-null  float64\n",
      " 10  vintage               380290 non-null  int64  \n",
      " 11  response              380290 non-null  int64  \n",
      "dtypes: float64(3), int64(4), object(5)\n",
      "memory usage: 34.8+ MB\n"
     ]
    }
   ],
   "source": [
    "df = read_and_set_df('data/clean_data.csv')\n",
    "\n",
    "df.info()"
   ]
  }
 ],
 "metadata": {
  "interpreter": {
   "hash": "b417382ef8674e24d217cd8c15ed5000cd09319fb3bae652a603c04288f3ca0e"
  },
  "kernelspec": {
   "display_name": "Python 3.10.0 64-bit",
   "language": "python",
   "name": "python3"
  },
  "language_info": {
   "codemirror_mode": {
    "name": "ipython",
    "version": 3
   },
   "file_extension": ".py",
   "mimetype": "text/x-python",
   "name": "python",
   "nbconvert_exporter": "python",
   "pygments_lexer": "ipython3",
   "version": "3.10.0"
  },
  "orig_nbformat": 4
 },
 "nbformat": 4,
 "nbformat_minor": 2
}
