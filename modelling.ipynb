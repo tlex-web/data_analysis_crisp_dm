{
 "cells": [
  {
   "cell_type": "code",
   "execution_count": 1,
   "metadata": {},
   "outputs": [],
   "source": [
    "from helpers.helper_functions import read_and_set_df, pd, np, msno, go, plt, sns, px, tf"
   ]
  },
  {
   "cell_type": "code",
   "execution_count": 2,
   "metadata": {},
   "outputs": [],
   "source": [
    "X_train = pd.read_csv('data/x_train_clean.csv', sep='$', decimal=\".\", engine='python') \n",
    "y_train = pd.read_csv('data/y_train_clean.csv', sep='$', decimal=\".\", engine='python')   \n",
    "X_test = pd.read_csv('data/x_test_clean.csv', sep='$', decimal=\".\", engine='python') \n",
    "y_test = pd.read_csv('data/y_test_clean.csv', sep='$', decimal=\".\", engine='python') \n",
    "\n",
    "del X_train['Unnamed: 0']\n",
    "del y_train['Unnamed: 0']\n",
    "del X_test['Unnamed: 0']\n",
    "del y_test['Unnamed: 0']"
   ]
  },
  {
   "cell_type": "code",
   "execution_count": 3,
   "metadata": {},
   "outputs": [],
   "source": [
    "# Pakete für den Random Forest\n",
    "from sklearn.ensemble import RandomForestClassifier\n",
    "from sklearn.model_selection import RandomizedSearchCV\n",
    "from sklearn.preprocessing import LabelEncoder\n",
    "from sklearn.model_selection import GridSearchCV\n",
    "from sklearn.metrics import precision_recall_curve, make_scorer, confusion_matrix\n",
    "from sklearn.metrics import precision_score, recall_score\n",
    "from sklearn import metrics\n",
    "from sklearn.metrics import auc\n",
    "from sklearn.metrics import make_scorer\n",
    "from sklearn.metrics import confusion_matrix\n",
    "from sklearn.metrics import roc_curve, roc_auc_score\n",
    "\n",
    "import json"
   ]
  },
  {
   "cell_type": "markdown",
   "metadata": {},
   "source": [
    "# Import Test Set"
   ]
  },
  {
   "cell_type": "code",
   "execution_count": 4,
   "metadata": {},
   "outputs": [],
   "source": [
    "test_data_df = pd.read_csv('./data/test.csv', sep='[,$]' , decimal=\".\", engine='python')\n",
    "\n",
    "test_data_df.columns = test_data_df.columns.str.lower()\n",
    "\n",
    "test_data_df.rename(columns={\n",
    "    'id': 'id',\n",
    "    'gender': 'gender',\n",
    "    'age': 'age',\n",
    "    'driving_license': 'driving_license',\n",
    "    'region_code': 'region_code',\n",
    "    'previously_insured': 'previously_insured',\n",
    "    'vehicle_age': 'vehicle_age',\n",
    "    'vehicle__damage': 'vehicle_damage',\n",
    "    'annual__premium': 'annual_premium',\n",
    "    'policy_sales_channel': 'policy_sales_channel',\n",
    "    'vintage': 'vintage'\n",
    "},\n",
    "    inplace=True)\n",
    "\n",
    "\n",
    "index_max_age = test_data_df[test_data_df[\"age\"] >= 100].index\n",
    "test_data_df.drop(index_max_age, inplace=True)\n",
    "\n",
    "index_min_age = test_data_df[test_data_df[\"age\"] < 18].index\n",
    "test_data_df.drop(index_min_age, inplace=True)\n",
    "\n",
    "index_min_premium = test_data_df[test_data_df[\"annual_premium\"] <= 0].index\n",
    "test_data_df.drop(index_min_premium, inplace=True)\n",
    "\n",
    "index_max_premium = test_data_df[test_data_df[\"annual_premium\"] >= 150000].index\n",
    "test_data_df.drop(index_max_premium, inplace=True)\n",
    "\n",
    "def map_categorials(df):\n",
    "\n",
    "    vehicle_age_map = {\n",
    "        '< 1 Year': 0,\n",
    "        '1-2 Year': 1,\n",
    "        '> 2 Years': 2\n",
    "    }\n",
    "\n",
    "    vehicle_damage_map = {\n",
    "        'No': 0,\n",
    "        'Yes': 1\n",
    "    }\n",
    "\n",
    "    df.loc[:,'vehicle_age'] = df['vehicle_age'].map(vehicle_age_map).astype('Int64')\n",
    "    df.loc[:,'vehicle_damage'] = df['vehicle_damage'].map(vehicle_damage_map)\n",
    "\n",
    "    LE = LabelEncoder()\n",
    "    df['region_code'] = LE.fit_transform(df.loc[:,'region_code'])\n",
    "    df['gender'] = LE.fit_transform(df.loc[:, 'gender'])\n",
    "\n",
    "    return df\n",
    "\n",
    "test_data_df_label_encoded = map_categorials(test_data_df)"
   ]
  },
  {
   "cell_type": "markdown",
   "metadata": {},
   "source": [
    "## Random Forest Classifier Test Set"
   ]
  },
  {
   "cell_type": "code",
   "execution_count": 5,
   "metadata": {},
   "outputs": [
    {
     "name": "stderr",
     "output_type": "stream",
     "text": [
      "<ipython-input-5-9631c678bb94>:5: DataConversionWarning:\n",
      "\n",
      "A column-vector y was passed when a 1d array was expected. Please change the shape of y to (n_samples,), for example using ravel().\n",
      "\n"
     ]
    },
    {
     "name": "stdout",
     "output_type": "stream",
     "text": [
      "vehicle_damage          0.204714\n",
      "age                     0.119109\n",
      "vehicle_age             0.100629\n",
      "vintage                 0.092050\n",
      "gender                  0.087106\n",
      "annual_premium          0.086682\n",
      "driving_license         0.085792\n",
      "previously_insured      0.075280\n",
      "policy_sales_channel    0.074819\n",
      "region_code             0.073817\n",
      "dtype: float64\n"
     ]
    },
    {
     "data": {
      "image/png": "[encoded data removed]",
      "text/plain": [
       "<Figure size 432x288 with 1 Axes>"
      ]
     },
     "metadata": {
      "needs_background": "light"
     },
     "output_type": "display_data"
    }
   ],
   "source": [
    "\n",
    "#Create a Gaussian Classifier\n",
    "clf=RandomForestClassifier(n_estimators=100)\n",
    "\n",
    "#Train the model using the training sets y_pred=clf.predict(X_test)\n",
    "clf.fit(X_train,y_train)\n",
    "\n",
    "y_pred=clf.predict(test_data_df.drop('id', axis=1))\n",
    "\n",
    "feature_scores = pd.Series(clf.feature_importances_, index=X_train.columns).sort_values(ascending=False)\n",
    "print(feature_scores)\n",
    "\n",
    "sns.barplot(x=feature_scores, y=feature_scores.index)# Add labels to the graph\n",
    "plt.xlabel('Feature Importance Score')\n",
    "plt.ylabel('Features')\n",
    "plt.title(\"Visualizing Important Features\")\n",
    "plt.show()\n",
    "# cf_matrix = confusion_matrix(y_test['response'], y_pred)\n",
    "# cf_matrix"
   ]
  },
  {
   "cell_type": "markdown",
   "metadata": {},
   "source": [
    "## Random Forest Classifier Train Set"
   ]
  },
  {
   "cell_type": "code",
   "execution_count": 6,
   "metadata": {},
   "outputs": [],
   "source": [
    "def get_auc_pr(y_test_df, y_proba):\n",
    "    precision, recall, thresholds = precision_recall_curve(y_test_df, y_proba)\n",
    "    return auc(recall, precision)\n",
    "\n",
    "# grater_is_better = höhere Werte sind besser - keine loss function \n",
    "scorer_auc_pr = make_scorer(get_auc_pr, greater_is_better = True, needs_proba=True)\n",
    "\n",
    "\n",
    "def create_random_forest_model(X_train, y_train):\n",
    "\n",
    "    # Hyperparameter-Tuning definieren\n",
    "    rf_classifier = RandomForestClassifier(random_state = 42, n_jobs = -1, class_weight='balanced_subsample')\n",
    "\n",
    "    # Intervalle für das Tuning festlegen\n",
    "    params = {\n",
    "        'n_estimators': [250, 500, 1000, 1500],                              #250, 500, 1000, 1500\n",
    "        'max_depth': [5, 10, 50, 100, 200, None],                    #5, 10, 20, 30, 50, 100, 200, None\n",
    "        'min_samples_split': [2, .1,.5], \n",
    "        'min_samples_leaf': [1 , 3, 9],\n",
    "        'max_features': [.01, .05, .05, 'log2', \"sqrt\", 'auto']\n",
    "    }\n",
    "\n",
    "    cv = RandomizedSearchCV(rf_classifier,\n",
    "                            params,\n",
    "                            n_iter = 1000,                                     #1000\n",
    "                            scoring= make_scorer(roc_auc_score),\n",
    "                            cv = 5,                                            #5\n",
    "                            n_jobs = -1,\n",
    "                            random_state = 42)\n",
    "    \n",
    "\n",
    "    # Tuning durchführen \n",
    "    print('Starte Hyperparameter-Tuning')\n",
    "    cv.fit(X_train, y_train)\n",
    "    print('Tuning beendet')\n",
    "\n",
    "    print(cv.best_params_)\n",
    "    best_params = cv.best_params_\n",
    "    model_rf = cv.best_estimator_\n",
    "\n",
    "    # Ergebnisse speichern\n",
    "    file_name = './data/random_forest' \n",
    "    with open(file_name + '_params.json', 'w') as outfile:\n",
    "        json.dump(best_params, outfile, indent = 4)\n",
    "    \n",
    "    return model_rf "
   ]
  },
  {
   "cell_type": "markdown",
   "metadata": {},
   "source": [
    "#### Modell ausführen"
   ]
  },
  {
   "cell_type": "code",
   "execution_count": 7,
   "metadata": {},
   "outputs": [
    {
     "name": "stdout",
     "output_type": "stream",
     "text": [
      "Starte Hyperparameter-Tuning\n"
     ]
    }
   ],
   "source": [
    "# Modell ausführen\n",
    "model_rf = create_random_forest_model(X_train, y_train)"
   ]
  },
  {
   "cell_type": "code",
   "execution_count": null,
   "metadata": {},
   "outputs": [
    {
     "data": {
      "text/html": [
       "<style type=\"text/css\">\n",
       "#T_d8cc6_row0_col1 {\n",
       "  background-color: #f7fcf5;\n",
       "  color: #000000;\n",
       "}\n",
       "</style>\n",
       "<table id=\"T_d8cc6_\">\n",
       "  <thead>\n",
       "    <tr>\n",
       "      <th class=\"blank level0\" >&nbsp;</th>\n",
       "      <th class=\"col_heading level0 col0\" >Model</th>\n",
       "      <th class=\"col_heading level0 col1\" >Score</th>\n",
       "    </tr>\n",
       "  </thead>\n",
       "  <tbody>\n",
       "    <tr>\n",
       "      <th id=\"T_d8cc6_level0_row0\" class=\"row_heading level0 row0\" >0</th>\n",
       "      <td id=\"T_d8cc6_row0_col0\" class=\"data row0 col0\" >Random Forest</td>\n",
       "      <td id=\"T_d8cc6_row0_col1\" class=\"data row0 col1\" >88.510000</td>\n",
       "    </tr>\n",
       "  </tbody>\n",
       "</table>\n"
      ],
      "text/plain": [
       "<pandas.io.formats.style.Styler at 0x230d7328220>"
      ]
     },
     "execution_count": 31,
     "metadata": {},
     "output_type": "execute_result"
    }
   ],
   "source": [
    "Y_pred = model_rf.predict(X_test)\n",
    "acc_rf = round(model_rf.score(X_test, y_test) * 100,2)\n",
    "\n",
    "\n",
    "# Modell Evaluation\n",
    "# Hier können wir dann alle Modell anhand von verschiedenen Gütemaßen in einer Tabelle vergleichen \n",
    "models = pd.DataFrame({\n",
    "    'Model': ['Random Forest'],\n",
    "    'Score': [acc_rf]\n",
    "})\n",
    "\n",
    "# Die cmpa wird erst bei mehreren Zeilen richtig angezeigt\n",
    "models.sort_values(by='Score', ascending=False).style.background_gradient(cmap='Greens',subset = ['Score'])   "
   ]
  },
  {
   "cell_type": "markdown",
   "metadata": {},
   "source": [
    "#### Visuelle Darstellung der Confusion Matrix"
   ]
  },
  {
   "cell_type": "code",
   "execution_count": null,
   "metadata": {},
   "outputs": [
    {
     "data": {
      "text/plain": [
       "<AxesSubplot:>"
      ]
     },
     "execution_count": 33,
     "metadata": {},
     "output_type": "execute_result"
    },
    {
     "data": {
      "image/png": "[encoded data removed]",
      "text/plain": [
       "<Figure size 432x288 with 2 Axes>"
      ]
     },
     "metadata": {
      "needs_background": "light"
     },
     "output_type": "display_data"
    }
   ],
   "source": [
    "# Erstellun der Confusion Matrix\n",
    "cf_matrix = confusion_matrix(y_test['response'], Y_pred)\n",
    "\n",
    "group_names = ['True Neg','False Pos','False Neg','True Pos']\n",
    "\n",
    "group_counts = [\"{0:0.0f}\".format(value) for value in\n",
    "                cf_matrix.flatten()]\n",
    "\n",
    "group_percentages = [\"{0:.2%}\".format(value) for value in cf_matrix.flatten()/np.sum(cf_matrix)]\n",
    "\n",
    "\n",
    "labels = [f\"{v1}\\n{v2}\\n{v3}\" for v1, v2, v3 in\n",
    "          zip(group_names,group_counts,group_percentages)]\n",
    "\n",
    "labels = np.asarray(labels).reshape(2,2)\n",
    "\n",
    "sns.heatmap(cf_matrix, annot=labels, fmt='', cmap='Blues')"
   ]
  },
  {
   "cell_type": "code",
   "execution_count": null,
   "metadata": {},
   "outputs": [
    {
     "name": "stdout",
     "output_type": "stream",
     "text": [
      "[0.002 0.728 0.332 ... 0.994 0.992 0.942]\n"
     ]
    },
    {
     "data": {
      "text/html": [
       "<div>\n",
       "<style scoped>\n",
       "    .dataframe tbody tr th:only-of-type {\n",
       "        vertical-align: middle;\n",
       "    }\n",
       "\n",
       "    .dataframe tbody tr th {\n",
       "        vertical-align: top;\n",
       "    }\n",
       "\n",
       "    .dataframe thead th {\n",
       "        text-align: right;\n",
       "    }\n",
       "</style>\n",
       "<table border=\"1\" class=\"dataframe\">\n",
       "  <thead>\n",
       "    <tr style=\"text-align: right;\">\n",
       "      <th></th>\n",
       "      <th>0</th>\n",
       "      <th>1</th>\n",
       "      <th>2</th>\n",
       "      <th>3</th>\n",
       "      <th>4</th>\n",
       "      <th>5</th>\n",
       "      <th>6</th>\n",
       "      <th>7</th>\n",
       "      <th>8</th>\n",
       "      <th>9</th>\n",
       "      <th>...</th>\n",
       "      <th>492</th>\n",
       "      <th>493</th>\n",
       "      <th>494</th>\n",
       "      <th>495</th>\n",
       "      <th>496</th>\n",
       "      <th>497</th>\n",
       "      <th>498</th>\n",
       "      <th>499</th>\n",
       "      <th>500</th>\n",
       "      <th>501</th>\n",
       "    </tr>\n",
       "  </thead>\n",
       "  <tbody>\n",
       "    <tr>\n",
       "      <th>0</th>\n",
       "      <td>0.5</td>\n",
       "      <td>0.624580</td>\n",
       "      <td>0.648489</td>\n",
       "      <td>0.657112</td>\n",
       "      <td>0.661659</td>\n",
       "      <td>0.665540</td>\n",
       "      <td>0.668231</td>\n",
       "      <td>0.670977</td>\n",
       "      <td>0.673069</td>\n",
       "      <td>0.675038</td>\n",
       "      <td>...</td>\n",
       "      <td>1.000000</td>\n",
       "      <td>1.000000</td>\n",
       "      <td>1.000000</td>\n",
       "      <td>1.000000</td>\n",
       "      <td>1.000000</td>\n",
       "      <td>1.000000</td>\n",
       "      <td>1.000000</td>\n",
       "      <td>1.000000</td>\n",
       "      <td>1.000000</td>\n",
       "      <td>1.0</td>\n",
       "    </tr>\n",
       "    <tr>\n",
       "      <th>1</th>\n",
       "      <td>1.0</td>\n",
       "      <td>0.999851</td>\n",
       "      <td>0.999403</td>\n",
       "      <td>0.999254</td>\n",
       "      <td>0.999254</td>\n",
       "      <td>0.999254</td>\n",
       "      <td>0.999104</td>\n",
       "      <td>0.999104</td>\n",
       "      <td>0.999104</td>\n",
       "      <td>0.999104</td>\n",
       "      <td>...</td>\n",
       "      <td>0.275862</td>\n",
       "      <td>0.260188</td>\n",
       "      <td>0.241081</td>\n",
       "      <td>0.221227</td>\n",
       "      <td>0.198537</td>\n",
       "      <td>0.174354</td>\n",
       "      <td>0.140469</td>\n",
       "      <td>0.104195</td>\n",
       "      <td>0.055083</td>\n",
       "      <td>0.0</td>\n",
       "    </tr>\n",
       "    <tr>\n",
       "      <th>2</th>\n",
       "      <td>0.0</td>\n",
       "      <td>0.002000</td>\n",
       "      <td>0.004000</td>\n",
       "      <td>0.006000</td>\n",
       "      <td>0.008000</td>\n",
       "      <td>0.010000</td>\n",
       "      <td>0.012000</td>\n",
       "      <td>0.014000</td>\n",
       "      <td>0.016000</td>\n",
       "      <td>0.018000</td>\n",
       "      <td>...</td>\n",
       "      <td>0.984000</td>\n",
       "      <td>0.986000</td>\n",
       "      <td>0.988000</td>\n",
       "      <td>0.990000</td>\n",
       "      <td>0.992000</td>\n",
       "      <td>0.994000</td>\n",
       "      <td>0.996000</td>\n",
       "      <td>0.998000</td>\n",
       "      <td>1.000000</td>\n",
       "      <td>NaN</td>\n",
       "    </tr>\n",
       "  </tbody>\n",
       "</table>\n",
       "<p>3 rows × 502 columns</p>\n",
       "</div>"
      ],
      "text/plain": [
       "   0         1         2         3         4         5         6         7    \\\n",
       "0  0.5  0.624580  0.648489  0.657112  0.661659  0.665540  0.668231  0.670977   \n",
       "1  1.0  0.999851  0.999403  0.999254  0.999254  0.999254  0.999104  0.999104   \n",
       "2  0.0  0.002000  0.004000  0.006000  0.008000  0.010000  0.012000  0.014000   \n",
       "\n",
       "        8         9    ...       492       493       494       495       496  \\\n",
       "0  0.673069  0.675038  ...  1.000000  1.000000  1.000000  1.000000  1.000000   \n",
       "1  0.999104  0.999104  ...  0.275862  0.260188  0.241081  0.221227  0.198537   \n",
       "2  0.016000  0.018000  ...  0.984000  0.986000  0.988000  0.990000  0.992000   \n",
       "\n",
       "        497       498       499       500  501  \n",
       "0  1.000000  1.000000  1.000000  1.000000  1.0  \n",
       "1  0.174354  0.140469  0.104195  0.055083  0.0  \n",
       "2  0.994000  0.996000  0.998000  1.000000  NaN  \n",
       "\n",
       "[3 rows x 502 columns]"
      ]
     },
     "execution_count": 34,
     "metadata": {},
     "output_type": "execute_result"
    }
   ],
   "source": [
    "y_proba = model_rf.predict_proba(X_test)[:,1]\n",
    "print(y_proba)\n",
    "pd.DataFrame(precision_recall_curve(y_test[['response']], y_proba))"
   ]
  },
  {
   "cell_type": "code",
   "execution_count": null,
   "metadata": {},
   "outputs": [
    {
     "data": {
      "application/vnd.plotly.v1+json": {
       "config": {
        "plotlyServerURL": "https://plot.ly"
       },
       "data": [
        {
         "hovertemplate": "Recall=%{x}<br>Precision=%{y}<extra></extra>",
         "legendgroup": "",
         "line": {
          "color": "#636efa"
         },
         "marker": {
          "symbol": "circle"
         },
         "mode": "lines",
         "name": "",
         "orientation": "v",
         "showlegend": false,
         "stackgroup": "1",
         "type": "scatter",
         "x": [
          1,
          0.999850723988655,
          0.9994028959546201,
          0.9992536199432751,
          0.9992536199432751,
          0.9992536199432751,
          0.9991043439319302,
          0.9991043439319302,
          0.9991043439319302,
          0.9991043439319302,
          0.9989550679205852,
          0.9989550679205852,
          0.9988057919092402,
          0.9985072398865502,
          0.9985072398865502,
          0.9985072398865502,
          0.9985072398865502,
          0.9983579638752053,
          0.9982086878638603,
          0.9979101358411703,
          0.9979101358411703,
          0.9979101358411703,
          0.9979101358411703,
          0.9977608598298253,
          0.9976115838184804,
          0.9973130317957905,
          0.9973130317957905,
          0.9971637557844455,
          0.9970144797731004,
          0.9970144797731004,
          0.9968652037617555,
          0.9964173757277206,
          0.9962680997163755,
          0.9961188237050306,
          0.9961188237050306,
          0.9959695476936856,
          0.9959695476936856,
          0.9955217196596506,
          0.9949246156142708,
          0.9949246156142708,
          0.9947753396029259,
          0.9946260635915808,
          0.9944767875802358,
          0.9943275115688909,
          0.9943275115688909,
          0.994028959546201,
          0.994028959546201,
          0.994028959546201,
          0.9937304075235109,
          0.993431855500821,
          0.992984027466786,
          0.992984027466786,
          0.9925361994327512,
          0.9922376474100612,
          0.9916405433646813,
          0.9916405433646813,
          0.9913419913419913,
          0.9908941633079564,
          0.9905956112852664,
          0.9902970592625765,
          0.9898492312285416,
          0.9898492312285416,
          0.9895506792058516,
          0.9894014031945066,
          0.9892521271831617,
          0.9888042991491267,
          0.9883564711150918,
          0.9882071951037469,
          0.9879086430810569,
          0.9873115390356769,
          0.987012987012987,
          0.9867144349902971,
          0.9862666069562621,
          0.9856695029108822,
          0.9853709508881923,
          0.9850723988655024,
          0.9850723988655024,
          0.9841767427974325,
          0.9837289147633975,
          0.9834303627407076,
          0.9831318107180176,
          0.9826839826839827,
          0.9822361546499477,
          0.9820868786386028,
          0.9814897745932228,
          0.9813404985818779,
          0.9802955665024631,
          0.9801462904911181,
          0.9795491864457382,
          0.9789520824003582,
          0.9785042543663234,
          0.9782057023436334,
          0.9779071503209434,
          0.9777578743095985,
          0.9774593222869085,
          0.9774593222869085,
          0.9771607702642185,
          0.9770114942528736,
          0.9764143902074937,
          0.9758172861621137,
          0.9753694581280788,
          0.9749216300940439,
          0.974473802060009,
          0.974473802060009,
          0.974175250037319,
          0.9731303179579042,
          0.9728317659352143,
          0.9723839379011793,
          0.9720853858784894,
          0.9714882818331094,
          0.9713390058217645,
          0.9702940737423495,
          0.9696969696969697,
          0.9695476936856248,
          0.9692491416629347,
          0.9683534855948649,
          0.96760710553814,
          0.9671592775041051,
          0.9662636214360353,
          0.9656665173906553,
          0.9655172413793104,
          0.9650694133452754,
          0.9643230332885505,
          0.9635766532318256,
          0.9628302731751007,
          0.9620838931183758,
          0.9613375130616509,
          0.9607404090162711,
          0.9595462009255112,
          0.9589490968801314,
          0.9582027168234065,
          0.9579041648007165,
          0.9574563367666816,
          0.9568592327213017,
          0.9567099567099567,
          0.9562621286759218,
          0.9556650246305419,
          0.9553664726078519,
          0.9540229885057471,
          0.9532766084490223,
          0.9529780564263323,
          0.9519331243469175,
          0.9513360203015375,
          0.9505896402448126,
          0.9498432601880877,
          0.9490968801313628,
          0.948201224063293,
          0.9476041200179132,
          0.9464099119271533,
          0.9456635318704284,
          0.9449171518137035,
          0.9441707717569786,
          0.9431258396775638,
          0.9426780116435289,
          0.941782355575459,
          0.9408866995073891,
          0.9399910434393193,
          0.9387968353485595,
          0.9381997313031796,
          0.9376026272577996,
          0.9364084191670399,
          0.935064935064935,
          0.9346171070309002,
          0.9341692789968652,
          0.9334228989401403,
          0.9320794148380356,
          0.9314823107926556,
          0.9307359307359307,
          0.9302881027018958,
          0.9298402746678609,
          0.928646066577101,
          0.9278996865203761,
          0.9270040304523063,
          0.9265562024182714,
          0.9255112703388565,
          0.9238692342140618,
          0.9234214061800269,
          0.922525750111957,
          0.9214808180325421,
          0.9208837139871623,
          0.9202866099417824,
          0.9190924018510226,
          0.9177489177489178,
          0.9165547096581579,
          0.9155097775787431,
          0.9147633975220182,
          0.9141662934766384,
          0.9131213613972234,
          0.9120764293178086,
          0.9099865651589789,
          0.909240185102254,
          0.9086430810568742,
          0.9081952530228392,
          0.9070010449320794,
          0.9059561128526645,
          0.9049111807732497,
          0.9040155247051799,
          0.9025227645917301,
          0.9023734885803851,
          0.9013285565009703,
          0.9007314524555904,
          0.9002836244215554,
          0.8987908643081057,
          0.8977459322286908,
          0.8972981041946559,
          0.8959546200925511,
          0.8952082400358262,
          0.8943125839677564,
          0.8935662039110315,
          0.8926705478429616,
          0.8916256157635468,
          0.890431407672787,
          0.8895357516047171,
          0.8887893715479922,
          0.8871473354231975,
          0.8862516793551276,
          0.8855052992984027,
          0.8847589192416778,
          0.884161815196298,
          0.8835647111509181,
          0.8831168831168831,
          0.8823705030601582,
          0.8802806389013286,
          0.8790864308105687,
          0.877742946708464,
          0.877145842663084,
          0.8763994626063591,
          0.8761009105836692,
          0.8753545305269443,
          0.8747574264815644,
          0.8735632183908046,
          0.8720704582773549,
          0.870876250186595,
          0.8705776981639051,
          0.8699805941185251,
          0.8681892819823854,
          0.8663979698462457,
          0.8650544857441409,
          0.864457381698761,
          0.8631138975966562,
          0.8614718614718615,
          0.8610240334378265,
          0.8605762054037916,
          0.8593819973130318,
          0.858187789222272,
          0.857739961188237,
          0.8562472010747872,
          0.8555008210180624,
          0.8550529929840275,
          0.8543066129273026,
          0.8535602328705777,
          0.8523660247798179,
          0.851470368711748,
          0.8507239886550232,
          0.8492312285415734,
          0.8480370204508135,
          0.8474399164054337,
          0.8460964323033289,
          0.844752948201224,
          0.8435587401104643,
          0.8434094640991193,
          0.8426630840423944,
          0.8410210479175997,
          0.8396775638154949,
          0.83893118375877,
          0.8375876996566651,
          0.8357963875205254,
          0.8353485594864906,
          0.8335572473503507,
          0.8329601433049709,
          0.8316166592028661,
          0.8313181071801762,
          0.8296760710553814,
          0.8290789670100015,
          0.8277354829078967,
          0.8266905508284819,
          0.825347066726377,
          0.8243021346469622,
          0.8232572025675474,
          0.8225108225108225,
          0.8213166144200627,
          0.819823854306613,
          0.8190774742498881,
          0.8184803702045081,
          0.8172861621137483,
          0.8159426780116436,
          0.8148977459322287,
          0.8132557098074339,
          0.8119122257053292,
          0.8104194655918794,
          0.8092252575011196,
          0.8077324973876698,
          0.80623973727422,
          0.8054933572174952,
          0.8042991491267353,
          0.8028063890132856,
          0.8017614569338707,
          0.800417972831766,
          0.7996715927750411,
          0.7981788326615913,
          0.7977310046275563,
          0.7966860725481415,
          0.7951933124346917,
          0.793999104343932,
          0.7928048962531721,
          0.7922077922077922,
          0.7913121361397224,
          0.7899686520376176,
          0.7880280638901328,
          0.7859381997313032,
          0.7847439916405433,
          0.7836990595611285,
          0.7828034034930587,
          0.780862815345574,
          0.7795193312434692,
          0.7780265711300194,
          0.7771309150619495,
          0.7756381549484997,
          0.77414539483505,
          0.7729511867442902,
          0.7717569786535303,
          0.7710105985968055,
          0.7692192864606657,
          0.7681743543812509,
          0.7671294223018361,
          0.7654873861770414,
          0.7642931780862815,
          0.7630989699955217,
          0.7623525899387968,
          0.761009105836692,
          0.7595163457232422,
          0.7587699656665174,
          0.7578743095984475,
          0.7563815494849978,
          0.754888789371548,
          0.7542916853261681,
          0.7529482012240633,
          0.7508583370652336,
          0.7501119570085087,
          0.748619196895059,
          0.7462307807135393,
          0.7453351246454695,
          0.7445887445887446,
          0.742498880429915,
          0.7411553963278101,
          0.7395133602030154,
          0.7389162561576355,
          0.7378713240782206,
          0.7366771159874608,
          0.7351843558740111,
          0.7341394237945962,
          0.7332437677265263,
          0.7310046275563516,
          0.7293625914315569,
          0.728616211374832,
          0.7283176593521421,
          0.7274220032840722,
          0.7257799671592775,
          0.7242872070458277,
          0.7233915509777579,
          0.7223466188983431,
          0.7210031347962382,
          0.7204060307508583,
          0.7189132706374086,
          0.7169726824899239,
          0.715927750410509,
          0.7136886102403344,
          0.7124944021495746,
          0.7105538140020898,
          0.7086132258546052,
          0.7080161218092252,
          0.7074190177638453,
          0.7059262576503956,
          0.7042842215256009,
          0.7026421854008061,
          0.7008508732646663,
          0.6983131810718017,
          0.697118972981042,
          0.6953276608449023,
          0.6930885206747276,
          0.6917450365726228,
          0.6898044484251381,
          0.6881624123003434,
          0.6871174802209284,
          0.6859232721301687,
          0.6844305120167189,
          0.6829377519032691,
          0.6811464397671294,
          0.6795044036423347,
          0.6778623675175399,
          0.6763696074040901,
          0.6751753993133304,
          0.6732348111658456,
          0.6723391550977758,
          0.6703985669502911,
          0.6680101507687715,
          0.6666666666666666,
          0.664576802507837,
          0.6633825944170771,
          0.6614420062695925,
          0.6592028660994178,
          0.6575608299746231,
          0.6565158978952083,
          0.6554709658157934,
          0.6530825496342738,
          0.651141961486789,
          0.6502463054187192,
          0.6486042692939245,
          0.6469622331691297,
          0.6454694730556799,
          0.6439767129422301,
          0.6418868487834005,
          0.6409911927153307,
          0.6393491565905359,
          0.6377071204657412,
          0.6354679802955665,
          0.6335273921480818,
          0.6314375279892521,
          0.6297954918644574,
          0.6283027317510076,
          0.626212867592178,
          0.6233766233766234,
          0.6218838632631736,
          0.619346171070309,
          0.6177041349455142,
          0.6154649947753396,
          0.612927302582475,
          0.6100910583669205,
          0.6084490222421257,
          0.606657710105986,
          0.6042692939244664,
          0.6020301537542917,
          0.5993431855500821,
          0.5956112852664577,
          0.5927750410509032,
          0.5908344529034184,
          0.587401104642484,
          0.5853112404836542,
          0.5815793402000299,
          0.5797880280638902,
          0.5772503358710255,
          0.5733691595760562,
          0.5708314673831916,
          0.5672488431109121,
          0.5630691147932527,
          0.5594864905209733,
          0.5556053142260039,
          0.5526197939991043,
          0.5500821018062397,
          0.5470965815793402,
          0.5433646812957158,
          0.5376921928646067,
          0.5351545006717421,
          0.5309747723540827,
          0.5273921480818032,
          0.5241080758322137,
          0.5208240035826243,
          0.5176892073443797,
          0.5138080310494103,
          0.5102254067771309,
          0.5058964024481266,
          0.5026123301985371,
          0.4987311539035677,
          0.49320794148380354,
          0.4885803851321093,
          0.4852963128825198,
          0.4812658605762054,
          0.477235408269891,
          0.47171219585012686,
          0.4675324675324675,
          0.4618599791013584,
          0.4575309747723541,
          0.45245559038662486,
          0.44752948201224063,
          0.44275264964920136,
          0.4391700253769219,
          0.43275115688908794,
          0.42752649649201374,
          0.4202119719361099,
          0.41259889535751604,
          0.406180026869682,
          0.3994626063591581,
          0.3912524257351844,
          0.3849828332586953,
          0.37811613673682637,
          0.367517539931333,
          0.35841170323928945,
          0.3493058665472459,
          0.3393043737871324,
          0.32422749664128975,
          0.3088520674727571,
          0.29377519032691446,
          0.27586206896551724,
          0.2601880877742947,
          0.24108075832213763,
          0.22122704881325572,
          0.19853709508881923,
          0.17435438125093297,
          0.14046872667562324,
          0.10419465591879384,
          0.05508284818629646,
          0
         ],
         "xaxis": "x",
         "y": [
          0.5,
          0.624580380455054,
          0.6484889577683068,
          0.6571120054972023,
          0.6616585944449935,
          0.6655398687611851,
          0.6682308306709265,
          0.6709774436090226,
          0.6730691874497184,
          0.6750378214826022,
          0.6771223312759284,
          0.6786329986816753,
          0.6795653057079016,
          0.6817162657969833,
          0.683737094960646,
          0.6849974398361495,
          0.6867556468172484,
          0.6883491148620832,
          0.6898792943361188,
          0.6915994206496999,
          0.6926025694156651,
          0.6944011633946193,
          0.6957019460922053,
          0.6966854283927455,
          0.6978176882113397,
          0.6991419003767266,
          0.7004613126441602,
          0.7013123359580052,
          0.7020918742773048,
          0.7034969454392248,
          0.704802110817942,
          0.7055279568755946,
          0.7066172578083643,
          0.7075601738946029,
          0.7084616201295254,
          0.7091083005632904,
          0.710013834202405,
          0.7107534903548971,
          0.7123009511595597,
          0.7133682971208392,
          0.7144848289911011,
          0.7152979066022545,
          0.7159591617409995,
          0.7166989455562729,
          0.718167115902965,
          0.7191921373798467,
          0.7199697264569143,
          0.7209050557540327,
          0.7218607677293428,
          0.7233695652173913,
          0.7248556173041298,
          0.7262008733624454,
          0.7265078671328671,
          0.7274816679435263,
          0.7280797895659799,
          0.7288786482334869,
          0.7297000329634106,
          0.7308962783527857,
          0.7324503311258278,
          0.7334438916528468,
          0.7344113412338021,
          0.7353887102140402,
          0.7363101188492724,
          0.7366900077803712,
          0.7373984644486481,
          0.7382146439317954,
          0.7390333742605202,
          0.7396648044692737,
          0.7402684563758389,
          0.7414798206278027,
          0.7424208398832248,
          0.7431141090500281,
          0.7438639945958118,
          0.7443354751437268,
          0.7450338600451467,
          0.7454812471757795,
          0.746746633472898,
          0.7475904297539404,
          0.7480136208853575,
          0.7487214456188204,
          0.7496869664200342,
          0.7507983576642335,
          0.7515705311250714,
          0.7522295906700206,
          0.7535816618911175,
          0.7545047629978193,
          0.7553485162180814,
          0.7559290812802211,
          0.7562521608850985,
          0.7568378534333525,
          0.75736568457539,
          0.7583613007753732,
          0.759272137227631,
          0.7597726481846654,
          0.7602461395564843,
          0.7611298384284552,
          0.7618715083798883,
          0.7625538855877898,
          0.7632438739789965,
          0.7638466931526058,
          0.7649262467806135,
          0.7658302063789869,
          0.7669172932330827,
          0.7678193366266761,
          0.7687595712098009,
          0.7695667571715263,
          0.7709688867857566,
          0.7724415984821534,
          0.7734885378310963,
          0.7746696821806928,
          0.775104228707564,
          0.7762120850250777,
          0.7766618842659014,
          0.7779374775422206,
          0.7790041991601679,
          0.7798749699446983,
          0.7806816813200048,
          0.7814497648052104,
          0.7825193423597679,
          0.7830771093088004,
          0.7840950418232513,
          0.7858271544913091,
          0.7860793380384522,
          0.7868113115553389,
          0.7881231671554252,
          0.7892481018858682,
          0.7900871058765796,
          0.7912466191295795,
          0.7922109933448361,
          0.7925971622455275,
          0.7942341004701806,
          0.7955616166625341,
          0.7965722801788375,
          0.7978590988299726,
          0.7989279481426078,
          0.8005498625343664,
          0.8009508319779808,
          0.802105527008397,
          0.8024861878453039,
          0.804383423604988,
          0.805450416351249,
          0.8059908998988877,
          0.8072197593413553,
          0.8078142839020678,
          0.8091302136317395,
          0.8098331422748695,
          0.8105142273829271,
          0.8117647058823529,
          0.8120917125656462,
          0.8131176999101527,
          0.814252636995112,
          0.8148673022416902,
          0.8154362416107382,
          0.8168412883197517,
          0.8172279792746114,
          0.8181464174454829,
          0.8194950546590317,
          0.8199478487614081,
          0.8204960835509139,
          0.8216902145473574,
          0.822041672126851,
          0.8224789915966386,
          0.8240326401684653,
          0.8248319493871096,
          0.8254785478547855,
          0.8264725347452019,
          0.828575222414022,
          0.8294532393241985,
          0.8310441392185625,
          0.831753238082521,
          0.8327978580990629,
          0.8336909871244635,
          0.8345652466066389,
          0.835959595959596,
          0.8370460375320643,
          0.8380501015572106,
          0.8392348392348392,
          0.8413886997957795,
          0.8422704325283121,
          0.8429898879475266,
          0.8442892358258012,
          0.8446974893675401,
          0.845783464025313,
          0.8470133811560215,
          0.8480365044247787,
          0.8488710347693587,
          0.8498473494310297,
          0.8510016694490818,
          0.85168664622247,
          0.8534229315413692,
          0.8552372928952542,
          0.8561181434599157,
          0.8572636325207834,
          0.8589199886909811,
          0.8598753187871918,
          0.8620591581342435,
          0.8630468861336753,
          0.8638376910987284,
          0.8646831640680875,
          0.8654149347857245,
          0.8665804969122505,
          0.867270635605407,
          0.8684552141929901,
          0.8690751445086705,
          0.8700246055869156,
          0.8708647707486942,
          0.871530300828368,
          0.8726875455207574,
          0.873996203825376,
          0.8749085588880761,
          0.8764490095377843,
          0.8773349021914988,
          0.8781314470969643,
          0.8788191881918819,
          0.8796625222024866,
          0.880338078291815,
          0.8807720861172977,
          0.8829137494413823,
          0.8835023866348448,
          0.8840926064227035,
          0.8847016599371915,
          0.8855430711610487,
          0.8859675480769231,
          0.8868975903614458,
          0.8883517147605379,
          0.8896290688872066,
          0.890760127446518,
          0.8908621736490588,
          0.8918631178707225,
          0.8927483241925656,
          0.8937080024434942,
          0.8946401225114855,
          0.8954719877206446,
          0.8964033200122964,
          0.8967533466687183,
          0.8976693934249113,
          0.8985911131754142,
          0.8990071362085014,
          0.9002020830094823,
          0.9007633587786259,
          0.9012962673746682,
          0.9029430181590482,
          0.9037466687568585,
          0.9046197360150848,
          0.9052117776728075,
          0.9064521217857706,
          0.9077385662288336,
          0.9080969735382666,
          0.9087735998730763,
          0.9100015900779138,
          0.9109447188147204,
          0.9119948889953682,
          0.91264,
          0.913447667895496,
          0.9140424164524421,
          0.9148148148148149,
          0.9152023214573594,
          0.9165588615782665,
          0.9173285783757498,
          0.9182645433864154,
          0.919147551651212,
          0.9201303993480032,
          0.921642401439555,
          0.9221311475409836,
          0.9231274638633377,
          0.9239255722048411,
          0.9245376486129459,
          0.9252645502645502,
          0.9261900812738431,
          0.9272183449651047,
          0.9277268942547877,
          0.9289407839866556,
          0.9295868874393711,
          0.9298509961493386,
          0.9300570278430057,
          0.9309127584467978,
          0.9322205361659079,
          0.9329278594357155,
          0.9336380565430845,
          0.9348489989820156,
          0.9355551776908689,
          0.9362427548585066,
          0.9366678047115057,
          0.938227241615332,
          0.9391080617495712,
          0.9398211829436038,
          0.9410446474745734,
          0.9422345209270149,
          0.9427977119084764,
          0.943025881535522,
          0.9439317429914679,
          0.9441633222823242,
          0.9445610353270374,
          0.9451742862147486,
          0.9455949455949456,
          0.946164672765658,
          0.9474334097724466,
          0.9478522184903659,
          0.9486452983885248,
          0.9492277649565063,
          0.94987557767508,
          0.9506590666191663,
          0.9524405506883604,
          0.9525429799426934,
          0.9540147296569068,
          0.9548398704569989,
          0.9554794520547946,
          0.9555796316359697,
          0.9566872055092425,
          0.9570987093255772,
          0.9577336491164147,
          0.958904109589041,
          0.9595608417200366,
          0.9606978879706153,
          0.961340206185567,
          0.961801070308175,
          0.9621142117907965,
          0.962757087270706,
          0.9635823114083983,
          0.9637074260189838,
          0.9638329604772558,
          0.9639790966778649,
          0.9638982416760195,
          0.9640314724615962,
          0.964527027027027,
          0.9653614457831325,
          0.965491231378465,
          0.9668999432570455,
          0.9674180716044706,
          0.967546023913456,
          0.9684050247430529,
          0.9687440442157423,
          0.969633307868602,
          0.9705037349166826,
          0.9708197350739105,
          0.9717307692307692,
          0.9720562728849489,
          0.9725444702242846,
          0.9738372093023255,
          0.9749222395023328,
          0.97503413302126,
          0.9753858175424888,
          0.9761252446183953,
          0.9764428739693758,
          0.9767853629746213,
          0.9771203155818541,
          0.9771022502960915,
          0.9780371982588049,
          0.9780023781212842,
          0.9781529294935452,
          0.9783170877262781,
          0.9792663476874003,
          0.9795959191838368,
          0.9801404212637914,
          0.9803173327977506,
          0.9807035175879397,
          0.9812726540475232,
          0.9814291481631006,
          0.9821862348178138,
          0.9823636732211636,
          0.9829372333942717,
          0.9829059829059829,
          0.983492969227634,
          0.9840621168778095,
          0.984423037507686,
          0.9848049281314168,
          0.9851638161961673,
          0.9857496902106567,
          0.9859154929577465,
          0.9860822600747818,
          0.9862757330006239,
          0.9864696086594504,
          0.9870590690878731,
          0.9874424445374633,
          0.9874134675896791,
          0.9875893984013462,
          0.9875448596157906,
          0.9875237893846479,
          0.9877014418999152,
          0.9876621995320145,
          0.9882704201322243,
          0.9886606760804451,
          0.9890581420296074,
          0.9894668959587274,
          0.9896618565582598,
          0.990280777537797,
          0.9911178509532063,
          0.991094700260643,
          0.9912891986062717,
          0.991701244813278,
          0.9919001751313485,
          0.9921035314762009,
          0.9920809502859657,
          0.9922890504516413,
          0.9927055702917772,
          0.9926796805678794,
          0.9928857269897733,
          0.9928635147190009,
          0.9928507596067918,
          0.9928299350212861,
          0.9934758155230596,
          0.9934596301308074,
          0.9934492884571945,
          0.9934389140271493,
          0.9940922517609634,
          0.9940747493163172,
          0.9942935402876055,
          0.9945067521171893,
          0.9947211383979803,
          0.9947089947089947,
          0.9946967950195988,
          0.9951400138856746,
          0.9953639313861845,
          0.9958149267612183,
          0.9958041958041958,
          0.9960224613944783,
          0.9960103262145036,
          0.9964664310954063,
          0.9966926529648004,
          0.9966848212171442,
          0.9969106463878327,
          0.997134670487106,
          0.9971278123504069,
          0.9978354978354979,
          0.9978297564504461,
          0.9978218780251694,
          0.9980554205153136,
          0.9982901807523205,
          0.9982855743325986,
          0.9982805207565709,
          0.9982737361282368,
          0.9985144837831146,
          0.9985078338721711,
          0.9987484355444305,
          0.9987424547283702,
          0.998738329548322,
          0.998730964467005,
          0.9989808917197452,
          0.9992305719415234,
          0.9992281965526113,
          0.9992248062015504,
          0.9992195629552549,
          0.9992160961588712,
          0.9992111490928215,
          0.9994700582935877,
          0.9994666666666666,
          0.9994629430719656,
          0.9994600431965442,
          0.9994575535665853,
          0.9997272231314784,
          1,
          1,
          1,
          1,
          1,
          1,
          1,
          1,
          1,
          1,
          1,
          1,
          1,
          1,
          1,
          1,
          1,
          1,
          1,
          1,
          1,
          1,
          1,
          1,
          1,
          1,
          1,
          1,
          1,
          1,
          1,
          1,
          1,
          1,
          1,
          1,
          1,
          1,
          1,
          1,
          1,
          1,
          1,
          1,
          1,
          1,
          1,
          1,
          1,
          1,
          1,
          1
         ],
         "yaxis": "y"
        }
       ],
       "layout": {
        "height": 500,
        "legend": {
         "tracegroupgap": 0
        },
        "shapes": [
         {
          "line": {
           "dash": "dash"
          },
          "type": "line",
          "x0": 0,
          "x1": 1,
          "y0": 1,
          "y1": 0
         }
        ],
        "template": {
         "data": {
          "bar": [
           {
            "error_x": {
             "color": "#2a3f5f"
            },
            "error_y": {
             "color": "#2a3f5f"
            },
            "marker": {
             "line": {
              "color": "#E5ECF6",
              "width": 0.5
             },
             "pattern": {
              "fillmode": "overlay",
              "size": 10,
              "solidity": 0.2
             }
            },
            "type": "bar"
           }
          ],
          "barpolar": [
           {
            "marker": {
             "line": {
              "color": "#E5ECF6",
              "width": 0.5
             },
             "pattern": {
              "fillmode": "overlay",
              "size": 10,
              "solidity": 0.2
             }
            },
            "type": "barpolar"
           }
          ],
          "carpet": [
           {
            "aaxis": {
             "endlinecolor": "#2a3f5f",
             "gridcolor": "white",
             "linecolor": "white",
             "minorgridcolor": "white",
             "startlinecolor": "#2a3f5f"
            },
            "baxis": {
             "endlinecolor": "#2a3f5f",
             "gridcolor": "white",
             "linecolor": "white",
             "minorgridcolor": "white",
             "startlinecolor": "#2a3f5f"
            },
            "type": "carpet"
           }
          ],
          "choropleth": [
           {
            "colorbar": {
             "outlinewidth": 0,
             "ticks": ""
            },
            "type": "choropleth"
           }
          ],
          "contour": [
           {
            "colorbar": {
             "outlinewidth": 0,
             "ticks": ""
            },
            "colorscale": [
             [
              0,
              "#0d0887"
             ],
             [
              0.1111111111111111,
              "#46039f"
             ],
             [
              0.2222222222222222,
              "#7201a8"
             ],
             [
              0.3333333333333333,
              "#9c179e"
             ],
             [
              0.4444444444444444,
              "#bd3786"
             ],
             [
              0.5555555555555556,
              "#d8576b"
             ],
             [
              0.6666666666666666,
              "#ed7953"
             ],
             [
              0.7777777777777778,
              "#fb9f3a"
             ],
             [
              0.8888888888888888,
              "#fdca26"
             ],
             [
              1,
              "#f0f921"
             ]
            ],
            "type": "contour"
           }
          ],
          "contourcarpet": [
           {
            "colorbar": {
             "outlinewidth": 0,
             "ticks": ""
            },
            "type": "contourcarpet"
           }
          ],
          "heatmap": [
           {
            "colorbar": {
             "outlinewidth": 0,
             "ticks": ""
            },
            "colorscale": [
             [
              0,
              "#0d0887"
             ],
             [
              0.1111111111111111,
              "#46039f"
             ],
             [
              0.2222222222222222,
              "#7201a8"
             ],
             [
              0.3333333333333333,
              "#9c179e"
             ],
             [
              0.4444444444444444,
              "#bd3786"
             ],
             [
              0.5555555555555556,
              "#d8576b"
             ],
             [
              0.6666666666666666,
              "#ed7953"
             ],
             [
              0.7777777777777778,
              "#fb9f3a"
             ],
             [
              0.8888888888888888,
              "#fdca26"
             ],
             [
              1,
              "#f0f921"
             ]
            ],
            "type": "heatmap"
           }
          ],
          "heatmapgl": [
           {
            "colorbar": {
             "outlinewidth": 0,
             "ticks": ""
            },
            "colorscale": [
             [
              0,
              "#0d0887"
             ],
             [
              0.1111111111111111,
              "#46039f"
             ],
             [
              0.2222222222222222,
              "#7201a8"
             ],
             [
              0.3333333333333333,
              "#9c179e"
             ],
             [
              0.4444444444444444,
              "#bd3786"
             ],
             [
              0.5555555555555556,
              "#d8576b"
             ],
             [
              0.6666666666666666,
              "#ed7953"
             ],
             [
              0.7777777777777778,
              "#fb9f3a"
             ],
             [
              0.8888888888888888,
              "#fdca26"
             ],
             [
              1,
              "#f0f921"
             ]
            ],
            "type": "heatmapgl"
           }
          ],
          "histogram": [
           {
            "marker": {
             "pattern": {
              "fillmode": "overlay",
              "size": 10,
              "solidity": 0.2
             }
            },
            "type": "histogram"
           }
          ],
          "histogram2d": [
           {
            "colorbar": {
             "outlinewidth": 0,
             "ticks": ""
            },
            "colorscale": [
             [
              0,
              "#0d0887"
             ],
             [
              0.1111111111111111,
              "#46039f"
             ],
             [
              0.2222222222222222,
              "#7201a8"
             ],
             [
              0.3333333333333333,
              "#9c179e"
             ],
             [
              0.4444444444444444,
              "#bd3786"
             ],
             [
              0.5555555555555556,
              "#d8576b"
             ],
             [
              0.6666666666666666,
              "#ed7953"
             ],
             [
              0.7777777777777778,
              "#fb9f3a"
             ],
             [
              0.8888888888888888,
              "#fdca26"
             ],
             [
              1,
              "#f0f921"
             ]
            ],
            "type": "histogram2d"
           }
          ],
          "histogram2dcontour": [
           {
            "colorbar": {
             "outlinewidth": 0,
             "ticks": ""
            },
            "colorscale": [
             [
              0,
              "#0d0887"
             ],
             [
              0.1111111111111111,
              "#46039f"
             ],
             [
              0.2222222222222222,
              "#7201a8"
             ],
             [
              0.3333333333333333,
              "#9c179e"
             ],
             [
              0.4444444444444444,
              "#bd3786"
             ],
             [
              0.5555555555555556,
              "#d8576b"
             ],
             [
              0.6666666666666666,
              "#ed7953"
             ],
             [
              0.7777777777777778,
              "#fb9f3a"
             ],
             [
              0.8888888888888888,
              "#fdca26"
             ],
             [
              1,
              "#f0f921"
             ]
            ],
            "type": "histogram2dcontour"
           }
          ],
          "mesh3d": [
           {
            "colorbar": {
             "outlinewidth": 0,
             "ticks": ""
            },
            "type": "mesh3d"
           }
          ],
          "parcoords": [
           {
            "line": {
             "colorbar": {
              "outlinewidth": 0,
              "ticks": ""
             }
            },
            "type": "parcoords"
           }
          ],
          "pie": [
           {
            "automargin": true,
            "type": "pie"
           }
          ],
          "scatter": [
           {
            "marker": {
             "colorbar": {
              "outlinewidth": 0,
              "ticks": ""
             }
            },
            "type": "scatter"
           }
          ],
          "scatter3d": [
           {
            "line": {
             "colorbar": {
              "outlinewidth": 0,
              "ticks": ""
             }
            },
            "marker": {
             "colorbar": {
              "outlinewidth": 0,
              "ticks": ""
             }
            },
            "type": "scatter3d"
           }
          ],
          "scattercarpet": [
           {
            "marker": {
             "colorbar": {
              "outlinewidth": 0,
              "ticks": ""
             }
            },
            "type": "scattercarpet"
           }
          ],
          "scattergeo": [
           {
            "marker": {
             "colorbar": {
              "outlinewidth": 0,
              "ticks": ""
             }
            },
            "type": "scattergeo"
           }
          ],
          "scattergl": [
           {
            "marker": {
             "colorbar": {
              "outlinewidth": 0,
              "ticks": ""
             }
            },
            "type": "scattergl"
           }
          ],
          "scattermapbox": [
           {
            "marker": {
             "colorbar": {
              "outlinewidth": 0,
              "ticks": ""
             }
            },
            "type": "scattermapbox"
           }
          ],
          "scatterpolar": [
           {
            "marker": {
             "colorbar": {
              "outlinewidth": 0,
              "ticks": ""
             }
            },
            "type": "scatterpolar"
           }
          ],
          "scatterpolargl": [
           {
            "marker": {
             "colorbar": {
              "outlinewidth": 0,
              "ticks": ""
             }
            },
            "type": "scatterpolargl"
           }
          ],
          "scatterternary": [
           {
            "marker": {
             "colorbar": {
              "outlinewidth": 0,
              "ticks": ""
             }
            },
            "type": "scatterternary"
           }
          ],
          "surface": [
           {
            "colorbar": {
             "outlinewidth": 0,
             "ticks": ""
            },
            "colorscale": [
             [
              0,
              "#0d0887"
             ],
             [
              0.1111111111111111,
              "#46039f"
             ],
             [
              0.2222222222222222,
              "#7201a8"
             ],
             [
              0.3333333333333333,
              "#9c179e"
             ],
             [
              0.4444444444444444,
              "#bd3786"
             ],
             [
              0.5555555555555556,
              "#d8576b"
             ],
             [
              0.6666666666666666,
              "#ed7953"
             ],
             [
              0.7777777777777778,
              "#fb9f3a"
             ],
             [
              0.8888888888888888,
              "#fdca26"
             ],
             [
              1,
              "#f0f921"
             ]
            ],
            "type": "surface"
           }
          ],
          "table": [
           {
            "cells": {
             "fill": {
              "color": "#EBF0F8"
             },
             "line": {
              "color": "white"
             }
            },
            "header": {
             "fill": {
              "color": "#C8D4E3"
             },
             "line": {
              "color": "white"
             }
            },
            "type": "table"
           }
          ]
         },
         "layout": {
          "annotationdefaults": {
           "arrowcolor": "#2a3f5f",
           "arrowhead": 0,
           "arrowwidth": 1
          },
          "autotypenumbers": "strict",
          "coloraxis": {
           "colorbar": {
            "outlinewidth": 0,
            "ticks": ""
           }
          },
          "colorscale": {
           "diverging": [
            [
             0,
             "#8e0152"
            ],
            [
             0.1,
             "#c51b7d"
            ],
            [
             0.2,
             "#de77ae"
            ],
            [
             0.3,
             "#f1b6da"
            ],
            [
             0.4,
             "#fde0ef"
            ],
            [
             0.5,
             "#f7f7f7"
            ],
            [
             0.6,
             "#e6f5d0"
            ],
            [
             0.7,
             "#b8e186"
            ],
            [
             0.8,
             "#7fbc41"
            ],
            [
             0.9,
             "#4d9221"
            ],
            [
             1,
             "#276419"
            ]
           ],
           "sequential": [
            [
             0,
             "#0d0887"
            ],
            [
             0.1111111111111111,
             "#46039f"
            ],
            [
             0.2222222222222222,
             "#7201a8"
            ],
            [
             0.3333333333333333,
             "#9c179e"
            ],
            [
             0.4444444444444444,
             "#bd3786"
            ],
            [
             0.5555555555555556,
             "#d8576b"
            ],
            [
             0.6666666666666666,
             "#ed7953"
            ],
            [
             0.7777777777777778,
             "#fb9f3a"
            ],
            [
             0.8888888888888888,
             "#fdca26"
            ],
            [
             1,
             "#f0f921"
            ]
           ],
           "sequentialminus": [
            [
             0,
             "#0d0887"
            ],
            [
             0.1111111111111111,
             "#46039f"
            ],
            [
             0.2222222222222222,
             "#7201a8"
            ],
            [
             0.3333333333333333,
             "#9c179e"
            ],
            [
             0.4444444444444444,
             "#bd3786"
            ],
            [
             0.5555555555555556,
             "#d8576b"
            ],
            [
             0.6666666666666666,
             "#ed7953"
            ],
            [
             0.7777777777777778,
             "#fb9f3a"
            ],
            [
             0.8888888888888888,
             "#fdca26"
            ],
            [
             1,
             "#f0f921"
            ]
           ]
          },
          "colorway": [
           "#636efa",
           "#EF553B",
           "#00cc96",
           "#ab63fa",
           "#FFA15A",
           "#19d3f3",
           "#FF6692",
           "#B6E880",
           "#FF97FF",
           "#FECB52"
          ],
          "font": {
           "color": "#2a3f5f"
          },
          "geo": {
           "bgcolor": "white",
           "lakecolor": "white",
           "landcolor": "#E5ECF6",
           "showlakes": true,
           "showland": true,
           "subunitcolor": "white"
          },
          "hoverlabel": {
           "align": "left"
          },
          "hovermode": "closest",
          "mapbox": {
           "style": "light"
          },
          "paper_bgcolor": "white",
          "plot_bgcolor": "#E5ECF6",
          "polar": {
           "angularaxis": {
            "gridcolor": "white",
            "linecolor": "white",
            "ticks": ""
           },
           "bgcolor": "#E5ECF6",
           "radialaxis": {
            "gridcolor": "white",
            "linecolor": "white",
            "ticks": ""
           }
          },
          "scene": {
           "xaxis": {
            "backgroundcolor": "#E5ECF6",
            "gridcolor": "white",
            "gridwidth": 2,
            "linecolor": "white",
            "showbackground": true,
            "ticks": "",
            "zerolinecolor": "white"
           },
           "yaxis": {
            "backgroundcolor": "#E5ECF6",
            "gridcolor": "white",
            "gridwidth": 2,
            "linecolor": "white",
            "showbackground": true,
            "ticks": "",
            "zerolinecolor": "white"
           },
           "zaxis": {
            "backgroundcolor": "#E5ECF6",
            "gridcolor": "white",
            "gridwidth": 2,
            "linecolor": "white",
            "showbackground": true,
            "ticks": "",
            "zerolinecolor": "white"
           }
          },
          "shapedefaults": {
           "line": {
            "color": "#2a3f5f"
           }
          },
          "ternary": {
           "aaxis": {
            "gridcolor": "white",
            "linecolor": "white",
            "ticks": ""
           },
           "baxis": {
            "gridcolor": "white",
            "linecolor": "white",
            "ticks": ""
           },
           "bgcolor": "#E5ECF6",
           "caxis": {
            "gridcolor": "white",
            "linecolor": "white",
            "ticks": ""
           }
          },
          "title": {
           "x": 0.05
          },
          "xaxis": {
           "automargin": true,
           "gridcolor": "white",
           "linecolor": "white",
           "ticks": "",
           "title": {
            "standoff": 15
           },
           "zerolinecolor": "white",
           "zerolinewidth": 2
          },
          "yaxis": {
           "automargin": true,
           "gridcolor": "white",
           "linecolor": "white",
           "ticks": "",
           "title": {
            "standoff": 15
           },
           "zerolinecolor": "white",
           "zerolinewidth": 2
          }
         }
        },
        "title": {
         "text": "Precision-Recall Curve (AUC=0.9644)"
        },
        "width": 700,
        "xaxis": {
         "anchor": "y",
         "constrain": "domain",
         "domain": [
          0,
          1
         ],
         "title": {
          "text": "Recall"
         }
        },
        "yaxis": {
         "anchor": "x",
         "domain": [
          0,
          1
         ],
         "scaleanchor": "x",
         "scaleratio": 1,
         "title": {
          "text": "Precision"
         }
        }
       }
      }
     },
     "metadata": {},
     "output_type": "display_data"
    }
   ],
   "source": [
    "precision, recall, thresholds = precision_recall_curve(y_test['response'], y_proba)\n",
    "\n",
    "fpr, tpr, _ = roc_curve(y_test['response'], y_proba)\n",
    "auc_score = roc_auc_score(y_test['response'], y_proba)\n",
    "\n",
    "\n",
    "fig = px.area(\n",
    "    x=recall, y=precision,\n",
    "    title=f'Precision-Recall Curve (AUC={auc(fpr, tpr):.4f})',\n",
    "    labels=dict(x='Recall', y='Precision'),\n",
    "    width=700, height=500\n",
    ")\n",
    "\n",
    "\n",
    "fig.add_shape(\n",
    "    type='line', line=dict(dash='dash'),\n",
    "    x0=0, x1=1, y0=1, y1=0\n",
    ")\n",
    "\n",
    "\n",
    "fig.update_yaxes(scaleanchor=\"x\", scaleratio=1)\n",
    "fig.update_xaxes(constrain='domain')\n",
    "\n",
    "fig.show()"
   ]
  },
  {
   "cell_type": "code",
   "execution_count": null,
   "metadata": {},
   "outputs": [
    {
     "data": {
      "image/png": "[encoded data removed]",
      "text/plain": [
       "<Figure size 432x288 with 1 Axes>"
      ]
     },
     "metadata": {
      "needs_background": "light"
     },
     "output_type": "display_data"
    }
   ],
   "source": [
    "# precision recall threshold curve\n",
    "def plot_precision_recall_vs_threshold(precision, recall, thresholds):\n",
    "    plt.plot(thresholds, precision[:-1], \"b--\", label = \"Precision\")\n",
    "    plt.plot(thresholds, recall[:-1], \"g-\", label=\"Recall\")\n",
    "\n",
    "plot_precision_recall_vs_threshold(precision, recall, thresholds)"
   ]
  }
 ],
 "metadata": {
  "interpreter": {
   "hash": "b417382ef8674e24d217cd8c15ed5000cd09319fb3bae652a603c04288f3ca0e"
  },
  "kernelspec": {
   "display_name": "Python 3.10.0 64-bit",
   "language": "python",
   "name": "python3"
  },
  "language_info": {
   "codemirror_mode": {
    "name": "ipython",
    "version": 3
   },
   "file_extension": ".py",
   "mimetype": "text/x-python",
   "name": "python",
   "nbconvert_exporter": "python",
   "pygments_lexer": "ipython3",
   "version": "3.8.8"
  },
  "orig_nbformat": 4
 },
 "nbformat": 4,
 "nbformat_minor": 2
}
