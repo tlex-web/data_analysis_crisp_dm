{
 "cells": [
  {
   "cell_type": "markdown",
   "metadata": {},
   "source": [
    "# Data Analysis mit Python Projekt: CRISP-DM\n",
    "\n",
    "### Marc Bösen, Tim Lui und Feras Ghazal\n",
    "### 16.11.2021"
   ]
  },
  {
   "cell_type": "markdown",
   "metadata": {},
   "source": [
    "# Business Understanding\n",
    "## Ausgangssituation\n",
    "\n",
    "Wir arbeiten für ein Beratungsunternehmen welches datengetriebene Lösungen für betriebswirtschaftliche Problemstellungen entwickelt. Unser Unternehmen wurde von einer Versicherungsgesellschaft beauftragt, ein Modell zu entwickeln um vorherzusagen ob ein Kunde ein Versicherungsprodukt abschließt oder nicht (`response` → Zielvariable).\n",
    "\n",
    "Für das Cross Selling setzt die Versicherungsgesellschaft verschiedene Kanäle ein. Unter anderem Telefon, E-Mail, Recommendations im Online-Banking oder per App.\n",
    "\n",
    "Zu diesem Zweck haben wir von unserem Auftraggeber einen Datenbestand mit 380.999 Zeilen und 12 verschiedenen Variablen erhalten. Neben dem Datenbestand haben wir von einem Verantwortlichen der NextGenInsurance eine Kurzbeschreibung des Unternehmens und des Produktes erhalten. Darüber hinaus wurde uns eine eine kurze Beschreibung der Daten in Form eines Data Dictionaries erhalten.  "
   ]
  },
  {
   "cell_type": "markdown",
   "metadata": {},
   "source": [
    "# Vorgehensweise\n",
    "Wir führen eine praktische Analyse des Datensatzes nach CRISP-DM durch. Auf den Schritt \"Deployment\" wird verzichtet, da die Ergebnisse vorher dem Auftraggeber präsentiert werden "
   ]
  },
  {
   "cell_type": "markdown",
   "metadata": {},
   "source": [
    "Speicherort muss festelegt werden für Bilder und muss ein Markdown sein und kein Code \n",
    "`<img src=\"Data_Analysis_WS2122/CRISP-DM_Process_Diagram.png\" width=\"800\" height=\"400\">`"
   ]
  },
  {
   "cell_type": "code",
   "execution_count": 1,
   "metadata": {},
   "outputs": [],
   "source": [
    "from helpers.helper_functions import read_and_set_df, set_datatypes"
   ]
  },
  {
   "cell_type": "code",
   "execution_count": 2,
   "metadata": {},
   "outputs": [],
   "source": [
    "df = read_and_set_df('data/train.csv', train=False)"
   ]
  },
  {
   "cell_type": "code",
   "execution_count": 3,
   "metadata": {},
   "outputs": [
    {
     "data": {
      "text/html": [
       "<div>\n",
       "<style scoped>\n",
       "    .dataframe tbody tr th:only-of-type {\n",
       "        vertical-align: middle;\n",
       "    }\n",
       "\n",
       "    .dataframe tbody tr th {\n",
       "        vertical-align: top;\n",
       "    }\n",
       "\n",
       "    .dataframe thead th {\n",
       "        text-align: right;\n",
       "    }\n",
       "</style>\n",
       "<table border=\"1\" class=\"dataframe\">\n",
       "  <thead>\n",
       "    <tr style=\"text-align: right;\">\n",
       "      <th></th>\n",
       "      <th>id</th>\n",
       "      <th>gender</th>\n",
       "      <th>age</th>\n",
       "      <th>driving_license</th>\n",
       "      <th>region_code</th>\n",
       "      <th>previously_insured</th>\n",
       "      <th>vehicle_age</th>\n",
       "      <th>vehicle_damage</th>\n",
       "      <th>annual_premium</th>\n",
       "      <th>policy_sales_channel</th>\n",
       "      <th>vintage</th>\n",
       "      <th>response</th>\n",
       "    </tr>\n",
       "  </thead>\n",
       "  <tbody>\n",
       "    <tr>\n",
       "      <th>0</th>\n",
       "      <td>Male</td>\n",
       "      <td>44</td>\n",
       "      <td>No</td>\n",
       "      <td>28.0</td>\n",
       "      <td>No</td>\n",
       "      <td>&gt; 2 Years</td>\n",
       "      <td>Yes</td>\n",
       "      <td>40454.0</td>\n",
       "      <td>26.0</td>\n",
       "      <td>217</td>\n",
       "      <td>1</td>\n",
       "      <td>NaN</td>\n",
       "    </tr>\n",
       "    <tr>\n",
       "      <th>1</th>\n",
       "      <td>Male</td>\n",
       "      <td>76</td>\n",
       "      <td>No</td>\n",
       "      <td>3.0</td>\n",
       "      <td>No</td>\n",
       "      <td>1-2 Year</td>\n",
       "      <td>No</td>\n",
       "      <td>33536.0</td>\n",
       "      <td>26.0</td>\n",
       "      <td>183</td>\n",
       "      <td>0</td>\n",
       "      <td>NaN</td>\n",
       "    </tr>\n",
       "    <tr>\n",
       "      <th>2</th>\n",
       "      <td>Male</td>\n",
       "      <td>47</td>\n",
       "      <td>No</td>\n",
       "      <td>28.0</td>\n",
       "      <td>No</td>\n",
       "      <td>&gt; 2 Years</td>\n",
       "      <td>Yes</td>\n",
       "      <td>38294.0</td>\n",
       "      <td>26.0</td>\n",
       "      <td>27</td>\n",
       "      <td>1</td>\n",
       "      <td>NaN</td>\n",
       "    </tr>\n",
       "    <tr>\n",
       "      <th>3</th>\n",
       "      <td>Male</td>\n",
       "      <td>21</td>\n",
       "      <td>Yes</td>\n",
       "      <td>11.0</td>\n",
       "      <td>Yes</td>\n",
       "      <td>&lt; 1 Year</td>\n",
       "      <td>No</td>\n",
       "      <td>28619.0</td>\n",
       "      <td>152.0</td>\n",
       "      <td>203</td>\n",
       "      <td>0</td>\n",
       "      <td>NaN</td>\n",
       "    </tr>\n",
       "    <tr>\n",
       "      <th>4</th>\n",
       "      <td>Female</td>\n",
       "      <td>29</td>\n",
       "      <td>Yes</td>\n",
       "      <td>41.0</td>\n",
       "      <td>Yes</td>\n",
       "      <td>&lt; 1 Year</td>\n",
       "      <td>No</td>\n",
       "      <td>27496.0</td>\n",
       "      <td>152.0</td>\n",
       "      <td>39</td>\n",
       "      <td>0</td>\n",
       "      <td>NaN</td>\n",
       "    </tr>\n",
       "  </tbody>\n",
       "</table>\n",
       "</div>"
      ],
      "text/plain": [
       "       id gender  age driving_license region_code previously_insured  \\\n",
       "0    Male     44   No            28.0          No          > 2 Years   \n",
       "1    Male     76   No             3.0          No           1-2 Year   \n",
       "2    Male     47   No            28.0          No          > 2 Years   \n",
       "3    Male     21  Yes            11.0         Yes           < 1 Year   \n",
       "4  Female     29  Yes            41.0         Yes           < 1 Year   \n",
       "\n",
       "  vehicle_age  vehicle_damage annual_premium policy_sales_channel vintage  \\\n",
       "0         Yes         40454.0           26.0                  217       1   \n",
       "1          No         33536.0           26.0                  183       0   \n",
       "2         Yes         38294.0           26.0                   27       1   \n",
       "3          No         28619.0          152.0                  203       0   \n",
       "4          No         27496.0          152.0                   39       0   \n",
       "\n",
       "   response  \n",
       "0       NaN  \n",
       "1       NaN  \n",
       "2       NaN  \n",
       "3       NaN  \n",
       "4       NaN  "
      ]
     },
     "execution_count": 3,
     "metadata": {},
     "output_type": "execute_result"
    }
   ],
   "source": [
    "df.describe(include = 'all').transpose() #transpose = Tabelle transponieren für eine bessere Ansicht\n",
    "df.head()"
   ]
  },
  {
   "cell_type": "markdown",
   "metadata": {},
   "source": [
    "### Attribute\n",
    "- `id`: Einmalige ID für einen Kunden \n",
    "- `gender`: Geschlecht des Kunden \n",
    "- `age`: Alter des Kunden\n",
    "- `driving_license`: 0: Der Kunde hat keinen Führerschein, 1: Der Kunde hat eine Führerschein\n",
    "- `region_code`: Eindeutiger Code für die Region des Kunden \n",
    "- `previously_insured`: 0: Kunde hat keine Autoversicherung, 1: Kunde hat eine Autoversicherung \n",
    "- `vehicle_age`: Alter des Fahrzeugs\n",
    "- `vehicle_damage`: 1 : Der Kunde hatte in der Vergangenheit einen Schaden an seinem Fahrzeug. 0 : Der Kunde hatte in der Vergangenheit einen Schaden an seinem Fahrzeug\n",
    "- `annual_premium`: Der Betrag, den der Kunde im Jahr als Prämie für die Krankenversicherung zu zahlen hat.\n",
    "- `policy_sales_channel`: Anonymisierter Code für den Kanal, über den der Kunde erreicht wird, d.h. verschiedene Agenten, per Post, per Telefon, persönlich, usw.\n",
    "- `vintage`: Anzahl der Tage, die der Kunde mit dem Unternehmen verbunden ist. \n",
    "- `response`: 1: Der Kunde ist interessiert, 0: Der Kunde ist nicht interessiert"
   ]
  },
  {
   "cell_type": "markdown",
   "metadata": {},
   "source": [
    "### Einheitliche Auspägungen bei den einzelnen Variablen erzeugen\n",
    "\n",
    "- Mit der Fuktion `df['variable_name'].unique()` haben wir die verschiedenen Ausprägungen der Variablen untersucht\n",
    "- Im Folgenden erzeugen wir dann einheitliche Ausprägungen bei allen Variablen erzeugt "
   ]
  },
  {
   "cell_type": "markdown",
   "metadata": {},
   "source": [
    "### Casting der einzelnen Variablen \n",
    "Die Datentypen werden für die weitere Verwendung angepasst:"
   ]
  },
  {
   "cell_type": "code",
   "execution_count": 4,
   "metadata": {},
   "outputs": [
    {
     "name": "stdout",
     "output_type": "stream",
     "text": [
      "<class 'pandas.core.frame.DataFrame'>\n",
      "Int64Index: 380999 entries, 0 to 380998\n",
      "Data columns (total 12 columns):\n",
      " #   Column                Non-Null Count   Dtype  \n",
      "---  ------                --------------   -----  \n",
      " 0   id                    379948 non-null  object \n",
      " 1   gender                370107 non-null  object \n",
      " 2   age                   380948 non-null  object \n",
      " 3   driving_license       380999 non-null  object \n",
      " 4   region_code           380948 non-null  object \n",
      " 5   previously_insured    380948 non-null  object \n",
      " 6   vehicle_age           380948 non-null  object \n",
      " 7   vehicle_damage        380999 non-null  float64\n",
      " 8   annual_premium        380999 non-null  object \n",
      " 9   policy_sales_channel  380948 non-null  object \n",
      " 10  vintage               380999 non-null  object \n",
      " 11  response              0 non-null       float64\n",
      "dtypes: float64(2), object(10)\n",
      "memory usage: 37.8+ MB\n"
     ]
    }
   ],
   "source": [
    "#set_datatypes(df)\n",
    "\n",
    "df.info()"
   ]
  }
 ],
 "metadata": {
  "interpreter": {
   "hash": "b417382ef8674e24d217cd8c15ed5000cd09319fb3bae652a603c04288f3ca0e"
  },
  "kernelspec": {
   "display_name": "Python 3.10.0 64-bit",
   "language": "python",
   "name": "python3"
  },
  "language_info": {
   "codemirror_mode": {
    "name": "ipython",
    "version": 3
   },
   "file_extension": ".py",
   "mimetype": "text/x-python",
   "name": "python",
   "nbconvert_exporter": "python",
   "pygments_lexer": "ipython3",
   "version": "3.10.0"
  },
  "orig_nbformat": 4
 },
 "nbformat": 4,
 "nbformat_minor": 2
}
