{
 "cells": [
  {
   "cell_type": "code",
   "execution_count": 58,
   "metadata": {
    "tags": [
     "hide-input"
    ]
   },
   "outputs": [],
   "source": [
    "import pandas as pd\n",
    "import json\n",
    "from sklearn.ensemble import RandomForestClassifier\n",
    "from sklearn.preprocessing import LabelEncoder\n",
    "import plotly.graph_objects as go\n",
    "from plotly.missing_ipywidgets import FigureWidget\n",
    "from plotly.subplots import make_subplots\n",
    "import plotly.express as px\n",
    "import plotly.figure_factory as ff\n",
    "import plotly.offline as py"
   ]
  },
  {
   "cell_type": "code",
   "execution_count": 59,
   "metadata": {
    "tags": [
     "hide-input"
    ]
   },
   "outputs": [],
   "source": [
    "with open('../data/random_forest_hyper_params.json','r') as file:\n",
    "    rf_hyper_params = json.load(file)"
   ]
  },
  {
   "cell_type": "code",
   "execution_count": 60,
   "metadata": {},
   "outputs": [],
   "source": [
    "X_train = pd.read_csv('../data/x_train_clean.csv', sep='$', decimal=\".\", engine='python') \n",
    "y_train = pd.read_csv('../data/y_train_clean.csv', sep='$', decimal=\".\", engine='python')   \n",
    "\n",
    "del X_train['Unnamed: 0']\n",
    "del y_train['Unnamed: 0']"
   ]
  },
  {
   "cell_type": "code",
   "execution_count": 61,
   "metadata": {
    "tags": [
     "hide-input"
    ]
   },
   "outputs": [
    {
     "data": {
      "text/html": [
       "<div>\n",
       "<style scoped>\n",
       "    .dataframe tbody tr th:only-of-type {\n",
       "        vertical-align: middle;\n",
       "    }\n",
       "\n",
       "    .dataframe tbody tr th {\n",
       "        vertical-align: top;\n",
       "    }\n",
       "\n",
       "    .dataframe thead th {\n",
       "        text-align: right;\n",
       "    }\n",
       "</style>\n",
       "<table border=\"1\" class=\"dataframe\">\n",
       "  <thead>\n",
       "    <tr style=\"text-align: right;\">\n",
       "      <th></th>\n",
       "      <th>id</th>\n",
       "      <th>age</th>\n",
       "      <th>region_code</th>\n",
       "      <th>annual_premium</th>\n",
       "      <th>policy_sales_channel</th>\n",
       "      <th>vintage</th>\n",
       "      <th>driving_license_No</th>\n",
       "      <th>driving_license_Yes</th>\n",
       "      <th>gender_Female</th>\n",
       "      <th>gender_Male</th>\n",
       "      <th>vehicle_age_1-2 Year</th>\n",
       "      <th>vehicle_age_&lt; 1 Year</th>\n",
       "      <th>vehicle_age_&gt; 2 Years</th>\n",
       "      <th>vehicle_damage_No</th>\n",
       "      <th>vehicle_damage_Yes</th>\n",
       "      <th>previously_insured_No</th>\n",
       "      <th>previously_insured_Yes</th>\n",
       "    </tr>\n",
       "  </thead>\n",
       "  <tbody>\n",
       "    <tr>\n",
       "      <th>0</th>\n",
       "      <td>381000</td>\n",
       "      <td>68</td>\n",
       "      <td>28.0</td>\n",
       "      <td>53066.0</td>\n",
       "      <td>12.0</td>\n",
       "      <td>195</td>\n",
       "      <td>0</td>\n",
       "      <td>1</td>\n",
       "      <td>0</td>\n",
       "      <td>1</td>\n",
       "      <td>1</td>\n",
       "      <td>0</td>\n",
       "      <td>0</td>\n",
       "      <td>1</td>\n",
       "      <td>0</td>\n",
       "      <td>0</td>\n",
       "      <td>1</td>\n",
       "    </tr>\n",
       "    <tr>\n",
       "      <th>1</th>\n",
       "      <td>381001</td>\n",
       "      <td>78</td>\n",
       "      <td>8.0</td>\n",
       "      <td>28301.0</td>\n",
       "      <td>124.0</td>\n",
       "      <td>195</td>\n",
       "      <td>0</td>\n",
       "      <td>1</td>\n",
       "      <td>0</td>\n",
       "      <td>1</td>\n",
       "      <td>1</td>\n",
       "      <td>0</td>\n",
       "      <td>0</td>\n",
       "      <td>0</td>\n",
       "      <td>1</td>\n",
       "      <td>1</td>\n",
       "      <td>0</td>\n",
       "    </tr>\n",
       "    <tr>\n",
       "      <th>2</th>\n",
       "      <td>381002</td>\n",
       "      <td>22</td>\n",
       "      <td>28.0</td>\n",
       "      <td>2630.0</td>\n",
       "      <td>153.0</td>\n",
       "      <td>170</td>\n",
       "      <td>0</td>\n",
       "      <td>1</td>\n",
       "      <td>0</td>\n",
       "      <td>1</td>\n",
       "      <td>0</td>\n",
       "      <td>1</td>\n",
       "      <td>0</td>\n",
       "      <td>1</td>\n",
       "      <td>0</td>\n",
       "      <td>0</td>\n",
       "      <td>1</td>\n",
       "    </tr>\n",
       "    <tr>\n",
       "      <th>3</th>\n",
       "      <td>381003</td>\n",
       "      <td>20</td>\n",
       "      <td>28.0</td>\n",
       "      <td>38627.0</td>\n",
       "      <td>124.0</td>\n",
       "      <td>62</td>\n",
       "      <td>0</td>\n",
       "      <td>1</td>\n",
       "      <td>1</td>\n",
       "      <td>0</td>\n",
       "      <td>1</td>\n",
       "      <td>0</td>\n",
       "      <td>0</td>\n",
       "      <td>0</td>\n",
       "      <td>1</td>\n",
       "      <td>1</td>\n",
       "      <td>0</td>\n",
       "    </tr>\n",
       "    <tr>\n",
       "      <th>4</th>\n",
       "      <td>381004</td>\n",
       "      <td>44</td>\n",
       "      <td>28.0</td>\n",
       "      <td>24984.0</td>\n",
       "      <td>152.0</td>\n",
       "      <td>255</td>\n",
       "      <td>0</td>\n",
       "      <td>1</td>\n",
       "      <td>1</td>\n",
       "      <td>0</td>\n",
       "      <td>1</td>\n",
       "      <td>0</td>\n",
       "      <td>0</td>\n",
       "      <td>1</td>\n",
       "      <td>0</td>\n",
       "      <td>0</td>\n",
       "      <td>1</td>\n",
       "    </tr>\n",
       "  </tbody>\n",
       "</table>\n",
       "</div>"
      ],
      "text/plain": [
       "       id  age  region_code  annual_premium  policy_sales_channel  vintage  \\\n",
       "0  381000   68         28.0         53066.0                  12.0      195   \n",
       "1  381001   78          8.0         28301.0                 124.0      195   \n",
       "2  381002   22         28.0          2630.0                 153.0      170   \n",
       "3  381003   20         28.0         38627.0                 124.0       62   \n",
       "4  381004   44         28.0         24984.0                 152.0      255   \n",
       "\n",
       "   driving_license_No  driving_license_Yes  gender_Female  gender_Male  \\\n",
       "0                   0                    1              0            1   \n",
       "1                   0                    1              0            1   \n",
       "2                   0                    1              0            1   \n",
       "3                   0                    1              1            0   \n",
       "4                   0                    1              1            0   \n",
       "\n",
       "   vehicle_age_1-2 Year  vehicle_age_< 1 Year  vehicle_age_> 2 Years  \\\n",
       "0                     1                     0                      0   \n",
       "1                     1                     0                      0   \n",
       "2                     0                     1                      0   \n",
       "3                     1                     0                      0   \n",
       "4                     1                     0                      0   \n",
       "\n",
       "   vehicle_damage_No  vehicle_damage_Yes  previously_insured_No  \\\n",
       "0                  1                   0                      0   \n",
       "1                  0                   1                      1   \n",
       "2                  1                   0                      0   \n",
       "3                  0                   1                      1   \n",
       "4                  1                   0                      0   \n",
       "\n",
       "   previously_insured_Yes  \n",
       "0                       1  \n",
       "1                       0  \n",
       "2                       1  \n",
       "3                       0  \n",
       "4                       1  "
      ]
     },
     "execution_count": 61,
     "metadata": {},
     "output_type": "execute_result"
    }
   ],
   "source": [
    "df = pd.read_csv('../data/test.csv', sep='[,$]' , decimal=\".\", engine='python')\n",
    "\n",
    "df.columns = df.columns.str.lower()\n",
    "\n",
    "df.rename(columns={\n",
    "    'id': 'id',\n",
    "    'gender': 'gender',\n",
    "    'age': 'age',\n",
    "    'driving_license': 'driving_license',\n",
    "    'region_code': 'region_code',\n",
    "    'previously_insured': 'previously_insured',\n",
    "    'vehicle_age': 'vehicle_age',\n",
    "    'vehicle__damage': 'vehicle_damage',\n",
    "    'annual__premium': 'annual_premium',\n",
    "    'policy_sales_channel': 'policy_sales_channel',\n",
    "    'vintage': 'vintage'\n",
    "},\n",
    "    inplace=True)\n",
    "\n",
    "\n",
    "\n",
    "df_one_hot_encoded_data = pd.get_dummies(df, columns = ['driving_license', 'gender', 'vehicle_age', 'vehicle_damage','previously_insured'])\n",
    "\n",
    "df_one_hot_encoded_data.rename(columns={\n",
    "    'id': 'id',\n",
    "    'gender': 'gender',\n",
    "    'age': 'age',\n",
    "    'driving_license_0': 'driving_license_No',\n",
    "    'driving_license_1': 'driving_license_Yes',\n",
    "    'region_code': 'region_code',\n",
    "    'previously_insured_0': 'previously_insured_No',\n",
    "    'previously_insured_1': 'previously_insured_Yes',\n",
    "    'vehicle_age': 'vehicle_age',\n",
    "    'vehicle_damage': 'vehicle_damage',\n",
    "    'annual_premium': 'annual_premium',\n",
    "    'policy_sales_channel': 'policy_sales_channel',\n",
    "    'vintage': 'vintage'\n",
    "},\n",
    "    inplace=True)\n",
    "\n",
    "df_one_hot_encoded_data.head()"
   ]
  },
  {
   "cell_type": "code",
   "execution_count": 62,
   "metadata": {},
   "outputs": [],
   "source": [
    "rfc = RandomForestClassifier(**rf_hyper_params, n_jobs=-1, random_state=42)\n",
    "\n",
    "X = df_one_hot_encoded_data.drop('id', axis=1)\n",
    "\n",
    "random_forest_classifier = rfc.fit(X_train, y_train['response'])\n",
    "\n",
    "y_pred = rfc.predict(X)"
   ]
  },
  {
   "cell_type": "code",
   "execution_count": 63,
   "metadata": {},
   "outputs": [
    {
     "data": {
      "text/plain": [
       "0    0.995564\n",
       "1    0.004436\n",
       "Name: y_pred, dtype: float64"
      ]
     },
     "execution_count": 63,
     "metadata": {},
     "output_type": "execute_result"
    }
   ],
   "source": [
    "df_y_pred = pd.DataFrame(y_pred, columns=['y_pred'])\n",
    "\n",
    "res = df_y_pred.set_index(df['id']).reset_index()\n",
    "res['y_pred'].value_counts(normalize=True)"
   ]
  },
  {
   "cell_type": "code",
   "execution_count": 64,
   "metadata": {},
   "outputs": [
    {
     "data": {
      "text/html": [
       "<div>\n",
       "<style scoped>\n",
       "    .dataframe tbody tr th:only-of-type {\n",
       "        vertical-align: middle;\n",
       "    }\n",
       "\n",
       "    .dataframe tbody tr th {\n",
       "        vertical-align: top;\n",
       "    }\n",
       "\n",
       "    .dataframe thead th {\n",
       "        text-align: right;\n",
       "    }\n",
       "</style>\n",
       "<table border=\"1\" class=\"dataframe\">\n",
       "  <thead>\n",
       "    <tr style=\"text-align: right;\">\n",
       "      <th></th>\n",
       "      <th>count</th>\n",
       "      <th>mean</th>\n",
       "      <th>std</th>\n",
       "      <th>min</th>\n",
       "      <th>25%</th>\n",
       "      <th>50%</th>\n",
       "      <th>75%</th>\n",
       "      <th>max</th>\n",
       "    </tr>\n",
       "  </thead>\n",
       "  <tbody>\n",
       "    <tr>\n",
       "      <th>id</th>\n",
       "      <td>564.0</td>\n",
       "      <td>445776.157801</td>\n",
       "      <td>36029.195454</td>\n",
       "      <td>381187.0</td>\n",
       "      <td>414270.25</td>\n",
       "      <td>446148.0</td>\n",
       "      <td>476599.75</td>\n",
       "      <td>507634.0</td>\n",
       "    </tr>\n",
       "    <tr>\n",
       "      <th>age</th>\n",
       "      <td>564.0</td>\n",
       "      <td>40.437943</td>\n",
       "      <td>12.273151</td>\n",
       "      <td>25.0</td>\n",
       "      <td>33.00</td>\n",
       "      <td>36.0</td>\n",
       "      <td>42.25</td>\n",
       "      <td>78.0</td>\n",
       "    </tr>\n",
       "    <tr>\n",
       "      <th>driving_license</th>\n",
       "      <td>564.0</td>\n",
       "      <td>0.819149</td>\n",
       "      <td>0.385236</td>\n",
       "      <td>0.0</td>\n",
       "      <td>1.00</td>\n",
       "      <td>1.0</td>\n",
       "      <td>1.00</td>\n",
       "      <td>1.0</td>\n",
       "    </tr>\n",
       "    <tr>\n",
       "      <th>region_code</th>\n",
       "      <td>564.0</td>\n",
       "      <td>22.526596</td>\n",
       "      <td>14.811102</td>\n",
       "      <td>1.0</td>\n",
       "      <td>7.00</td>\n",
       "      <td>28.0</td>\n",
       "      <td>33.00</td>\n",
       "      <td>50.0</td>\n",
       "    </tr>\n",
       "    <tr>\n",
       "      <th>previously_insured</th>\n",
       "      <td>564.0</td>\n",
       "      <td>0.000000</td>\n",
       "      <td>0.000000</td>\n",
       "      <td>0.0</td>\n",
       "      <td>0.00</td>\n",
       "      <td>0.0</td>\n",
       "      <td>0.00</td>\n",
       "      <td>0.0</td>\n",
       "    </tr>\n",
       "    <tr>\n",
       "      <th>annual_premium</th>\n",
       "      <td>564.0</td>\n",
       "      <td>26175.558511</td>\n",
       "      <td>13515.012565</td>\n",
       "      <td>2630.0</td>\n",
       "      <td>22423.50</td>\n",
       "      <td>27510.0</td>\n",
       "      <td>31855.75</td>\n",
       "      <td>91164.0</td>\n",
       "    </tr>\n",
       "    <tr>\n",
       "      <th>policy_sales_channel</th>\n",
       "      <td>564.0</td>\n",
       "      <td>129.514184</td>\n",
       "      <td>48.324666</td>\n",
       "      <td>3.0</td>\n",
       "      <td>124.00</td>\n",
       "      <td>157.0</td>\n",
       "      <td>163.00</td>\n",
       "      <td>163.0</td>\n",
       "    </tr>\n",
       "    <tr>\n",
       "      <th>vintage</th>\n",
       "      <td>564.0</td>\n",
       "      <td>168.304965</td>\n",
       "      <td>93.342182</td>\n",
       "      <td>10.0</td>\n",
       "      <td>90.00</td>\n",
       "      <td>177.5</td>\n",
       "      <td>254.00</td>\n",
       "      <td>299.0</td>\n",
       "    </tr>\n",
       "    <tr>\n",
       "      <th>y_pred</th>\n",
       "      <td>564.0</td>\n",
       "      <td>1.000000</td>\n",
       "      <td>0.000000</td>\n",
       "      <td>1.0</td>\n",
       "      <td>1.00</td>\n",
       "      <td>1.0</td>\n",
       "      <td>1.00</td>\n",
       "      <td>1.0</td>\n",
       "    </tr>\n",
       "  </tbody>\n",
       "</table>\n",
       "</div>"
      ],
      "text/plain": [
       "                      count           mean           std       min        25%  \\\n",
       "id                    564.0  445776.157801  36029.195454  381187.0  414270.25   \n",
       "age                   564.0      40.437943     12.273151      25.0      33.00   \n",
       "driving_license       564.0       0.819149      0.385236       0.0       1.00   \n",
       "region_code           564.0      22.526596     14.811102       1.0       7.00   \n",
       "previously_insured    564.0       0.000000      0.000000       0.0       0.00   \n",
       "annual_premium        564.0   26175.558511  13515.012565    2630.0   22423.50   \n",
       "policy_sales_channel  564.0     129.514184     48.324666       3.0     124.00   \n",
       "vintage               564.0     168.304965     93.342182      10.0      90.00   \n",
       "y_pred                564.0       1.000000      0.000000       1.0       1.00   \n",
       "\n",
       "                           50%        75%       max  \n",
       "id                    446148.0  476599.75  507634.0  \n",
       "age                       36.0      42.25      78.0  \n",
       "driving_license            1.0       1.00       1.0  \n",
       "region_code               28.0      33.00      50.0  \n",
       "previously_insured         0.0       0.00       0.0  \n",
       "annual_premium         27510.0   31855.75   91164.0  \n",
       "policy_sales_channel     157.0     163.00     163.0  \n",
       "vintage                  177.5     254.00     299.0  \n",
       "y_pred                     1.0       1.00       1.0  "
      ]
     },
     "execution_count": 64,
     "metadata": {},
     "output_type": "execute_result"
    }
   ],
   "source": [
    "df_pred = pd.merge(df, res, on='id')\n",
    "\n",
    "df_positive = df_pred[df_pred['y_pred'] == 1]\n",
    "df_positive.describe().transpose()"
   ]
  },
  {
   "cell_type": "code",
   "execution_count": 65,
   "metadata": {},
   "outputs": [
    {
     "data": {
      "application/vnd.plotly.v1+json": {
       "config": {
        "linkText": "Export to plot.ly",
        "plotlyServerURL": "https://plot.ly",
        "showLink": false
       },
       "data": [
        {
         "hoverinfo": "y",
         "marker": {
          "color": [
           0.0124,
           0.0408,
           0.1365,
           0.0266,
           0.0089,
           0.0142,
           0.0142,
           0.0461,
           0.0089,
           0.0106,
           0.016,
           0.0018,
           0.0106,
           0.0213,
           0.0071,
           0.0035,
           0.0035,
           0.0142,
           0.0106,
           0.0018,
           0.0142,
           0.016,
           0.0177,
           0.0035,
           0.2252,
           0.0266,
           0.023,
           0.0035,
           0.0018,
           0.0195,
           0.0018,
           0.0266,
           0.0177,
           0.0089,
           0.0089,
           0.0106,
           0.0567,
           0.0018,
           0.0035,
           0.016,
           0.0709,
           0.0071,
           0.0089
          ],
          "colorscale": [
           [
            0,
            "rgb(3, 5, 18)"
           ],
           [
            0.09090909090909091,
            "rgb(25, 25, 51)"
           ],
           [
            0.18181818181818182,
            "rgb(44, 42, 87)"
           ],
           [
            0.2727272727272727,
            "rgb(58, 60, 125)"
           ],
           [
            0.36363636363636365,
            "rgb(62, 83, 160)"
           ],
           [
            0.45454545454545453,
            "rgb(62, 109, 178)"
           ],
           [
            0.5454545454545454,
            "rgb(72, 134, 187)"
           ],
           [
            0.6363636363636364,
            "rgb(89, 159, 196)"
           ],
           [
            0.7272727272727273,
            "rgb(114, 184, 205)"
           ],
           [
            0.8181818181818182,
            "rgb(149, 207, 216)"
           ],
           [
            0.9090909090909091,
            "rgb(192, 229, 232)"
           ],
           [
            1,
            "rgb(234, 252, 253)"
           ]
          ],
          "reversescale": true,
          "showscale": true
         },
         "name": "total",
         "opacity": 0.8,
         "type": "bar",
         "x": [
          1,
          2,
          3,
          4,
          5,
          6,
          7,
          8,
          9,
          10,
          11,
          12,
          13,
          14,
          15,
          16,
          17,
          18,
          19,
          20,
          21,
          23,
          24,
          27,
          28,
          29,
          30,
          31,
          32,
          33,
          34,
          35,
          36,
          37,
          38,
          39,
          41,
          42,
          43,
          45,
          46,
          47,
          50
         ],
         "y": [
          0.0124,
          0.0408,
          0.1365,
          0.0266,
          0.0089,
          0.0142,
          0.0142,
          0.0461,
          0.0089,
          0.0106,
          0.016,
          0.0018,
          0.0106,
          0.0213,
          0.0071,
          0.0035,
          0.0035,
          0.0142,
          0.0106,
          0.0018,
          0.0142,
          0.016,
          0.0177,
          0.0035,
          0.2252,
          0.0266,
          0.023,
          0.0035,
          0.0018,
          0.0195,
          0.0018,
          0.0266,
          0.0177,
          0.0089,
          0.0089,
          0.0106,
          0.0567,
          0.0018,
          0.0035,
          0.016,
          0.0709,
          0.0071,
          0.0089
         ]
        }
       ],
       "layout": {
        "autosize": true,
        "plot_bgcolor": "rgb(240, 240, 240)",
        "template": {
         "data": {
          "bar": [
           {
            "error_x": {
             "color": "#2a3f5f"
            },
            "error_y": {
             "color": "#2a3f5f"
            },
            "marker": {
             "line": {
              "color": "#E5ECF6",
              "width": 0.5
             },
             "pattern": {
              "fillmode": "overlay",
              "size": 10,
              "solidity": 0.2
             }
            },
            "type": "bar"
           }
          ],
          "barpolar": [
           {
            "marker": {
             "line": {
              "color": "#E5ECF6",
              "width": 0.5
             },
             "pattern": {
              "fillmode": "overlay",
              "size": 10,
              "solidity": 0.2
             }
            },
            "type": "barpolar"
           }
          ],
          "carpet": [
           {
            "aaxis": {
             "endlinecolor": "#2a3f5f",
             "gridcolor": "white",
             "linecolor": "white",
             "minorgridcolor": "white",
             "startlinecolor": "#2a3f5f"
            },
            "baxis": {
             "endlinecolor": "#2a3f5f",
             "gridcolor": "white",
             "linecolor": "white",
             "minorgridcolor": "white",
             "startlinecolor": "#2a3f5f"
            },
            "type": "carpet"
           }
          ],
          "choropleth": [
           {
            "colorbar": {
             "outlinewidth": 0,
             "ticks": ""
            },
            "type": "choropleth"
           }
          ],
          "contour": [
           {
            "colorbar": {
             "outlinewidth": 0,
             "ticks": ""
            },
            "colorscale": [
             [
              0,
              "#0d0887"
             ],
             [
              0.1111111111111111,
              "#46039f"
             ],
             [
              0.2222222222222222,
              "#7201a8"
             ],
             [
              0.3333333333333333,
              "#9c179e"
             ],
             [
              0.4444444444444444,
              "#bd3786"
             ],
             [
              0.5555555555555556,
              "#d8576b"
             ],
             [
              0.6666666666666666,
              "#ed7953"
             ],
             [
              0.7777777777777778,
              "#fb9f3a"
             ],
             [
              0.8888888888888888,
              "#fdca26"
             ],
             [
              1,
              "#f0f921"
             ]
            ],
            "type": "contour"
           }
          ],
          "contourcarpet": [
           {
            "colorbar": {
             "outlinewidth": 0,
             "ticks": ""
            },
            "type": "contourcarpet"
           }
          ],
          "heatmap": [
           {
            "colorbar": {
             "outlinewidth": 0,
             "ticks": ""
            },
            "colorscale": [
             [
              0,
              "#0d0887"
             ],
             [
              0.1111111111111111,
              "#46039f"
             ],
             [
              0.2222222222222222,
              "#7201a8"
             ],
             [
              0.3333333333333333,
              "#9c179e"
             ],
             [
              0.4444444444444444,
              "#bd3786"
             ],
             [
              0.5555555555555556,
              "#d8576b"
             ],
             [
              0.6666666666666666,
              "#ed7953"
             ],
             [
              0.7777777777777778,
              "#fb9f3a"
             ],
             [
              0.8888888888888888,
              "#fdca26"
             ],
             [
              1,
              "#f0f921"
             ]
            ],
            "type": "heatmap"
           }
          ],
          "heatmapgl": [
           {
            "colorbar": {
             "outlinewidth": 0,
             "ticks": ""
            },
            "colorscale": [
             [
              0,
              "#0d0887"
             ],
             [
              0.1111111111111111,
              "#46039f"
             ],
             [
              0.2222222222222222,
              "#7201a8"
             ],
             [
              0.3333333333333333,
              "#9c179e"
             ],
             [
              0.4444444444444444,
              "#bd3786"
             ],
             [
              0.5555555555555556,
              "#d8576b"
             ],
             [
              0.6666666666666666,
              "#ed7953"
             ],
             [
              0.7777777777777778,
              "#fb9f3a"
             ],
             [
              0.8888888888888888,
              "#fdca26"
             ],
             [
              1,
              "#f0f921"
             ]
            ],
            "type": "heatmapgl"
           }
          ],
          "histogram": [
           {
            "marker": {
             "pattern": {
              "fillmode": "overlay",
              "size": 10,
              "solidity": 0.2
             }
            },
            "type": "histogram"
           }
          ],
          "histogram2d": [
           {
            "colorbar": {
             "outlinewidth": 0,
             "ticks": ""
            },
            "colorscale": [
             [
              0,
              "#0d0887"
             ],
             [
              0.1111111111111111,
              "#46039f"
             ],
             [
              0.2222222222222222,
              "#7201a8"
             ],
             [
              0.3333333333333333,
              "#9c179e"
             ],
             [
              0.4444444444444444,
              "#bd3786"
             ],
             [
              0.5555555555555556,
              "#d8576b"
             ],
             [
              0.6666666666666666,
              "#ed7953"
             ],
             [
              0.7777777777777778,
              "#fb9f3a"
             ],
             [
              0.8888888888888888,
              "#fdca26"
             ],
             [
              1,
              "#f0f921"
             ]
            ],
            "type": "histogram2d"
           }
          ],
          "histogram2dcontour": [
           {
            "colorbar": {
             "outlinewidth": 0,
             "ticks": ""
            },
            "colorscale": [
             [
              0,
              "#0d0887"
             ],
             [
              0.1111111111111111,
              "#46039f"
             ],
             [
              0.2222222222222222,
              "#7201a8"
             ],
             [
              0.3333333333333333,
              "#9c179e"
             ],
             [
              0.4444444444444444,
              "#bd3786"
             ],
             [
              0.5555555555555556,
              "#d8576b"
             ],
             [
              0.6666666666666666,
              "#ed7953"
             ],
             [
              0.7777777777777778,
              "#fb9f3a"
             ],
             [
              0.8888888888888888,
              "#fdca26"
             ],
             [
              1,
              "#f0f921"
             ]
            ],
            "type": "histogram2dcontour"
           }
          ],
          "mesh3d": [
           {
            "colorbar": {
             "outlinewidth": 0,
             "ticks": ""
            },
            "type": "mesh3d"
           }
          ],
          "parcoords": [
           {
            "line": {
             "colorbar": {
              "outlinewidth": 0,
              "ticks": ""
             }
            },
            "type": "parcoords"
           }
          ],
          "pie": [
           {
            "automargin": true,
            "type": "pie"
           }
          ],
          "scatter": [
           {
            "marker": {
             "colorbar": {
              "outlinewidth": 0,
              "ticks": ""
             }
            },
            "type": "scatter"
           }
          ],
          "scatter3d": [
           {
            "line": {
             "colorbar": {
              "outlinewidth": 0,
              "ticks": ""
             }
            },
            "marker": {
             "colorbar": {
              "outlinewidth": 0,
              "ticks": ""
             }
            },
            "type": "scatter3d"
           }
          ],
          "scattercarpet": [
           {
            "marker": {
             "colorbar": {
              "outlinewidth": 0,
              "ticks": ""
             }
            },
            "type": "scattercarpet"
           }
          ],
          "scattergeo": [
           {
            "marker": {
             "colorbar": {
              "outlinewidth": 0,
              "ticks": ""
             }
            },
            "type": "scattergeo"
           }
          ],
          "scattergl": [
           {
            "marker": {
             "colorbar": {
              "outlinewidth": 0,
              "ticks": ""
             }
            },
            "type": "scattergl"
           }
          ],
          "scattermapbox": [
           {
            "marker": {
             "colorbar": {
              "outlinewidth": 0,
              "ticks": ""
             }
            },
            "type": "scattermapbox"
           }
          ],
          "scatterpolar": [
           {
            "marker": {
             "colorbar": {
              "outlinewidth": 0,
              "ticks": ""
             }
            },
            "type": "scatterpolar"
           }
          ],
          "scatterpolargl": [
           {
            "marker": {
             "colorbar": {
              "outlinewidth": 0,
              "ticks": ""
             }
            },
            "type": "scatterpolargl"
           }
          ],
          "scatterternary": [
           {
            "marker": {
             "colorbar": {
              "outlinewidth": 0,
              "ticks": ""
             }
            },
            "type": "scatterternary"
           }
          ],
          "surface": [
           {
            "colorbar": {
             "outlinewidth": 0,
             "ticks": ""
            },
            "colorscale": [
             [
              0,
              "#0d0887"
             ],
             [
              0.1111111111111111,
              "#46039f"
             ],
             [
              0.2222222222222222,
              "#7201a8"
             ],
             [
              0.3333333333333333,
              "#9c179e"
             ],
             [
              0.4444444444444444,
              "#bd3786"
             ],
             [
              0.5555555555555556,
              "#d8576b"
             ],
             [
              0.6666666666666666,
              "#ed7953"
             ],
             [
              0.7777777777777778,
              "#fb9f3a"
             ],
             [
              0.8888888888888888,
              "#fdca26"
             ],
             [
              1,
              "#f0f921"
             ]
            ],
            "type": "surface"
           }
          ],
          "table": [
           {
            "cells": {
             "fill": {
              "color": "#EBF0F8"
             },
             "line": {
              "color": "white"
             }
            },
            "header": {
             "fill": {
              "color": "#C8D4E3"
             },
             "line": {
              "color": "white"
             }
            },
            "type": "table"
           }
          ]
         },
         "layout": {
          "annotationdefaults": {
           "arrowcolor": "#2a3f5f",
           "arrowhead": 0,
           "arrowwidth": 1
          },
          "autotypenumbers": "strict",
          "coloraxis": {
           "colorbar": {
            "outlinewidth": 0,
            "ticks": ""
           }
          },
          "colorscale": {
           "diverging": [
            [
             0,
             "#8e0152"
            ],
            [
             0.1,
             "#c51b7d"
            ],
            [
             0.2,
             "#de77ae"
            ],
            [
             0.3,
             "#f1b6da"
            ],
            [
             0.4,
             "#fde0ef"
            ],
            [
             0.5,
             "#f7f7f7"
            ],
            [
             0.6,
             "#e6f5d0"
            ],
            [
             0.7,
             "#b8e186"
            ],
            [
             0.8,
             "#7fbc41"
            ],
            [
             0.9,
             "#4d9221"
            ],
            [
             1,
             "#276419"
            ]
           ],
           "sequential": [
            [
             0,
             "#0d0887"
            ],
            [
             0.1111111111111111,
             "#46039f"
            ],
            [
             0.2222222222222222,
             "#7201a8"
            ],
            [
             0.3333333333333333,
             "#9c179e"
            ],
            [
             0.4444444444444444,
             "#bd3786"
            ],
            [
             0.5555555555555556,
             "#d8576b"
            ],
            [
             0.6666666666666666,
             "#ed7953"
            ],
            [
             0.7777777777777778,
             "#fb9f3a"
            ],
            [
             0.8888888888888888,
             "#fdca26"
            ],
            [
             1,
             "#f0f921"
            ]
           ],
           "sequentialminus": [
            [
             0,
             "#0d0887"
            ],
            [
             0.1111111111111111,
             "#46039f"
            ],
            [
             0.2222222222222222,
             "#7201a8"
            ],
            [
             0.3333333333333333,
             "#9c179e"
            ],
            [
             0.4444444444444444,
             "#bd3786"
            ],
            [
             0.5555555555555556,
             "#d8576b"
            ],
            [
             0.6666666666666666,
             "#ed7953"
            ],
            [
             0.7777777777777778,
             "#fb9f3a"
            ],
            [
             0.8888888888888888,
             "#fdca26"
            ],
            [
             1,
             "#f0f921"
            ]
           ]
          },
          "colorway": [
           "#636efa",
           "#EF553B",
           "#00cc96",
           "#ab63fa",
           "#FFA15A",
           "#19d3f3",
           "#FF6692",
           "#B6E880",
           "#FF97FF",
           "#FECB52"
          ],
          "font": {
           "color": "#2a3f5f"
          },
          "geo": {
           "bgcolor": "white",
           "lakecolor": "white",
           "landcolor": "#E5ECF6",
           "showlakes": true,
           "showland": true,
           "subunitcolor": "white"
          },
          "hoverlabel": {
           "align": "left"
          },
          "hovermode": "closest",
          "mapbox": {
           "style": "light"
          },
          "paper_bgcolor": "white",
          "plot_bgcolor": "#E5ECF6",
          "polar": {
           "angularaxis": {
            "gridcolor": "white",
            "linecolor": "white",
            "ticks": ""
           },
           "bgcolor": "#E5ECF6",
           "radialaxis": {
            "gridcolor": "white",
            "linecolor": "white",
            "ticks": ""
           }
          },
          "scene": {
           "xaxis": {
            "backgroundcolor": "#E5ECF6",
            "gridcolor": "white",
            "gridwidth": 2,
            "linecolor": "white",
            "showbackground": true,
            "ticks": "",
            "zerolinecolor": "white"
           },
           "yaxis": {
            "backgroundcolor": "#E5ECF6",
            "gridcolor": "white",
            "gridwidth": 2,
            "linecolor": "white",
            "showbackground": true,
            "ticks": "",
            "zerolinecolor": "white"
           },
           "zaxis": {
            "backgroundcolor": "#E5ECF6",
            "gridcolor": "white",
            "gridwidth": 2,
            "linecolor": "white",
            "showbackground": true,
            "ticks": "",
            "zerolinecolor": "white"
           }
          },
          "shapedefaults": {
           "line": {
            "color": "#2a3f5f"
           }
          },
          "ternary": {
           "aaxis": {
            "gridcolor": "white",
            "linecolor": "white",
            "ticks": ""
           },
           "baxis": {
            "gridcolor": "white",
            "linecolor": "white",
            "ticks": ""
           },
           "bgcolor": "#E5ECF6",
           "caxis": {
            "gridcolor": "white",
            "linecolor": "white",
            "ticks": ""
           }
          },
          "title": {
           "x": 0.05
          },
          "xaxis": {
           "automargin": true,
           "gridcolor": "white",
           "linecolor": "white",
           "ticks": "",
           "title": {
            "standoff": 15
           },
           "zerolinecolor": "white",
           "zerolinewidth": 2
          },
          "yaxis": {
           "automargin": true,
           "gridcolor": "white",
           "linecolor": "white",
           "ticks": "",
           "title": {
            "standoff": 15
           },
           "zerolinecolor": "white",
           "zerolinewidth": 2
          }
         }
        },
        "title": {
         "text": "Region Code Verteilung",
         "y": 0.95
        },
        "xaxis": {
         "tickmode": "linear",
         "title": {
          "font": {
           "size": 16
          },
          "text": "Region Code"
         }
        },
        "yaxis": {
         "title": {
          "font": {
           "size": 17
          },
          "text": "%"
         }
        }
       }
      }
     },
     "metadata": {},
     "output_type": "display_data"
    }
   ],
   "source": [
    "# Prozentuale Verteilung je Kategorie in region_code absteigend nach \n",
    "# den höchsten Werten in einem df ablegen\n",
    "df_region_code = round(df_positive['region_code'].value_counts(normalize=True).to_frame().sort_index(), 4)\n",
    "\n",
    "trace = [\n",
    "    # Barchart für die Verteilung in der Variable region_code insgesamt erstellen\n",
    "    go.Bar(x=df_region_code.index,\n",
    "           y=df_region_code['region_code'],\n",
    "           opacity=0.8,\n",
    "           name=\"total\",\n",
    "           hoverinfo=\"y\",\n",
    "           marker=dict(\n",
    "               color=df_region_code['region_code'],\n",
    "               colorscale='ice',\n",
    "               reversescale=True,\n",
    "               showscale=True)\n",
    "           ),\n",
    "]\n",
    "\n",
    "# Layout des Plots definieren\n",
    "layout = go.Layout(title=dict(text='Region Code Verteilung', y=.95),\n",
    "                   plot_bgcolor='rgb(240, 240, 240)',\n",
    "                   autosize=True,\n",
    "                   xaxis=dict(title=\"Region Code\",\n",
    "                              titlefont=dict(size=16),\n",
    "                              tickmode=\"linear\"),\n",
    "                   yaxis=dict(title=\"%\",\n",
    "                              titlefont=dict(size=17)),\n",
    "                   )\n",
    "\n",
    "# Plot erstellen\n",
    "fig = dict(data=trace, layout=layout)\n",
    "py.iplot(fig)"
   ]
  },
  {
   "cell_type": "code",
   "execution_count": 66,
   "metadata": {},
   "outputs": [
    {
     "data": {
      "application/vnd.plotly.v1+json": {
       "config": {
        "linkText": "Export to plot.ly",
        "plotlyServerURL": "https://plot.ly",
        "showLink": false
       },
       "data": [
        {
         "hoverinfo": "y",
         "marker": {
          "color": [
           0.8387,
           0.1259,
           0.0355
          ],
          "colorscale": [
           [
            0,
            "rgb(3, 5, 18)"
           ],
           [
            0.09090909090909091,
            "rgb(25, 25, 51)"
           ],
           [
            0.18181818181818182,
            "rgb(44, 42, 87)"
           ],
           [
            0.2727272727272727,
            "rgb(58, 60, 125)"
           ],
           [
            0.36363636363636365,
            "rgb(62, 83, 160)"
           ],
           [
            0.45454545454545453,
            "rgb(62, 109, 178)"
           ],
           [
            0.5454545454545454,
            "rgb(72, 134, 187)"
           ],
           [
            0.6363636363636364,
            "rgb(89, 159, 196)"
           ],
           [
            0.7272727272727273,
            "rgb(114, 184, 205)"
           ],
           [
            0.8181818181818182,
            "rgb(149, 207, 216)"
           ],
           [
            0.9090909090909091,
            "rgb(192, 229, 232)"
           ],
           [
            1,
            "rgb(234, 252, 253)"
           ]
          ],
          "reversescale": true,
          "showscale": true
         },
         "name": "total",
         "opacity": 0.8,
         "type": "bar",
         "x": [
          "1-2 Year",
          "< 1 Year",
          "> 2 Years"
         ],
         "y": [
          0.8387,
          0.1259,
          0.0355
         ]
        }
       ],
       "layout": {
        "autosize": true,
        "plot_bgcolor": "rgb(240, 240, 240)",
        "template": {
         "data": {
          "bar": [
           {
            "error_x": {
             "color": "#2a3f5f"
            },
            "error_y": {
             "color": "#2a3f5f"
            },
            "marker": {
             "line": {
              "color": "#E5ECF6",
              "width": 0.5
             },
             "pattern": {
              "fillmode": "overlay",
              "size": 10,
              "solidity": 0.2
             }
            },
            "type": "bar"
           }
          ],
          "barpolar": [
           {
            "marker": {
             "line": {
              "color": "#E5ECF6",
              "width": 0.5
             },
             "pattern": {
              "fillmode": "overlay",
              "size": 10,
              "solidity": 0.2
             }
            },
            "type": "barpolar"
           }
          ],
          "carpet": [
           {
            "aaxis": {
             "endlinecolor": "#2a3f5f",
             "gridcolor": "white",
             "linecolor": "white",
             "minorgridcolor": "white",
             "startlinecolor": "#2a3f5f"
            },
            "baxis": {
             "endlinecolor": "#2a3f5f",
             "gridcolor": "white",
             "linecolor": "white",
             "minorgridcolor": "white",
             "startlinecolor": "#2a3f5f"
            },
            "type": "carpet"
           }
          ],
          "choropleth": [
           {
            "colorbar": {
             "outlinewidth": 0,
             "ticks": ""
            },
            "type": "choropleth"
           }
          ],
          "contour": [
           {
            "colorbar": {
             "outlinewidth": 0,
             "ticks": ""
            },
            "colorscale": [
             [
              0,
              "#0d0887"
             ],
             [
              0.1111111111111111,
              "#46039f"
             ],
             [
              0.2222222222222222,
              "#7201a8"
             ],
             [
              0.3333333333333333,
              "#9c179e"
             ],
             [
              0.4444444444444444,
              "#bd3786"
             ],
             [
              0.5555555555555556,
              "#d8576b"
             ],
             [
              0.6666666666666666,
              "#ed7953"
             ],
             [
              0.7777777777777778,
              "#fb9f3a"
             ],
             [
              0.8888888888888888,
              "#fdca26"
             ],
             [
              1,
              "#f0f921"
             ]
            ],
            "type": "contour"
           }
          ],
          "contourcarpet": [
           {
            "colorbar": {
             "outlinewidth": 0,
             "ticks": ""
            },
            "type": "contourcarpet"
           }
          ],
          "heatmap": [
           {
            "colorbar": {
             "outlinewidth": 0,
             "ticks": ""
            },
            "colorscale": [
             [
              0,
              "#0d0887"
             ],
             [
              0.1111111111111111,
              "#46039f"
             ],
             [
              0.2222222222222222,
              "#7201a8"
             ],
             [
              0.3333333333333333,
              "#9c179e"
             ],
             [
              0.4444444444444444,
              "#bd3786"
             ],
             [
              0.5555555555555556,
              "#d8576b"
             ],
             [
              0.6666666666666666,
              "#ed7953"
             ],
             [
              0.7777777777777778,
              "#fb9f3a"
             ],
             [
              0.8888888888888888,
              "#fdca26"
             ],
             [
              1,
              "#f0f921"
             ]
            ],
            "type": "heatmap"
           }
          ],
          "heatmapgl": [
           {
            "colorbar": {
             "outlinewidth": 0,
             "ticks": ""
            },
            "colorscale": [
             [
              0,
              "#0d0887"
             ],
             [
              0.1111111111111111,
              "#46039f"
             ],
             [
              0.2222222222222222,
              "#7201a8"
             ],
             [
              0.3333333333333333,
              "#9c179e"
             ],
             [
              0.4444444444444444,
              "#bd3786"
             ],
             [
              0.5555555555555556,
              "#d8576b"
             ],
             [
              0.6666666666666666,
              "#ed7953"
             ],
             [
              0.7777777777777778,
              "#fb9f3a"
             ],
             [
              0.8888888888888888,
              "#fdca26"
             ],
             [
              1,
              "#f0f921"
             ]
            ],
            "type": "heatmapgl"
           }
          ],
          "histogram": [
           {
            "marker": {
             "pattern": {
              "fillmode": "overlay",
              "size": 10,
              "solidity": 0.2
             }
            },
            "type": "histogram"
           }
          ],
          "histogram2d": [
           {
            "colorbar": {
             "outlinewidth": 0,
             "ticks": ""
            },
            "colorscale": [
             [
              0,
              "#0d0887"
             ],
             [
              0.1111111111111111,
              "#46039f"
             ],
             [
              0.2222222222222222,
              "#7201a8"
             ],
             [
              0.3333333333333333,
              "#9c179e"
             ],
             [
              0.4444444444444444,
              "#bd3786"
             ],
             [
              0.5555555555555556,
              "#d8576b"
             ],
             [
              0.6666666666666666,
              "#ed7953"
             ],
             [
              0.7777777777777778,
              "#fb9f3a"
             ],
             [
              0.8888888888888888,
              "#fdca26"
             ],
             [
              1,
              "#f0f921"
             ]
            ],
            "type": "histogram2d"
           }
          ],
          "histogram2dcontour": [
           {
            "colorbar": {
             "outlinewidth": 0,
             "ticks": ""
            },
            "colorscale": [
             [
              0,
              "#0d0887"
             ],
             [
              0.1111111111111111,
              "#46039f"
             ],
             [
              0.2222222222222222,
              "#7201a8"
             ],
             [
              0.3333333333333333,
              "#9c179e"
             ],
             [
              0.4444444444444444,
              "#bd3786"
             ],
             [
              0.5555555555555556,
              "#d8576b"
             ],
             [
              0.6666666666666666,
              "#ed7953"
             ],
             [
              0.7777777777777778,
              "#fb9f3a"
             ],
             [
              0.8888888888888888,
              "#fdca26"
             ],
             [
              1,
              "#f0f921"
             ]
            ],
            "type": "histogram2dcontour"
           }
          ],
          "mesh3d": [
           {
            "colorbar": {
             "outlinewidth": 0,
             "ticks": ""
            },
            "type": "mesh3d"
           }
          ],
          "parcoords": [
           {
            "line": {
             "colorbar": {
              "outlinewidth": 0,
              "ticks": ""
             }
            },
            "type": "parcoords"
           }
          ],
          "pie": [
           {
            "automargin": true,
            "type": "pie"
           }
          ],
          "scatter": [
           {
            "marker": {
             "colorbar": {
              "outlinewidth": 0,
              "ticks": ""
             }
            },
            "type": "scatter"
           }
          ],
          "scatter3d": [
           {
            "line": {
             "colorbar": {
              "outlinewidth": 0,
              "ticks": ""
             }
            },
            "marker": {
             "colorbar": {
              "outlinewidth": 0,
              "ticks": ""
             }
            },
            "type": "scatter3d"
           }
          ],
          "scattercarpet": [
           {
            "marker": {
             "colorbar": {
              "outlinewidth": 0,
              "ticks": ""
             }
            },
            "type": "scattercarpet"
           }
          ],
          "scattergeo": [
           {
            "marker": {
             "colorbar": {
              "outlinewidth": 0,
              "ticks": ""
             }
            },
            "type": "scattergeo"
           }
          ],
          "scattergl": [
           {
            "marker": {
             "colorbar": {
              "outlinewidth": 0,
              "ticks": ""
             }
            },
            "type": "scattergl"
           }
          ],
          "scattermapbox": [
           {
            "marker": {
             "colorbar": {
              "outlinewidth": 0,
              "ticks": ""
             }
            },
            "type": "scattermapbox"
           }
          ],
          "scatterpolar": [
           {
            "marker": {
             "colorbar": {
              "outlinewidth": 0,
              "ticks": ""
             }
            },
            "type": "scatterpolar"
           }
          ],
          "scatterpolargl": [
           {
            "marker": {
             "colorbar": {
              "outlinewidth": 0,
              "ticks": ""
             }
            },
            "type": "scatterpolargl"
           }
          ],
          "scatterternary": [
           {
            "marker": {
             "colorbar": {
              "outlinewidth": 0,
              "ticks": ""
             }
            },
            "type": "scatterternary"
           }
          ],
          "surface": [
           {
            "colorbar": {
             "outlinewidth": 0,
             "ticks": ""
            },
            "colorscale": [
             [
              0,
              "#0d0887"
             ],
             [
              0.1111111111111111,
              "#46039f"
             ],
             [
              0.2222222222222222,
              "#7201a8"
             ],
             [
              0.3333333333333333,
              "#9c179e"
             ],
             [
              0.4444444444444444,
              "#bd3786"
             ],
             [
              0.5555555555555556,
              "#d8576b"
             ],
             [
              0.6666666666666666,
              "#ed7953"
             ],
             [
              0.7777777777777778,
              "#fb9f3a"
             ],
             [
              0.8888888888888888,
              "#fdca26"
             ],
             [
              1,
              "#f0f921"
             ]
            ],
            "type": "surface"
           }
          ],
          "table": [
           {
            "cells": {
             "fill": {
              "color": "#EBF0F8"
             },
             "line": {
              "color": "white"
             }
            },
            "header": {
             "fill": {
              "color": "#C8D4E3"
             },
             "line": {
              "color": "white"
             }
            },
            "type": "table"
           }
          ]
         },
         "layout": {
          "annotationdefaults": {
           "arrowcolor": "#2a3f5f",
           "arrowhead": 0,
           "arrowwidth": 1
          },
          "autotypenumbers": "strict",
          "coloraxis": {
           "colorbar": {
            "outlinewidth": 0,
            "ticks": ""
           }
          },
          "colorscale": {
           "diverging": [
            [
             0,
             "#8e0152"
            ],
            [
             0.1,
             "#c51b7d"
            ],
            [
             0.2,
             "#de77ae"
            ],
            [
             0.3,
             "#f1b6da"
            ],
            [
             0.4,
             "#fde0ef"
            ],
            [
             0.5,
             "#f7f7f7"
            ],
            [
             0.6,
             "#e6f5d0"
            ],
            [
             0.7,
             "#b8e186"
            ],
            [
             0.8,
             "#7fbc41"
            ],
            [
             0.9,
             "#4d9221"
            ],
            [
             1,
             "#276419"
            ]
           ],
           "sequential": [
            [
             0,
             "#0d0887"
            ],
            [
             0.1111111111111111,
             "#46039f"
            ],
            [
             0.2222222222222222,
             "#7201a8"
            ],
            [
             0.3333333333333333,
             "#9c179e"
            ],
            [
             0.4444444444444444,
             "#bd3786"
            ],
            [
             0.5555555555555556,
             "#d8576b"
            ],
            [
             0.6666666666666666,
             "#ed7953"
            ],
            [
             0.7777777777777778,
             "#fb9f3a"
            ],
            [
             0.8888888888888888,
             "#fdca26"
            ],
            [
             1,
             "#f0f921"
            ]
           ],
           "sequentialminus": [
            [
             0,
             "#0d0887"
            ],
            [
             0.1111111111111111,
             "#46039f"
            ],
            [
             0.2222222222222222,
             "#7201a8"
            ],
            [
             0.3333333333333333,
             "#9c179e"
            ],
            [
             0.4444444444444444,
             "#bd3786"
            ],
            [
             0.5555555555555556,
             "#d8576b"
            ],
            [
             0.6666666666666666,
             "#ed7953"
            ],
            [
             0.7777777777777778,
             "#fb9f3a"
            ],
            [
             0.8888888888888888,
             "#fdca26"
            ],
            [
             1,
             "#f0f921"
            ]
           ]
          },
          "colorway": [
           "#636efa",
           "#EF553B",
           "#00cc96",
           "#ab63fa",
           "#FFA15A",
           "#19d3f3",
           "#FF6692",
           "#B6E880",
           "#FF97FF",
           "#FECB52"
          ],
          "font": {
           "color": "#2a3f5f"
          },
          "geo": {
           "bgcolor": "white",
           "lakecolor": "white",
           "landcolor": "#E5ECF6",
           "showlakes": true,
           "showland": true,
           "subunitcolor": "white"
          },
          "hoverlabel": {
           "align": "left"
          },
          "hovermode": "closest",
          "mapbox": {
           "style": "light"
          },
          "paper_bgcolor": "white",
          "plot_bgcolor": "#E5ECF6",
          "polar": {
           "angularaxis": {
            "gridcolor": "white",
            "linecolor": "white",
            "ticks": ""
           },
           "bgcolor": "#E5ECF6",
           "radialaxis": {
            "gridcolor": "white",
            "linecolor": "white",
            "ticks": ""
           }
          },
          "scene": {
           "xaxis": {
            "backgroundcolor": "#E5ECF6",
            "gridcolor": "white",
            "gridwidth": 2,
            "linecolor": "white",
            "showbackground": true,
            "ticks": "",
            "zerolinecolor": "white"
           },
           "yaxis": {
            "backgroundcolor": "#E5ECF6",
            "gridcolor": "white",
            "gridwidth": 2,
            "linecolor": "white",
            "showbackground": true,
            "ticks": "",
            "zerolinecolor": "white"
           },
           "zaxis": {
            "backgroundcolor": "#E5ECF6",
            "gridcolor": "white",
            "gridwidth": 2,
            "linecolor": "white",
            "showbackground": true,
            "ticks": "",
            "zerolinecolor": "white"
           }
          },
          "shapedefaults": {
           "line": {
            "color": "#2a3f5f"
           }
          },
          "ternary": {
           "aaxis": {
            "gridcolor": "white",
            "linecolor": "white",
            "ticks": ""
           },
           "baxis": {
            "gridcolor": "white",
            "linecolor": "white",
            "ticks": ""
           },
           "bgcolor": "#E5ECF6",
           "caxis": {
            "gridcolor": "white",
            "linecolor": "white",
            "ticks": ""
           }
          },
          "title": {
           "x": 0.05
          },
          "xaxis": {
           "automargin": true,
           "gridcolor": "white",
           "linecolor": "white",
           "ticks": "",
           "title": {
            "standoff": 15
           },
           "zerolinecolor": "white",
           "zerolinewidth": 2
          },
          "yaxis": {
           "automargin": true,
           "gridcolor": "white",
           "linecolor": "white",
           "ticks": "",
           "title": {
            "standoff": 15
           },
           "zerolinecolor": "white",
           "zerolinewidth": 2
          }
         }
        },
        "title": {
         "text": "Vehicle Age",
         "y": 0.95
        },
        "xaxis": {
         "tickmode": "linear",
         "title": {
          "font": {
           "size": 15
          },
          "text": "vehicle_age"
         }
        },
        "yaxis": {
         "title": {
          "font": {
           "size": 20
          },
          "text": "%"
         }
        }
       }
      }
     },
     "metadata": {},
     "output_type": "display_data"
    }
   ],
   "source": [
    "# Prozentuale Verteilung je Kategorie in vehicle age absteigend nach \n",
    "# den höchsten Werten in einem df ablegen\n",
    "df_vehicle_age = round(df_positive['vehicle_age'].value_counts(normalize=True).to_frame().sort_index(), 4)\n",
    "\n",
    "# Hier spezifizieren wir für gesamt, male und female jeweils einen Bar Chart\n",
    "trace = [\n",
    "    #Bar Chart für gesamt\n",
    "    go.Bar(x=df_vehicle_age.index,\n",
    "           y=df_vehicle_age['vehicle_age'],\n",
    "           opacity=0.8,\n",
    "           name=\"total\",\n",
    "           hoverinfo=\"y\",\n",
    "           marker=dict(\n",
    "               color=df_vehicle_age['vehicle_age'],\n",
    "               colorscale='ice',\n",
    "               reversescale=True,\n",
    "               showscale=True)\n",
    "           )\n",
    "]\n",
    "\n",
    "# Layout konfigurieren\n",
    "layout = go.Layout(title=dict(text='Vehicle Age', y=.95),\n",
    "                   plot_bgcolor='rgb(240, 240, 240)',\n",
    "                   autosize=True,\n",
    "                   xaxis=dict(title=\"vehicle_age\",\n",
    "                              titlefont=dict(size=15),\n",
    "                              tickmode=\"linear\"),\n",
    "                   yaxis=dict(title=\"%\",\n",
    "                              titlefont=dict(size=20)),\n",
    "                   )\n",
    "\n",
    "# Plot erzeugen\n",
    "fig = dict(data=trace, layout=layout)\n",
    "py.iplot(fig)"
   ]
  },
  {
   "cell_type": "code",
   "execution_count": 67,
   "metadata": {},
   "outputs": [
    {
     "data": {
      "application/vnd.plotly.v1+json": {
       "config": {
        "linkText": "Export to plot.ly",
        "plotlyServerURL": "https://plot.ly",
        "showLink": false
       },
       "data": [
        {
         "hole": 0.2,
         "labels": [
          "Male",
          "Female"
         ],
         "marker": {
          "colors": [
           "rgb(20,29,67)",
           "rgb(18,116,117)"
          ]
         },
         "type": "pie",
         "values": [
          347,
          217
         ]
        }
       ],
       "layout": {
        "template": {
         "data": {
          "bar": [
           {
            "error_x": {
             "color": "#2a3f5f"
            },
            "error_y": {
             "color": "#2a3f5f"
            },
            "marker": {
             "line": {
              "color": "#E5ECF6",
              "width": 0.5
             },
             "pattern": {
              "fillmode": "overlay",
              "size": 10,
              "solidity": 0.2
             }
            },
            "type": "bar"
           }
          ],
          "barpolar": [
           {
            "marker": {
             "line": {
              "color": "#E5ECF6",
              "width": 0.5
             },
             "pattern": {
              "fillmode": "overlay",
              "size": 10,
              "solidity": 0.2
             }
            },
            "type": "barpolar"
           }
          ],
          "carpet": [
           {
            "aaxis": {
             "endlinecolor": "#2a3f5f",
             "gridcolor": "white",
             "linecolor": "white",
             "minorgridcolor": "white",
             "startlinecolor": "#2a3f5f"
            },
            "baxis": {
             "endlinecolor": "#2a3f5f",
             "gridcolor": "white",
             "linecolor": "white",
             "minorgridcolor": "white",
             "startlinecolor": "#2a3f5f"
            },
            "type": "carpet"
           }
          ],
          "choropleth": [
           {
            "colorbar": {
             "outlinewidth": 0,
             "ticks": ""
            },
            "type": "choropleth"
           }
          ],
          "contour": [
           {
            "colorbar": {
             "outlinewidth": 0,
             "ticks": ""
            },
            "colorscale": [
             [
              0,
              "#0d0887"
             ],
             [
              0.1111111111111111,
              "#46039f"
             ],
             [
              0.2222222222222222,
              "#7201a8"
             ],
             [
              0.3333333333333333,
              "#9c179e"
             ],
             [
              0.4444444444444444,
              "#bd3786"
             ],
             [
              0.5555555555555556,
              "#d8576b"
             ],
             [
              0.6666666666666666,
              "#ed7953"
             ],
             [
              0.7777777777777778,
              "#fb9f3a"
             ],
             [
              0.8888888888888888,
              "#fdca26"
             ],
             [
              1,
              "#f0f921"
             ]
            ],
            "type": "contour"
           }
          ],
          "contourcarpet": [
           {
            "colorbar": {
             "outlinewidth": 0,
             "ticks": ""
            },
            "type": "contourcarpet"
           }
          ],
          "heatmap": [
           {
            "colorbar": {
             "outlinewidth": 0,
             "ticks": ""
            },
            "colorscale": [
             [
              0,
              "#0d0887"
             ],
             [
              0.1111111111111111,
              "#46039f"
             ],
             [
              0.2222222222222222,
              "#7201a8"
             ],
             [
              0.3333333333333333,
              "#9c179e"
             ],
             [
              0.4444444444444444,
              "#bd3786"
             ],
             [
              0.5555555555555556,
              "#d8576b"
             ],
             [
              0.6666666666666666,
              "#ed7953"
             ],
             [
              0.7777777777777778,
              "#fb9f3a"
             ],
             [
              0.8888888888888888,
              "#fdca26"
             ],
             [
              1,
              "#f0f921"
             ]
            ],
            "type": "heatmap"
           }
          ],
          "heatmapgl": [
           {
            "colorbar": {
             "outlinewidth": 0,
             "ticks": ""
            },
            "colorscale": [
             [
              0,
              "#0d0887"
             ],
             [
              0.1111111111111111,
              "#46039f"
             ],
             [
              0.2222222222222222,
              "#7201a8"
             ],
             [
              0.3333333333333333,
              "#9c179e"
             ],
             [
              0.4444444444444444,
              "#bd3786"
             ],
             [
              0.5555555555555556,
              "#d8576b"
             ],
             [
              0.6666666666666666,
              "#ed7953"
             ],
             [
              0.7777777777777778,
              "#fb9f3a"
             ],
             [
              0.8888888888888888,
              "#fdca26"
             ],
             [
              1,
              "#f0f921"
             ]
            ],
            "type": "heatmapgl"
           }
          ],
          "histogram": [
           {
            "marker": {
             "pattern": {
              "fillmode": "overlay",
              "size": 10,
              "solidity": 0.2
             }
            },
            "type": "histogram"
           }
          ],
          "histogram2d": [
           {
            "colorbar": {
             "outlinewidth": 0,
             "ticks": ""
            },
            "colorscale": [
             [
              0,
              "#0d0887"
             ],
             [
              0.1111111111111111,
              "#46039f"
             ],
             [
              0.2222222222222222,
              "#7201a8"
             ],
             [
              0.3333333333333333,
              "#9c179e"
             ],
             [
              0.4444444444444444,
              "#bd3786"
             ],
             [
              0.5555555555555556,
              "#d8576b"
             ],
             [
              0.6666666666666666,
              "#ed7953"
             ],
             [
              0.7777777777777778,
              "#fb9f3a"
             ],
             [
              0.8888888888888888,
              "#fdca26"
             ],
             [
              1,
              "#f0f921"
             ]
            ],
            "type": "histogram2d"
           }
          ],
          "histogram2dcontour": [
           {
            "colorbar": {
             "outlinewidth": 0,
             "ticks": ""
            },
            "colorscale": [
             [
              0,
              "#0d0887"
             ],
             [
              0.1111111111111111,
              "#46039f"
             ],
             [
              0.2222222222222222,
              "#7201a8"
             ],
             [
              0.3333333333333333,
              "#9c179e"
             ],
             [
              0.4444444444444444,
              "#bd3786"
             ],
             [
              0.5555555555555556,
              "#d8576b"
             ],
             [
              0.6666666666666666,
              "#ed7953"
             ],
             [
              0.7777777777777778,
              "#fb9f3a"
             ],
             [
              0.8888888888888888,
              "#fdca26"
             ],
             [
              1,
              "#f0f921"
             ]
            ],
            "type": "histogram2dcontour"
           }
          ],
          "mesh3d": [
           {
            "colorbar": {
             "outlinewidth": 0,
             "ticks": ""
            },
            "type": "mesh3d"
           }
          ],
          "parcoords": [
           {
            "line": {
             "colorbar": {
              "outlinewidth": 0,
              "ticks": ""
             }
            },
            "type": "parcoords"
           }
          ],
          "pie": [
           {
            "automargin": true,
            "type": "pie"
           }
          ],
          "scatter": [
           {
            "marker": {
             "colorbar": {
              "outlinewidth": 0,
              "ticks": ""
             }
            },
            "type": "scatter"
           }
          ],
          "scatter3d": [
           {
            "line": {
             "colorbar": {
              "outlinewidth": 0,
              "ticks": ""
             }
            },
            "marker": {
             "colorbar": {
              "outlinewidth": 0,
              "ticks": ""
             }
            },
            "type": "scatter3d"
           }
          ],
          "scattercarpet": [
           {
            "marker": {
             "colorbar": {
              "outlinewidth": 0,
              "ticks": ""
             }
            },
            "type": "scattercarpet"
           }
          ],
          "scattergeo": [
           {
            "marker": {
             "colorbar": {
              "outlinewidth": 0,
              "ticks": ""
             }
            },
            "type": "scattergeo"
           }
          ],
          "scattergl": [
           {
            "marker": {
             "colorbar": {
              "outlinewidth": 0,
              "ticks": ""
             }
            },
            "type": "scattergl"
           }
          ],
          "scattermapbox": [
           {
            "marker": {
             "colorbar": {
              "outlinewidth": 0,
              "ticks": ""
             }
            },
            "type": "scattermapbox"
           }
          ],
          "scatterpolar": [
           {
            "marker": {
             "colorbar": {
              "outlinewidth": 0,
              "ticks": ""
             }
            },
            "type": "scatterpolar"
           }
          ],
          "scatterpolargl": [
           {
            "marker": {
             "colorbar": {
              "outlinewidth": 0,
              "ticks": ""
             }
            },
            "type": "scatterpolargl"
           }
          ],
          "scatterternary": [
           {
            "marker": {
             "colorbar": {
              "outlinewidth": 0,
              "ticks": ""
             }
            },
            "type": "scatterternary"
           }
          ],
          "surface": [
           {
            "colorbar": {
             "outlinewidth": 0,
             "ticks": ""
            },
            "colorscale": [
             [
              0,
              "#0d0887"
             ],
             [
              0.1111111111111111,
              "#46039f"
             ],
             [
              0.2222222222222222,
              "#7201a8"
             ],
             [
              0.3333333333333333,
              "#9c179e"
             ],
             [
              0.4444444444444444,
              "#bd3786"
             ],
             [
              0.5555555555555556,
              "#d8576b"
             ],
             [
              0.6666666666666666,
              "#ed7953"
             ],
             [
              0.7777777777777778,
              "#fb9f3a"
             ],
             [
              0.8888888888888888,
              "#fdca26"
             ],
             [
              1,
              "#f0f921"
             ]
            ],
            "type": "surface"
           }
          ],
          "table": [
           {
            "cells": {
             "fill": {
              "color": "#EBF0F8"
             },
             "line": {
              "color": "white"
             }
            },
            "header": {
             "fill": {
              "color": "#C8D4E3"
             },
             "line": {
              "color": "white"
             }
            },
            "type": "table"
           }
          ]
         },
         "layout": {
          "annotationdefaults": {
           "arrowcolor": "#2a3f5f",
           "arrowhead": 0,
           "arrowwidth": 1
          },
          "autotypenumbers": "strict",
          "coloraxis": {
           "colorbar": {
            "outlinewidth": 0,
            "ticks": ""
           }
          },
          "colorscale": {
           "diverging": [
            [
             0,
             "#8e0152"
            ],
            [
             0.1,
             "#c51b7d"
            ],
            [
             0.2,
             "#de77ae"
            ],
            [
             0.3,
             "#f1b6da"
            ],
            [
             0.4,
             "#fde0ef"
            ],
            [
             0.5,
             "#f7f7f7"
            ],
            [
             0.6,
             "#e6f5d0"
            ],
            [
             0.7,
             "#b8e186"
            ],
            [
             0.8,
             "#7fbc41"
            ],
            [
             0.9,
             "#4d9221"
            ],
            [
             1,
             "#276419"
            ]
           ],
           "sequential": [
            [
             0,
             "#0d0887"
            ],
            [
             0.1111111111111111,
             "#46039f"
            ],
            [
             0.2222222222222222,
             "#7201a8"
            ],
            [
             0.3333333333333333,
             "#9c179e"
            ],
            [
             0.4444444444444444,
             "#bd3786"
            ],
            [
             0.5555555555555556,
             "#d8576b"
            ],
            [
             0.6666666666666666,
             "#ed7953"
            ],
            [
             0.7777777777777778,
             "#fb9f3a"
            ],
            [
             0.8888888888888888,
             "#fdca26"
            ],
            [
             1,
             "#f0f921"
            ]
           ],
           "sequentialminus": [
            [
             0,
             "#0d0887"
            ],
            [
             0.1111111111111111,
             "#46039f"
            ],
            [
             0.2222222222222222,
             "#7201a8"
            ],
            [
             0.3333333333333333,
             "#9c179e"
            ],
            [
             0.4444444444444444,
             "#bd3786"
            ],
            [
             0.5555555555555556,
             "#d8576b"
            ],
            [
             0.6666666666666666,
             "#ed7953"
            ],
            [
             0.7777777777777778,
             "#fb9f3a"
            ],
            [
             0.8888888888888888,
             "#fdca26"
            ],
            [
             1,
             "#f0f921"
            ]
           ]
          },
          "colorway": [
           "#636efa",
           "#EF553B",
           "#00cc96",
           "#ab63fa",
           "#FFA15A",
           "#19d3f3",
           "#FF6692",
           "#B6E880",
           "#FF97FF",
           "#FECB52"
          ],
          "font": {
           "color": "#2a3f5f"
          },
          "geo": {
           "bgcolor": "white",
           "lakecolor": "white",
           "landcolor": "#E5ECF6",
           "showlakes": true,
           "showland": true,
           "subunitcolor": "white"
          },
          "hoverlabel": {
           "align": "left"
          },
          "hovermode": "closest",
          "mapbox": {
           "style": "light"
          },
          "paper_bgcolor": "white",
          "plot_bgcolor": "#E5ECF6",
          "polar": {
           "angularaxis": {
            "gridcolor": "white",
            "linecolor": "white",
            "ticks": ""
           },
           "bgcolor": "#E5ECF6",
           "radialaxis": {
            "gridcolor": "white",
            "linecolor": "white",
            "ticks": ""
           }
          },
          "scene": {
           "xaxis": {
            "backgroundcolor": "#E5ECF6",
            "gridcolor": "white",
            "gridwidth": 2,
            "linecolor": "white",
            "showbackground": true,
            "ticks": "",
            "zerolinecolor": "white"
           },
           "yaxis": {
            "backgroundcolor": "#E5ECF6",
            "gridcolor": "white",
            "gridwidth": 2,
            "linecolor": "white",
            "showbackground": true,
            "ticks": "",
            "zerolinecolor": "white"
           },
           "zaxis": {
            "backgroundcolor": "#E5ECF6",
            "gridcolor": "white",
            "gridwidth": 2,
            "linecolor": "white",
            "showbackground": true,
            "ticks": "",
            "zerolinecolor": "white"
           }
          },
          "shapedefaults": {
           "line": {
            "color": "#2a3f5f"
           }
          },
          "ternary": {
           "aaxis": {
            "gridcolor": "white",
            "linecolor": "white",
            "ticks": ""
           },
           "baxis": {
            "gridcolor": "white",
            "linecolor": "white",
            "ticks": ""
           },
           "bgcolor": "#E5ECF6",
           "caxis": {
            "gridcolor": "white",
            "linecolor": "white",
            "ticks": ""
           }
          },
          "title": {
           "x": 0.05
          },
          "xaxis": {
           "automargin": true,
           "gridcolor": "white",
           "linecolor": "white",
           "ticks": "",
           "title": {
            "standoff": 15
           },
           "zerolinecolor": "white",
           "zerolinewidth": 2
          },
          "yaxis": {
           "automargin": true,
           "gridcolor": "white",
           "linecolor": "white",
           "ticks": "",
           "title": {
            "standoff": 15
           },
           "zerolinecolor": "white",
           "zerolinewidth": 2
          }
         }
        },
        "title": {
         "text": "Geschlechtsverteilung"
        }
       }
      }
     },
     "metadata": {},
     "output_type": "display_data"
    }
   ],
   "source": [
    "# Absolute Anzahl von Male und Female in dff abspeichern\n",
    "dff = df_positive['gender'].value_counts()[:10] \n",
    "\n",
    "# Label für den Pie chart festlegen\n",
    "label = dff.index\n",
    "\n",
    "# Summe der Ausprägungen je Label\n",
    "size = dff.values\n",
    "\n",
    "# Farben definieren und pie chart erzeugen\n",
    "colors = ['rgb(20,29,67)', 'rgb(18,116,117)']\n",
    "trace = go.Pie(labels=label, values=size, marker=dict(colors=colors), hole=.2)\n",
    "\n",
    "data = [trace]\n",
    "\n",
    "# Titel hinzufügen\n",
    "layout = go.Layout(\n",
    "    title='Geschlechtsverteilung'\n",
    ")\n",
    "\n",
    "# Plot erzeugen mit den zuvor definierten Spezifikationen\n",
    "fig = go.Figure(data=data, layout=layout)\n",
    "py.iplot(fig)"
   ]
  },
  {
   "cell_type": "code",
   "execution_count": 80,
   "metadata": {},
   "outputs": [
    {
     "data": {
      "application/vnd.plotly.v1+json": {
       "config": {
        "linkText": "Export to plot.ly",
        "plotlyServerURL": "https://plot.ly",
        "showLink": false
       },
       "data": [
        {
         "hoverinfo": "y",
         "marker": {
          "color": [
           124,
           122,
           163,
           124,
           163,
           157,
           163,
           25,
           157,
           163,
           26,
           124,
           157,
           155,
           163,
           163,
           163,
           26,
           124,
           26,
           163,
           163,
           26,
           163,
           163,
           26,
           26,
           157,
           157,
           157,
           163,
           163,
           163,
           124,
           124,
           157,
           157,
           124,
           163,
           163,
           157,
           124,
           124,
           25,
           157,
           154,
           163,
           163,
           26,
           157,
           26,
           124,
           124,
           156,
           163,
           154,
           124,
           157,
           157,
           124,
           124,
           154,
           157,
           163,
           163,
           163,
           163,
           157,
           163,
           163,
           124,
           124,
           26,
           157,
           124,
           157,
           116,
           26,
           163,
           163,
           163,
           157,
           163,
           157,
           163,
           124,
           163,
           26,
           124,
           163,
           124,
           154,
           124,
           140,
           26,
           163,
           26,
           157,
           124,
           157,
           163,
           163,
           163,
           163,
           154,
           26,
           158,
           163,
           163,
           7,
           26,
           124,
           157,
           163,
           26,
           26,
           156,
           124,
           163,
           157,
           163,
           124,
           124,
           163,
           26,
           157,
           163,
           26,
           163,
           163,
           124,
           124,
           163,
           163,
           163,
           163,
           155,
           26,
           163,
           163,
           163,
           124,
           124,
           157,
           157,
           124,
           163,
           124,
           163,
           124,
           154,
           124,
           158,
           163,
           163,
           163,
           124,
           156,
           26,
           156,
           3,
           163,
           124,
           157,
           25,
           124,
           26,
           163,
           163,
           163,
           163,
           163,
           163,
           163,
           163,
           124,
           163,
           154,
           163,
           163,
           155,
           157,
           26,
           124,
           163,
           163,
           155,
           163,
           26,
           155,
           124,
           163,
           26,
           163,
           163,
           163,
           122,
           156,
           26,
           157,
           124,
           154,
           157,
           124,
           122,
           124,
           163,
           163,
           163,
           26,
           163,
           157,
           157,
           157,
           157,
           124,
           163,
           163,
           13,
           163,
           124,
           124,
           163,
           26,
           163,
           26,
           157,
           157,
           26,
           157,
           154,
           163,
           124,
           163,
           124,
           163,
           124,
           157,
           26,
           163,
           154,
           26,
           163,
           157,
           163,
           124,
           163,
           163,
           124,
           124,
           163,
           157,
           163,
           163,
           163,
           163,
           124,
           163,
           26,
           124,
           30,
           157,
           163,
           26,
           157,
           26,
           26,
           157,
           157,
           163,
           163,
           163,
           124,
           163,
           26,
           163,
           124,
           154,
           26,
           163,
           163,
           124,
           163,
           124,
           124,
           163,
           163,
           124,
           157,
           157,
           124,
           156,
           26,
           154,
           163,
           154,
           124,
           163,
           163,
           163,
           163,
           124,
           26,
           163,
           26,
           163,
           157,
           155,
           163,
           26,
           124,
           157,
           124,
           25,
           124,
           163,
           124,
           163,
           124,
           154,
           163,
           157,
           26,
           157,
           124,
           26,
           163,
           124,
           122,
           26,
           124,
           26,
           124,
           163,
           26,
           157,
           26,
           124,
           154,
           157,
           157,
           26,
           163,
           163,
           163,
           156,
           163,
           154,
           163,
           157,
           163,
           124,
           163,
           52,
           124,
           163,
           157,
           163,
           156,
           124,
           163,
           163,
           154,
           163,
           163,
           163,
           163,
           157,
           163,
           163,
           26,
           26,
           26,
           158,
           163,
           157,
           124,
           163,
           26,
           163,
           163,
           163,
           124,
           124,
           26,
           157,
           163,
           163,
           156,
           163,
           122,
           124,
           157,
           163,
           157,
           163,
           157,
           163,
           163,
           157,
           124,
           7,
           124,
           26,
           163,
           154,
           163,
           122,
           124,
           124,
           157,
           163,
           124,
           124,
           124,
           163,
           26,
           156,
           124,
           25,
           124,
           124,
           26,
           163,
           163,
           124,
           124,
           61,
           163,
           154,
           163,
           163,
           124,
           124,
           124,
           26,
           26,
           124,
           163,
           163,
           124,
           124,
           163,
           156,
           122,
           26,
           154,
           157,
           124,
           124,
           163,
           157,
           157,
           26,
           163,
           26,
           157,
           163,
           26,
           163,
           124,
           124,
           163,
           26,
           157,
           163,
           124,
           163,
           124,
           26,
           124,
           163,
           26,
           163,
           154,
           163,
           124,
           122,
           157,
           26,
           163,
           26,
           163,
           157,
           124,
           163,
           124,
           163,
           124,
           157,
           26,
           163,
           124,
           26,
           163,
           163,
           124,
           163,
           163,
           26,
           163,
           163,
           157,
           163,
           163,
           163,
           124,
           124,
           26,
           124,
           163,
           163,
           163,
           26,
           26,
           124,
           154,
           163,
           124,
           163,
           154,
           157,
           163,
           163,
           157,
           26,
           124,
           124,
           124,
           163,
           52,
           124,
           124,
           26,
           163,
           163,
           163,
           163,
           157,
           163,
           26,
           154,
           155,
           124,
           26,
           124,
           157,
           124,
           163,
           163,
           163,
           124,
           163,
           124,
           163,
           157,
           163,
           26,
           163,
           124,
           124,
           124,
           124,
           163
          ],
          "colorscale": [
           [
            0,
            "rgb(3, 5, 18)"
           ],
           [
            0.09090909090909091,
            "rgb(25, 25, 51)"
           ],
           [
            0.18181818181818182,
            "rgb(44, 42, 87)"
           ],
           [
            0.2727272727272727,
            "rgb(58, 60, 125)"
           ],
           [
            0.36363636363636365,
            "rgb(62, 83, 160)"
           ],
           [
            0.45454545454545453,
            "rgb(62, 109, 178)"
           ],
           [
            0.5454545454545454,
            "rgb(72, 134, 187)"
           ],
           [
            0.6363636363636364,
            "rgb(89, 159, 196)"
           ],
           [
            0.7272727272727273,
            "rgb(114, 184, 205)"
           ],
           [
            0.8181818181818182,
            "rgb(149, 207, 216)"
           ],
           [
            0.9090909090909091,
            "rgb(192, 229, 232)"
           ],
           [
            1,
            "rgb(234, 252, 253)"
           ]
          ],
          "reversescale": true,
          "showscale": true
         },
         "name": "total",
         "opacity": 0.8,
         "type": "bar",
         "x": [
          187,
          934,
          1542,
          1782,
          1880,
          2472,
          3129,
          3168,
          3213,
          4283,
          4642,
          4944,
          5092,
          5261,
          5288,
          5315,
          5340,
          5355,
          5504,
          5986,
          6026,
          6441,
          6711,
          6873,
          6897,
          7270,
          7303,
          7578,
          7807,
          7823,
          8174,
          8279,
          8645,
          8678,
          8880,
          9498,
          9536,
          9644,
          9935,
          10037,
          10200,
          10235,
          10247,
          10708,
          10791,
          11252,
          11399,
          11885,
          11891,
          11951,
          12637,
          12690,
          13008,
          13092,
          13281,
          13574,
          13889,
          13896,
          14071,
          15250,
          15407,
          15618,
          15620,
          15702,
          16139,
          16183,
          16326,
          16369,
          16439,
          16628,
          16716,
          16756,
          16957,
          17116,
          17434,
          17770,
          17802,
          18047,
          18070,
          18240,
          18548,
          18564,
          18683,
          18928,
          19063,
          19771,
          19970,
          20167,
          20537,
          20561,
          20654,
          20665,
          21089,
          21290,
          21344,
          21367,
          21429,
          21679,
          21744,
          22038,
          22082,
          22314,
          22375,
          22620,
          22720,
          22743,
          22906,
          23622,
          23646,
          23747,
          23939,
          24077,
          24395,
          24679,
          24777,
          25285,
          25318,
          25632,
          25692,
          26570,
          27078,
          27171,
          27663,
          28139,
          28237,
          28428,
          28499,
          28558,
          28683,
          29873,
          30228,
          30232,
          31371,
          31514,
          31577,
          31618,
          31745,
          31791,
          31898,
          32076,
          33118,
          33321,
          33350,
          35106,
          35157,
          35394,
          35960,
          36081,
          36184,
          36245,
          36545,
          36676,
          37192,
          37340,
          37489,
          37657,
          37691,
          38382,
          38498,
          38526,
          38643,
          38898,
          38906,
          39019,
          39450,
          40036,
          40164,
          40855,
          40861,
          40875,
          41218,
          42377,
          42886,
          44339,
          44378,
          44911,
          45430,
          45477,
          45516,
          45592,
          45627,
          45829,
          45833,
          46135,
          46581,
          46734,
          47148,
          47162,
          47245,
          47306,
          47354,
          47840,
          47887,
          48264,
          48299,
          48443,
          48540,
          48863,
          48884,
          49051,
          49148,
          49293,
          49341,
          49362,
          49418,
          49620,
          49797,
          50272,
          50419,
          50458,
          50822,
          50882,
          50962,
          51068,
          51922,
          52028,
          52444,
          52581,
          53082,
          53578,
          53596,
          53871,
          54172,
          54958,
          54975,
          55150,
          55213,
          55635,
          56004,
          56348,
          56404,
          56414,
          56497,
          56749,
          56959,
          57582,
          57811,
          57915,
          57946,
          58178,
          58287,
          58542,
          58723,
          58841,
          59123,
          59536,
          59583,
          59724,
          59766,
          60107,
          60226,
          60264,
          60338,
          60375,
          60410,
          60826,
          60829,
          60850,
          60862,
          60865,
          61033,
          61130,
          61316,
          61455,
          61904,
          62069,
          62213,
          62286,
          62405,
          62437,
          62460,
          62518,
          62581,
          62650,
          63388,
          63680,
          63714,
          64147,
          64407,
          64621,
          64879,
          65042,
          65254,
          65266,
          65324,
          65577,
          65822,
          66571,
          67387,
          68074,
          68184,
          68211,
          68416,
          68549,
          68596,
          68740,
          69357,
          69543,
          69786,
          70178,
          70296,
          70472,
          70631,
          71013,
          71047,
          71369,
          71631,
          71844,
          72040,
          72054,
          72551,
          72832,
          72980,
          72981,
          73238,
          73252,
          73440,
          73851,
          73891,
          74034,
          74173,
          74315,
          74346,
          74448,
          74821,
          75295,
          75392,
          75757,
          75785,
          76119,
          76230,
          76383,
          76530,
          76688,
          77401,
          77452,
          77680,
          77814,
          77847,
          77935,
          78171,
          78286,
          78439,
          78856,
          78875,
          79024,
          79426,
          79753,
          79791,
          79807,
          80259,
          80401,
          80690,
          80805,
          81041,
          81098,
          81364,
          81577,
          81592,
          81819,
          81858,
          82136,
          82264,
          82316,
          82896,
          82974,
          83091,
          83185,
          83454,
          83602,
          83851,
          83982,
          84285,
          84330,
          84715,
          85071,
          85144,
          85363,
          85382,
          85737,
          85943,
          86632,
          86808,
          86854,
          86970,
          87012,
          87025,
          87095,
          87436,
          88061,
          88313,
          88844,
          88968,
          88971,
          89142,
          89522,
          89765,
          90018,
          90023,
          90321,
          90327,
          90891,
          90997,
          91136,
          91805,
          91849,
          92116,
          92268,
          92602,
          92780,
          92872,
          93051,
          93425,
          93604,
          93766,
          94165,
          94187,
          94194,
          94279,
          94291,
          94419,
          95121,
          95539,
          95782,
          96105,
          96235,
          96391,
          96939,
          97513,
          98710,
          99121,
          99192,
          99784,
          99835,
          99856,
          99880,
          100095,
          100103,
          100151,
          100243,
          100283,
          100862,
          101025,
          101080,
          101241,
          101250,
          101565,
          101643,
          101673,
          101741,
          102084,
          102362,
          102400,
          102577,
          102668,
          102690,
          102835,
          102914,
          103106,
          103146,
          103689,
          104118,
          104278,
          104453,
          104481,
          104718,
          104751,
          104924,
          105135,
          105136,
          105466,
          106389,
          106631,
          106670,
          106881,
          106960,
          107355,
          107385,
          107557,
          107749,
          107782,
          108280,
          108482,
          108531,
          108539,
          108656,
          108873,
          108907,
          108919,
          109057,
          109231,
          109373,
          109421,
          109508,
          109862,
          110301,
          110495,
          111223,
          111299,
          111764,
          112220,
          112413,
          112444,
          113076,
          113080,
          113524,
          113551,
          113840,
          113864,
          114165,
          114189,
          114320,
          114366,
          114559,
          116054,
          116202,
          116286,
          116326,
          116397,
          116490,
          116709,
          116871,
          116924,
          117025,
          117191,
          117374,
          117889,
          118340,
          118624,
          118829,
          119031,
          119159,
          119468,
          119577,
          119784,
          119852,
          119903,
          119942,
          120174,
          120259,
          120353,
          120476,
          120490,
          120668,
          120687,
          120963,
          121175,
          121388,
          121455,
          121745,
          122187,
          122705,
          123010,
          123162,
          123473,
          123803,
          124676,
          124725,
          125451,
          125564,
          125662,
          125793,
          125797,
          126634
         ],
         "y": [
          null,
          null,
          null,
          null,
          null,
          null,
          null,
          null,
          null,
          null,
          null,
          null,
          null,
          null,
          null,
          null,
          null,
          null,
          null,
          null,
          null,
          null,
          null,
          null,
          null,
          null,
          null,
          null,
          null,
          null,
          null,
          null,
          null,
          null,
          null,
          null,
          null,
          null,
          null,
          null,
          null,
          null,
          null,
          null,
          null,
          null,
          null,
          null,
          null,
          null,
          null,
          null,
          null,
          null,
          null,
          null,
          null,
          null,
          null,
          null,
          null,
          null,
          null,
          null,
          null,
          null,
          null,
          null,
          null,
          null,
          null,
          null,
          null,
          null,
          null,
          null,
          null,
          null,
          null,
          null,
          null,
          null,
          null,
          null,
          null,
          null,
          null,
          null,
          null,
          null,
          null,
          null,
          null,
          null,
          null,
          null,
          null,
          null,
          null,
          null,
          null,
          null,
          null,
          null,
          null,
          null,
          null,
          null,
          null,
          null,
          null,
          null,
          null,
          null,
          null,
          null,
          null,
          null,
          null,
          null,
          null,
          null,
          null,
          null,
          null,
          null,
          null,
          null,
          null,
          null,
          null,
          null,
          null,
          null,
          null,
          null,
          null,
          null,
          null,
          null,
          null,
          null,
          null,
          null,
          null,
          null,
          null,
          null,
          null,
          null,
          null,
          null,
          null,
          null,
          null,
          null,
          null,
          null,
          null,
          null,
          null,
          null,
          null,
          null,
          null,
          null,
          null,
          null,
          null,
          null,
          null,
          null,
          null,
          null,
          null,
          null,
          null,
          null,
          null,
          null,
          null,
          null,
          null,
          null,
          null,
          null,
          null,
          null,
          null,
          null,
          null,
          null,
          null,
          null,
          null,
          null,
          null,
          null,
          null,
          null,
          null,
          null,
          null,
          null,
          null,
          null,
          null,
          null,
          null,
          null,
          null,
          null,
          null,
          null,
          null,
          null,
          null,
          null,
          null,
          null,
          null,
          null,
          null,
          null,
          null,
          null,
          null,
          null,
          null,
          null,
          null,
          null,
          null,
          null,
          null,
          null,
          null,
          null,
          null,
          null,
          null,
          null,
          null,
          null,
          null,
          null,
          null,
          null,
          null,
          null,
          null,
          null,
          null,
          null,
          null,
          null,
          null,
          null,
          null,
          null,
          null,
          null,
          null,
          null,
          null,
          null,
          null,
          null,
          null,
          null,
          null,
          null,
          null,
          null,
          null,
          null,
          null,
          null,
          null,
          null,
          null,
          null,
          null,
          null,
          null,
          null,
          null,
          null,
          null,
          null,
          null,
          null,
          null,
          null,
          null,
          null,
          null,
          null,
          null,
          null,
          null,
          null,
          null,
          null,
          null,
          null,
          null,
          null,
          null,
          null,
          null,
          null,
          null,
          null,
          null,
          null,
          null,
          null,
          null,
          null,
          null,
          null,
          null,
          null,
          null,
          null,
          null,
          null,
          null,
          null,
          null,
          null,
          null,
          null,
          null,
          null,
          null,
          null,
          null,
          null,
          null,
          null,
          null,
          null,
          null,
          null,
          null,
          null,
          null,
          null,
          null,
          null,
          null,
          null,
          null,
          null,
          null,
          null,
          null,
          null,
          null,
          null,
          null,
          null,
          null,
          null,
          null,
          null,
          null,
          null,
          null,
          null,
          null,
          null,
          null,
          null,
          null,
          null,
          null,
          null,
          null,
          null,
          null,
          null,
          null,
          null,
          null,
          null,
          null,
          null,
          null,
          null,
          null,
          null,
          null,
          null,
          null,
          null,
          null,
          null,
          null,
          null,
          null,
          null,
          null,
          null,
          null,
          null,
          null,
          null,
          null,
          null,
          null,
          null,
          null,
          null,
          null,
          null,
          null,
          null,
          null,
          null,
          null,
          null,
          null,
          null,
          null,
          null,
          null,
          null,
          null,
          null,
          null,
          null,
          null,
          null,
          null,
          null,
          null,
          null,
          null,
          null,
          null,
          null,
          null,
          null,
          null,
          null,
          null,
          null,
          null,
          null,
          null,
          null,
          null,
          null,
          null,
          null,
          null,
          null,
          null,
          null,
          null,
          null,
          null,
          null,
          null,
          null,
          null,
          null,
          null,
          null,
          null,
          null,
          null,
          null,
          null,
          null,
          null,
          null,
          null,
          null,
          null,
          null,
          null,
          null,
          null,
          null,
          null,
          null,
          null,
          null,
          null,
          null,
          null,
          null,
          null,
          null,
          null,
          null,
          null,
          null,
          null,
          null,
          null,
          null,
          null,
          null,
          null,
          null,
          null,
          null,
          null,
          null,
          null,
          null,
          null,
          null,
          null,
          null,
          null,
          null,
          null,
          null,
          null,
          null,
          null,
          null,
          null,
          null,
          null,
          null,
          null,
          null,
          null,
          null,
          null,
          null,
          null,
          null,
          null,
          null,
          null,
          null,
          null,
          null,
          null,
          null,
          null,
          null,
          null,
          null,
          null,
          null,
          null,
          null,
          null,
          null,
          null,
          null,
          null,
          null,
          null,
          null
         ]
        }
       ],
       "layout": {
        "autosize": true,
        "plot_bgcolor": "rgb(240, 240, 240)",
        "template": {
         "data": {
          "bar": [
           {
            "error_x": {
             "color": "#2a3f5f"
            },
            "error_y": {
             "color": "#2a3f5f"
            },
            "marker": {
             "line": {
              "color": "#E5ECF6",
              "width": 0.5
             },
             "pattern": {
              "fillmode": "overlay",
              "size": 10,
              "solidity": 0.2
             }
            },
            "type": "bar"
           }
          ],
          "barpolar": [
           {
            "marker": {
             "line": {
              "color": "#E5ECF6",
              "width": 0.5
             },
             "pattern": {
              "fillmode": "overlay",
              "size": 10,
              "solidity": 0.2
             }
            },
            "type": "barpolar"
           }
          ],
          "carpet": [
           {
            "aaxis": {
             "endlinecolor": "#2a3f5f",
             "gridcolor": "white",
             "linecolor": "white",
             "minorgridcolor": "white",
             "startlinecolor": "#2a3f5f"
            },
            "baxis": {
             "endlinecolor": "#2a3f5f",
             "gridcolor": "white",
             "linecolor": "white",
             "minorgridcolor": "white",
             "startlinecolor": "#2a3f5f"
            },
            "type": "carpet"
           }
          ],
          "choropleth": [
           {
            "colorbar": {
             "outlinewidth": 0,
             "ticks": ""
            },
            "type": "choropleth"
           }
          ],
          "contour": [
           {
            "colorbar": {
             "outlinewidth": 0,
             "ticks": ""
            },
            "colorscale": [
             [
              0,
              "#0d0887"
             ],
             [
              0.1111111111111111,
              "#46039f"
             ],
             [
              0.2222222222222222,
              "#7201a8"
             ],
             [
              0.3333333333333333,
              "#9c179e"
             ],
             [
              0.4444444444444444,
              "#bd3786"
             ],
             [
              0.5555555555555556,
              "#d8576b"
             ],
             [
              0.6666666666666666,
              "#ed7953"
             ],
             [
              0.7777777777777778,
              "#fb9f3a"
             ],
             [
              0.8888888888888888,
              "#fdca26"
             ],
             [
              1,
              "#f0f921"
             ]
            ],
            "type": "contour"
           }
          ],
          "contourcarpet": [
           {
            "colorbar": {
             "outlinewidth": 0,
             "ticks": ""
            },
            "type": "contourcarpet"
           }
          ],
          "heatmap": [
           {
            "colorbar": {
             "outlinewidth": 0,
             "ticks": ""
            },
            "colorscale": [
             [
              0,
              "#0d0887"
             ],
             [
              0.1111111111111111,
              "#46039f"
             ],
             [
              0.2222222222222222,
              "#7201a8"
             ],
             [
              0.3333333333333333,
              "#9c179e"
             ],
             [
              0.4444444444444444,
              "#bd3786"
             ],
             [
              0.5555555555555556,
              "#d8576b"
             ],
             [
              0.6666666666666666,
              "#ed7953"
             ],
             [
              0.7777777777777778,
              "#fb9f3a"
             ],
             [
              0.8888888888888888,
              "#fdca26"
             ],
             [
              1,
              "#f0f921"
             ]
            ],
            "type": "heatmap"
           }
          ],
          "heatmapgl": [
           {
            "colorbar": {
             "outlinewidth": 0,
             "ticks": ""
            },
            "colorscale": [
             [
              0,
              "#0d0887"
             ],
             [
              0.1111111111111111,
              "#46039f"
             ],
             [
              0.2222222222222222,
              "#7201a8"
             ],
             [
              0.3333333333333333,
              "#9c179e"
             ],
             [
              0.4444444444444444,
              "#bd3786"
             ],
             [
              0.5555555555555556,
              "#d8576b"
             ],
             [
              0.6666666666666666,
              "#ed7953"
             ],
             [
              0.7777777777777778,
              "#fb9f3a"
             ],
             [
              0.8888888888888888,
              "#fdca26"
             ],
             [
              1,
              "#f0f921"
             ]
            ],
            "type": "heatmapgl"
           }
          ],
          "histogram": [
           {
            "marker": {
             "pattern": {
              "fillmode": "overlay",
              "size": 10,
              "solidity": 0.2
             }
            },
            "type": "histogram"
           }
          ],
          "histogram2d": [
           {
            "colorbar": {
             "outlinewidth": 0,
             "ticks": ""
            },
            "colorscale": [
             [
              0,
              "#0d0887"
             ],
             [
              0.1111111111111111,
              "#46039f"
             ],
             [
              0.2222222222222222,
              "#7201a8"
             ],
             [
              0.3333333333333333,
              "#9c179e"
             ],
             [
              0.4444444444444444,
              "#bd3786"
             ],
             [
              0.5555555555555556,
              "#d8576b"
             ],
             [
              0.6666666666666666,
              "#ed7953"
             ],
             [
              0.7777777777777778,
              "#fb9f3a"
             ],
             [
              0.8888888888888888,
              "#fdca26"
             ],
             [
              1,
              "#f0f921"
             ]
            ],
            "type": "histogram2d"
           }
          ],
          "histogram2dcontour": [
           {
            "colorbar": {
             "outlinewidth": 0,
             "ticks": ""
            },
            "colorscale": [
             [
              0,
              "#0d0887"
             ],
             [
              0.1111111111111111,
              "#46039f"
             ],
             [
              0.2222222222222222,
              "#7201a8"
             ],
             [
              0.3333333333333333,
              "#9c179e"
             ],
             [
              0.4444444444444444,
              "#bd3786"
             ],
             [
              0.5555555555555556,
              "#d8576b"
             ],
             [
              0.6666666666666666,
              "#ed7953"
             ],
             [
              0.7777777777777778,
              "#fb9f3a"
             ],
             [
              0.8888888888888888,
              "#fdca26"
             ],
             [
              1,
              "#f0f921"
             ]
            ],
            "type": "histogram2dcontour"
           }
          ],
          "mesh3d": [
           {
            "colorbar": {
             "outlinewidth": 0,
             "ticks": ""
            },
            "type": "mesh3d"
           }
          ],
          "parcoords": [
           {
            "line": {
             "colorbar": {
              "outlinewidth": 0,
              "ticks": ""
             }
            },
            "type": "parcoords"
           }
          ],
          "pie": [
           {
            "automargin": true,
            "type": "pie"
           }
          ],
          "scatter": [
           {
            "marker": {
             "colorbar": {
              "outlinewidth": 0,
              "ticks": ""
             }
            },
            "type": "scatter"
           }
          ],
          "scatter3d": [
           {
            "line": {
             "colorbar": {
              "outlinewidth": 0,
              "ticks": ""
             }
            },
            "marker": {
             "colorbar": {
              "outlinewidth": 0,
              "ticks": ""
             }
            },
            "type": "scatter3d"
           }
          ],
          "scattercarpet": [
           {
            "marker": {
             "colorbar": {
              "outlinewidth": 0,
              "ticks": ""
             }
            },
            "type": "scattercarpet"
           }
          ],
          "scattergeo": [
           {
            "marker": {
             "colorbar": {
              "outlinewidth": 0,
              "ticks": ""
             }
            },
            "type": "scattergeo"
           }
          ],
          "scattergl": [
           {
            "marker": {
             "colorbar": {
              "outlinewidth": 0,
              "ticks": ""
             }
            },
            "type": "scattergl"
           }
          ],
          "scattermapbox": [
           {
            "marker": {
             "colorbar": {
              "outlinewidth": 0,
              "ticks": ""
             }
            },
            "type": "scattermapbox"
           }
          ],
          "scatterpolar": [
           {
            "marker": {
             "colorbar": {
              "outlinewidth": 0,
              "ticks": ""
             }
            },
            "type": "scatterpolar"
           }
          ],
          "scatterpolargl": [
           {
            "marker": {
             "colorbar": {
              "outlinewidth": 0,
              "ticks": ""
             }
            },
            "type": "scatterpolargl"
           }
          ],
          "scatterternary": [
           {
            "marker": {
             "colorbar": {
              "outlinewidth": 0,
              "ticks": ""
             }
            },
            "type": "scatterternary"
           }
          ],
          "surface": [
           {
            "colorbar": {
             "outlinewidth": 0,
             "ticks": ""
            },
            "colorscale": [
             [
              0,
              "#0d0887"
             ],
             [
              0.1111111111111111,
              "#46039f"
             ],
             [
              0.2222222222222222,
              "#7201a8"
             ],
             [
              0.3333333333333333,
              "#9c179e"
             ],
             [
              0.4444444444444444,
              "#bd3786"
             ],
             [
              0.5555555555555556,
              "#d8576b"
             ],
             [
              0.6666666666666666,
              "#ed7953"
             ],
             [
              0.7777777777777778,
              "#fb9f3a"
             ],
             [
              0.8888888888888888,
              "#fdca26"
             ],
             [
              1,
              "#f0f921"
             ]
            ],
            "type": "surface"
           }
          ],
          "table": [
           {
            "cells": {
             "fill": {
              "color": "#EBF0F8"
             },
             "line": {
              "color": "white"
             }
            },
            "header": {
             "fill": {
              "color": "#C8D4E3"
             },
             "line": {
              "color": "white"
             }
            },
            "type": "table"
           }
          ]
         },
         "layout": {
          "annotationdefaults": {
           "arrowcolor": "#2a3f5f",
           "arrowhead": 0,
           "arrowwidth": 1
          },
          "autotypenumbers": "strict",
          "coloraxis": {
           "colorbar": {
            "outlinewidth": 0,
            "ticks": ""
           }
          },
          "colorscale": {
           "diverging": [
            [
             0,
             "#8e0152"
            ],
            [
             0.1,
             "#c51b7d"
            ],
            [
             0.2,
             "#de77ae"
            ],
            [
             0.3,
             "#f1b6da"
            ],
            [
             0.4,
             "#fde0ef"
            ],
            [
             0.5,
             "#f7f7f7"
            ],
            [
             0.6,
             "#e6f5d0"
            ],
            [
             0.7,
             "#b8e186"
            ],
            [
             0.8,
             "#7fbc41"
            ],
            [
             0.9,
             "#4d9221"
            ],
            [
             1,
             "#276419"
            ]
           ],
           "sequential": [
            [
             0,
             "#0d0887"
            ],
            [
             0.1111111111111111,
             "#46039f"
            ],
            [
             0.2222222222222222,
             "#7201a8"
            ],
            [
             0.3333333333333333,
             "#9c179e"
            ],
            [
             0.4444444444444444,
             "#bd3786"
            ],
            [
             0.5555555555555556,
             "#d8576b"
            ],
            [
             0.6666666666666666,
             "#ed7953"
            ],
            [
             0.7777777777777778,
             "#fb9f3a"
            ],
            [
             0.8888888888888888,
             "#fdca26"
            ],
            [
             1,
             "#f0f921"
            ]
           ],
           "sequentialminus": [
            [
             0,
             "#0d0887"
            ],
            [
             0.1111111111111111,
             "#46039f"
            ],
            [
             0.2222222222222222,
             "#7201a8"
            ],
            [
             0.3333333333333333,
             "#9c179e"
            ],
            [
             0.4444444444444444,
             "#bd3786"
            ],
            [
             0.5555555555555556,
             "#d8576b"
            ],
            [
             0.6666666666666666,
             "#ed7953"
            ],
            [
             0.7777777777777778,
             "#fb9f3a"
            ],
            [
             0.8888888888888888,
             "#fdca26"
            ],
            [
             1,
             "#f0f921"
            ]
           ]
          },
          "colorway": [
           "#636efa",
           "#EF553B",
           "#00cc96",
           "#ab63fa",
           "#FFA15A",
           "#19d3f3",
           "#FF6692",
           "#B6E880",
           "#FF97FF",
           "#FECB52"
          ],
          "font": {
           "color": "#2a3f5f"
          },
          "geo": {
           "bgcolor": "white",
           "lakecolor": "white",
           "landcolor": "#E5ECF6",
           "showlakes": true,
           "showland": true,
           "subunitcolor": "white"
          },
          "hoverlabel": {
           "align": "left"
          },
          "hovermode": "closest",
          "mapbox": {
           "style": "light"
          },
          "paper_bgcolor": "white",
          "plot_bgcolor": "#E5ECF6",
          "polar": {
           "angularaxis": {
            "gridcolor": "white",
            "linecolor": "white",
            "ticks": ""
           },
           "bgcolor": "#E5ECF6",
           "radialaxis": {
            "gridcolor": "white",
            "linecolor": "white",
            "ticks": ""
           }
          },
          "scene": {
           "xaxis": {
            "backgroundcolor": "#E5ECF6",
            "gridcolor": "white",
            "gridwidth": 2,
            "linecolor": "white",
            "showbackground": true,
            "ticks": "",
            "zerolinecolor": "white"
           },
           "yaxis": {
            "backgroundcolor": "#E5ECF6",
            "gridcolor": "white",
            "gridwidth": 2,
            "linecolor": "white",
            "showbackground": true,
            "ticks": "",
            "zerolinecolor": "white"
           },
           "zaxis": {
            "backgroundcolor": "#E5ECF6",
            "gridcolor": "white",
            "gridwidth": 2,
            "linecolor": "white",
            "showbackground": true,
            "ticks": "",
            "zerolinecolor": "white"
           }
          },
          "shapedefaults": {
           "line": {
            "color": "#2a3f5f"
           }
          },
          "ternary": {
           "aaxis": {
            "gridcolor": "white",
            "linecolor": "white",
            "ticks": ""
           },
           "baxis": {
            "gridcolor": "white",
            "linecolor": "white",
            "ticks": ""
           },
           "bgcolor": "#E5ECF6",
           "caxis": {
            "gridcolor": "white",
            "linecolor": "white",
            "ticks": ""
           }
          },
          "title": {
           "x": 0.05
          },
          "xaxis": {
           "automargin": true,
           "gridcolor": "white",
           "linecolor": "white",
           "ticks": "",
           "title": {
            "standoff": 15
           },
           "zerolinecolor": "white",
           "zerolinewidth": 2
          },
          "yaxis": {
           "automargin": true,
           "gridcolor": "white",
           "linecolor": "white",
           "ticks": "",
           "title": {
            "standoff": 15
           },
           "zerolinecolor": "white",
           "zerolinewidth": 2
          }
         }
        },
        "title": {
         "text": "Policy Sales Channel",
         "y": 0.95
        },
        "xaxis": {
         "tickmode": "linear",
         "title": {
          "font": {
           "size": 16
          },
          "text": "Policy Sales Channel"
         }
        },
        "yaxis": {
         "title": {
          "font": {
           "size": 17
          },
          "text": "%"
         }
        }
       }
      }
     },
     "metadata": {},
     "output_type": "display_data"
    }
   ],
   "source": [
    "# Prozentuale Verteilung je Kategorie in policy_sales_channel absteigend nach \n",
    "# den höchsten Werten in einem df ablegen\n",
    "df_policy_sales_channel = pd.DataFrame(df_positive['policy_sales_channel'])\n",
    "df_policy_sales_channel['percentage'] = round(df_positive['policy_sales_channel'].value_counts(normalize=True).to_frame().sort_index(), 4)\n",
    "df_policy_sales_channel_index = df_policy_sales_channel[df_policy_sales_channel['policy_sales_channel'] < 0.1].index\n",
    "\n",
    "df_policy_sales_channel = df_policy_sales_channel.drop(df_policy_sales_channel_index)\n",
    "\n",
    "trace = [\n",
    "    # Barchart für die Verteilung insgesamt\n",
    "    go.Bar(x=df_policy_sales_channel['policy_sales_channel'].index,\n",
    "           y=df_policy_sales_channel['percentage'],\n",
    "           opacity=0.8,\n",
    "           name=\"total\",\n",
    "           hoverinfo=\"y\",\n",
    "           marker=dict(\n",
    "               color=df_policy_sales_channel['policy_sales_channel'],\n",
    "               colorscale='ice',\n",
    "               reversescale=True,\n",
    "               showscale=True)\n",
    "           )\n",
    "\n",
    "\n",
    "]\n",
    "\n",
    "# Layout des Plots definieren\n",
    "layout = go.Layout(title=dict(text='Policy Sales Channel', y=.95),\n",
    "                   plot_bgcolor='rgb(240, 240, 240)',\n",
    "                   autosize=True,\n",
    "                   xaxis=dict(title=\"Policy Sales Channel\",\n",
    "                              titlefont=dict(size=16),\n",
    "                              tickmode=\"linear\"),\n",
    "                   yaxis=dict(title=\"%\",\n",
    "                              titlefont=dict(size=17)),\n",
    "                   )\n",
    "\n",
    "\n",
    "fig = dict(data=trace, layout=layout)\n",
    "py.iplot(fig)"
   ]
  },
  {
   "cell_type": "code",
   "execution_count": 81,
   "metadata": {},
   "outputs": [
    {
     "data": {
      "text/html": [
       "<div>\n",
       "<style scoped>\n",
       "    .dataframe tbody tr th:only-of-type {\n",
       "        vertical-align: middle;\n",
       "    }\n",
       "\n",
       "    .dataframe tbody tr th {\n",
       "        vertical-align: top;\n",
       "    }\n",
       "\n",
       "    .dataframe thead th {\n",
       "        text-align: right;\n",
       "    }\n",
       "</style>\n",
       "<table border=\"1\" class=\"dataframe\">\n",
       "  <thead>\n",
       "    <tr style=\"text-align: right;\">\n",
       "      <th></th>\n",
       "      <th>policy_sales_channel</th>\n",
       "      <th>percentage</th>\n",
       "    </tr>\n",
       "  </thead>\n",
       "  <tbody>\n",
       "    <tr>\n",
       "      <th>187</th>\n",
       "      <td>124.0</td>\n",
       "      <td>NaN</td>\n",
       "    </tr>\n",
       "    <tr>\n",
       "      <th>934</th>\n",
       "      <td>122.0</td>\n",
       "      <td>NaN</td>\n",
       "    </tr>\n",
       "    <tr>\n",
       "      <th>1542</th>\n",
       "      <td>163.0</td>\n",
       "      <td>NaN</td>\n",
       "    </tr>\n",
       "    <tr>\n",
       "      <th>1782</th>\n",
       "      <td>124.0</td>\n",
       "      <td>NaN</td>\n",
       "    </tr>\n",
       "    <tr>\n",
       "      <th>1880</th>\n",
       "      <td>163.0</td>\n",
       "      <td>NaN</td>\n",
       "    </tr>\n",
       "    <tr>\n",
       "      <th>...</th>\n",
       "      <td>...</td>\n",
       "      <td>...</td>\n",
       "    </tr>\n",
       "    <tr>\n",
       "      <th>125564</th>\n",
       "      <td>124.0</td>\n",
       "      <td>NaN</td>\n",
       "    </tr>\n",
       "    <tr>\n",
       "      <th>125662</th>\n",
       "      <td>124.0</td>\n",
       "      <td>NaN</td>\n",
       "    </tr>\n",
       "    <tr>\n",
       "      <th>125793</th>\n",
       "      <td>124.0</td>\n",
       "      <td>NaN</td>\n",
       "    </tr>\n",
       "    <tr>\n",
       "      <th>125797</th>\n",
       "      <td>124.0</td>\n",
       "      <td>NaN</td>\n",
       "    </tr>\n",
       "    <tr>\n",
       "      <th>126634</th>\n",
       "      <td>163.0</td>\n",
       "      <td>NaN</td>\n",
       "    </tr>\n",
       "  </tbody>\n",
       "</table>\n",
       "<p>564 rows × 2 columns</p>\n",
       "</div>"
      ],
      "text/plain": [
       "        policy_sales_channel  percentage\n",
       "187                    124.0         NaN\n",
       "934                    122.0         NaN\n",
       "1542                   163.0         NaN\n",
       "1782                   124.0         NaN\n",
       "1880                   163.0         NaN\n",
       "...                      ...         ...\n",
       "125564                 124.0         NaN\n",
       "125662                 124.0         NaN\n",
       "125793                 124.0         NaN\n",
       "125797                 124.0         NaN\n",
       "126634                 163.0         NaN\n",
       "\n",
       "[564 rows x 2 columns]"
      ]
     },
     "execution_count": 81,
     "metadata": {},
     "output_type": "execute_result"
    }
   ],
   "source": [
    "df_policy_sales_channel"
   ]
  }
 ],
 "metadata": {
  "celltoolbar": "Tags",
  "interpreter": {
   "hash": "fc00962123bb7760f21ea3fbaec7525b54d2ae9b5aa203f52ede87ad4295e3e8"
  },
  "kernelspec": {
   "display_name": "Python 3 (ipykernel)",
   "language": "python",
   "name": "python3"
  },
  "language_info": {
   "codemirror_mode": {
    "name": "ipython",
    "version": 3
   },
   "file_extension": ".py",
   "mimetype": "text/x-python",
   "name": "python",
   "nbconvert_exporter": "python",
   "pygments_lexer": "ipython3",
   "version": "3.9.9"
  }
 },
 "nbformat": 4,
 "nbformat_minor": 2
}
