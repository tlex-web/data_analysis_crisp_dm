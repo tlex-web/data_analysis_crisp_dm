{
 "cells": [
  {
   "cell_type": "markdown",
   "metadata": {},
   "source": [
    "# Business Understanding\n",
    "## Ausgangssituation\n",
    "\n",
    "Wir arbeiten für ein Beratungsunternehmen welches datengetriebene Lösungen für betriebswirtschaftliche Problemstellungen entwickelt. Unser Unternehmen wurde von einer Versicherungsgesellschaft beauftragt, ein Modell zu entwickeln um vorherzusagen ob ein Kunde ein Versicherungsprodukt abschließt oder nicht (`response` → Zielvariable).\n",
    "\n",
    "Für das Cross Selling setzt die Versicherungsgesellschaft verschiedene Kanäle ein. Unter anderem Telefon, E-Mail, Recommendations im Online-Banking oder per App.\n",
    "\n",
    "Zu diesem Zweck haben wir von unserem Auftraggeber einen Datenbestand mit 380.999 Zeilen und 12 verschiedenen Variablen erhalten. Neben dem Datenbestand haben wir von einem Verantwortlichen der NextGenInsurance eine Kurzbeschreibung des Unternehmens und des Produktes erhalten. Darüber hinaus wurde uns eine eine kurze Beschreibung der Daten in Form eines Data Dictionaries erhalten.  "
   ]
  },
  {
   "cell_type": "markdown",
   "metadata": {},
   "source": [
    "## Vorgehensweise\n",
    "Wir führen eine praktische Analyse des Datensatzes nach CRISP-DM durch. Auf den Schritt \"Deployment\" wird verzichtet, da die Ergebnisse vorher dem Auftraggeber präsentiert werden "
   ]
  },
  {
   "cell_type": "markdown",
   "metadata": {},
   "source": [
    "```{figure} ..\\crisp_dm_image.png\n",
    ":height: 500px\n",
    ":name: CRISP-DM\n",
    "\n",
    "https://miro.medium.com/max/1055/1*d-WD7tNAn9s5i2Z0tDCsag.png (10.01.22)\n",
    "```"
   ]
  },
  {
   "cell_type": "markdown",
   "metadata": {},
   "source": [
    "### Attribute\n",
    "- `id`: Einmalige ID für einen Kunden \n",
    "- `gender`: Geschlecht des Kunden \n",
    "- `age`: Alter des Kunden\n",
    "- `driving_license`: 0: Der Kunde hat keinen Führerschein, 1: Der Kunde hat eine Führerschein\n",
    "- `region_code`: Eindeutiger Code für die Region des Kunden \n",
    "- `previously_insured`: 0: Kunde hat keine Autoversicherung, 1: Kunde hat eine Autoversicherung \n",
    "- `vehicle_age`: Alter des Fahrzeugs\n",
    "- `vehicle_damage`: 1 : Der Kunde hatte in der Vergangenheit einen Schaden an seinem Fahrzeug. 0 : Der Kunde hatte in der Vergangenheit einen Schaden an seinem Fahrzeug\n",
    "- `annual_premium`: Der Betrag, den der Kunde im Jahr als Prämie für die Krankenversicherung zu zahlen hat.\n",
    "- `policy_sales_channel`: Anonymisierter Code für den Kanal, über den der Kunde erreicht wird, d.h. verschiedene Agenten, per Post, per Telefon, persönlich, usw.\n",
    "- `vintage`: Anzahl der Tage, die der Kunde mit dem Unternehmen verbunden ist. \n",
    "- `response`: 1: Der Kunde ist interessiert, 0: Der Kunde ist nicht interessiert"
   ]
  }
 ],
 "metadata": {
  "celltoolbar": "Tags",
  "interpreter": {
   "hash": "b417382ef8674e24d217cd8c15ed5000cd09319fb3bae652a603c04288f3ca0e"
  },
  "kernelspec": {
   "display_name": "Python 3 (ipykernel)",
   "language": "python",
   "name": "python3"
  },
  "language_info": {
   "codemirror_mode": {
    "name": "ipython",
    "version": 3
   },
   "file_extension": ".py",
   "mimetype": "text/x-python",
   "name": "python",
   "nbconvert_exporter": "python",
   "pygments_lexer": "ipython3",
   "version": "3.9.9"
  }
 },
 "nbformat": 4,
 "nbformat_minor": 2
}
