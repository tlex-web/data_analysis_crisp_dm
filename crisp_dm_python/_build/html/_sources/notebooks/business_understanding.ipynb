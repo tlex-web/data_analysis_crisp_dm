{
 "cells": [
  {
   "cell_type": "markdown",
   "metadata": {},
   "source": [
    "# Data Analysis mit Python Projekt: CRISP-DM\n",
    "\n",
    "### Marc Bösen, Tim Lui und Feras Ghazal\n",
    "### 16.11.2021"
   ]
  },
  {
   "cell_type": "markdown",
   "metadata": {},
   "source": [
    "# Business Understanding\n",
    "## Ausgangssituation\n",
    "\n",
    "Wir arbeiten für ein Beratungsunternehmen welches datengetriebene Lösungen für betriebswirtschaftliche Problemstellungen entwickelt. Unser Unternehmen wurde von einer Versicherungsgesellschaft beauftragt, ein Modell zu entwickeln um vorherzusagen ob ein Kunde ein Versicherungsprodukt abschließt oder nicht (`response` → Zielvariable).\n",
    "\n",
    "Für das Cross Selling setzt die Versicherungsgesellschaft verschiedene Kanäle ein. Unter anderem Telefon, E-Mail, Recommendations im Online-Banking oder per App.\n",
    "\n",
    "Zu diesem Zweck haben wir von unserem Auftraggeber einen Datenbestand mit 380.999 Zeilen und 12 verschiedenen Variablen erhalten. Neben dem Datenbestand haben wir von einem Verantwortlichen der NextGenInsurance eine Kurzbeschreibung des Unternehmens und des Produktes erhalten. Darüber hinaus wurde uns eine eine kurze Beschreibung der Daten in Form eines Data Dictionaries erhalten.  "
   ]
  },
  {
   "cell_type": "markdown",
   "metadata": {},
   "source": [
    "# Vorgehensweise\n",
    "Wir führen eine praktische Analyse des Datensatzes nach CRISP-DM durch. Auf den Schritt \"Deployment\" wird verzichtet, da die Ergebnisse vorher dem Auftraggeber präsentiert werden "
   ]
  },
  {
   "cell_type": "markdown",
   "metadata": {},
   "source": [
    "Speicherort muss festelegt werden für Bilder und muss ein Markdown sein und kein Code \n",
    "`<img src=\"Data_Analysis_WS2122/CRISP-DM_Process_Diagram.png\" width=\"800\" height=\"400\">`"
   ]
  },
  {
   "cell_type": "code",
   "execution_count": 1,
   "metadata": {},
   "outputs": [],
   "source": [
    "import pandas as pd\n",
    "import numpy as np"
   ]
  },
  {
   "cell_type": "code",
   "execution_count": 2,
   "metadata": {
    "tags": [
     "hide-input"
    ]
   },
   "outputs": [],
   "source": [
    "def read_and_set_df(filepath: str, train: bool) -> pd.DataFrame:\n",
    "\n",
    "    # with open(filepath) as file:\n",
    "    # file.readlines()\n",
    "\n",
    "    # Datensatz einlesen\n",
    "    df = pd.read_csv(filepath, sep='$',  # r'([$-,])+/g'\n",
    "                     decimal=\".\", engine='python')  # , na_values=[np.nan, pd.NA], keep_default_na=True)\n",
    "\n",
    "    # Spaltennamen alle kleingeschrieben\n",
    "    df.columns = df.columns.str.lower()\n",
    "\n",
    "    # Die Spaltennamen waren verschoben - In diesem Schritt werden sie richtig zugeordnet\n",
    "    df.rename(columns={\n",
    "        'unnamed: 0': 'id',\n",
    "        'id': 'gender',\n",
    "        'gender': 'age',\n",
    "        'age': 'driving_license',\n",
    "        'driving_license': 'region_code',\n",
    "        'region_code': 'previously_insured',\n",
    "        'previously_insured': 'vehicle_age',\n",
    "        'vehicle_age': 'vehicle_damage',\n",
    "        'vehicle_damage': 'annual_premium',\n",
    "        'annual_premium': 'policy_sales_channel',\n",
    "        'policy_sales_channel': 'vintage',\n",
    "        'vintage': 'response',\n",
    "        'response': 'nan'\n",
    "    },\n",
    "        inplace=True)\n",
    "\n",
    "    # Letzte Spalte besteht nur aus nan und kann somit gelöscht werden\n",
    "    if not train:\n",
    "        del df['nan']\n",
    "\n",
    "    return df\n",
    "\n",
    "\n",
    "def set_datatypes(df: pd.DataFrame) -> pd.DataFrame:\n",
    "\n",
    "    # Numerische Variablen\n",
    "    # Nullable Interger\n",
    "\n",
    "    # Variable Age\n",
    "    df[\"age\"] = df[\"age\"].astype(str)\n",
    "    df[\"age\"] = df[\"age\"].str.rstrip('.')\n",
    "    df['age'] = df[\"age\"].replace('nan', np.nan)\n",
    "    df['age'] = pd.to_numeric(df['age'], errors='raise')\n",
    "    df[\"age\"] = df[\"age\"].astype('Int64')\n",
    "\n",
    "    # Annual Premium\n",
    "    df['annual_premium'] = df['annual_premium'].astype(str)\n",
    "    df['annual_premium'] = df['annual_premium'].str.rstrip('.')\n",
    "    df[\"annual_premium\"] = pd.to_numeric(df[\"annual_premium\"], errors='raise')\n",
    "    df[\"annual_premium\"] = df[\"annual_premium\"].astype('Int64')\n",
    "\n",
    "    # Vintage\n",
    "    df['vintage'] = df['vintage'].astype(str)\n",
    "    df['vintage'] = df['vintage'].str.rstrip('##')\n",
    "    df['vintage'] = df[\"vintage\"].replace('nan', np.nan)\n",
    "    df[\"vintage\"] = pd.to_numeric(df[\"vintage\"], errors='raise')\n",
    "    df[\"vintage\"] = df[\"vintage\"].astype('Int64')\n",
    "\n",
    "    # Region Code\n",
    "    df['region_code'] = df['region_code'].astype(str)\n",
    "    df['region_code'] = df['region_code'].str.rstrip('#')\n",
    "    df[\"region_code\"] = pd.to_numeric(df[\"region_code\"], errors='raise')\n",
    "    df['region_code'] = df['region_code'].astype('category')\n",
    "\n",
    "    # Policy Sales Channel\n",
    "    df['policy_sales_channel'] = df['policy_sales_channel'].astype(str)\n",
    "    df['policy_sales_channel'] = df['policy_sales_channel'].str.rstrip('##')\n",
    "    df[\"policy_sales_channel\"] = pd.to_numeric(\n",
    "        df[\"policy_sales_channel\"], errors='raise')\n",
    "    df[\"policy_sales_channel\"] = df[\"policy_sales_channel\"].astype('Int64')\n",
    "\n",
    "    # Kategorische Variablen\n",
    "    df['gender'] = df['gender'].astype('category')\n",
    "    df['driving_license'] = df['driving_license'].astype('category')\n",
    "    df['previously_insured'] = df['previously_insured'].astype('category')\n",
    "    df['vehicle_damage'] = df['vehicle_damage'].astype('category')\n",
    "    df['vehicle_age'] = df['vehicle_age'].astype('category')\n",
    "\n",
    "    # Response\n",
    "    df.response.replace(\n",
    "        {'0': 'no', '1': 'yes', 1: 'yes', 0: 'no'}, inplace=True)\n",
    "    df['response'] = df['response'].astype('category')\n",
    "\n",
    "    #df = df.replace(to_replace=['NaN', '<NA>', 'NAN', 'nan',\n",
    "    #                pd.NA, np.nan, np.NaN, np.NAN], value=np.NaN, inplace=True)\n",
    "\n",
    "    return df"
   ]
  },
  {
   "cell_type": "code",
   "execution_count": 3,
   "metadata": {
    "tags": [
     "hide-input"
    ]
   },
   "outputs": [],
   "source": [
    "df = read_and_set_df('../data/train.csv', train=False)"
   ]
  },
  {
   "cell_type": "code",
   "execution_count": 3,
   "metadata": {
    "tags": [
     "hide-input"
    ]
   },
   "outputs": [
    {
     "data": {
      "text/html": [
       "<div>\n",
       "<style scoped>\n",
       "    .dataframe tbody tr th:only-of-type {\n",
       "        vertical-align: middle;\n",
       "    }\n",
       "\n",
       "    .dataframe tbody tr th {\n",
       "        vertical-align: top;\n",
       "    }\n",
       "\n",
       "    .dataframe thead th {\n",
       "        text-align: right;\n",
       "    }\n",
       "</style>\n",
       "<table border=\"1\" class=\"dataframe\">\n",
       "  <thead>\n",
       "    <tr style=\"text-align: right;\">\n",
       "      <th></th>\n",
       "      <th>id</th>\n",
       "      <th>gender</th>\n",
       "      <th>age</th>\n",
       "      <th>driving_license</th>\n",
       "      <th>region_code</th>\n",
       "      <th>previously_insured</th>\n",
       "      <th>vehicle_age</th>\n",
       "      <th>vehicle_damage</th>\n",
       "      <th>annual_premium</th>\n",
       "      <th>policy_sales_channel</th>\n",
       "      <th>vintage</th>\n",
       "      <th>response</th>\n",
       "    </tr>\n",
       "  </thead>\n",
       "  <tbody>\n",
       "    <tr>\n",
       "      <th>0</th>\n",
       "      <td>1</td>\n",
       "      <td>Male</td>\n",
       "      <td>44</td>\n",
       "      <td>No</td>\n",
       "      <td>28.0</td>\n",
       "      <td>No</td>\n",
       "      <td>&gt; 2 Years</td>\n",
       "      <td>Yes</td>\n",
       "      <td>40454.0</td>\n",
       "      <td>26.0</td>\n",
       "      <td>217</td>\n",
       "      <td>1</td>\n",
       "    </tr>\n",
       "    <tr>\n",
       "      <th>1</th>\n",
       "      <td>2</td>\n",
       "      <td>Male</td>\n",
       "      <td>76</td>\n",
       "      <td>No</td>\n",
       "      <td>3.0</td>\n",
       "      <td>No</td>\n",
       "      <td>1-2 Year</td>\n",
       "      <td>No</td>\n",
       "      <td>33536.0</td>\n",
       "      <td>26.0</td>\n",
       "      <td>183</td>\n",
       "      <td>0</td>\n",
       "    </tr>\n",
       "    <tr>\n",
       "      <th>2</th>\n",
       "      <td>3</td>\n",
       "      <td>Male</td>\n",
       "      <td>47</td>\n",
       "      <td>No</td>\n",
       "      <td>28.0</td>\n",
       "      <td>No</td>\n",
       "      <td>&gt; 2 Years</td>\n",
       "      <td>Yes</td>\n",
       "      <td>38294.0</td>\n",
       "      <td>26.0</td>\n",
       "      <td>27</td>\n",
       "      <td>1</td>\n",
       "    </tr>\n",
       "    <tr>\n",
       "      <th>3</th>\n",
       "      <td>4</td>\n",
       "      <td>Male</td>\n",
       "      <td>21</td>\n",
       "      <td>Yes</td>\n",
       "      <td>11.0</td>\n",
       "      <td>Yes</td>\n",
       "      <td>&lt; 1 Year</td>\n",
       "      <td>No</td>\n",
       "      <td>28619.0</td>\n",
       "      <td>152.0</td>\n",
       "      <td>203</td>\n",
       "      <td>0</td>\n",
       "    </tr>\n",
       "    <tr>\n",
       "      <th>4</th>\n",
       "      <td>5</td>\n",
       "      <td>Female</td>\n",
       "      <td>29</td>\n",
       "      <td>Yes</td>\n",
       "      <td>41.0</td>\n",
       "      <td>Yes</td>\n",
       "      <td>&lt; 1 Year</td>\n",
       "      <td>No</td>\n",
       "      <td>27496.0</td>\n",
       "      <td>152.0</td>\n",
       "      <td>39</td>\n",
       "      <td>0</td>\n",
       "    </tr>\n",
       "  </tbody>\n",
       "</table>\n",
       "</div>"
      ],
      "text/plain": [
       "   id  gender age driving_license region_code previously_insured vehicle_age  \\\n",
       "0   1    Male  44              No        28.0                 No   > 2 Years   \n",
       "1   2    Male  76              No         3.0                 No    1-2 Year   \n",
       "2   3    Male  47              No        28.0                 No   > 2 Years   \n",
       "3   4    Male  21             Yes        11.0                Yes    < 1 Year   \n",
       "4   5  Female  29             Yes        41.0                Yes    < 1 Year   \n",
       "\n",
       "  vehicle_damage  annual_premium policy_sales_channel vintage response  \n",
       "0            Yes         40454.0                 26.0     217        1  \n",
       "1             No         33536.0                 26.0     183        0  \n",
       "2            Yes         38294.0                 26.0      27        1  \n",
       "3             No         28619.0                152.0     203        0  \n",
       "4             No         27496.0                152.0      39        0  "
      ]
     },
     "execution_count": 3,
     "metadata": {},
     "output_type": "execute_result"
    }
   ],
   "source": [
    "df.describe(include = 'all').transpose() #transpose = Tabelle transponieren für eine bessere Ansicht\n",
    "df.head()"
   ]
  },
  {
   "cell_type": "markdown",
   "metadata": {},
   "source": [
    "### Attribute\n",
    "- `id`: Einmalige ID für einen Kunden \n",
    "- `gender`: Geschlecht des Kunden \n",
    "- `age`: Alter des Kunden\n",
    "- `driving_license`: 0: Der Kunde hat keinen Führerschein, 1: Der Kunde hat eine Führerschein\n",
    "- `region_code`: Eindeutiger Code für die Region des Kunden \n",
    "- `previously_insured`: 0: Kunde hat keine Autoversicherung, 1: Kunde hat eine Autoversicherung \n",
    "- `vehicle_age`: Alter des Fahrzeugs\n",
    "- `vehicle_damage`: 1 : Der Kunde hatte in der Vergangenheit einen Schaden an seinem Fahrzeug. 0 : Der Kunde hatte in der Vergangenheit einen Schaden an seinem Fahrzeug\n",
    "- `annual_premium`: Der Betrag, den der Kunde im Jahr als Prämie für die Krankenversicherung zu zahlen hat.\n",
    "- `policy_sales_channel`: Anonymisierter Code für den Kanal, über den der Kunde erreicht wird, d.h. verschiedene Agenten, per Post, per Telefon, persönlich, usw.\n",
    "- `vintage`: Anzahl der Tage, die der Kunde mit dem Unternehmen verbunden ist. \n",
    "- `response`: 1: Der Kunde ist interessiert, 0: Der Kunde ist nicht interessiert"
   ]
  },
  {
   "cell_type": "markdown",
   "metadata": {},
   "source": [
    "### Einheitliche Auspägungen bei den einzelnen Variablen erzeugen\n",
    "\n",
    "- Mit der Fuktion `df['variable_name'].unique()` haben wir die verschiedenen Ausprägungen der Variablen untersucht\n",
    "- Im Folgenden erzeugen wir dann einheitliche Ausprägungen bei allen Variablen erzeugt "
   ]
  },
  {
   "cell_type": "markdown",
   "metadata": {},
   "source": [
    "### Casting der einzelnen Variablen \n",
    "Die Datentypen werden für die weitere Verwendung angepasst:"
   ]
  },
  {
   "cell_type": "code",
   "execution_count": 4,
   "metadata": {},
   "outputs": [
    {
     "name": "stdout",
     "output_type": "stream",
     "text": [
      "<class 'pandas.core.frame.DataFrame'>\n",
      "Int64Index: 380999 entries, 0 to 380998\n",
      "Data columns (total 12 columns):\n",
      " #   Column                Non-Null Count   Dtype  \n",
      "---  ------                --------------   -----  \n",
      " 0   id                    380999 non-null  int64  \n",
      " 1   gender                379948 non-null  object \n",
      " 2   age                   370107 non-null  object \n",
      " 3   driving_license       380948 non-null  object \n",
      " 4   region_code           380999 non-null  object \n",
      " 5   previously_insured    380948 non-null  object \n",
      " 6   vehicle_age           380948 non-null  object \n",
      " 7   vehicle_damage        380948 non-null  object \n",
      " 8   annual_premium        380999 non-null  float64\n",
      " 9   policy_sales_channel  380999 non-null  object \n",
      " 10  vintage               380948 non-null  object \n",
      " 11  response              380999 non-null  object \n",
      "dtypes: float64(1), int64(1), object(10)\n",
      "memory usage: 37.8+ MB\n"
     ]
    }
   ],
   "source": [
    "#set_datatypes(df)\n",
    "\n",
    "df.info()"
   ]
  }
 ],
 "metadata": {
  "celltoolbar": "Tags",
  "interpreter": {
   "hash": "b417382ef8674e24d217cd8c15ed5000cd09319fb3bae652a603c04288f3ca0e"
  },
  "kernelspec": {
   "display_name": "Python 3 (ipykernel)",
   "language": "python",
   "name": "python3"
  },
  "language_info": {
   "codemirror_mode": {
    "name": "ipython",
    "version": 3
   },
   "file_extension": ".py",
   "mimetype": "text/x-python",
   "name": "python",
   "nbconvert_exporter": "python",
   "pygments_lexer": "ipython3",
   "version": "3.9.9"
  }
 },
 "nbformat": 4,
 "nbformat_minor": 2
}
